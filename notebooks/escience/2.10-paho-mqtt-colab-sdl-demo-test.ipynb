{
  "cells": [
    {
      "cell_type": "markdown",
      "metadata": {
        "id": "5hwB8KgatJoa"
      },
      "source": [
        "[![Open In Colab](https://colab.research.google.com/assets/colab-badge.svg)](https://colab.research.google.com/github/sparks-baird/self-driving-lab-demo/blob/main/notebooks/4.2-paho-mqtt-colab-sdl-demo-test.ipynb)"
      ]
    },
    {
      "cell_type": "markdown",
      "metadata": {
        "id": "3SqGTCMkhrC7"
      },
      "source": [
        "# Optimization Comparison using Internet of Things-style Communication\n",
        "\n",
        "## Introduction\n",
        "\n",
        "The fourth industrial revolution, or Industry 4.0, \"is revolutionizing the way companies manufacture, improve and distribute\n",
        "their products [by] integrating new technologies, including Internet of\n",
        "Things (IoT), cloud computing and analytics, and AI and machine learning into their\n",
        "production facilities and throughout their operations\"\n",
        "([IBM](https://www.ibm.com/topics/industry-4-0)).\n",
        "\n",
        "<!-- Too much jargon, paraphrase, doesn't actually say what Industry 4.0 is explicitly, which causes a poor transition to next section. Also, say what the source is instead of \"source\", e.g. IBM, and keep the hyperlink) -->\n",
        "\n",
        "<p align=\"center\">\n",
        "<img src=\"https://www.ibm.com/content/dam/connectedassets-adobe-cms/worldwide-content/stock-assets/getty/image/photography/b3/46/2z6_0074.component.card-xl.ts=1628095460884.jpg/content/adobe-cms/us/en/topics/industry-4-0/jcr:content/root/table_of_contents/body/block_card_container/container/card/image\" width=200>\n",
        "<img\n",
        "src=\"https://www.ibm.com/content/dam/connectedassets-adobe-cms/worldwide-content/stock-assets/getty/image/others/da/00/da001be4-23aa-4742-b758df701c2fe148.component.card-xl.ts=1628095488593.jpg/content/adobe-cms/us/en/topics/industry-4-0/jcr:content/root/table_of_contents/body/block_card_container/container/card_1430209788/image\" width=200>\n",
        "<img src=\"https://www.ibm.com/content/dam/connectedassets-adobe-cms/worldwide-content/stock-assets/getty/image/others/35/8c/358c06db-ed4e-4509-831e63c6f3e71a9b.component.card-xl.ts=1645827710998.jpg/content/adobe-cms/us/en/topics/industry-4-0/jcr:content/root/table_of_contents/body/block_card_container/container/card_1430209788_1384270413/image\" width=200>\n",
        "</p>\n",
        "\n",
        "While Industry 4.0 is accelerating the efficiency with which manufacturers develop\n",
        "products and respond to consumer needs, these products are inherently limited by the materials that make\n",
        "them up. Discovery of new materials (plastics, alloys, molecules, drugs) is typically a\n",
        "painstakingly slow process characterized by serendipity and manual trial-and-error.\n",
        "Phrased another way, if Marie Curie were to step into a modern-day chemistry lab, the processes\n",
        "would likely seem very familiar, for example: handheld pipetting and manual mixing.\n",
        "\n",
        "<p align=\"center\">\n",
        "<img src=\"https://github.com/sparks-baird/self-driving-lab-demo/blob/main/notebooks/serendipitous-discovery-2.png?raw=1\" width=450>\n",
        "</p>\n",
        "\n",
        "<p align=\"center\"><sub> What do the above materials (insulin, vulcanized rubber, teflon, etc.) have in common? They were discovered <b>accidentally</b>.</sub></p>\n",
        "\n",
        "What if we could bring the acceleration of Industry 4.0 to scientific research laboratory\n",
        "settings? This is where the concept of \"self-driving laboratories\" comes in. These are autonomous\n",
        "research laboratories that \"learn\" from prior experiments using artificial intelligence,\n",
        "automatically carry out the next experiments, and discover new materials in a fraction\n",
        "of the time and at a fraction of the cost. The researcher can then focus on higher-level\n",
        "scientific tasks \"such as formulating hypotheses, designing experimental\n",
        "campaigns, and interpreting data\"\n",
        "([source](https://dx.doi.org/10.1021/acs.accounts.2c00220)).\n",
        "\n",
        "![](https://github.com/sparks-baird/self-driving-lab-demo/blob/main/notebooks/map-diagram-2.png?raw=1)\n",
        "\n",
        "<p align=\"center\">\n",
        "<sup>(<a href=\"https://doi.org/10.1016/j.matt.2022.05.035\">source</a>)</sup>\n",
        "\n",
        "Discoveries enabled by self-driving laboratories such as\n",
        "[RoboRXN](https://rxn.res.ibm.com/rxn/robo-rxn/welcome) or the increasing number of\n",
        "[AC-affiliated materials acceleration platforms](https://acceleration.utoronto.ca/maps)\n",
        "can help to address urgent societal needs related to climate change, energy, food, and agriculture.\n",
        "\n",
        "<p align=\"center\">\n",
        "<img src=\"https://github.com/sparks-baird/self-driving-lab-demo/blob/main/notebooks/robots-loop.gif?raw=1\" width=450>\n",
        "</p>\n",
        "\n",
        "<p align=\"center\"><sup>1. <a href=\"https://acceleration.utoronto.ca/maps/ada\">Ada, a thin-film discovery robot</a> 2. <a href=\"https://acceleration.utoronto.ca/maps/artificial-chemist\">Artificial Chemist for solar cell discovery</a> 3. <a href=\"https://pubmed.ncbi.nlm.nih.gov/31395756/\">Robotically reconfigurable flow chemistry platform</a> 4. <a href=\"https://www.science.org/doi/10.1126/science.aav2211\">Chemputer, a computer-driven automated chemistry lab</a> 5. <a href=\"https://acceleration.utoronto.ca/maps/mobile-robotic-chemist-2\">Mobile robot chemist</a><br>(Video source: <a href=\"https://acceleration.utoronto.ca/maps\">Acceleration Consortium</a>)</sup></p>\n",
        "\n",
        "While the number of self-driving laboratories is increasing, the cost of creating and\n",
        "maintaining a self-driving laboratory is entry-inhibiting. To address this\n",
        "need, there have been many excellent low-cost demos (see below).\n",
        "\n",
        "![](https://github.com/sparks-baird/self-driving-lab-demo/blob/main/notebooks/low-cost-sdl-demo-prior.png?raw=1)\n",
        "\n",
        "<p align=\"center\">\n",
        "<sup> (a) <a href=\"https://dx.doi.org/10.1038/ncomms6571\">J. M. P. Gutierrez, et al., Nat Commun. 5, 5571 (2014)</a>. (b) <a href=\"https://dx.doi.org/10.1038/s41467-018-05828-8\">D. Caramelli et al., Nat Commun. 9, 3406 (2018)</a>. (c) <a href=\"https:/dx.doi.org/10.1371/journal.pone.0229862\">L. M. Roch et al., PLoS ONE. 15, e0229862 (2020)</a>. (d) <a href=\"https://t.co/LEnbzen6dc\">Tonio Buonassisi. Twitter (2020)</a>. (e) <a href=\"https://dx.doi.org/10.1021/acs.jchemed.0c01394\">F. Yang et al., J. Chem. Educ. 98, 876–881 (2021)</a>. (f) <a href=\"https://dx.doi.org/10.1557/s43577-021-00051-1\">J. R. Deneault et al., MRS Bulletin. 46, 566–575 (2021) </a>. (g) <a href=\"https://dx.doi.org/10.48550/arXiv.2204.04187\">L. Saar et al., (2022)</a>. (h) <a href=\"https://youtu.be/SX26XRFx0U0\">Atinary SDLabs Demo. YouTube (2022) </a>.\n",
        "</sup>\n",
        "</p>\n",
        "\n",
        "## SDL-Demo: A Low-cost, Easy-to-use, Low-footprint, Self-Driving Lab Demo\n",
        "\n",
        "Despite the increased accessibility through low-cost demos, for wider\n",
        "adoption, we need something that is even lower cost (< 100 USD), easier to setup (< 1\n",
        "hr), and that has a smaller footprint (< 1 sq. ft) *while retaining key principles of a self-driving laboratory*. Our solution is SDL-Demo, a teaching and\n",
        "prototyping platform for self-driving laboratories with an emphasis on principles of\n",
        "accelerating materials discovery. The following table illustrates high-level differences\n",
        "between prior work and SDL-Demo.\n",
        "\n",
        "![](https://github.com/sparks-baird/self-driving-lab-demo/blob/main/notebooks/low-cost-sdl-summary-table.png?raw=1)\n",
        "\n",
        "<p align=\"center\"><sup>Summary of low-cost self-driving lab demos. From left to right: picture of setup, name of group, year, hardware cost in USD, number of design variables, minutes required per iteration/experiment, whether or not custom parts are required, the number of axes, and whether computer vision is used. SDL-Demo has the lowest cost (~50 USD), setup time (no custom parts), and footprint (~4\"x4\"). </sup></p>\n",
        "\n",
        "<!-- This figure needs a white background. Not enough context here. Maybe needs a caption. State what the columns are, especially hardware cost and whether custom parts are needed. Also, I think the table needs to be updated, not sure if it's accurate (e.g. Cronin 2018 not requiring custom parts). -->\n",
        "\n",
        "SDL-Demo can be easily set up and paired with optimization algorithms for closed-loop\n",
        "discovery. This is similar to several demos where the task was to mix liquids in order\n",
        "to match a target color; however, in our case we are mixing light instead of matter.\n",
        "While this demo does not explicitly involve chemistry or materials science, key concepts\n",
        "of self-driving laboratories focused on materials discovery are retained: sending\n",
        "commands to hardware, reading data from sensors, using optimization algorithms to\n",
        "suggest next experiments, and optionally incorporating physics-based simulations to inform the\n",
        "optimization process.\n",
        "\n",
        "![](https://github.com/sparks-baird/self-driving-lab-demo/blob/main/reports/figures/abstract-white-background.png?raw=1)\n",
        "\n",
        "<p align=\"center\"><sup>SDL-Demo summary. A microcontroller (Raspberry Pi (RPi)) sends commands to a dimmable LED. A spectrophotometer measures the light signal. The microcontroller reads the intensity values from the spectrophotometer. An AI algorithm uses these newly measured values and prior information to choose the next set of LED parameters to better match a target spectrum (i.e. light-based color-matching demo).</sup></p>\n",
        "\n",
        "<!-- Maybe remove or simplify the code in the top-right, e.g. to `read_sensor_data()` -->\n",
        "\n",
        "<!-- The SDL-Demo is also extensible to more complex tasks such as liquid-based color matching and reaction optimization by adding appropriate hardware. -->\n",
        "\n",
        "The value of SDL-Demo is that it retains the principles of high-cost implementations in\n",
        "a low-cost setting and that it can be used for low-cost prototyping of self-driving\n",
        "laboratory concepts and extensions.\n",
        "\n",
        "## Your Turn to Remotely Access an SDL-Demo\n",
        "\n",
        "The SDL-Demo platform is open-source and can be easily modified to suit your needs,\n",
        "including for teaching demonstrations and low-cost prototyping. To illustrate this,\n",
        "there is an SDL-Demo located in Salt Lake City, UT (active as of 2022-09-12) that is\n",
        "remotely accessible as a cloud-based experiment that multiple people can use simultaneously.\n",
        "\n",
        "<p align=\"center\">\n",
        "<img src=\"https://github.com/sparks-baird/self-driving-lab-demo/blob/main/notebooks/sdl-demo-test.jpg?raw=1\">\n",
        "</p>"
      ]
    },
    {
      "cell_type": "code",
      "execution_count": 1,
      "metadata": {},
      "outputs": [],
      "source": [
        "from os import path\n",
        "try:\n",
        "  import google.colab\n",
        "  IN_COLAB = True\n",
        "  base_dir = \"/content/drive/MyDrive/\"\n",
        "except:\n",
        "  IN_COLAB = False\n",
        "  base_dir = path.join(\"data\", \"external\")\n",
        "  \n",
        "if IN_COLAB:\n",
        "  %pip install paho-mqtt\n",
        "  \n",
        "PICO_ID = \"test\" #@param {type:\"string\"}"
      ]
    },
    {
      "cell_type": "code",
      "execution_count": 2,
      "metadata": {},
      "outputs": [
        {
          "name": "stdout",
          "output_type": "stream",
          "text": [
            "{'ch620': 684, 'ch470': 2929, 'ch550': 560, 'ch410': 270, 'ch440': 1503, 'ch670': 1130, 'ch583': 527, 'ch510': 786}\n",
            "{'ch620': 1754, 'ch470': 4408, 'ch550': 766, 'ch410': 348, 'ch440': 2707, 'ch670': 1224, 'ch583': 1074, 'ch510': 2467}\n",
            "{'ch620': 478, 'ch470': 2294, 'ch550': 497, 'ch410': 221, 'ch440': 591, 'ch670': 1035, 'ch583': 410, 'ch510': 470}\n"
          ]
        }
      ],
      "source": [
        "\"\"\"https://www.steves-internet-guide.com/receiving-messages-mqtt-python-clientq=Queue()\"\"\"\n",
        "import json\n",
        "from uuid import uuid4\n",
        "import paho.mqtt.client as mqtt\n",
        "from queue import Queue\n",
        "from time import time\n",
        "\n",
        "sensor_data_queue = Queue()\n",
        "timeout = 30 # seconds\n",
        "\n",
        "def on_message(client, userdata, msg):\n",
        "    sensor_data_queue.put(json.loads(msg.payload))\n",
        "\n",
        "\n",
        "def observe_sensor_data(\n",
        "    R, G, B, pico_id=None, session_id=None, hostname=\"test.mosquitto.org\"\n",
        "):\n",
        "    if session_id is None:\n",
        "        session_id = str(uuid4())\n",
        "\n",
        "    experiment_id = str(uuid4())\n",
        "\n",
        "    prefix = f\"sdl-demo/picow/{pico_id}/\"\n",
        "    neopixel_topic = prefix + \"GPIO/28\"\n",
        "    sensor_topic = prefix + \"as7341/\"\n",
        "\n",
        "    # The callback for when the client receives a CONNACK response from the server.\n",
        "    def on_connect(client, userdata, flags, rc):\n",
        "        if rc != 0:\n",
        "            print(\"Connected with result code \" + str(rc))\n",
        "        # Subscribing in on_connect() means that if we lose the connection and\n",
        "        # reconnect then subscriptions will be renewed.\n",
        "        client.subscribe(sensor_topic, qos=2)\n",
        "\n",
        "    client = mqtt.Client()  # create new instance\n",
        "    client.on_connect = on_connect\n",
        "    client.on_message = on_message\n",
        "    client.connect(hostname)  # connect to broker\n",
        "    client.subscribe(sensor_topic, qos=1)\n",
        "\n",
        "    # ensures double quotes for JSON compatiblity\n",
        "    payload = json.dumps(\n",
        "        dict(\n",
        "            R=int(R),\n",
        "            G=int(G),\n",
        "            B=int(B),\n",
        "            _session_id=session_id,\n",
        "            _experiment_id=experiment_id,\n",
        "        )\n",
        "    )\n",
        "    client.publish(neopixel_topic, payload, qos=1)\n",
        "\n",
        "    client.loop_start()\n",
        "    while True:\n",
        "        sensor_data = sensor_data_queue.get(timeout)\n",
        "        inp = sensor_data[\"_input_message\"]\n",
        "        if inp[\"_session_id\"] == session_id and inp[\"_experiment_id\"] == experiment_id:\n",
        "            assert inp[\"R\"] == R, \"red value mismatch\"\n",
        "            assert inp[\"G\"] == G, \"green value mismatch\"\n",
        "            assert inp[\"B\"] == B, \"blue value mismatch\"\n",
        "            client.loop_stop()\n",
        "            sensor_data.pop(\"_input_message\") # remove the input message\n",
        "            return sensor_data\n",
        "\n",
        "\n",
        "print(observe_sensor_data(5, 10, 15, pico_id=PICO_ID))\n",
        "print(observe_sensor_data(20, 30, 25, pico_id=PICO_ID))\n",
        "print(observe_sensor_data(0, 0, 0, pico_id=PICO_ID))"
      ]
    },
    {
      "cell_type": "markdown",
      "metadata": {},
      "source": [
        "\n",
        "### Getting Started\n",
        "The following code lets you run this SDL-Demo remotely from your browser! You can run cells one at a time using the play button to the left of each cell, or you can run all cells sequentially using \"Runtime\" --> \"Run all\" via the menu bar.\n",
        "\n",
        "Each experiment only on the order of a few seconds, and if multiple people are\n",
        "requesting experiments at the same time, the experiments will be carried out in the\n",
        "order they're received ([first-in-first-out](https://en.wikipedia.org/wiki/FIFO) or FIFO).\n",
        "\n",
        "<!-- Right now, multiple people running will throw things off. I should make sure the requested input parameters are in the payload and then make sure mqtt_observe_sensor_data waits for the input parameters that correspond to experiment that was requested and ignores anything else. If two people request the same experiment at the same exact time, then the experiment will be run twice and only one of the experiments will be reported to both parties. Kind of a limitation, but could probably be dealt with by including a client_id or similar as a kwarg. -->"
      ]
    },
    {
      "cell_type": "markdown",
      "metadata": {
        "id": "eLXKw9nAGw1t"
      },
      "source": [
        "First, let's install the `self_driving_lab_demo` Python package."
      ]
    },
    {
      "cell_type": "code",
      "execution_count": 1,
      "metadata": {
        "colab": {
          "base_uri": "https://localhost:8080/"
        },
        "id": "36C-UDjGemiM",
        "outputId": "9a7f414b-b253-4664-c110-d4d7b2db06c8"
      },
      "outputs": [
        {
          "name": "stdout",
          "output_type": "stream",
          "text": [
            "Looking in indexes: https://pypi.org/simple, https://us-python.pkg.dev/colab-wheels/public/simple/\n",
            "Collecting self-driving-lab-demo\n",
            "  Downloading self_driving_lab_demo-0.4.1-py3-none-any.whl (991 kB)\n",
            "\u001b[K     |████████████████████████████████| 991 kB 8.3 MB/s \n",
            "\u001b[?25hRequirement already satisfied: scikit-learn in /usr/local/lib/python3.7/dist-packages (from self-driving-lab-demo) (1.0.2)\n",
            "Requirement already satisfied: numpy in /usr/local/lib/python3.7/dist-packages (from self-driving-lab-demo) (1.21.6)\n",
            "Requirement already satisfied: importlib-metadata in /usr/local/lib/python3.7/dist-packages (from self-driving-lab-demo) (4.12.0)\n",
            "Collecting paho-mqtt\n",
            "  Downloading paho-mqtt-1.6.1.tar.gz (99 kB)\n",
            "\u001b[K     |████████████████████████████████| 99 kB 8.8 MB/s \n",
            "\u001b[?25hRequirement already satisfied: pandas in /usr/local/lib/python3.7/dist-packages (from self-driving-lab-demo) (1.3.5)\n",
            "Collecting similaritymeasures\n",
            "  Downloading similaritymeasures-0.5.0.tar.gz (400 kB)\n",
            "\u001b[K     |████████████████████████████████| 400 kB 61.1 MB/s \n",
            "\u001b[?25hRequirement already satisfied: ipykernel in /usr/local/lib/python3.7/dist-packages (from self-driving-lab-demo) (5.3.4)\n",
            "Requirement already satisfied: scipy in /usr/local/lib/python3.7/dist-packages (from self-driving-lab-demo) (1.7.3)\n",
            "Requirement already satisfied: ipywidgets in /usr/local/lib/python3.7/dist-packages (from self-driving-lab-demo) (7.7.1)\n",
            "Collecting kaleido\n",
            "  Downloading kaleido-0.2.1-py2.py3-none-manylinux1_x86_64.whl (79.9 MB)\n",
            "\u001b[K     |████████████████████████████████| 79.9 MB 104 kB/s \n",
            "\u001b[?25hRequirement already satisfied: plotly in /usr/local/lib/python3.7/dist-packages (from self-driving-lab-demo) (5.5.0)\n",
            "Requirement already satisfied: cython>=0.29.24 in /usr/local/lib/python3.7/dist-packages (from self-driving-lab-demo) (0.29.32)\n",
            "Requirement already satisfied: requests in /usr/local/lib/python3.7/dist-packages (from self-driving-lab-demo) (2.23.0)\n",
            "Requirement already satisfied: tqdm in /usr/local/lib/python3.7/dist-packages (from self-driving-lab-demo) (4.64.1)\n",
            "Collecting scikit-optimize\n",
            "  Downloading scikit_optimize-0.9.0-py2.py3-none-any.whl (100 kB)\n",
            "\u001b[K     |████████████████████████████████| 100 kB 8.2 MB/s \n",
            "\u001b[?25hCollecting pyserial\n",
            "  Downloading pyserial-3.5-py2.py3-none-any.whl (90 kB)\n",
            "\u001b[K     |████████████████████████████████| 90 kB 4.9 MB/s \n",
            "\u001b[?25hCollecting gpytorch<1.9.0\n",
            "  Downloading gpytorch-1.8.1-py2.py3-none-any.whl (361 kB)\n",
            "\u001b[K     |████████████████████████████████| 361 kB 32.0 MB/s \n",
            "\u001b[?25hCollecting ax-platform\n",
            "  Downloading ax_platform-0.2.6-py3-none-any.whl (1.0 MB)\n",
            "\u001b[K     |████████████████████████████████| 1.0 MB 35.2 MB/s \n",
            "\u001b[?25hRequirement already satisfied: nbformat in /usr/local/lib/python3.7/dist-packages (from self-driving-lab-demo) (5.4.0)\n",
            "Requirement already satisfied: torch>=1.10 in /usr/local/lib/python3.7/dist-packages (from gpytorch<1.9.0->self-driving-lab-demo) (1.12.1+cu113)\n",
            "Requirement already satisfied: typing-extensions in /usr/local/lib/python3.7/dist-packages (from torch>=1.10->gpytorch<1.9.0->self-driving-lab-demo) (4.1.1)\n",
            "Requirement already satisfied: typeguard in /usr/local/lib/python3.7/dist-packages (from ax-platform->self-driving-lab-demo) (2.7.1)\n",
            "Requirement already satisfied: jinja2 in /usr/local/lib/python3.7/dist-packages (from ax-platform->self-driving-lab-demo) (2.11.3)\n",
            "Collecting botorch==0.6.6\n",
            "  Downloading botorch-0.6.6-py3-none-any.whl (387 kB)\n",
            "\u001b[K     |████████████████████████████████| 387 kB 40.4 MB/s \n",
            "\u001b[?25hCollecting pyro-ppl>=1.8.0\n",
            "  Downloading pyro_ppl-1.8.2-py3-none-any.whl (722 kB)\n",
            "\u001b[K     |████████████████████████████████| 722 kB 32.8 MB/s \n",
            "\u001b[?25hRequirement already satisfied: multipledispatch in /usr/local/lib/python3.7/dist-packages (from botorch==0.6.6->ax-platform->self-driving-lab-demo) (0.6.0)\n",
            "Collecting pyro-api>=0.1.1\n",
            "  Downloading pyro_api-0.1.2-py3-none-any.whl (11 kB)\n",
            "Requirement already satisfied: opt-einsum>=2.3.2 in /usr/local/lib/python3.7/dist-packages (from pyro-ppl>=1.8.0->botorch==0.6.6->ax-platform->self-driving-lab-demo) (3.3.0)\n",
            "Requirement already satisfied: zipp>=0.5 in /usr/local/lib/python3.7/dist-packages (from importlib-metadata->self-driving-lab-demo) (3.8.1)\n",
            "Requirement already satisfied: tornado>=4.2 in /usr/local/lib/python3.7/dist-packages (from ipykernel->self-driving-lab-demo) (5.1.1)\n",
            "Requirement already satisfied: ipython>=5.0.0 in /usr/local/lib/python3.7/dist-packages (from ipykernel->self-driving-lab-demo) (7.9.0)\n",
            "Requirement already satisfied: jupyter-client in /usr/local/lib/python3.7/dist-packages (from ipykernel->self-driving-lab-demo) (6.1.12)\n",
            "Requirement already satisfied: traitlets>=4.1.0 in /usr/local/lib/python3.7/dist-packages (from ipykernel->self-driving-lab-demo) (5.1.1)\n",
            "Requirement already satisfied: setuptools>=18.5 in /usr/local/lib/python3.7/dist-packages (from ipython>=5.0.0->ipykernel->self-driving-lab-demo) (57.4.0)\n",
            "Collecting jedi>=0.10\n",
            "  Downloading jedi-0.18.1-py2.py3-none-any.whl (1.6 MB)\n",
            "\u001b[K     |████████████████████████████████| 1.6 MB 45.5 MB/s \n",
            "\u001b[?25hRequirement already satisfied: pygments in /usr/local/lib/python3.7/dist-packages (from ipython>=5.0.0->ipykernel->self-driving-lab-demo) (2.6.1)\n",
            "Requirement already satisfied: backcall in /usr/local/lib/python3.7/dist-packages (from ipython>=5.0.0->ipykernel->self-driving-lab-demo) (0.2.0)\n",
            "Requirement already satisfied: pexpect in /usr/local/lib/python3.7/dist-packages (from ipython>=5.0.0->ipykernel->self-driving-lab-demo) (4.8.0)\n",
            "Requirement already satisfied: pickleshare in /usr/local/lib/python3.7/dist-packages (from ipython>=5.0.0->ipykernel->self-driving-lab-demo) (0.7.5)\n",
            "Requirement already satisfied: prompt-toolkit<2.1.0,>=2.0.0 in /usr/local/lib/python3.7/dist-packages (from ipython>=5.0.0->ipykernel->self-driving-lab-demo) (2.0.10)\n",
            "Requirement already satisfied: decorator in /usr/local/lib/python3.7/dist-packages (from ipython>=5.0.0->ipykernel->self-driving-lab-demo) (4.4.2)\n",
            "Requirement already satisfied: parso<0.9.0,>=0.8.0 in /usr/local/lib/python3.7/dist-packages (from jedi>=0.10->ipython>=5.0.0->ipykernel->self-driving-lab-demo) (0.8.3)\n",
            "Requirement already satisfied: wcwidth in /usr/local/lib/python3.7/dist-packages (from prompt-toolkit<2.1.0,>=2.0.0->ipython>=5.0.0->ipykernel->self-driving-lab-demo) (0.2.5)\n",
            "Requirement already satisfied: six>=1.9.0 in /usr/local/lib/python3.7/dist-packages (from prompt-toolkit<2.1.0,>=2.0.0->ipython>=5.0.0->ipykernel->self-driving-lab-demo) (1.15.0)\n",
            "Requirement already satisfied: jupyterlab-widgets>=1.0.0 in /usr/local/lib/python3.7/dist-packages (from ipywidgets->self-driving-lab-demo) (3.0.3)\n",
            "Requirement already satisfied: ipython-genutils~=0.2.0 in /usr/local/lib/python3.7/dist-packages (from ipywidgets->self-driving-lab-demo) (0.2.0)\n",
            "Requirement already satisfied: widgetsnbextension~=3.6.0 in /usr/local/lib/python3.7/dist-packages (from ipywidgets->self-driving-lab-demo) (3.6.1)\n",
            "Requirement already satisfied: notebook>=4.4.1 in /usr/local/lib/python3.7/dist-packages (from widgetsnbextension~=3.6.0->ipywidgets->self-driving-lab-demo) (5.3.1)\n",
            "Requirement already satisfied: nbconvert in /usr/local/lib/python3.7/dist-packages (from notebook>=4.4.1->widgetsnbextension~=3.6.0->ipywidgets->self-driving-lab-demo) (5.6.1)\n",
            "Requirement already satisfied: Send2Trash in /usr/local/lib/python3.7/dist-packages (from notebook>=4.4.1->widgetsnbextension~=3.6.0->ipywidgets->self-driving-lab-demo) (1.8.0)\n",
            "Requirement already satisfied: terminado>=0.8.1 in /usr/local/lib/python3.7/dist-packages (from notebook>=4.4.1->widgetsnbextension~=3.6.0->ipywidgets->self-driving-lab-demo) (0.13.3)\n",
            "Requirement already satisfied: jupyter-core>=4.4.0 in /usr/local/lib/python3.7/dist-packages (from notebook>=4.4.1->widgetsnbextension~=3.6.0->ipywidgets->self-driving-lab-demo) (4.11.1)\n",
            "Requirement already satisfied: pyzmq>=13 in /usr/local/lib/python3.7/dist-packages (from jupyter-client->ipykernel->self-driving-lab-demo) (23.2.1)\n",
            "Requirement already satisfied: python-dateutil>=2.1 in /usr/local/lib/python3.7/dist-packages (from jupyter-client->ipykernel->self-driving-lab-demo) (2.8.2)\n",
            "Requirement already satisfied: ptyprocess in /usr/local/lib/python3.7/dist-packages (from terminado>=0.8.1->notebook>=4.4.1->widgetsnbextension~=3.6.0->ipywidgets->self-driving-lab-demo) (0.7.0)\n",
            "Requirement already satisfied: MarkupSafe>=0.23 in /usr/local/lib/python3.7/dist-packages (from jinja2->ax-platform->self-driving-lab-demo) (2.0.1)\n",
            "Requirement already satisfied: pandocfilters>=1.4.1 in /usr/local/lib/python3.7/dist-packages (from nbconvert->notebook>=4.4.1->widgetsnbextension~=3.6.0->ipywidgets->self-driving-lab-demo) (1.5.0)\n",
            "Requirement already satisfied: defusedxml in /usr/local/lib/python3.7/dist-packages (from nbconvert->notebook>=4.4.1->widgetsnbextension~=3.6.0->ipywidgets->self-driving-lab-demo) (0.7.1)\n",
            "Requirement already satisfied: bleach in /usr/local/lib/python3.7/dist-packages (from nbconvert->notebook>=4.4.1->widgetsnbextension~=3.6.0->ipywidgets->self-driving-lab-demo) (5.0.1)\n",
            "Requirement already satisfied: testpath in /usr/local/lib/python3.7/dist-packages (from nbconvert->notebook>=4.4.1->widgetsnbextension~=3.6.0->ipywidgets->self-driving-lab-demo) (0.6.0)\n",
            "Requirement already satisfied: mistune<2,>=0.8.1 in /usr/local/lib/python3.7/dist-packages (from nbconvert->notebook>=4.4.1->widgetsnbextension~=3.6.0->ipywidgets->self-driving-lab-demo) (0.8.4)\n",
            "Requirement already satisfied: entrypoints>=0.2.2 in /usr/local/lib/python3.7/dist-packages (from nbconvert->notebook>=4.4.1->widgetsnbextension~=3.6.0->ipywidgets->self-driving-lab-demo) (0.4)\n",
            "Requirement already satisfied: fastjsonschema in /usr/local/lib/python3.7/dist-packages (from nbformat->self-driving-lab-demo) (2.16.1)\n",
            "Requirement already satisfied: jsonschema>=2.6 in /usr/local/lib/python3.7/dist-packages (from nbformat->self-driving-lab-demo) (4.3.3)\n",
            "Requirement already satisfied: pyrsistent!=0.17.0,!=0.17.1,!=0.17.2,>=0.14.0 in /usr/local/lib/python3.7/dist-packages (from jsonschema>=2.6->nbformat->self-driving-lab-demo) (0.18.1)\n",
            "Requirement already satisfied: attrs>=17.4.0 in /usr/local/lib/python3.7/dist-packages (from jsonschema>=2.6->nbformat->self-driving-lab-demo) (22.1.0)\n",
            "Requirement already satisfied: importlib-resources>=1.4.0 in /usr/local/lib/python3.7/dist-packages (from jsonschema>=2.6->nbformat->self-driving-lab-demo) (5.9.0)\n",
            "Requirement already satisfied: webencodings in /usr/local/lib/python3.7/dist-packages (from bleach->nbconvert->notebook>=4.4.1->widgetsnbextension~=3.6.0->ipywidgets->self-driving-lab-demo) (0.5.1)\n",
            "Requirement already satisfied: pytz>=2017.3 in /usr/local/lib/python3.7/dist-packages (from pandas->self-driving-lab-demo) (2022.2.1)\n",
            "Requirement already satisfied: tenacity>=6.2.0 in /usr/local/lib/python3.7/dist-packages (from plotly->self-driving-lab-demo) (8.0.1)\n",
            "Requirement already satisfied: idna<3,>=2.5 in /usr/local/lib/python3.7/dist-packages (from requests->self-driving-lab-demo) (2.10)\n",
            "Requirement already satisfied: urllib3!=1.25.0,!=1.25.1,<1.26,>=1.21.1 in /usr/local/lib/python3.7/dist-packages (from requests->self-driving-lab-demo) (1.24.3)\n",
            "Requirement already satisfied: certifi>=2017.4.17 in /usr/local/lib/python3.7/dist-packages (from requests->self-driving-lab-demo) (2022.6.15)\n",
            "Requirement already satisfied: chardet<4,>=3.0.2 in /usr/local/lib/python3.7/dist-packages (from requests->self-driving-lab-demo) (3.0.4)\n",
            "Requirement already satisfied: threadpoolctl>=2.0.0 in /usr/local/lib/python3.7/dist-packages (from scikit-learn->self-driving-lab-demo) (3.1.0)\n",
            "Requirement already satisfied: joblib>=0.11 in /usr/local/lib/python3.7/dist-packages (from scikit-learn->self-driving-lab-demo) (1.1.0)\n",
            "Collecting pyaml>=16.9\n",
            "  Downloading pyaml-21.10.1-py2.py3-none-any.whl (24 kB)\n",
            "Requirement already satisfied: PyYAML in /usr/local/lib/python3.7/dist-packages (from pyaml>=16.9->scikit-optimize->self-driving-lab-demo) (6.0)\n",
            "Building wheels for collected packages: paho-mqtt, similaritymeasures\n",
            "  Building wheel for paho-mqtt (setup.py) ... \u001b[?25l\u001b[?25hdone\n",
            "  Created wheel for paho-mqtt: filename=paho_mqtt-1.6.1-py3-none-any.whl size=62133 sha256=3c3f4343083e3d2d47157b3e28ca27ed2f08eea6ee72a6749d48ebc2344ee751\n",
            "  Stored in directory: /root/.cache/pip/wheels/d0/bf/ac/2b3f43f8c6fcd0f4ba5395397458c521eb0b52d33b574a5a40\n",
            "  Building wheel for similaritymeasures (setup.py) ... \u001b[?25l\u001b[?25hdone\n",
            "  Created wheel for similaritymeasures: filename=similaritymeasures-0.5.0-py3-none-any.whl size=15300 sha256=7062f43f111532d603690ac98811728d8bf920ec13c4bf6b7c0fcc5c53cc3c73\n",
            "  Stored in directory: /root/.cache/pip/wheels/25/b9/84/85f82ef726a4a00d850f8ed4e657822da1e825dad61b821997\n",
            "Successfully built paho-mqtt similaritymeasures\n",
            "Installing collected packages: jedi, pyro-api, pyro-ppl, gpytorch, pyaml, botorch, similaritymeasures, scikit-optimize, pyserial, paho-mqtt, kaleido, ax-platform, self-driving-lab-demo\n",
            "Successfully installed ax-platform-0.2.6 botorch-0.6.6 gpytorch-1.8.1 jedi-0.18.1 kaleido-0.2.1 paho-mqtt-1.6.1 pyaml-21.10.1 pyro-api-0.1.2 pyro-ppl-1.8.2 pyserial-3.5 scikit-optimize-0.9.0 self-driving-lab-demo-0.4.1 similaritymeasures-0.5.0\n"
          ]
        }
      ],
      "source": [
        "%pip install self-driving-lab-demo[ax-platform]"
      ]
    },
    {
      "cell_type": "markdown",
      "metadata": {
        "id": "Tiu3AMxE_0bt"
      },
      "source": [
        "Next, we'll import the `SelfDrivingLabDemo` class and\n",
        "instantiate it. We'll pass an observation function compatible with MQTT (i.e. the interface\n",
        "that makes this demo cloud-accessible), the pico ID (`pico_id`), and a session ID (`session_id`). The pico ID is a unique identifer for the microcontroller (e.g. `a123b456`), but is hardcoded to the\n",
        "value of `\"test\"` for both the remotely accessible SDL-Demo and this notebook (i.e. just\n",
        "for this public demonstration). To make sure that experiments that are requested at the\n",
        "same time don't get mixed up, internally an experiment ID (`experiment_id`) is generated\n",
        "for each experiment. We can also pass a session ID (`session_id`) to make it easier to\n",
        "distinguish experiments from multiple sessions, though storing the\n",
        "experiments into a database is planned to be covered in a later notebook (TBD).\n",
        "\n",
        "<!-- Calling it `client_id` could be confusing, since this has a separate meaning in the MQTT style of things. Maybe I should call this something else, like `client_key`, or `username`. -->"
      ]
    },
    {
      "cell_type": "code",
      "execution_count": 3,
      "metadata": {
        "colab": {
          "base_uri": "https://localhost:8080/"
        },
        "id": "PG3r2NfV_pHF",
        "outputId": "fc67ed5d-2a58-440c-f553-f77026f0c0a7"
      },
      "outputs": [
        {
          "name": "stdout",
          "output_type": "stream",
          "text": [
            "session ID: c13afce9-c7b2-4fe0-b1ed-271c3c77e505\n"
          ]
        }
      ],
      "source": [
        "from uuid import uuid4 # universally unique identifier\n",
        "from self_driving_lab_demo import SelfDrivingLabDemo, mqtt_observe_sensor_data\n",
        "\n",
        "PICO_ID = \"test\" #@param {type:\"string\"}\n",
        "SESSION_ID = str(uuid4()) # random session ID\n",
        "print(f\"session ID: {SESSION_ID}\")\n",
        "\n",
        "sdl = SelfDrivingLabDemo(\n",
        "    autoload=True, # perform target data experiment automatically\n",
        "    observe_sensor_data_fn=mqtt_observe_sensor_data, # (default)\n",
        "    observe_sensor_data_kwargs=dict(pico_id=PICO_ID, session_id=SESSION_ID),\n",
        ")"
      ]
    },
    {
      "cell_type": "markdown",
      "metadata": {
        "id": "fwth0nvwtJoh"
      },
      "source": [
        "Next, we'll observe the sensor data for the following red/green/blue (RGB) values."
      ]
    },
    {
      "cell_type": "code",
      "execution_count": 4,
      "metadata": {
        "colab": {
          "base_uri": "https://localhost:8080/"
        },
        "id": "dNSVEiYjtJoi",
        "outputId": "d0002965-d350-4327-d532-e6eda3659231"
      },
      "outputs": [
        {
          "data": {
            "text/plain": [
              "{'ch620': 433,\n",
              " 'ch470': 7066,\n",
              " 'ch550': 1294,\n",
              " 'ch410': 269,\n",
              " 'ch440': 525,\n",
              " 'ch670': 589,\n",
              " 'ch583': 361,\n",
              " 'ch510': 9989}"
            ]
          },
          "execution_count": 4,
          "metadata": {},
          "output_type": "execute_result"
        }
      ],
      "source": [
        "sdl.observe_sensor_data(0, 100, 0)"
      ]
    },
    {
      "cell_type": "markdown",
      "metadata": {
        "id": "sY8UxxodtJoi"
      },
      "source": [
        "The microcontroller will briefly turn the LED green\n",
        "and collect the data from the spectrophotometer, then publish this data to the Mosquito\n",
        "MQTT test server, the go-between for the microcontroller and this notebook.\n",
        "\n",
        "<p align=\"center\">\n",
        "<img src=\"https://github.com/sparks-baird/self-driving-lab-demo/blob/main/notebooks/green-led.jpg?raw=1\" width=500>\n",
        "</p>"
      ]
    },
    {
      "cell_type": "markdown",
      "metadata": {
        "id": "paWVw0lwtJoj"
      },
      "source": [
        "## \"Hello, World!\" of Optimization\n",
        "\n",
        "Now, let's do the \"Hello, World!\" of optimization tasks and compare grid search vs.\n",
        "random search vs. Bayesian optimization. If you don't know what those are, see [this\n",
        "Towards Data Science\n",
        "Post](https://towardsdatascience.com/grid-search-vs-random-search-vs-bayesian-optimization-2e68f57c3c46).\n",
        "This is the artificial intelligence (though grid and random are \"uninformed\" methods) that suggests what experiment to run next. First, let's note what the predefined search bounds are, but you can still manually send\n",
        "commands that use RGB values up to 255."
      ]
    },
    {
      "cell_type": "code",
      "execution_count": 5,
      "metadata": {
        "colab": {
          "base_uri": "https://localhost:8080/"
        },
        "id": "N88u4HkItJoj",
        "outputId": "3c5ea5a6-e667-45e9-afc1-2597d203acdd"
      },
      "outputs": [
        {
          "data": {
            "text/plain": [
              "{'R': [0, 89],\n",
              " 'G': [0, 89],\n",
              " 'B': [0, 89],\n",
              " 'atime': [0, 255],\n",
              " 'astep': [0, 65534],\n",
              " 'gain': [0.5, 512]}"
            ]
          },
          "execution_count": 5,
          "metadata": {},
          "output_type": "execute_result"
        }
      ],
      "source": [
        "sdl.bounds"
      ]
    },
    {
      "cell_type": "markdown",
      "metadata": {
        "id": "709-CUcKtJok"
      },
      "source": [
        "### Run Search Algorithms\n",
        "\n",
        "Next, we'll use some convenience functions to run each of the searches. The following cell should take approximately 5 minutes to run."
      ]
    },
    {
      "cell_type": "code",
      "execution_count": 5,
      "metadata": {
        "colab": {
          "base_uri": "https://localhost:8080/"
        },
        "id": "VApvR5lHtJol",
        "outputId": "61ee7003-4201-48f5-ef01-29485f1919a6"
      },
      "outputs": [
        {
          "name": "stderr",
          "output_type": "stream",
          "text": [
            "[INFO 09-12 19:25:44] ax.service.utils.instantiation: Inferred value type of ParameterType.INT for parameter R. If that is not the expected value type, you can explicity specify 'value_type' ('int', 'float', 'bool' or 'str') in parameter dict.\n",
            "[INFO 09-12 19:25:44] ax.service.utils.instantiation: Inferred value type of ParameterType.INT for parameter G. If that is not the expected value type, you can explicity specify 'value_type' ('int', 'float', 'bool' or 'str') in parameter dict.\n",
            "[INFO 09-12 19:25:44] ax.service.utils.instantiation: Inferred value type of ParameterType.INT for parameter B. If that is not the expected value type, you can explicity specify 'value_type' ('int', 'float', 'bool' or 'str') in parameter dict.\n",
            "[INFO 09-12 19:25:44] ax.service.utils.instantiation: Created search space: SearchSpace(parameters=[RangeParameter(name='R', parameter_type=INT, range=[0, 89]), RangeParameter(name='G', parameter_type=INT, range=[0, 89]), RangeParameter(name='B', parameter_type=INT, range=[0, 89])], parameter_constraints=[]).\n",
            "[INFO 09-12 19:25:44] ax.modelbridge.dispatch_utils: Using Bayesian optimization since there are more ordered parameters than there are categories for the unordered categorical parameters.\n",
            "[INFO 09-12 19:25:44] ax.modelbridge.dispatch_utils: Using Bayesian Optimization generation strategy: GenerationStrategy(name='Sobol+GPEI', steps=[Sobol for 6 trials, GPEI for subsequent trials]). Iterations after 6 will take longer to generate due to  model-fitting.\n",
            "[INFO 09-12 19:25:44] ax.service.managed_loop: Started full optimization with 27 steps.\n",
            "[INFO 09-12 19:25:44] ax.service.managed_loop: Running optimization trial 1...\n",
            "[INFO 09-12 19:25:48] ax.core.experiment: Attached data has some metrics ({'ch470', 'ch583', 'ch440', 'ch620', 'rmse', 'ch410', 'ch550', 'ch510', 'mae', 'ch670'}) that are not among the metrics on this experiment. Note that attaching data will not automatically add those metrics to the experiment. For these metrics to be automatically fetched by `experiment.fetch_data`, add them via `experiment.add_tracking_metric` or update the experiment's optimization config.\n",
            "[INFO 09-12 19:25:48] ax.service.managed_loop: Running optimization trial 2...\n",
            "[INFO 09-12 19:25:51] ax.core.experiment: Attached data has some metrics ({'ch470', 'ch583', 'ch440', 'ch620', 'rmse', 'ch410', 'ch550', 'ch510', 'mae', 'ch670'}) that are not among the metrics on this experiment. Note that attaching data will not automatically add those metrics to the experiment. For these metrics to be automatically fetched by `experiment.fetch_data`, add them via `experiment.add_tracking_metric` or update the experiment's optimization config.\n",
            "[INFO 09-12 19:25:51] ax.service.managed_loop: Running optimization trial 3...\n",
            "[INFO 09-12 19:25:54] ax.core.experiment: Attached data has some metrics ({'ch470', 'ch583', 'ch440', 'ch620', 'rmse', 'ch410', 'ch550', 'ch510', 'mae', 'ch670'}) that are not among the metrics on this experiment. Note that attaching data will not automatically add those metrics to the experiment. For these metrics to be automatically fetched by `experiment.fetch_data`, add them via `experiment.add_tracking_metric` or update the experiment's optimization config.\n",
            "[INFO 09-12 19:25:54] ax.service.managed_loop: Running optimization trial 4...\n",
            "[INFO 09-12 19:25:57] ax.core.experiment: Attached data has some metrics ({'ch470', 'ch583', 'ch440', 'ch620', 'rmse', 'ch410', 'ch550', 'ch510', 'mae', 'ch670'}) that are not among the metrics on this experiment. Note that attaching data will not automatically add those metrics to the experiment. For these metrics to be automatically fetched by `experiment.fetch_data`, add them via `experiment.add_tracking_metric` or update the experiment's optimization config.\n",
            "[INFO 09-12 19:25:57] ax.service.managed_loop: Running optimization trial 5...\n",
            "[INFO 09-12 19:26:01] ax.core.experiment: Attached data has some metrics ({'ch470', 'ch583', 'ch440', 'ch620', 'rmse', 'ch410', 'ch550', 'ch510', 'mae', 'ch670'}) that are not among the metrics on this experiment. Note that attaching data will not automatically add those metrics to the experiment. For these metrics to be automatically fetched by `experiment.fetch_data`, add them via `experiment.add_tracking_metric` or update the experiment's optimization config.\n",
            "[INFO 09-12 19:26:01] ax.service.managed_loop: Running optimization trial 6...\n",
            "[INFO 09-12 19:26:05] ax.core.experiment: Attached data has some metrics ({'ch470', 'ch583', 'ch440', 'ch620', 'rmse', 'ch410', 'ch550', 'ch510', 'mae', 'ch670'}) that are not among the metrics on this experiment. Note that attaching data will not automatically add those metrics to the experiment. For these metrics to be automatically fetched by `experiment.fetch_data`, add them via `experiment.add_tracking_metric` or update the experiment's optimization config.\n",
            "[INFO 09-12 19:26:05] ax.service.managed_loop: Running optimization trial 7...\n",
            "/usr/local/lib/python3.7/dist-packages/gpytorch/lazy/lazy_tensor.py:1811: UserWarning: torch.triangular_solve is deprecated in favor of torch.linalg.solve_triangularand will be removed in a future PyTorch release.\n",
            "torch.linalg.solve_triangular has its arguments reversed and does not return a copy of one of the inputs.\n",
            "X = torch.triangular_solve(B, A).solution\n",
            "should be replaced with\n",
            "X = torch.linalg.solve_triangular(A, B). (Triggered internally at  ../aten/src/ATen/native/BatchLinearAlgebra.cpp:2183.)\n",
            "  Linv = torch.triangular_solve(Eye, L, upper=False).solution\n",
            "[INFO 09-12 19:26:10] ax.core.experiment: Attached data has some metrics ({'ch470', 'ch583', 'ch440', 'ch620', 'rmse', 'ch410', 'ch550', 'ch510', 'mae', 'ch670'}) that are not among the metrics on this experiment. Note that attaching data will not automatically add those metrics to the experiment. For these metrics to be automatically fetched by `experiment.fetch_data`, add them via `experiment.add_tracking_metric` or update the experiment's optimization config.\n",
            "[INFO 09-12 19:26:10] ax.service.managed_loop: Running optimization trial 8...\n",
            "[INFO 09-12 19:26:15] ax.core.experiment: Attached data has some metrics ({'ch470', 'ch583', 'ch440', 'ch620', 'rmse', 'ch410', 'ch550', 'ch510', 'mae', 'ch670'}) that are not among the metrics on this experiment. Note that attaching data will not automatically add those metrics to the experiment. For these metrics to be automatically fetched by `experiment.fetch_data`, add them via `experiment.add_tracking_metric` or update the experiment's optimization config.\n",
            "[INFO 09-12 19:26:15] ax.service.managed_loop: Running optimization trial 9...\n",
            "[INFO 09-12 19:26:20] ax.core.experiment: Attached data has some metrics ({'ch470', 'ch583', 'ch440', 'ch620', 'rmse', 'ch410', 'ch550', 'ch510', 'mae', 'ch670'}) that are not among the metrics on this experiment. Note that attaching data will not automatically add those metrics to the experiment. For these metrics to be automatically fetched by `experiment.fetch_data`, add them via `experiment.add_tracking_metric` or update the experiment's optimization config.\n",
            "[INFO 09-12 19:26:20] ax.service.managed_loop: Running optimization trial 10...\n",
            "[INFO 09-12 19:26:27] ax.core.experiment: Attached data has some metrics ({'ch470', 'ch583', 'ch440', 'ch620', 'rmse', 'ch410', 'ch550', 'ch510', 'mae', 'ch670'}) that are not among the metrics on this experiment. Note that attaching data will not automatically add those metrics to the experiment. For these metrics to be automatically fetched by `experiment.fetch_data`, add them via `experiment.add_tracking_metric` or update the experiment's optimization config.\n",
            "[INFO 09-12 19:26:27] ax.service.managed_loop: Running optimization trial 11...\n",
            "[INFO 09-12 19:26:35] ax.core.experiment: Attached data has some metrics ({'ch470', 'ch583', 'ch440', 'ch620', 'rmse', 'ch410', 'ch550', 'ch510', 'mae', 'ch670'}) that are not among the metrics on this experiment. Note that attaching data will not automatically add those metrics to the experiment. For these metrics to be automatically fetched by `experiment.fetch_data`, add them via `experiment.add_tracking_metric` or update the experiment's optimization config.\n",
            "[INFO 09-12 19:26:35] ax.service.managed_loop: Running optimization trial 12...\n",
            "[INFO 09-12 19:26:44] ax.core.experiment: Attached data has some metrics ({'ch470', 'ch583', 'ch440', 'ch620', 'rmse', 'ch410', 'ch550', 'ch510', 'mae', 'ch670'}) that are not among the metrics on this experiment. Note that attaching data will not automatically add those metrics to the experiment. For these metrics to be automatically fetched by `experiment.fetch_data`, add them via `experiment.add_tracking_metric` or update the experiment's optimization config.\n",
            "[INFO 09-12 19:26:44] ax.service.managed_loop: Running optimization trial 13...\n",
            "[INFO 09-12 19:26:52] ax.core.experiment: Attached data has some metrics ({'ch470', 'ch583', 'ch440', 'ch620', 'rmse', 'ch410', 'ch550', 'ch510', 'mae', 'ch670'}) that are not among the metrics on this experiment. Note that attaching data will not automatically add those metrics to the experiment. For these metrics to be automatically fetched by `experiment.fetch_data`, add them via `experiment.add_tracking_metric` or update the experiment's optimization config.\n",
            "[INFO 09-12 19:26:52] ax.service.managed_loop: Running optimization trial 14...\n",
            "[INFO 09-12 19:27:03] ax.core.experiment: Attached data has some metrics ({'ch470', 'ch583', 'ch440', 'ch620', 'rmse', 'ch410', 'ch550', 'ch510', 'mae', 'ch670'}) that are not among the metrics on this experiment. Note that attaching data will not automatically add those metrics to the experiment. For these metrics to be automatically fetched by `experiment.fetch_data`, add them via `experiment.add_tracking_metric` or update the experiment's optimization config.\n",
            "[INFO 09-12 19:27:03] ax.service.managed_loop: Running optimization trial 15...\n",
            "[INFO 09-12 19:27:12] ax.core.experiment: Attached data has some metrics ({'ch470', 'ch583', 'ch440', 'ch620', 'rmse', 'ch410', 'ch550', 'ch510', 'mae', 'ch670'}) that are not among the metrics on this experiment. Note that attaching data will not automatically add those metrics to the experiment. For these metrics to be automatically fetched by `experiment.fetch_data`, add them via `experiment.add_tracking_metric` or update the experiment's optimization config.\n",
            "[INFO 09-12 19:27:12] ax.service.managed_loop: Running optimization trial 16...\n",
            "[INFO 09-12 19:27:21] ax.core.experiment: Attached data has some metrics ({'ch470', 'ch583', 'ch440', 'ch620', 'rmse', 'ch410', 'ch550', 'ch510', 'mae', 'ch670'}) that are not among the metrics on this experiment. Note that attaching data will not automatically add those metrics to the experiment. For these metrics to be automatically fetched by `experiment.fetch_data`, add them via `experiment.add_tracking_metric` or update the experiment's optimization config.\n",
            "[INFO 09-12 19:27:21] ax.service.managed_loop: Running optimization trial 17...\n",
            "[INFO 09-12 19:27:30] ax.core.experiment: Attached data has some metrics ({'ch470', 'ch583', 'ch440', 'ch620', 'rmse', 'ch410', 'ch550', 'ch510', 'mae', 'ch670'}) that are not among the metrics on this experiment. Note that attaching data will not automatically add those metrics to the experiment. For these metrics to be automatically fetched by `experiment.fetch_data`, add them via `experiment.add_tracking_metric` or update the experiment's optimization config.\n",
            "[INFO 09-12 19:27:30] ax.service.managed_loop: Running optimization trial 18...\n",
            "[INFO 09-12 19:27:39] ax.core.experiment: Attached data has some metrics ({'ch470', 'ch583', 'ch440', 'ch620', 'rmse', 'ch410', 'ch550', 'ch510', 'mae', 'ch670'}) that are not among the metrics on this experiment. Note that attaching data will not automatically add those metrics to the experiment. For these metrics to be automatically fetched by `experiment.fetch_data`, add them via `experiment.add_tracking_metric` or update the experiment's optimization config.\n",
            "[INFO 09-12 19:27:39] ax.service.managed_loop: Running optimization trial 19...\n",
            "[INFO 09-12 19:27:48] ax.core.experiment: Attached data has some metrics ({'ch470', 'ch583', 'ch440', 'ch620', 'rmse', 'ch410', 'ch550', 'ch510', 'mae', 'ch670'}) that are not among the metrics on this experiment. Note that attaching data will not automatically add those metrics to the experiment. For these metrics to be automatically fetched by `experiment.fetch_data`, add them via `experiment.add_tracking_metric` or update the experiment's optimization config.\n",
            "[INFO 09-12 19:27:48] ax.service.managed_loop: Running optimization trial 20...\n",
            "[INFO 09-12 19:27:57] ax.core.experiment: Attached data has some metrics ({'ch470', 'ch583', 'ch440', 'ch620', 'rmse', 'ch410', 'ch550', 'ch510', 'mae', 'ch670'}) that are not among the metrics on this experiment. Note that attaching data will not automatically add those metrics to the experiment. For these metrics to be automatically fetched by `experiment.fetch_data`, add them via `experiment.add_tracking_metric` or update the experiment's optimization config.\n",
            "[INFO 09-12 19:27:57] ax.service.managed_loop: Running optimization trial 21...\n",
            "[INFO 09-12 19:28:06] ax.core.experiment: Attached data has some metrics ({'ch470', 'ch583', 'ch440', 'ch620', 'rmse', 'ch410', 'ch550', 'ch510', 'mae', 'ch670'}) that are not among the metrics on this experiment. Note that attaching data will not automatically add those metrics to the experiment. For these metrics to be automatically fetched by `experiment.fetch_data`, add them via `experiment.add_tracking_metric` or update the experiment's optimization config.\n",
            "[INFO 09-12 19:28:06] ax.service.managed_loop: Running optimization trial 22...\n",
            "[INFO 09-12 19:28:14] ax.core.experiment: Attached data has some metrics ({'ch470', 'ch583', 'ch440', 'ch620', 'rmse', 'ch410', 'ch550', 'ch510', 'mae', 'ch670'}) that are not among the metrics on this experiment. Note that attaching data will not automatically add those metrics to the experiment. For these metrics to be automatically fetched by `experiment.fetch_data`, add them via `experiment.add_tracking_metric` or update the experiment's optimization config.\n",
            "[INFO 09-12 19:28:14] ax.service.managed_loop: Running optimization trial 23...\n",
            "[INFO 09-12 19:28:23] ax.core.experiment: Attached data has some metrics ({'ch470', 'ch583', 'ch440', 'ch620', 'rmse', 'ch410', 'ch550', 'ch510', 'mae', 'ch670'}) that are not among the metrics on this experiment. Note that attaching data will not automatically add those metrics to the experiment. For these metrics to be automatically fetched by `experiment.fetch_data`, add them via `experiment.add_tracking_metric` or update the experiment's optimization config.\n",
            "[INFO 09-12 19:28:23] ax.service.managed_loop: Running optimization trial 24...\n",
            "[INFO 09-12 19:28:32] ax.core.experiment: Attached data has some metrics ({'ch470', 'ch583', 'ch440', 'ch620', 'rmse', 'ch410', 'ch550', 'ch510', 'mae', 'ch670'}) that are not among the metrics on this experiment. Note that attaching data will not automatically add those metrics to the experiment. For these metrics to be automatically fetched by `experiment.fetch_data`, add them via `experiment.add_tracking_metric` or update the experiment's optimization config.\n",
            "[INFO 09-12 19:28:32] ax.service.managed_loop: Running optimization trial 25...\n",
            "[INFO 09-12 19:28:40] ax.core.experiment: Attached data has some metrics ({'ch470', 'ch583', 'ch440', 'ch620', 'rmse', 'ch410', 'ch550', 'ch510', 'mae', 'ch670'}) that are not among the metrics on this experiment. Note that attaching data will not automatically add those metrics to the experiment. For these metrics to be automatically fetched by `experiment.fetch_data`, add them via `experiment.add_tracking_metric` or update the experiment's optimization config.\n",
            "[INFO 09-12 19:28:40] ax.service.managed_loop: Running optimization trial 26...\n",
            "[INFO 09-12 19:28:48] ax.core.experiment: Attached data has some metrics ({'ch470', 'ch583', 'ch440', 'ch620', 'rmse', 'ch410', 'ch550', 'ch510', 'mae', 'ch670'}) that are not among the metrics on this experiment. Note that attaching data will not automatically add those metrics to the experiment. For these metrics to be automatically fetched by `experiment.fetch_data`, add them via `experiment.add_tracking_metric` or update the experiment's optimization config.\n",
            "[INFO 09-12 19:28:48] ax.service.managed_loop: Running optimization trial 27...\n",
            "[INFO 09-12 19:28:58] ax.core.experiment: Attached data has some metrics ({'ch470', 'ch583', 'ch440', 'ch620', 'rmse', 'ch410', 'ch550', 'ch510', 'mae', 'ch670'}) that are not among the metrics on this experiment. Note that attaching data will not automatically add those metrics to the experiment. For these metrics to be automatically fetched by `experiment.fetch_data`, add them via `experiment.add_tracking_metric` or update the experiment's optimization config.\n"
          ]
        },
        {
          "name": "stdout",
          "output_type": "stream",
          "text": [
            "CPU times: user 1min 48s, sys: 798 ms, total: 1min 49s\n",
            "Wall time: 6min 17s\n"
          ]
        }
      ],
      "source": [
        "%%time\n",
        "from self_driving_lab_demo.utils.search import (\n",
        "    grid_search,\n",
        "    random_search,\n",
        "    ax_bayesian_optimization,\n",
        ")\n",
        "\n",
        "num_iter = 27\n",
        "\n",
        "grid, grid_data = grid_search(sdl, num_iter)\n",
        "random_inputs, random_data = random_search(sdl, num_iter)\n",
        "best_parameters, values, experiment, model = ax_bayesian_optimization(sdl, num_iter)"
      ]
    },
    {
      "cell_type": "markdown",
      "metadata": {
        "id": "-OpIE-YYJEUE"
      },
      "source": [
        "## Results\n",
        "\n",
        "### Best error so far vs. iteration"
      ]
    },
    {
      "cell_type": "code",
      "execution_count": 6,
      "metadata": {
        "cellView": "form",
        "colab": {
          "base_uri": "https://localhost:8080/",
          "height": 542
        },
        "id": "o2LWl3dxtJon",
        "outputId": "3d54a299-175b-48fe-a1dd-cd1a222a861c"
      },
      "outputs": [
        {
          "data": {
            "text/html": [
              "<html>\n",
              "<head><meta charset=\"utf-8\" /></head>\n",
              "<body>\n",
              "    <div>            <script src=\"https://cdnjs.cloudflare.com/ajax/libs/mathjax/2.7.5/MathJax.js?config=TeX-AMS-MML_SVG\"></script><script type=\"text/javascript\">if (window.MathJax) {MathJax.Hub.Config({SVG: {font: \"STIX-Web\"}});}</script>                <script type=\"text/javascript\">window.PlotlyConfig = {MathJaxConfig: 'local'};</script>\n",
              "        <script src=\"https://cdn.plot.ly/plotly-2.8.3.min.js\"></script>                <div id=\"8bcf9f67-9a4b-4a37-8c37-6f65bdb34d72\" class=\"plotly-graph-div\" style=\"height:525px; width:100%;\"></div>            <script type=\"text/javascript\">                                    window.PLOTLYENV=window.PLOTLYENV || {};                                    if (document.getElementById(\"8bcf9f67-9a4b-4a37-8c37-6f65bdb34d72\")) {                    Plotly.newPlot(                        \"8bcf9f67-9a4b-4a37-8c37-6f65bdb34d72\",                        [{\"hovertemplate\":\"type=grid<br>index=%{x}<br>best_so_far=%{y}<extra></extra>\",\"legendgroup\":\"grid\",\"line\":{\"color\":\"#636efa\",\"dash\":\"solid\"},\"marker\":{\"symbol\":\"circle\"},\"mode\":\"lines\",\"name\":\"grid\",\"orientation\":\"v\",\"showlegend\":true,\"x\":[0,1,2,3,4,5,6,7,8,9,10,11,12,13,14,15,16,17,18,19,20,21,22,23,24,25,26],\"xaxis\":\"x\",\"y\":[6657.0,2504.0,2504.0,2504.0,2504.0,2504.0,2504.0,2504.0,2504.0,2504.0,2504.0,2504.0,2504.0,2504.0,2504.0,2504.0,2504.0,2504.0,2504.0,2504.0,2504.0,2504.0,2504.0,2504.0,2504.0,2504.0,2504.0],\"yaxis\":\"y\",\"type\":\"scatter\"},{\"hovertemplate\":\"type=random<br>index=%{x}<br>best_so_far=%{y}<extra></extra>\",\"legendgroup\":\"random\",\"line\":{\"color\":\"#EF553B\",\"dash\":\"solid\"},\"marker\":{\"symbol\":\"circle\"},\"mode\":\"lines\",\"name\":\"random\",\"orientation\":\"v\",\"showlegend\":true,\"x\":[0,1,2,3,4,5,6,7,8,9,10,11,12,13,14,15,16,17,18,19,20,21,22,23,24,25,26],\"xaxis\":\"x\",\"y\":[8865.0,8865.0,6192.0,6192.0,6090.0,4756.0,4756.0,4756.0,4756.0,4756.0,4756.0,2219.0,2219.0,2219.0,2219.0,2219.0,2219.0,2219.0,2219.0,2219.0,2219.0,2219.0,2103.0,1241.0,1241.0,1241.0,1241.0],\"yaxis\":\"y\",\"type\":\"scatter\"},{\"hovertemplate\":\"type=bayesian<br>index=%{x}<br>best_so_far=%{y}<extra></extra>\",\"legendgroup\":\"bayesian\",\"line\":{\"color\":\"#00cc96\",\"dash\":\"solid\"},\"marker\":{\"symbol\":\"circle\"},\"mode\":\"lines\",\"name\":\"bayesian\",\"orientation\":\"v\",\"showlegend\":true,\"x\":[0,1,2,3,4,5,6,7,8,9,10,11,12,13,14,15,16,17,18,19,20,21,22,23,24,25,26],\"xaxis\":\"x\",\"y\":[6186.0,5382.0,5382.0,5382.0,5382.0,5382.0,2486.0,1580.0,1580.0,1580.0,1580.0,1580.0,1580.0,1580.0,1580.0,1580.0,1580.0,1580.0,1580.0,1580.0,1580.0,1580.0,1580.0,1580.0,1580.0,460.0,460.0],\"yaxis\":\"y\",\"type\":\"scatter\"}],                        {\"template\":{\"data\":{\"bar\":[{\"error_x\":{\"color\":\"#2a3f5f\"},\"error_y\":{\"color\":\"#2a3f5f\"},\"marker\":{\"line\":{\"color\":\"#E5ECF6\",\"width\":0.5},\"pattern\":{\"fillmode\":\"overlay\",\"size\":10,\"solidity\":0.2}},\"type\":\"bar\"}],\"barpolar\":[{\"marker\":{\"line\":{\"color\":\"#E5ECF6\",\"width\":0.5},\"pattern\":{\"fillmode\":\"overlay\",\"size\":10,\"solidity\":0.2}},\"type\":\"barpolar\"}],\"carpet\":[{\"aaxis\":{\"endlinecolor\":\"#2a3f5f\",\"gridcolor\":\"white\",\"linecolor\":\"white\",\"minorgridcolor\":\"white\",\"startlinecolor\":\"#2a3f5f\"},\"baxis\":{\"endlinecolor\":\"#2a3f5f\",\"gridcolor\":\"white\",\"linecolor\":\"white\",\"minorgridcolor\":\"white\",\"startlinecolor\":\"#2a3f5f\"},\"type\":\"carpet\"}],\"choropleth\":[{\"colorbar\":{\"outlinewidth\":0,\"ticks\":\"\"},\"type\":\"choropleth\"}],\"contour\":[{\"colorbar\":{\"outlinewidth\":0,\"ticks\":\"\"},\"colorscale\":[[0.0,\"#0d0887\"],[0.1111111111111111,\"#46039f\"],[0.2222222222222222,\"#7201a8\"],[0.3333333333333333,\"#9c179e\"],[0.4444444444444444,\"#bd3786\"],[0.5555555555555556,\"#d8576b\"],[0.6666666666666666,\"#ed7953\"],[0.7777777777777778,\"#fb9f3a\"],[0.8888888888888888,\"#fdca26\"],[1.0,\"#f0f921\"]],\"type\":\"contour\"}],\"contourcarpet\":[{\"colorbar\":{\"outlinewidth\":0,\"ticks\":\"\"},\"type\":\"contourcarpet\"}],\"heatmap\":[{\"colorbar\":{\"outlinewidth\":0,\"ticks\":\"\"},\"colorscale\":[[0.0,\"#0d0887\"],[0.1111111111111111,\"#46039f\"],[0.2222222222222222,\"#7201a8\"],[0.3333333333333333,\"#9c179e\"],[0.4444444444444444,\"#bd3786\"],[0.5555555555555556,\"#d8576b\"],[0.6666666666666666,\"#ed7953\"],[0.7777777777777778,\"#fb9f3a\"],[0.8888888888888888,\"#fdca26\"],[1.0,\"#f0f921\"]],\"type\":\"heatmap\"}],\"heatmapgl\":[{\"colorbar\":{\"outlinewidth\":0,\"ticks\":\"\"},\"colorscale\":[[0.0,\"#0d0887\"],[0.1111111111111111,\"#46039f\"],[0.2222222222222222,\"#7201a8\"],[0.3333333333333333,\"#9c179e\"],[0.4444444444444444,\"#bd3786\"],[0.5555555555555556,\"#d8576b\"],[0.6666666666666666,\"#ed7953\"],[0.7777777777777778,\"#fb9f3a\"],[0.8888888888888888,\"#fdca26\"],[1.0,\"#f0f921\"]],\"type\":\"heatmapgl\"}],\"histogram\":[{\"marker\":{\"pattern\":{\"fillmode\":\"overlay\",\"size\":10,\"solidity\":0.2}},\"type\":\"histogram\"}],\"histogram2d\":[{\"colorbar\":{\"outlinewidth\":0,\"ticks\":\"\"},\"colorscale\":[[0.0,\"#0d0887\"],[0.1111111111111111,\"#46039f\"],[0.2222222222222222,\"#7201a8\"],[0.3333333333333333,\"#9c179e\"],[0.4444444444444444,\"#bd3786\"],[0.5555555555555556,\"#d8576b\"],[0.6666666666666666,\"#ed7953\"],[0.7777777777777778,\"#fb9f3a\"],[0.8888888888888888,\"#fdca26\"],[1.0,\"#f0f921\"]],\"type\":\"histogram2d\"}],\"histogram2dcontour\":[{\"colorbar\":{\"outlinewidth\":0,\"ticks\":\"\"},\"colorscale\":[[0.0,\"#0d0887\"],[0.1111111111111111,\"#46039f\"],[0.2222222222222222,\"#7201a8\"],[0.3333333333333333,\"#9c179e\"],[0.4444444444444444,\"#bd3786\"],[0.5555555555555556,\"#d8576b\"],[0.6666666666666666,\"#ed7953\"],[0.7777777777777778,\"#fb9f3a\"],[0.8888888888888888,\"#fdca26\"],[1.0,\"#f0f921\"]],\"type\":\"histogram2dcontour\"}],\"mesh3d\":[{\"colorbar\":{\"outlinewidth\":0,\"ticks\":\"\"},\"type\":\"mesh3d\"}],\"parcoords\":[{\"line\":{\"colorbar\":{\"outlinewidth\":0,\"ticks\":\"\"}},\"type\":\"parcoords\"}],\"pie\":[{\"automargin\":true,\"type\":\"pie\"}],\"scatter\":[{\"marker\":{\"colorbar\":{\"outlinewidth\":0,\"ticks\":\"\"}},\"type\":\"scatter\"}],\"scatter3d\":[{\"line\":{\"colorbar\":{\"outlinewidth\":0,\"ticks\":\"\"}},\"marker\":{\"colorbar\":{\"outlinewidth\":0,\"ticks\":\"\"}},\"type\":\"scatter3d\"}],\"scattercarpet\":[{\"marker\":{\"colorbar\":{\"outlinewidth\":0,\"ticks\":\"\"}},\"type\":\"scattercarpet\"}],\"scattergeo\":[{\"marker\":{\"colorbar\":{\"outlinewidth\":0,\"ticks\":\"\"}},\"type\":\"scattergeo\"}],\"scattergl\":[{\"marker\":{\"colorbar\":{\"outlinewidth\":0,\"ticks\":\"\"}},\"type\":\"scattergl\"}],\"scattermapbox\":[{\"marker\":{\"colorbar\":{\"outlinewidth\":0,\"ticks\":\"\"}},\"type\":\"scattermapbox\"}],\"scatterpolar\":[{\"marker\":{\"colorbar\":{\"outlinewidth\":0,\"ticks\":\"\"}},\"type\":\"scatterpolar\"}],\"scatterpolargl\":[{\"marker\":{\"colorbar\":{\"outlinewidth\":0,\"ticks\":\"\"}},\"type\":\"scatterpolargl\"}],\"scatterternary\":[{\"marker\":{\"colorbar\":{\"outlinewidth\":0,\"ticks\":\"\"}},\"type\":\"scatterternary\"}],\"surface\":[{\"colorbar\":{\"outlinewidth\":0,\"ticks\":\"\"},\"colorscale\":[[0.0,\"#0d0887\"],[0.1111111111111111,\"#46039f\"],[0.2222222222222222,\"#7201a8\"],[0.3333333333333333,\"#9c179e\"],[0.4444444444444444,\"#bd3786\"],[0.5555555555555556,\"#d8576b\"],[0.6666666666666666,\"#ed7953\"],[0.7777777777777778,\"#fb9f3a\"],[0.8888888888888888,\"#fdca26\"],[1.0,\"#f0f921\"]],\"type\":\"surface\"}],\"table\":[{\"cells\":{\"fill\":{\"color\":\"#EBF0F8\"},\"line\":{\"color\":\"white\"}},\"header\":{\"fill\":{\"color\":\"#C8D4E3\"},\"line\":{\"color\":\"white\"}},\"type\":\"table\"}]},\"layout\":{\"annotationdefaults\":{\"arrowcolor\":\"#2a3f5f\",\"arrowhead\":0,\"arrowwidth\":1},\"autotypenumbers\":\"strict\",\"coloraxis\":{\"colorbar\":{\"outlinewidth\":0,\"ticks\":\"\"}},\"colorscale\":{\"diverging\":[[0,\"#8e0152\"],[0.1,\"#c51b7d\"],[0.2,\"#de77ae\"],[0.3,\"#f1b6da\"],[0.4,\"#fde0ef\"],[0.5,\"#f7f7f7\"],[0.6,\"#e6f5d0\"],[0.7,\"#b8e186\"],[0.8,\"#7fbc41\"],[0.9,\"#4d9221\"],[1,\"#276419\"]],\"sequential\":[[0.0,\"#0d0887\"],[0.1111111111111111,\"#46039f\"],[0.2222222222222222,\"#7201a8\"],[0.3333333333333333,\"#9c179e\"],[0.4444444444444444,\"#bd3786\"],[0.5555555555555556,\"#d8576b\"],[0.6666666666666666,\"#ed7953\"],[0.7777777777777778,\"#fb9f3a\"],[0.8888888888888888,\"#fdca26\"],[1.0,\"#f0f921\"]],\"sequentialminus\":[[0.0,\"#0d0887\"],[0.1111111111111111,\"#46039f\"],[0.2222222222222222,\"#7201a8\"],[0.3333333333333333,\"#9c179e\"],[0.4444444444444444,\"#bd3786\"],[0.5555555555555556,\"#d8576b\"],[0.6666666666666666,\"#ed7953\"],[0.7777777777777778,\"#fb9f3a\"],[0.8888888888888888,\"#fdca26\"],[1.0,\"#f0f921\"]]},\"colorway\":[\"#636efa\",\"#EF553B\",\"#00cc96\",\"#ab63fa\",\"#FFA15A\",\"#19d3f3\",\"#FF6692\",\"#B6E880\",\"#FF97FF\",\"#FECB52\"],\"font\":{\"color\":\"#2a3f5f\"},\"geo\":{\"bgcolor\":\"white\",\"lakecolor\":\"white\",\"landcolor\":\"#E5ECF6\",\"showlakes\":true,\"showland\":true,\"subunitcolor\":\"white\"},\"hoverlabel\":{\"align\":\"left\"},\"hovermode\":\"closest\",\"mapbox\":{\"style\":\"light\"},\"paper_bgcolor\":\"white\",\"plot_bgcolor\":\"#E5ECF6\",\"polar\":{\"angularaxis\":{\"gridcolor\":\"white\",\"linecolor\":\"white\",\"ticks\":\"\"},\"bgcolor\":\"#E5ECF6\",\"radialaxis\":{\"gridcolor\":\"white\",\"linecolor\":\"white\",\"ticks\":\"\"}},\"scene\":{\"xaxis\":{\"backgroundcolor\":\"#E5ECF6\",\"gridcolor\":\"white\",\"gridwidth\":2,\"linecolor\":\"white\",\"showbackground\":true,\"ticks\":\"\",\"zerolinecolor\":\"white\"},\"yaxis\":{\"backgroundcolor\":\"#E5ECF6\",\"gridcolor\":\"white\",\"gridwidth\":2,\"linecolor\":\"white\",\"showbackground\":true,\"ticks\":\"\",\"zerolinecolor\":\"white\"},\"zaxis\":{\"backgroundcolor\":\"#E5ECF6\",\"gridcolor\":\"white\",\"gridwidth\":2,\"linecolor\":\"white\",\"showbackground\":true,\"ticks\":\"\",\"zerolinecolor\":\"white\"}},\"shapedefaults\":{\"line\":{\"color\":\"#2a3f5f\"}},\"ternary\":{\"aaxis\":{\"gridcolor\":\"white\",\"linecolor\":\"white\",\"ticks\":\"\"},\"baxis\":{\"gridcolor\":\"white\",\"linecolor\":\"white\",\"ticks\":\"\"},\"bgcolor\":\"#E5ECF6\",\"caxis\":{\"gridcolor\":\"white\",\"linecolor\":\"white\",\"ticks\":\"\"}},\"title\":{\"x\":0.05},\"xaxis\":{\"automargin\":true,\"gridcolor\":\"white\",\"linecolor\":\"white\",\"ticks\":\"\",\"title\":{\"standoff\":15},\"zerolinecolor\":\"white\",\"zerolinewidth\":2},\"yaxis\":{\"automargin\":true,\"gridcolor\":\"white\",\"linecolor\":\"white\",\"ticks\":\"\",\"title\":{\"standoff\":15},\"zerolinecolor\":\"white\",\"zerolinewidth\":2}}},\"xaxis\":{\"anchor\":\"y\",\"domain\":[0.0,1.0],\"title\":{\"text\":\"iteration\"}},\"yaxis\":{\"anchor\":\"x\",\"domain\":[0.0,1.0],\"title\":{\"text\":\"Best error so far\"}},\"legend\":{\"title\":{\"text\":\"type\"},\"tracegroupgap\":0},\"margin\":{\"t\":60}},                        {\"responsive\": true}                    ).then(function(){\n",
              "                            \n",
              "var gd = document.getElementById('8bcf9f67-9a4b-4a37-8c37-6f65bdb34d72');\n",
              "var x = new MutationObserver(function (mutations, observer) {{\n",
              "        var display = window.getComputedStyle(gd).display;\n",
              "        if (!display || display === 'none') {{\n",
              "            console.log([gd, 'removed!']);\n",
              "            Plotly.purge(gd);\n",
              "            observer.disconnect();\n",
              "        }}\n",
              "}});\n",
              "\n",
              "// Listen for the removal of the full notebook cells\n",
              "var notebookContainer = gd.closest('#notebook-container');\n",
              "if (notebookContainer) {{\n",
              "    x.observe(notebookContainer, {childList: true});\n",
              "}}\n",
              "\n",
              "// Listen for the clearing of the current output cell\n",
              "var outputEl = gd.closest('.output');\n",
              "if (outputEl) {{\n",
              "    x.observe(outputEl, {childList: true});\n",
              "}}\n",
              "\n",
              "                        })                };                            </script>        </div>\n",
              "</body>\n",
              "</html>"
            ]
          },
          "metadata": {},
          "output_type": "display_data"
        }
      ],
      "source": [
        "#@markdown Let's compare how each optimization algorithm did as a function of the number of\n",
        "#@markdown iterations. The faster the error goes down, the better.\n",
        "import plotly.express as px\n",
        "import plotly.graph_objects as go\n",
        "import pandas as pd\n",
        "\n",
        "grid_input_df = pd.DataFrame(grid)\n",
        "grid_output_df = pd.DataFrame(grid_data)[[\"frechet\"]]\n",
        "grid_df = pd.concat([grid_input_df, grid_output_df], axis=1)\n",
        "grid_df[\"best_so_far\"] = grid_df[\"frechet\"].cummin()\n",
        "\n",
        "random_input_df = pd.DataFrame(random_inputs, columns=[\"R\", \"G\", \"B\"])\n",
        "random_output_df = pd.DataFrame(random_data)[[\"frechet\"]]\n",
        "random_df = pd.concat([random_input_df, random_output_df], axis=1)\n",
        "random_df[\"best_so_far\"] = random_df[\"frechet\"].cummin()\n",
        "\n",
        "trials = list(experiment.trials.values())\n",
        "bayes_input_df = pd.DataFrame([t.arm.parameters for t in trials])\n",
        "bayes_output_df = pd.Series([t.objective_mean for t in trials], name=\"frechet\").to_frame()\n",
        "bayes_df = pd.concat([bayes_input_df, bayes_output_df], axis=1)\n",
        "bayes_df[\"best_so_far\"] = bayes_df[\"frechet\"].cummin()\n",
        "\n",
        "import plotly.express as px\n",
        "import plotly.graph_objects as go\n",
        "import pandas as pd\n",
        "grid_input_df = pd.DataFrame(grid)\n",
        "grid_output_df = pd.DataFrame(grid_data)[[\"frechet\"]]\n",
        "grid_df = pd.concat([grid_input_df, grid_output_df], axis=1)\n",
        "grid_df[\"best_so_far\"] = grid_df[\"frechet\"].cummin()\n",
        "\n",
        "random_input_df = pd.DataFrame(random_inputs, columns=[\"R\", \"G\", \"B\"])\n",
        "random_output_df = pd.DataFrame(random_data)[[\"frechet\"]]\n",
        "random_df = pd.concat([random_input_df, random_output_df], axis=1)\n",
        "random_df[\"best_so_far\"] = random_df[\"frechet\"].cummin()\n",
        "\n",
        "trials = list(experiment.trials.values())\n",
        "bayes_input_df = pd.DataFrame([t.arm.parameters for t in trials])\n",
        "bayes_output_df = pd.Series([t.objective_mean for t in trials], name=\"frechet\").to_frame()\n",
        "bayes_df = pd.concat([bayes_input_df, bayes_output_df], axis=1)\n",
        "bayes_df[\"best_so_far\"] = bayes_df[\"frechet\"].cummin()\n",
        "\n",
        "grid_df[\"type\"] = \"grid\"\n",
        "random_df[\"type\"] = \"random\"\n",
        "bayes_df[\"type\"] = \"bayesian\"\n",
        "df = pd.concat([grid_df, random_df, bayes_df], axis=0)\n",
        "px.line(df, x=df.index, y=\"best_so_far\", color=\"type\").update_layout(\n",
        "    xaxis_title=\"iteration\",\n",
        "    yaxis_title=\"Best error so far\",\n",
        ")"
      ]
    },
    {
      "cell_type": "markdown",
      "metadata": {
        "id": "N4DBayFoJEUF"
      },
      "source": [
        "#### Example Output\n",
        "\n",
        "![](https://github.com/sparks-baird/self-driving-lab-demo/blob/main/notebooks/mqtt-optimization-comparison.png?raw=1)"
      ]
    },
    {
      "cell_type": "markdown",
      "metadata": {
        "id": "mmn7Su6atJom"
      },
      "source": [
        "### Observed Points and Corresponding Errors\n",
        "\n",
        "Let's take a look at the points that were observed for each of the search algorithms. The axes correspond to red (R), green (G), and blue (B) input values, and the color corresponds to \"Fréchet distance\" (pronounced like freh-shay). Fréchet distance is a measure of how close the measured spectrum is to the target and\n",
        "should be considered simply as an error metric for this demo. Lower Fréchet distance is better,\n",
        "and zero Fréchet distance is perfect."
      ]
    },
    {
      "cell_type": "code",
      "execution_count": 7,
      "metadata": {
        "cellView": "form",
        "colab": {
          "base_uri": "https://localhost:8080/",
          "height": 542
        },
        "id": "v51-G9futJom",
        "outputId": "8e8c3bb7-be97-4c81-9389-fba49ec2656e"
      },
      "outputs": [
        {
          "data": {
            "text/html": [
              "<html>\n",
              "<head><meta charset=\"utf-8\" /></head>\n",
              "<body>\n",
              "    <div>            <script src=\"https://cdnjs.cloudflare.com/ajax/libs/mathjax/2.7.5/MathJax.js?config=TeX-AMS-MML_SVG\"></script><script type=\"text/javascript\">if (window.MathJax) {MathJax.Hub.Config({SVG: {font: \"STIX-Web\"}});}</script>                <script type=\"text/javascript\">window.PlotlyConfig = {MathJaxConfig: 'local'};</script>\n",
              "        <script src=\"https://cdn.plot.ly/plotly-2.8.3.min.js\"></script>                <div id=\"6ec29d22-ae14-4dfb-bd49-99a369fe6369\" class=\"plotly-graph-div\" style=\"height:525px; width:100%;\"></div>            <script type=\"text/javascript\">                                    window.PLOTLYENV=window.PLOTLYENV || {};                                    if (document.getElementById(\"6ec29d22-ae14-4dfb-bd49-99a369fe6369\")) {                    Plotly.newPlot(                        \"6ec29d22-ae14-4dfb-bd49-99a369fe6369\",                        [{\"hovertemplate\":\"R=%{x}<br>G=%{y}<br>B=%{z}<br>frechet=%{marker.color}<extra></extra>\",\"legendgroup\":\"\",\"marker\":{\"color\":[6657.0,2504.0,11139.0,6514.0,3337.0,11066.0,6299.0,5298.0,11021.0,6375.0,3202.0,11283.0,6232.0,4238.0,11227.0,7920.0,7917.0,11151.0,11970.0,11930.0,11794.0,11955.0,11915.0,11789.0,14144.0,14120.0,14128.0],\"coloraxis\":\"coloraxis\",\"symbol\":\"circle\"},\"mode\":\"markers\",\"name\":\"\",\"scene\":\"scene\",\"showlegend\":false,\"x\":[0,44,89,0,44,89,0,44,89,0,44,89,0,44,89,0,44,89,0,44,89,0,44,89,0,44,89],\"y\":[0,0,0,44,44,44,89,89,89,0,0,0,44,44,44,89,89,89,0,0,0,44,44,44,89,89,89],\"z\":[0,0,0,0,0,0,0,0,0,44,44,44,44,44,44,44,44,44,89,89,89,89,89,89,89,89,89],\"type\":\"scatter3d\"}],                        {\"template\":{\"data\":{\"bar\":[{\"error_x\":{\"color\":\"#2a3f5f\"},\"error_y\":{\"color\":\"#2a3f5f\"},\"marker\":{\"line\":{\"color\":\"#E5ECF6\",\"width\":0.5},\"pattern\":{\"fillmode\":\"overlay\",\"size\":10,\"solidity\":0.2}},\"type\":\"bar\"}],\"barpolar\":[{\"marker\":{\"line\":{\"color\":\"#E5ECF6\",\"width\":0.5},\"pattern\":{\"fillmode\":\"overlay\",\"size\":10,\"solidity\":0.2}},\"type\":\"barpolar\"}],\"carpet\":[{\"aaxis\":{\"endlinecolor\":\"#2a3f5f\",\"gridcolor\":\"white\",\"linecolor\":\"white\",\"minorgridcolor\":\"white\",\"startlinecolor\":\"#2a3f5f\"},\"baxis\":{\"endlinecolor\":\"#2a3f5f\",\"gridcolor\":\"white\",\"linecolor\":\"white\",\"minorgridcolor\":\"white\",\"startlinecolor\":\"#2a3f5f\"},\"type\":\"carpet\"}],\"choropleth\":[{\"colorbar\":{\"outlinewidth\":0,\"ticks\":\"\"},\"type\":\"choropleth\"}],\"contour\":[{\"colorbar\":{\"outlinewidth\":0,\"ticks\":\"\"},\"colorscale\":[[0.0,\"#0d0887\"],[0.1111111111111111,\"#46039f\"],[0.2222222222222222,\"#7201a8\"],[0.3333333333333333,\"#9c179e\"],[0.4444444444444444,\"#bd3786\"],[0.5555555555555556,\"#d8576b\"],[0.6666666666666666,\"#ed7953\"],[0.7777777777777778,\"#fb9f3a\"],[0.8888888888888888,\"#fdca26\"],[1.0,\"#f0f921\"]],\"type\":\"contour\"}],\"contourcarpet\":[{\"colorbar\":{\"outlinewidth\":0,\"ticks\":\"\"},\"type\":\"contourcarpet\"}],\"heatmap\":[{\"colorbar\":{\"outlinewidth\":0,\"ticks\":\"\"},\"colorscale\":[[0.0,\"#0d0887\"],[0.1111111111111111,\"#46039f\"],[0.2222222222222222,\"#7201a8\"],[0.3333333333333333,\"#9c179e\"],[0.4444444444444444,\"#bd3786\"],[0.5555555555555556,\"#d8576b\"],[0.6666666666666666,\"#ed7953\"],[0.7777777777777778,\"#fb9f3a\"],[0.8888888888888888,\"#fdca26\"],[1.0,\"#f0f921\"]],\"type\":\"heatmap\"}],\"heatmapgl\":[{\"colorbar\":{\"outlinewidth\":0,\"ticks\":\"\"},\"colorscale\":[[0.0,\"#0d0887\"],[0.1111111111111111,\"#46039f\"],[0.2222222222222222,\"#7201a8\"],[0.3333333333333333,\"#9c179e\"],[0.4444444444444444,\"#bd3786\"],[0.5555555555555556,\"#d8576b\"],[0.6666666666666666,\"#ed7953\"],[0.7777777777777778,\"#fb9f3a\"],[0.8888888888888888,\"#fdca26\"],[1.0,\"#f0f921\"]],\"type\":\"heatmapgl\"}],\"histogram\":[{\"marker\":{\"pattern\":{\"fillmode\":\"overlay\",\"size\":10,\"solidity\":0.2}},\"type\":\"histogram\"}],\"histogram2d\":[{\"colorbar\":{\"outlinewidth\":0,\"ticks\":\"\"},\"colorscale\":[[0.0,\"#0d0887\"],[0.1111111111111111,\"#46039f\"],[0.2222222222222222,\"#7201a8\"],[0.3333333333333333,\"#9c179e\"],[0.4444444444444444,\"#bd3786\"],[0.5555555555555556,\"#d8576b\"],[0.6666666666666666,\"#ed7953\"],[0.7777777777777778,\"#fb9f3a\"],[0.8888888888888888,\"#fdca26\"],[1.0,\"#f0f921\"]],\"type\":\"histogram2d\"}],\"histogram2dcontour\":[{\"colorbar\":{\"outlinewidth\":0,\"ticks\":\"\"},\"colorscale\":[[0.0,\"#0d0887\"],[0.1111111111111111,\"#46039f\"],[0.2222222222222222,\"#7201a8\"],[0.3333333333333333,\"#9c179e\"],[0.4444444444444444,\"#bd3786\"],[0.5555555555555556,\"#d8576b\"],[0.6666666666666666,\"#ed7953\"],[0.7777777777777778,\"#fb9f3a\"],[0.8888888888888888,\"#fdca26\"],[1.0,\"#f0f921\"]],\"type\":\"histogram2dcontour\"}],\"mesh3d\":[{\"colorbar\":{\"outlinewidth\":0,\"ticks\":\"\"},\"type\":\"mesh3d\"}],\"parcoords\":[{\"line\":{\"colorbar\":{\"outlinewidth\":0,\"ticks\":\"\"}},\"type\":\"parcoords\"}],\"pie\":[{\"automargin\":true,\"type\":\"pie\"}],\"scatter\":[{\"marker\":{\"colorbar\":{\"outlinewidth\":0,\"ticks\":\"\"}},\"type\":\"scatter\"}],\"scatter3d\":[{\"line\":{\"colorbar\":{\"outlinewidth\":0,\"ticks\":\"\"}},\"marker\":{\"colorbar\":{\"outlinewidth\":0,\"ticks\":\"\"}},\"type\":\"scatter3d\"}],\"scattercarpet\":[{\"marker\":{\"colorbar\":{\"outlinewidth\":0,\"ticks\":\"\"}},\"type\":\"scattercarpet\"}],\"scattergeo\":[{\"marker\":{\"colorbar\":{\"outlinewidth\":0,\"ticks\":\"\"}},\"type\":\"scattergeo\"}],\"scattergl\":[{\"marker\":{\"colorbar\":{\"outlinewidth\":0,\"ticks\":\"\"}},\"type\":\"scattergl\"}],\"scattermapbox\":[{\"marker\":{\"colorbar\":{\"outlinewidth\":0,\"ticks\":\"\"}},\"type\":\"scattermapbox\"}],\"scatterpolar\":[{\"marker\":{\"colorbar\":{\"outlinewidth\":0,\"ticks\":\"\"}},\"type\":\"scatterpolar\"}],\"scatterpolargl\":[{\"marker\":{\"colorbar\":{\"outlinewidth\":0,\"ticks\":\"\"}},\"type\":\"scatterpolargl\"}],\"scatterternary\":[{\"marker\":{\"colorbar\":{\"outlinewidth\":0,\"ticks\":\"\"}},\"type\":\"scatterternary\"}],\"surface\":[{\"colorbar\":{\"outlinewidth\":0,\"ticks\":\"\"},\"colorscale\":[[0.0,\"#0d0887\"],[0.1111111111111111,\"#46039f\"],[0.2222222222222222,\"#7201a8\"],[0.3333333333333333,\"#9c179e\"],[0.4444444444444444,\"#bd3786\"],[0.5555555555555556,\"#d8576b\"],[0.6666666666666666,\"#ed7953\"],[0.7777777777777778,\"#fb9f3a\"],[0.8888888888888888,\"#fdca26\"],[1.0,\"#f0f921\"]],\"type\":\"surface\"}],\"table\":[{\"cells\":{\"fill\":{\"color\":\"#EBF0F8\"},\"line\":{\"color\":\"white\"}},\"header\":{\"fill\":{\"color\":\"#C8D4E3\"},\"line\":{\"color\":\"white\"}},\"type\":\"table\"}]},\"layout\":{\"annotationdefaults\":{\"arrowcolor\":\"#2a3f5f\",\"arrowhead\":0,\"arrowwidth\":1},\"autotypenumbers\":\"strict\",\"coloraxis\":{\"colorbar\":{\"outlinewidth\":0,\"ticks\":\"\"}},\"colorscale\":{\"diverging\":[[0,\"#8e0152\"],[0.1,\"#c51b7d\"],[0.2,\"#de77ae\"],[0.3,\"#f1b6da\"],[0.4,\"#fde0ef\"],[0.5,\"#f7f7f7\"],[0.6,\"#e6f5d0\"],[0.7,\"#b8e186\"],[0.8,\"#7fbc41\"],[0.9,\"#4d9221\"],[1,\"#276419\"]],\"sequential\":[[0.0,\"#0d0887\"],[0.1111111111111111,\"#46039f\"],[0.2222222222222222,\"#7201a8\"],[0.3333333333333333,\"#9c179e\"],[0.4444444444444444,\"#bd3786\"],[0.5555555555555556,\"#d8576b\"],[0.6666666666666666,\"#ed7953\"],[0.7777777777777778,\"#fb9f3a\"],[0.8888888888888888,\"#fdca26\"],[1.0,\"#f0f921\"]],\"sequentialminus\":[[0.0,\"#0d0887\"],[0.1111111111111111,\"#46039f\"],[0.2222222222222222,\"#7201a8\"],[0.3333333333333333,\"#9c179e\"],[0.4444444444444444,\"#bd3786\"],[0.5555555555555556,\"#d8576b\"],[0.6666666666666666,\"#ed7953\"],[0.7777777777777778,\"#fb9f3a\"],[0.8888888888888888,\"#fdca26\"],[1.0,\"#f0f921\"]]},\"colorway\":[\"#636efa\",\"#EF553B\",\"#00cc96\",\"#ab63fa\",\"#FFA15A\",\"#19d3f3\",\"#FF6692\",\"#B6E880\",\"#FF97FF\",\"#FECB52\"],\"font\":{\"color\":\"#2a3f5f\"},\"geo\":{\"bgcolor\":\"white\",\"lakecolor\":\"white\",\"landcolor\":\"#E5ECF6\",\"showlakes\":true,\"showland\":true,\"subunitcolor\":\"white\"},\"hoverlabel\":{\"align\":\"left\"},\"hovermode\":\"closest\",\"mapbox\":{\"style\":\"light\"},\"paper_bgcolor\":\"white\",\"plot_bgcolor\":\"#E5ECF6\",\"polar\":{\"angularaxis\":{\"gridcolor\":\"white\",\"linecolor\":\"white\",\"ticks\":\"\"},\"bgcolor\":\"#E5ECF6\",\"radialaxis\":{\"gridcolor\":\"white\",\"linecolor\":\"white\",\"ticks\":\"\"}},\"scene\":{\"xaxis\":{\"backgroundcolor\":\"#E5ECF6\",\"gridcolor\":\"white\",\"gridwidth\":2,\"linecolor\":\"white\",\"showbackground\":true,\"ticks\":\"\",\"zerolinecolor\":\"white\"},\"yaxis\":{\"backgroundcolor\":\"#E5ECF6\",\"gridcolor\":\"white\",\"gridwidth\":2,\"linecolor\":\"white\",\"showbackground\":true,\"ticks\":\"\",\"zerolinecolor\":\"white\"},\"zaxis\":{\"backgroundcolor\":\"#E5ECF6\",\"gridcolor\":\"white\",\"gridwidth\":2,\"linecolor\":\"white\",\"showbackground\":true,\"ticks\":\"\",\"zerolinecolor\":\"white\"}},\"shapedefaults\":{\"line\":{\"color\":\"#2a3f5f\"}},\"ternary\":{\"aaxis\":{\"gridcolor\":\"white\",\"linecolor\":\"white\",\"ticks\":\"\"},\"baxis\":{\"gridcolor\":\"white\",\"linecolor\":\"white\",\"ticks\":\"\"},\"bgcolor\":\"#E5ECF6\",\"caxis\":{\"gridcolor\":\"white\",\"linecolor\":\"white\",\"ticks\":\"\"}},\"title\":{\"x\":0.05},\"xaxis\":{\"automargin\":true,\"gridcolor\":\"white\",\"linecolor\":\"white\",\"ticks\":\"\",\"title\":{\"standoff\":15},\"zerolinecolor\":\"white\",\"zerolinewidth\":2},\"yaxis\":{\"automargin\":true,\"gridcolor\":\"white\",\"linecolor\":\"white\",\"ticks\":\"\",\"title\":{\"standoff\":15},\"zerolinecolor\":\"white\",\"zerolinewidth\":2}}},\"scene\":{\"domain\":{\"x\":[0.0,1.0],\"y\":[0.0,1.0]},\"xaxis\":{\"title\":{\"text\":\"R\"}},\"yaxis\":{\"title\":{\"text\":\"G\"}},\"zaxis\":{\"title\":{\"text\":\"B\"}}},\"coloraxis\":{\"colorbar\":{\"title\":{\"text\":\"frechet\"}},\"colorscale\":[[0.0,\"#0d0887\"],[0.1111111111111111,\"#46039f\"],[0.2222222222222222,\"#7201a8\"],[0.3333333333333333,\"#9c179e\"],[0.4444444444444444,\"#bd3786\"],[0.5555555555555556,\"#d8576b\"],[0.6666666666666666,\"#ed7953\"],[0.7777777777777778,\"#fb9f3a\"],[0.8888888888888888,\"#fdca26\"],[1.0,\"#f0f921\"]]},\"legend\":{\"tracegroupgap\":0},\"title\":{\"text\":\"grid\"}},                        {\"responsive\": true}                    ).then(function(){\n",
              "                            \n",
              "var gd = document.getElementById('6ec29d22-ae14-4dfb-bd49-99a369fe6369');\n",
              "var x = new MutationObserver(function (mutations, observer) {{\n",
              "        var display = window.getComputedStyle(gd).display;\n",
              "        if (!display || display === 'none') {{\n",
              "            console.log([gd, 'removed!']);\n",
              "            Plotly.purge(gd);\n",
              "            observer.disconnect();\n",
              "        }}\n",
              "}});\n",
              "\n",
              "// Listen for the removal of the full notebook cells\n",
              "var notebookContainer = gd.closest('#notebook-container');\n",
              "if (notebookContainer) {{\n",
              "    x.observe(notebookContainer, {childList: true});\n",
              "}}\n",
              "\n",
              "// Listen for the clearing of the current output cell\n",
              "var outputEl = gd.closest('.output');\n",
              "if (outputEl) {{\n",
              "    x.observe(outputEl, {childList: true});\n",
              "}}\n",
              "\n",
              "                        })                };                            </script>        </div>\n",
              "</body>\n",
              "</html>"
            ]
          },
          "metadata": {},
          "output_type": "display_data"
        }
      ],
      "source": [
        "#@markdown Visualize the grid points that were used for searching.\n",
        "px.scatter_3d(grid_df, x=\"R\", y=\"G\", z=\"B\", color=\"frechet\", title=\"grid\")"
      ]
    },
    {
      "cell_type": "markdown",
      "metadata": {
        "id": "20EbNZ8IJEUG"
      },
      "source": [
        "#### Grid Example Output\n",
        "\n",
        "![](https://github.com/sparks-baird/self-driving-lab-demo/blob/main/notebooks/grid-observations.png?raw=1)"
      ]
    },
    {
      "cell_type": "code",
      "execution_count": 8,
      "metadata": {
        "cellView": "form",
        "colab": {
          "base_uri": "https://localhost:8080/",
          "height": 542
        },
        "id": "KLFyuvubtJom",
        "outputId": "a6f806b2-f96c-4023-887b-c882a1375eea"
      },
      "outputs": [
        {
          "data": {
            "text/html": [
              "<html>\n",
              "<head><meta charset=\"utf-8\" /></head>\n",
              "<body>\n",
              "    <div>            <script src=\"https://cdnjs.cloudflare.com/ajax/libs/mathjax/2.7.5/MathJax.js?config=TeX-AMS-MML_SVG\"></script><script type=\"text/javascript\">if (window.MathJax) {MathJax.Hub.Config({SVG: {font: \"STIX-Web\"}});}</script>                <script type=\"text/javascript\">window.PlotlyConfig = {MathJaxConfig: 'local'};</script>\n",
              "        <script src=\"https://cdn.plot.ly/plotly-2.8.3.min.js\"></script>                <div id=\"49ab0c86-8e6c-4b2f-96ed-6fa625d71167\" class=\"plotly-graph-div\" style=\"height:525px; width:100%;\"></div>            <script type=\"text/javascript\">                                    window.PLOTLYENV=window.PLOTLYENV || {};                                    if (document.getElementById(\"49ab0c86-8e6c-4b2f-96ed-6fa625d71167\")) {                    Plotly.newPlot(                        \"49ab0c86-8e6c-4b2f-96ed-6fa625d71167\",                        [{\"hovertemplate\":\"R=%{x}<br>G=%{y}<br>B=%{z}<br>frechet=%{marker.color}<extra></extra>\",\"legendgroup\":\"\",\"marker\":{\"color\":[8865.0,11358.0,6192.0,10447.0,6090.0,4756.0,8630.0,12735.0,6644.0,6434.0,5900.0,2219.0,5643.0,8176.0,8157.0,7238.0,4677.0,8446.0,6007.0,2300.0,5002.0,6361.0,2103.0,1241.0,8133.0,5180.0,8448.0],\"coloraxis\":\"coloraxis\",\"symbol\":\"circle\"},\"mode\":\"markers\",\"name\":\"\",\"scene\":\"scene\",\"showlegend\":false,\"x\":[69,62,68,40,57,20,74,32,69,4,66,33,12,60,62,72,61,1,63,51,60,68,50,39,76,25,50],\"y\":[39,8,70,33,73,49,56,87,17,14,86,42,42,39,28,35,12,70,70,12,42,57,27,19,21,26,70],\"z\":[77,87,11,83,40,6,68,80,42,61,29,17,20,74,74,26,18,59,41,10,50,49,3,36,5,59,59],\"type\":\"scatter3d\"}],                        {\"template\":{\"data\":{\"bar\":[{\"error_x\":{\"color\":\"#2a3f5f\"},\"error_y\":{\"color\":\"#2a3f5f\"},\"marker\":{\"line\":{\"color\":\"#E5ECF6\",\"width\":0.5},\"pattern\":{\"fillmode\":\"overlay\",\"size\":10,\"solidity\":0.2}},\"type\":\"bar\"}],\"barpolar\":[{\"marker\":{\"line\":{\"color\":\"#E5ECF6\",\"width\":0.5},\"pattern\":{\"fillmode\":\"overlay\",\"size\":10,\"solidity\":0.2}},\"type\":\"barpolar\"}],\"carpet\":[{\"aaxis\":{\"endlinecolor\":\"#2a3f5f\",\"gridcolor\":\"white\",\"linecolor\":\"white\",\"minorgridcolor\":\"white\",\"startlinecolor\":\"#2a3f5f\"},\"baxis\":{\"endlinecolor\":\"#2a3f5f\",\"gridcolor\":\"white\",\"linecolor\":\"white\",\"minorgridcolor\":\"white\",\"startlinecolor\":\"#2a3f5f\"},\"type\":\"carpet\"}],\"choropleth\":[{\"colorbar\":{\"outlinewidth\":0,\"ticks\":\"\"},\"type\":\"choropleth\"}],\"contour\":[{\"colorbar\":{\"outlinewidth\":0,\"ticks\":\"\"},\"colorscale\":[[0.0,\"#0d0887\"],[0.1111111111111111,\"#46039f\"],[0.2222222222222222,\"#7201a8\"],[0.3333333333333333,\"#9c179e\"],[0.4444444444444444,\"#bd3786\"],[0.5555555555555556,\"#d8576b\"],[0.6666666666666666,\"#ed7953\"],[0.7777777777777778,\"#fb9f3a\"],[0.8888888888888888,\"#fdca26\"],[1.0,\"#f0f921\"]],\"type\":\"contour\"}],\"contourcarpet\":[{\"colorbar\":{\"outlinewidth\":0,\"ticks\":\"\"},\"type\":\"contourcarpet\"}],\"heatmap\":[{\"colorbar\":{\"outlinewidth\":0,\"ticks\":\"\"},\"colorscale\":[[0.0,\"#0d0887\"],[0.1111111111111111,\"#46039f\"],[0.2222222222222222,\"#7201a8\"],[0.3333333333333333,\"#9c179e\"],[0.4444444444444444,\"#bd3786\"],[0.5555555555555556,\"#d8576b\"],[0.6666666666666666,\"#ed7953\"],[0.7777777777777778,\"#fb9f3a\"],[0.8888888888888888,\"#fdca26\"],[1.0,\"#f0f921\"]],\"type\":\"heatmap\"}],\"heatmapgl\":[{\"colorbar\":{\"outlinewidth\":0,\"ticks\":\"\"},\"colorscale\":[[0.0,\"#0d0887\"],[0.1111111111111111,\"#46039f\"],[0.2222222222222222,\"#7201a8\"],[0.3333333333333333,\"#9c179e\"],[0.4444444444444444,\"#bd3786\"],[0.5555555555555556,\"#d8576b\"],[0.6666666666666666,\"#ed7953\"],[0.7777777777777778,\"#fb9f3a\"],[0.8888888888888888,\"#fdca26\"],[1.0,\"#f0f921\"]],\"type\":\"heatmapgl\"}],\"histogram\":[{\"marker\":{\"pattern\":{\"fillmode\":\"overlay\",\"size\":10,\"solidity\":0.2}},\"type\":\"histogram\"}],\"histogram2d\":[{\"colorbar\":{\"outlinewidth\":0,\"ticks\":\"\"},\"colorscale\":[[0.0,\"#0d0887\"],[0.1111111111111111,\"#46039f\"],[0.2222222222222222,\"#7201a8\"],[0.3333333333333333,\"#9c179e\"],[0.4444444444444444,\"#bd3786\"],[0.5555555555555556,\"#d8576b\"],[0.6666666666666666,\"#ed7953\"],[0.7777777777777778,\"#fb9f3a\"],[0.8888888888888888,\"#fdca26\"],[1.0,\"#f0f921\"]],\"type\":\"histogram2d\"}],\"histogram2dcontour\":[{\"colorbar\":{\"outlinewidth\":0,\"ticks\":\"\"},\"colorscale\":[[0.0,\"#0d0887\"],[0.1111111111111111,\"#46039f\"],[0.2222222222222222,\"#7201a8\"],[0.3333333333333333,\"#9c179e\"],[0.4444444444444444,\"#bd3786\"],[0.5555555555555556,\"#d8576b\"],[0.6666666666666666,\"#ed7953\"],[0.7777777777777778,\"#fb9f3a\"],[0.8888888888888888,\"#fdca26\"],[1.0,\"#f0f921\"]],\"type\":\"histogram2dcontour\"}],\"mesh3d\":[{\"colorbar\":{\"outlinewidth\":0,\"ticks\":\"\"},\"type\":\"mesh3d\"}],\"parcoords\":[{\"line\":{\"colorbar\":{\"outlinewidth\":0,\"ticks\":\"\"}},\"type\":\"parcoords\"}],\"pie\":[{\"automargin\":true,\"type\":\"pie\"}],\"scatter\":[{\"marker\":{\"colorbar\":{\"outlinewidth\":0,\"ticks\":\"\"}},\"type\":\"scatter\"}],\"scatter3d\":[{\"line\":{\"colorbar\":{\"outlinewidth\":0,\"ticks\":\"\"}},\"marker\":{\"colorbar\":{\"outlinewidth\":0,\"ticks\":\"\"}},\"type\":\"scatter3d\"}],\"scattercarpet\":[{\"marker\":{\"colorbar\":{\"outlinewidth\":0,\"ticks\":\"\"}},\"type\":\"scattercarpet\"}],\"scattergeo\":[{\"marker\":{\"colorbar\":{\"outlinewidth\":0,\"ticks\":\"\"}},\"type\":\"scattergeo\"}],\"scattergl\":[{\"marker\":{\"colorbar\":{\"outlinewidth\":0,\"ticks\":\"\"}},\"type\":\"scattergl\"}],\"scattermapbox\":[{\"marker\":{\"colorbar\":{\"outlinewidth\":0,\"ticks\":\"\"}},\"type\":\"scattermapbox\"}],\"scatterpolar\":[{\"marker\":{\"colorbar\":{\"outlinewidth\":0,\"ticks\":\"\"}},\"type\":\"scatterpolar\"}],\"scatterpolargl\":[{\"marker\":{\"colorbar\":{\"outlinewidth\":0,\"ticks\":\"\"}},\"type\":\"scatterpolargl\"}],\"scatterternary\":[{\"marker\":{\"colorbar\":{\"outlinewidth\":0,\"ticks\":\"\"}},\"type\":\"scatterternary\"}],\"surface\":[{\"colorbar\":{\"outlinewidth\":0,\"ticks\":\"\"},\"colorscale\":[[0.0,\"#0d0887\"],[0.1111111111111111,\"#46039f\"],[0.2222222222222222,\"#7201a8\"],[0.3333333333333333,\"#9c179e\"],[0.4444444444444444,\"#bd3786\"],[0.5555555555555556,\"#d8576b\"],[0.6666666666666666,\"#ed7953\"],[0.7777777777777778,\"#fb9f3a\"],[0.8888888888888888,\"#fdca26\"],[1.0,\"#f0f921\"]],\"type\":\"surface\"}],\"table\":[{\"cells\":{\"fill\":{\"color\":\"#EBF0F8\"},\"line\":{\"color\":\"white\"}},\"header\":{\"fill\":{\"color\":\"#C8D4E3\"},\"line\":{\"color\":\"white\"}},\"type\":\"table\"}]},\"layout\":{\"annotationdefaults\":{\"arrowcolor\":\"#2a3f5f\",\"arrowhead\":0,\"arrowwidth\":1},\"autotypenumbers\":\"strict\",\"coloraxis\":{\"colorbar\":{\"outlinewidth\":0,\"ticks\":\"\"}},\"colorscale\":{\"diverging\":[[0,\"#8e0152\"],[0.1,\"#c51b7d\"],[0.2,\"#de77ae\"],[0.3,\"#f1b6da\"],[0.4,\"#fde0ef\"],[0.5,\"#f7f7f7\"],[0.6,\"#e6f5d0\"],[0.7,\"#b8e186\"],[0.8,\"#7fbc41\"],[0.9,\"#4d9221\"],[1,\"#276419\"]],\"sequential\":[[0.0,\"#0d0887\"],[0.1111111111111111,\"#46039f\"],[0.2222222222222222,\"#7201a8\"],[0.3333333333333333,\"#9c179e\"],[0.4444444444444444,\"#bd3786\"],[0.5555555555555556,\"#d8576b\"],[0.6666666666666666,\"#ed7953\"],[0.7777777777777778,\"#fb9f3a\"],[0.8888888888888888,\"#fdca26\"],[1.0,\"#f0f921\"]],\"sequentialminus\":[[0.0,\"#0d0887\"],[0.1111111111111111,\"#46039f\"],[0.2222222222222222,\"#7201a8\"],[0.3333333333333333,\"#9c179e\"],[0.4444444444444444,\"#bd3786\"],[0.5555555555555556,\"#d8576b\"],[0.6666666666666666,\"#ed7953\"],[0.7777777777777778,\"#fb9f3a\"],[0.8888888888888888,\"#fdca26\"],[1.0,\"#f0f921\"]]},\"colorway\":[\"#636efa\",\"#EF553B\",\"#00cc96\",\"#ab63fa\",\"#FFA15A\",\"#19d3f3\",\"#FF6692\",\"#B6E880\",\"#FF97FF\",\"#FECB52\"],\"font\":{\"color\":\"#2a3f5f\"},\"geo\":{\"bgcolor\":\"white\",\"lakecolor\":\"white\",\"landcolor\":\"#E5ECF6\",\"showlakes\":true,\"showland\":true,\"subunitcolor\":\"white\"},\"hoverlabel\":{\"align\":\"left\"},\"hovermode\":\"closest\",\"mapbox\":{\"style\":\"light\"},\"paper_bgcolor\":\"white\",\"plot_bgcolor\":\"#E5ECF6\",\"polar\":{\"angularaxis\":{\"gridcolor\":\"white\",\"linecolor\":\"white\",\"ticks\":\"\"},\"bgcolor\":\"#E5ECF6\",\"radialaxis\":{\"gridcolor\":\"white\",\"linecolor\":\"white\",\"ticks\":\"\"}},\"scene\":{\"xaxis\":{\"backgroundcolor\":\"#E5ECF6\",\"gridcolor\":\"white\",\"gridwidth\":2,\"linecolor\":\"white\",\"showbackground\":true,\"ticks\":\"\",\"zerolinecolor\":\"white\"},\"yaxis\":{\"backgroundcolor\":\"#E5ECF6\",\"gridcolor\":\"white\",\"gridwidth\":2,\"linecolor\":\"white\",\"showbackground\":true,\"ticks\":\"\",\"zerolinecolor\":\"white\"},\"zaxis\":{\"backgroundcolor\":\"#E5ECF6\",\"gridcolor\":\"white\",\"gridwidth\":2,\"linecolor\":\"white\",\"showbackground\":true,\"ticks\":\"\",\"zerolinecolor\":\"white\"}},\"shapedefaults\":{\"line\":{\"color\":\"#2a3f5f\"}},\"ternary\":{\"aaxis\":{\"gridcolor\":\"white\",\"linecolor\":\"white\",\"ticks\":\"\"},\"baxis\":{\"gridcolor\":\"white\",\"linecolor\":\"white\",\"ticks\":\"\"},\"bgcolor\":\"#E5ECF6\",\"caxis\":{\"gridcolor\":\"white\",\"linecolor\":\"white\",\"ticks\":\"\"}},\"title\":{\"x\":0.05},\"xaxis\":{\"automargin\":true,\"gridcolor\":\"white\",\"linecolor\":\"white\",\"ticks\":\"\",\"title\":{\"standoff\":15},\"zerolinecolor\":\"white\",\"zerolinewidth\":2},\"yaxis\":{\"automargin\":true,\"gridcolor\":\"white\",\"linecolor\":\"white\",\"ticks\":\"\",\"title\":{\"standoff\":15},\"zerolinecolor\":\"white\",\"zerolinewidth\":2}}},\"scene\":{\"domain\":{\"x\":[0.0,1.0],\"y\":[0.0,1.0]},\"xaxis\":{\"title\":{\"text\":\"R\"}},\"yaxis\":{\"title\":{\"text\":\"G\"}},\"zaxis\":{\"title\":{\"text\":\"B\"}}},\"coloraxis\":{\"colorbar\":{\"title\":{\"text\":\"frechet\"}},\"colorscale\":[[0.0,\"#0d0887\"],[0.1111111111111111,\"#46039f\"],[0.2222222222222222,\"#7201a8\"],[0.3333333333333333,\"#9c179e\"],[0.4444444444444444,\"#bd3786\"],[0.5555555555555556,\"#d8576b\"],[0.6666666666666666,\"#ed7953\"],[0.7777777777777778,\"#fb9f3a\"],[0.8888888888888888,\"#fdca26\"],[1.0,\"#f0f921\"]]},\"legend\":{\"tracegroupgap\":0},\"title\":{\"text\":\"random\"}},                        {\"responsive\": true}                    ).then(function(){\n",
              "                            \n",
              "var gd = document.getElementById('49ab0c86-8e6c-4b2f-96ed-6fa625d71167');\n",
              "var x = new MutationObserver(function (mutations, observer) {{\n",
              "        var display = window.getComputedStyle(gd).display;\n",
              "        if (!display || display === 'none') {{\n",
              "            console.log([gd, 'removed!']);\n",
              "            Plotly.purge(gd);\n",
              "            observer.disconnect();\n",
              "        }}\n",
              "}});\n",
              "\n",
              "// Listen for the removal of the full notebook cells\n",
              "var notebookContainer = gd.closest('#notebook-container');\n",
              "if (notebookContainer) {{\n",
              "    x.observe(notebookContainer, {childList: true});\n",
              "}}\n",
              "\n",
              "// Listen for the clearing of the current output cell\n",
              "var outputEl = gd.closest('.output');\n",
              "if (outputEl) {{\n",
              "    x.observe(outputEl, {childList: true});\n",
              "}}\n",
              "\n",
              "                        })                };                            </script>        </div>\n",
              "</body>\n",
              "</html>"
            ]
          },
          "metadata": {},
          "output_type": "display_data"
        }
      ],
      "source": [
        "#@markdown Visualize the random points that were used for searching.\n",
        "px.scatter_3d(random_df, x=\"R\", y=\"G\", z=\"B\", color=\"frechet\", title=\"random\")"
      ]
    },
    {
      "cell_type": "markdown",
      "metadata": {
        "id": "l-N_jgNxJEUH"
      },
      "source": [
        "#### Random Example Output\n",
        "\n",
        "![](https://github.com/sparks-baird/self-driving-lab-demo/blob/main/notebooks/random-observations.png?raw=1)"
      ]
    },
    {
      "cell_type": "code",
      "execution_count": 9,
      "metadata": {
        "cellView": "form",
        "colab": {
          "base_uri": "https://localhost:8080/",
          "height": 542
        },
        "id": "jP1tAFzytJon",
        "outputId": "c42efd11-aa74-457d-a7d7-bcd64f25014f"
      },
      "outputs": [
        {
          "data": {
            "text/html": [
              "<html>\n",
              "<head><meta charset=\"utf-8\" /></head>\n",
              "<body>\n",
              "    <div>            <script src=\"https://cdnjs.cloudflare.com/ajax/libs/mathjax/2.7.5/MathJax.js?config=TeX-AMS-MML_SVG\"></script><script type=\"text/javascript\">if (window.MathJax) {MathJax.Hub.Config({SVG: {font: \"STIX-Web\"}});}</script>                <script type=\"text/javascript\">window.PlotlyConfig = {MathJaxConfig: 'local'};</script>\n",
              "        <script src=\"https://cdn.plot.ly/plotly-2.8.3.min.js\"></script>                <div id=\"e7696ce9-29d9-4f14-a672-01d93141923c\" class=\"plotly-graph-div\" style=\"height:525px; width:100%;\"></div>            <script type=\"text/javascript\">                                    window.PLOTLYENV=window.PLOTLYENV || {};                                    if (document.getElementById(\"e7696ce9-29d9-4f14-a672-01d93141923c\")) {                    Plotly.newPlot(                        \"e7696ce9-29d9-4f14-a672-01d93141923c\",                        [{\"hovertemplate\":\"R=%{x}<br>G=%{y}<br>B=%{z}<br>frechet=%{marker.color}<extra></extra>\",\"legendgroup\":\"\",\"marker\":{\"color\":[6186.0,5382.0,8513.0,6106.0,9136.0,6834.0,2486.0,1580.0,2365.0,2107.0,2201.0,2518.0,1818.0,2226.0,2661.0,2489.0,1913.0,2105.0,1616.0,1677.0,1796.0,5357.0,1921.0,2269.0,2059.0,460.0,791.0],\"coloraxis\":\"coloraxis\",\"symbol\":\"circle\"},\"mode\":\"markers\",\"name\":\"\",\"scene\":\"scene\",\"showlegend\":false,\"x\":[3,58,5,6,80,9,37,34,31,41,32,30,39,38,37,40,34,36,42,38,47,52,42,42,48,40,44],\"y\":[2,4,16,54,33,77,0,0,0,0,9,0,18,12,44,0,20,0,24,23,25,89,19,28,15,0,0],\"z\":[48,55,75,13,33,43,41,26,6,19,22,23,6,20,0,0,0,19,0,0,0,0,0,7,0,29,31],\"type\":\"scatter3d\"}],                        {\"template\":{\"data\":{\"bar\":[{\"error_x\":{\"color\":\"#2a3f5f\"},\"error_y\":{\"color\":\"#2a3f5f\"},\"marker\":{\"line\":{\"color\":\"#E5ECF6\",\"width\":0.5},\"pattern\":{\"fillmode\":\"overlay\",\"size\":10,\"solidity\":0.2}},\"type\":\"bar\"}],\"barpolar\":[{\"marker\":{\"line\":{\"color\":\"#E5ECF6\",\"width\":0.5},\"pattern\":{\"fillmode\":\"overlay\",\"size\":10,\"solidity\":0.2}},\"type\":\"barpolar\"}],\"carpet\":[{\"aaxis\":{\"endlinecolor\":\"#2a3f5f\",\"gridcolor\":\"white\",\"linecolor\":\"white\",\"minorgridcolor\":\"white\",\"startlinecolor\":\"#2a3f5f\"},\"baxis\":{\"endlinecolor\":\"#2a3f5f\",\"gridcolor\":\"white\",\"linecolor\":\"white\",\"minorgridcolor\":\"white\",\"startlinecolor\":\"#2a3f5f\"},\"type\":\"carpet\"}],\"choropleth\":[{\"colorbar\":{\"outlinewidth\":0,\"ticks\":\"\"},\"type\":\"choropleth\"}],\"contour\":[{\"colorbar\":{\"outlinewidth\":0,\"ticks\":\"\"},\"colorscale\":[[0.0,\"#0d0887\"],[0.1111111111111111,\"#46039f\"],[0.2222222222222222,\"#7201a8\"],[0.3333333333333333,\"#9c179e\"],[0.4444444444444444,\"#bd3786\"],[0.5555555555555556,\"#d8576b\"],[0.6666666666666666,\"#ed7953\"],[0.7777777777777778,\"#fb9f3a\"],[0.8888888888888888,\"#fdca26\"],[1.0,\"#f0f921\"]],\"type\":\"contour\"}],\"contourcarpet\":[{\"colorbar\":{\"outlinewidth\":0,\"ticks\":\"\"},\"type\":\"contourcarpet\"}],\"heatmap\":[{\"colorbar\":{\"outlinewidth\":0,\"ticks\":\"\"},\"colorscale\":[[0.0,\"#0d0887\"],[0.1111111111111111,\"#46039f\"],[0.2222222222222222,\"#7201a8\"],[0.3333333333333333,\"#9c179e\"],[0.4444444444444444,\"#bd3786\"],[0.5555555555555556,\"#d8576b\"],[0.6666666666666666,\"#ed7953\"],[0.7777777777777778,\"#fb9f3a\"],[0.8888888888888888,\"#fdca26\"],[1.0,\"#f0f921\"]],\"type\":\"heatmap\"}],\"heatmapgl\":[{\"colorbar\":{\"outlinewidth\":0,\"ticks\":\"\"},\"colorscale\":[[0.0,\"#0d0887\"],[0.1111111111111111,\"#46039f\"],[0.2222222222222222,\"#7201a8\"],[0.3333333333333333,\"#9c179e\"],[0.4444444444444444,\"#bd3786\"],[0.5555555555555556,\"#d8576b\"],[0.6666666666666666,\"#ed7953\"],[0.7777777777777778,\"#fb9f3a\"],[0.8888888888888888,\"#fdca26\"],[1.0,\"#f0f921\"]],\"type\":\"heatmapgl\"}],\"histogram\":[{\"marker\":{\"pattern\":{\"fillmode\":\"overlay\",\"size\":10,\"solidity\":0.2}},\"type\":\"histogram\"}],\"histogram2d\":[{\"colorbar\":{\"outlinewidth\":0,\"ticks\":\"\"},\"colorscale\":[[0.0,\"#0d0887\"],[0.1111111111111111,\"#46039f\"],[0.2222222222222222,\"#7201a8\"],[0.3333333333333333,\"#9c179e\"],[0.4444444444444444,\"#bd3786\"],[0.5555555555555556,\"#d8576b\"],[0.6666666666666666,\"#ed7953\"],[0.7777777777777778,\"#fb9f3a\"],[0.8888888888888888,\"#fdca26\"],[1.0,\"#f0f921\"]],\"type\":\"histogram2d\"}],\"histogram2dcontour\":[{\"colorbar\":{\"outlinewidth\":0,\"ticks\":\"\"},\"colorscale\":[[0.0,\"#0d0887\"],[0.1111111111111111,\"#46039f\"],[0.2222222222222222,\"#7201a8\"],[0.3333333333333333,\"#9c179e\"],[0.4444444444444444,\"#bd3786\"],[0.5555555555555556,\"#d8576b\"],[0.6666666666666666,\"#ed7953\"],[0.7777777777777778,\"#fb9f3a\"],[0.8888888888888888,\"#fdca26\"],[1.0,\"#f0f921\"]],\"type\":\"histogram2dcontour\"}],\"mesh3d\":[{\"colorbar\":{\"outlinewidth\":0,\"ticks\":\"\"},\"type\":\"mesh3d\"}],\"parcoords\":[{\"line\":{\"colorbar\":{\"outlinewidth\":0,\"ticks\":\"\"}},\"type\":\"parcoords\"}],\"pie\":[{\"automargin\":true,\"type\":\"pie\"}],\"scatter\":[{\"marker\":{\"colorbar\":{\"outlinewidth\":0,\"ticks\":\"\"}},\"type\":\"scatter\"}],\"scatter3d\":[{\"line\":{\"colorbar\":{\"outlinewidth\":0,\"ticks\":\"\"}},\"marker\":{\"colorbar\":{\"outlinewidth\":0,\"ticks\":\"\"}},\"type\":\"scatter3d\"}],\"scattercarpet\":[{\"marker\":{\"colorbar\":{\"outlinewidth\":0,\"ticks\":\"\"}},\"type\":\"scattercarpet\"}],\"scattergeo\":[{\"marker\":{\"colorbar\":{\"outlinewidth\":0,\"ticks\":\"\"}},\"type\":\"scattergeo\"}],\"scattergl\":[{\"marker\":{\"colorbar\":{\"outlinewidth\":0,\"ticks\":\"\"}},\"type\":\"scattergl\"}],\"scattermapbox\":[{\"marker\":{\"colorbar\":{\"outlinewidth\":0,\"ticks\":\"\"}},\"type\":\"scattermapbox\"}],\"scatterpolar\":[{\"marker\":{\"colorbar\":{\"outlinewidth\":0,\"ticks\":\"\"}},\"type\":\"scatterpolar\"}],\"scatterpolargl\":[{\"marker\":{\"colorbar\":{\"outlinewidth\":0,\"ticks\":\"\"}},\"type\":\"scatterpolargl\"}],\"scatterternary\":[{\"marker\":{\"colorbar\":{\"outlinewidth\":0,\"ticks\":\"\"}},\"type\":\"scatterternary\"}],\"surface\":[{\"colorbar\":{\"outlinewidth\":0,\"ticks\":\"\"},\"colorscale\":[[0.0,\"#0d0887\"],[0.1111111111111111,\"#46039f\"],[0.2222222222222222,\"#7201a8\"],[0.3333333333333333,\"#9c179e\"],[0.4444444444444444,\"#bd3786\"],[0.5555555555555556,\"#d8576b\"],[0.6666666666666666,\"#ed7953\"],[0.7777777777777778,\"#fb9f3a\"],[0.8888888888888888,\"#fdca26\"],[1.0,\"#f0f921\"]],\"type\":\"surface\"}],\"table\":[{\"cells\":{\"fill\":{\"color\":\"#EBF0F8\"},\"line\":{\"color\":\"white\"}},\"header\":{\"fill\":{\"color\":\"#C8D4E3\"},\"line\":{\"color\":\"white\"}},\"type\":\"table\"}]},\"layout\":{\"annotationdefaults\":{\"arrowcolor\":\"#2a3f5f\",\"arrowhead\":0,\"arrowwidth\":1},\"autotypenumbers\":\"strict\",\"coloraxis\":{\"colorbar\":{\"outlinewidth\":0,\"ticks\":\"\"}},\"colorscale\":{\"diverging\":[[0,\"#8e0152\"],[0.1,\"#c51b7d\"],[0.2,\"#de77ae\"],[0.3,\"#f1b6da\"],[0.4,\"#fde0ef\"],[0.5,\"#f7f7f7\"],[0.6,\"#e6f5d0\"],[0.7,\"#b8e186\"],[0.8,\"#7fbc41\"],[0.9,\"#4d9221\"],[1,\"#276419\"]],\"sequential\":[[0.0,\"#0d0887\"],[0.1111111111111111,\"#46039f\"],[0.2222222222222222,\"#7201a8\"],[0.3333333333333333,\"#9c179e\"],[0.4444444444444444,\"#bd3786\"],[0.5555555555555556,\"#d8576b\"],[0.6666666666666666,\"#ed7953\"],[0.7777777777777778,\"#fb9f3a\"],[0.8888888888888888,\"#fdca26\"],[1.0,\"#f0f921\"]],\"sequentialminus\":[[0.0,\"#0d0887\"],[0.1111111111111111,\"#46039f\"],[0.2222222222222222,\"#7201a8\"],[0.3333333333333333,\"#9c179e\"],[0.4444444444444444,\"#bd3786\"],[0.5555555555555556,\"#d8576b\"],[0.6666666666666666,\"#ed7953\"],[0.7777777777777778,\"#fb9f3a\"],[0.8888888888888888,\"#fdca26\"],[1.0,\"#f0f921\"]]},\"colorway\":[\"#636efa\",\"#EF553B\",\"#00cc96\",\"#ab63fa\",\"#FFA15A\",\"#19d3f3\",\"#FF6692\",\"#B6E880\",\"#FF97FF\",\"#FECB52\"],\"font\":{\"color\":\"#2a3f5f\"},\"geo\":{\"bgcolor\":\"white\",\"lakecolor\":\"white\",\"landcolor\":\"#E5ECF6\",\"showlakes\":true,\"showland\":true,\"subunitcolor\":\"white\"},\"hoverlabel\":{\"align\":\"left\"},\"hovermode\":\"closest\",\"mapbox\":{\"style\":\"light\"},\"paper_bgcolor\":\"white\",\"plot_bgcolor\":\"#E5ECF6\",\"polar\":{\"angularaxis\":{\"gridcolor\":\"white\",\"linecolor\":\"white\",\"ticks\":\"\"},\"bgcolor\":\"#E5ECF6\",\"radialaxis\":{\"gridcolor\":\"white\",\"linecolor\":\"white\",\"ticks\":\"\"}},\"scene\":{\"xaxis\":{\"backgroundcolor\":\"#E5ECF6\",\"gridcolor\":\"white\",\"gridwidth\":2,\"linecolor\":\"white\",\"showbackground\":true,\"ticks\":\"\",\"zerolinecolor\":\"white\"},\"yaxis\":{\"backgroundcolor\":\"#E5ECF6\",\"gridcolor\":\"white\",\"gridwidth\":2,\"linecolor\":\"white\",\"showbackground\":true,\"ticks\":\"\",\"zerolinecolor\":\"white\"},\"zaxis\":{\"backgroundcolor\":\"#E5ECF6\",\"gridcolor\":\"white\",\"gridwidth\":2,\"linecolor\":\"white\",\"showbackground\":true,\"ticks\":\"\",\"zerolinecolor\":\"white\"}},\"shapedefaults\":{\"line\":{\"color\":\"#2a3f5f\"}},\"ternary\":{\"aaxis\":{\"gridcolor\":\"white\",\"linecolor\":\"white\",\"ticks\":\"\"},\"baxis\":{\"gridcolor\":\"white\",\"linecolor\":\"white\",\"ticks\":\"\"},\"bgcolor\":\"#E5ECF6\",\"caxis\":{\"gridcolor\":\"white\",\"linecolor\":\"white\",\"ticks\":\"\"}},\"title\":{\"x\":0.05},\"xaxis\":{\"automargin\":true,\"gridcolor\":\"white\",\"linecolor\":\"white\",\"ticks\":\"\",\"title\":{\"standoff\":15},\"zerolinecolor\":\"white\",\"zerolinewidth\":2},\"yaxis\":{\"automargin\":true,\"gridcolor\":\"white\",\"linecolor\":\"white\",\"ticks\":\"\",\"title\":{\"standoff\":15},\"zerolinecolor\":\"white\",\"zerolinewidth\":2}}},\"scene\":{\"domain\":{\"x\":[0.0,1.0],\"y\":[0.0,1.0]},\"xaxis\":{\"title\":{\"text\":\"R\"}},\"yaxis\":{\"title\":{\"text\":\"G\"}},\"zaxis\":{\"title\":{\"text\":\"B\"}}},\"coloraxis\":{\"colorbar\":{\"title\":{\"text\":\"frechet\"}},\"colorscale\":[[0.0,\"#0d0887\"],[0.1111111111111111,\"#46039f\"],[0.2222222222222222,\"#7201a8\"],[0.3333333333333333,\"#9c179e\"],[0.4444444444444444,\"#bd3786\"],[0.5555555555555556,\"#d8576b\"],[0.6666666666666666,\"#ed7953\"],[0.7777777777777778,\"#fb9f3a\"],[0.8888888888888888,\"#fdca26\"],[1.0,\"#f0f921\"]]},\"legend\":{\"tracegroupgap\":0},\"title\":{\"text\":\"Bayesian\"}},                        {\"responsive\": true}                    ).then(function(){\n",
              "                            \n",
              "var gd = document.getElementById('e7696ce9-29d9-4f14-a672-01d93141923c');\n",
              "var x = new MutationObserver(function (mutations, observer) {{\n",
              "        var display = window.getComputedStyle(gd).display;\n",
              "        if (!display || display === 'none') {{\n",
              "            console.log([gd, 'removed!']);\n",
              "            Plotly.purge(gd);\n",
              "            observer.disconnect();\n",
              "        }}\n",
              "}});\n",
              "\n",
              "// Listen for the removal of the full notebook cells\n",
              "var notebookContainer = gd.closest('#notebook-container');\n",
              "if (notebookContainer) {{\n",
              "    x.observe(notebookContainer, {childList: true});\n",
              "}}\n",
              "\n",
              "// Listen for the clearing of the current output cell\n",
              "var outputEl = gd.closest('.output');\n",
              "if (outputEl) {{\n",
              "    x.observe(outputEl, {childList: true});\n",
              "}}\n",
              "\n",
              "                        })                };                            </script>        </div>\n",
              "</body>\n",
              "</html>"
            ]
          },
          "metadata": {},
          "output_type": "display_data"
        }
      ],
      "source": [
        "#@markdown Visualize the points that were explored during Bayesian optimization.\n",
        "px.scatter_3d(bayes_df, x=\"R\", y=\"G\", z=\"B\", color=\"frechet\", title=\"Bayesian\")"
      ]
    },
    {
      "cell_type": "markdown",
      "metadata": {
        "id": "tPZaMpNYJEUH"
      },
      "source": [
        "#### Bayesian Example Output\n",
        "\n",
        "![](https://github.com/sparks-baird/self-driving-lab-demo/blob/main/notebooks/bayesian-observations.png?raw=1)"
      ]
    },
    {
      "cell_type": "code",
      "execution_count": 10,
      "metadata": {
        "cellView": "form",
        "colab": {
          "base_uri": "https://localhost:8080/",
          "height": 542
        },
        "id": "0r_CdGjmtJoo",
        "outputId": "69db69d7-2aab-4153-98bc-154e53f1d6f2"
      },
      "outputs": [
        {
          "data": {
            "text/html": [
              "<html>\n",
              "<head><meta charset=\"utf-8\" /></head>\n",
              "<body>\n",
              "    <div>            <script src=\"https://cdnjs.cloudflare.com/ajax/libs/mathjax/2.7.5/MathJax.js?config=TeX-AMS-MML_SVG\"></script><script type=\"text/javascript\">if (window.MathJax) {MathJax.Hub.Config({SVG: {font: \"STIX-Web\"}});}</script>                <script type=\"text/javascript\">window.PlotlyConfig = {MathJaxConfig: 'local'};</script>\n",
              "        <script src=\"https://cdn.plot.ly/plotly-2.8.3.min.js\"></script>                <div id=\"a16dd9fa-94a5-4b05-9f24-6466078502de\" class=\"plotly-graph-div\" style=\"height:525px; width:100%;\"></div>            <script type=\"text/javascript\">                                    window.PLOTLYENV=window.PLOTLYENV || {};                                    if (document.getElementById(\"a16dd9fa-94a5-4b05-9f24-6466078502de\")) {                    Plotly.newPlot(                        \"a16dd9fa-94a5-4b05-9f24-6466078502de\",                        [{\"hovertemplate\":\"type=grid<br>marker=observed<br>R=%{x}<br>G=%{y}<br>B=%{z}<extra></extra>\",\"legendgroup\":\"grid, observed\",\"marker\":{\"color\":\"#636efa\",\"symbol\":\"circle\",\"opacity\":0.75},\"mode\":\"markers\",\"name\":\"grid, observed\",\"scene\":\"scene\",\"showlegend\":true,\"x\":[44],\"y\":[0],\"z\":[0],\"type\":\"scatter3d\"},{\"hovertemplate\":\"type=random<br>marker=observed<br>R=%{x}<br>G=%{y}<br>B=%{z}<extra></extra>\",\"legendgroup\":\"random, observed\",\"marker\":{\"color\":\"#EF553B\",\"symbol\":\"circle\",\"opacity\":0.75},\"mode\":\"markers\",\"name\":\"random, observed\",\"scene\":\"scene\",\"showlegend\":true,\"x\":[39],\"y\":[19],\"z\":[36],\"type\":\"scatter3d\"},{\"hovertemplate\":\"type=bayesian<br>marker=observed<br>R=%{x}<br>G=%{y}<br>B=%{z}<extra></extra>\",\"legendgroup\":\"bayesian, observed\",\"marker\":{\"color\":\"#00cc96\",\"symbol\":\"circle\",\"opacity\":0.75},\"mode\":\"markers\",\"name\":\"bayesian, observed\",\"scene\":\"scene\",\"showlegend\":true,\"x\":[40],\"y\":[0],\"z\":[29],\"type\":\"scatter3d\"},{\"hovertemplate\":\"type=true<br>marker=target<br>R=%{x}<br>G=%{y}<br>B=%{z}<extra></extra>\",\"legendgroup\":\"true, target\",\"marker\":{\"color\":\"#ab63fa\",\"symbol\":\"diamond-open\",\"opacity\":0.75},\"mode\":\"markers\",\"name\":\"true, target\",\"scene\":\"scene\",\"showlegend\":true,\"x\":[41],\"y\":[3],\"z\":[31],\"type\":\"scatter3d\"}],                        {\"template\":{\"data\":{\"bar\":[{\"error_x\":{\"color\":\"#2a3f5f\"},\"error_y\":{\"color\":\"#2a3f5f\"},\"marker\":{\"line\":{\"color\":\"#E5ECF6\",\"width\":0.5},\"pattern\":{\"fillmode\":\"overlay\",\"size\":10,\"solidity\":0.2}},\"type\":\"bar\"}],\"barpolar\":[{\"marker\":{\"line\":{\"color\":\"#E5ECF6\",\"width\":0.5},\"pattern\":{\"fillmode\":\"overlay\",\"size\":10,\"solidity\":0.2}},\"type\":\"barpolar\"}],\"carpet\":[{\"aaxis\":{\"endlinecolor\":\"#2a3f5f\",\"gridcolor\":\"white\",\"linecolor\":\"white\",\"minorgridcolor\":\"white\",\"startlinecolor\":\"#2a3f5f\"},\"baxis\":{\"endlinecolor\":\"#2a3f5f\",\"gridcolor\":\"white\",\"linecolor\":\"white\",\"minorgridcolor\":\"white\",\"startlinecolor\":\"#2a3f5f\"},\"type\":\"carpet\"}],\"choropleth\":[{\"colorbar\":{\"outlinewidth\":0,\"ticks\":\"\"},\"type\":\"choropleth\"}],\"contour\":[{\"colorbar\":{\"outlinewidth\":0,\"ticks\":\"\"},\"colorscale\":[[0.0,\"#0d0887\"],[0.1111111111111111,\"#46039f\"],[0.2222222222222222,\"#7201a8\"],[0.3333333333333333,\"#9c179e\"],[0.4444444444444444,\"#bd3786\"],[0.5555555555555556,\"#d8576b\"],[0.6666666666666666,\"#ed7953\"],[0.7777777777777778,\"#fb9f3a\"],[0.8888888888888888,\"#fdca26\"],[1.0,\"#f0f921\"]],\"type\":\"contour\"}],\"contourcarpet\":[{\"colorbar\":{\"outlinewidth\":0,\"ticks\":\"\"},\"type\":\"contourcarpet\"}],\"heatmap\":[{\"colorbar\":{\"outlinewidth\":0,\"ticks\":\"\"},\"colorscale\":[[0.0,\"#0d0887\"],[0.1111111111111111,\"#46039f\"],[0.2222222222222222,\"#7201a8\"],[0.3333333333333333,\"#9c179e\"],[0.4444444444444444,\"#bd3786\"],[0.5555555555555556,\"#d8576b\"],[0.6666666666666666,\"#ed7953\"],[0.7777777777777778,\"#fb9f3a\"],[0.8888888888888888,\"#fdca26\"],[1.0,\"#f0f921\"]],\"type\":\"heatmap\"}],\"heatmapgl\":[{\"colorbar\":{\"outlinewidth\":0,\"ticks\":\"\"},\"colorscale\":[[0.0,\"#0d0887\"],[0.1111111111111111,\"#46039f\"],[0.2222222222222222,\"#7201a8\"],[0.3333333333333333,\"#9c179e\"],[0.4444444444444444,\"#bd3786\"],[0.5555555555555556,\"#d8576b\"],[0.6666666666666666,\"#ed7953\"],[0.7777777777777778,\"#fb9f3a\"],[0.8888888888888888,\"#fdca26\"],[1.0,\"#f0f921\"]],\"type\":\"heatmapgl\"}],\"histogram\":[{\"marker\":{\"pattern\":{\"fillmode\":\"overlay\",\"size\":10,\"solidity\":0.2}},\"type\":\"histogram\"}],\"histogram2d\":[{\"colorbar\":{\"outlinewidth\":0,\"ticks\":\"\"},\"colorscale\":[[0.0,\"#0d0887\"],[0.1111111111111111,\"#46039f\"],[0.2222222222222222,\"#7201a8\"],[0.3333333333333333,\"#9c179e\"],[0.4444444444444444,\"#bd3786\"],[0.5555555555555556,\"#d8576b\"],[0.6666666666666666,\"#ed7953\"],[0.7777777777777778,\"#fb9f3a\"],[0.8888888888888888,\"#fdca26\"],[1.0,\"#f0f921\"]],\"type\":\"histogram2d\"}],\"histogram2dcontour\":[{\"colorbar\":{\"outlinewidth\":0,\"ticks\":\"\"},\"colorscale\":[[0.0,\"#0d0887\"],[0.1111111111111111,\"#46039f\"],[0.2222222222222222,\"#7201a8\"],[0.3333333333333333,\"#9c179e\"],[0.4444444444444444,\"#bd3786\"],[0.5555555555555556,\"#d8576b\"],[0.6666666666666666,\"#ed7953\"],[0.7777777777777778,\"#fb9f3a\"],[0.8888888888888888,\"#fdca26\"],[1.0,\"#f0f921\"]],\"type\":\"histogram2dcontour\"}],\"mesh3d\":[{\"colorbar\":{\"outlinewidth\":0,\"ticks\":\"\"},\"type\":\"mesh3d\"}],\"parcoords\":[{\"line\":{\"colorbar\":{\"outlinewidth\":0,\"ticks\":\"\"}},\"type\":\"parcoords\"}],\"pie\":[{\"automargin\":true,\"type\":\"pie\"}],\"scatter\":[{\"marker\":{\"colorbar\":{\"outlinewidth\":0,\"ticks\":\"\"}},\"type\":\"scatter\"}],\"scatter3d\":[{\"line\":{\"colorbar\":{\"outlinewidth\":0,\"ticks\":\"\"}},\"marker\":{\"colorbar\":{\"outlinewidth\":0,\"ticks\":\"\"}},\"type\":\"scatter3d\"}],\"scattercarpet\":[{\"marker\":{\"colorbar\":{\"outlinewidth\":0,\"ticks\":\"\"}},\"type\":\"scattercarpet\"}],\"scattergeo\":[{\"marker\":{\"colorbar\":{\"outlinewidth\":0,\"ticks\":\"\"}},\"type\":\"scattergeo\"}],\"scattergl\":[{\"marker\":{\"colorbar\":{\"outlinewidth\":0,\"ticks\":\"\"}},\"type\":\"scattergl\"}],\"scattermapbox\":[{\"marker\":{\"colorbar\":{\"outlinewidth\":0,\"ticks\":\"\"}},\"type\":\"scattermapbox\"}],\"scatterpolar\":[{\"marker\":{\"colorbar\":{\"outlinewidth\":0,\"ticks\":\"\"}},\"type\":\"scatterpolar\"}],\"scatterpolargl\":[{\"marker\":{\"colorbar\":{\"outlinewidth\":0,\"ticks\":\"\"}},\"type\":\"scatterpolargl\"}],\"scatterternary\":[{\"marker\":{\"colorbar\":{\"outlinewidth\":0,\"ticks\":\"\"}},\"type\":\"scatterternary\"}],\"surface\":[{\"colorbar\":{\"outlinewidth\":0,\"ticks\":\"\"},\"colorscale\":[[0.0,\"#0d0887\"],[0.1111111111111111,\"#46039f\"],[0.2222222222222222,\"#7201a8\"],[0.3333333333333333,\"#9c179e\"],[0.4444444444444444,\"#bd3786\"],[0.5555555555555556,\"#d8576b\"],[0.6666666666666666,\"#ed7953\"],[0.7777777777777778,\"#fb9f3a\"],[0.8888888888888888,\"#fdca26\"],[1.0,\"#f0f921\"]],\"type\":\"surface\"}],\"table\":[{\"cells\":{\"fill\":{\"color\":\"#EBF0F8\"},\"line\":{\"color\":\"white\"}},\"header\":{\"fill\":{\"color\":\"#C8D4E3\"},\"line\":{\"color\":\"white\"}},\"type\":\"table\"}]},\"layout\":{\"annotationdefaults\":{\"arrowcolor\":\"#2a3f5f\",\"arrowhead\":0,\"arrowwidth\":1},\"autotypenumbers\":\"strict\",\"coloraxis\":{\"colorbar\":{\"outlinewidth\":0,\"ticks\":\"\"}},\"colorscale\":{\"diverging\":[[0,\"#8e0152\"],[0.1,\"#c51b7d\"],[0.2,\"#de77ae\"],[0.3,\"#f1b6da\"],[0.4,\"#fde0ef\"],[0.5,\"#f7f7f7\"],[0.6,\"#e6f5d0\"],[0.7,\"#b8e186\"],[0.8,\"#7fbc41\"],[0.9,\"#4d9221\"],[1,\"#276419\"]],\"sequential\":[[0.0,\"#0d0887\"],[0.1111111111111111,\"#46039f\"],[0.2222222222222222,\"#7201a8\"],[0.3333333333333333,\"#9c179e\"],[0.4444444444444444,\"#bd3786\"],[0.5555555555555556,\"#d8576b\"],[0.6666666666666666,\"#ed7953\"],[0.7777777777777778,\"#fb9f3a\"],[0.8888888888888888,\"#fdca26\"],[1.0,\"#f0f921\"]],\"sequentialminus\":[[0.0,\"#0d0887\"],[0.1111111111111111,\"#46039f\"],[0.2222222222222222,\"#7201a8\"],[0.3333333333333333,\"#9c179e\"],[0.4444444444444444,\"#bd3786\"],[0.5555555555555556,\"#d8576b\"],[0.6666666666666666,\"#ed7953\"],[0.7777777777777778,\"#fb9f3a\"],[0.8888888888888888,\"#fdca26\"],[1.0,\"#f0f921\"]]},\"colorway\":[\"#636efa\",\"#EF553B\",\"#00cc96\",\"#ab63fa\",\"#FFA15A\",\"#19d3f3\",\"#FF6692\",\"#B6E880\",\"#FF97FF\",\"#FECB52\"],\"font\":{\"color\":\"#2a3f5f\"},\"geo\":{\"bgcolor\":\"white\",\"lakecolor\":\"white\",\"landcolor\":\"#E5ECF6\",\"showlakes\":true,\"showland\":true,\"subunitcolor\":\"white\"},\"hoverlabel\":{\"align\":\"left\"},\"hovermode\":\"closest\",\"mapbox\":{\"style\":\"light\"},\"paper_bgcolor\":\"white\",\"plot_bgcolor\":\"#E5ECF6\",\"polar\":{\"angularaxis\":{\"gridcolor\":\"white\",\"linecolor\":\"white\",\"ticks\":\"\"},\"bgcolor\":\"#E5ECF6\",\"radialaxis\":{\"gridcolor\":\"white\",\"linecolor\":\"white\",\"ticks\":\"\"}},\"scene\":{\"xaxis\":{\"backgroundcolor\":\"#E5ECF6\",\"gridcolor\":\"white\",\"gridwidth\":2,\"linecolor\":\"white\",\"showbackground\":true,\"ticks\":\"\",\"zerolinecolor\":\"white\"},\"yaxis\":{\"backgroundcolor\":\"#E5ECF6\",\"gridcolor\":\"white\",\"gridwidth\":2,\"linecolor\":\"white\",\"showbackground\":true,\"ticks\":\"\",\"zerolinecolor\":\"white\"},\"zaxis\":{\"backgroundcolor\":\"#E5ECF6\",\"gridcolor\":\"white\",\"gridwidth\":2,\"linecolor\":\"white\",\"showbackground\":true,\"ticks\":\"\",\"zerolinecolor\":\"white\"}},\"shapedefaults\":{\"line\":{\"color\":\"#2a3f5f\"}},\"ternary\":{\"aaxis\":{\"gridcolor\":\"white\",\"linecolor\":\"white\",\"ticks\":\"\"},\"baxis\":{\"gridcolor\":\"white\",\"linecolor\":\"white\",\"ticks\":\"\"},\"bgcolor\":\"#E5ECF6\",\"caxis\":{\"gridcolor\":\"white\",\"linecolor\":\"white\",\"ticks\":\"\"}},\"title\":{\"x\":0.05},\"xaxis\":{\"automargin\":true,\"gridcolor\":\"white\",\"linecolor\":\"white\",\"ticks\":\"\",\"title\":{\"standoff\":15},\"zerolinecolor\":\"white\",\"zerolinewidth\":2},\"yaxis\":{\"automargin\":true,\"gridcolor\":\"white\",\"linecolor\":\"white\",\"ticks\":\"\",\"title\":{\"standoff\":15},\"zerolinecolor\":\"white\",\"zerolinewidth\":2}}},\"scene\":{\"domain\":{\"x\":[0.0,1.0],\"y\":[0.0,1.0]},\"xaxis\":{\"title\":{\"text\":\"R\"},\"nticks\":4,\"range\":[0,89]},\"yaxis\":{\"title\":{\"text\":\"G\"},\"nticks\":4,\"range\":[0,89]},\"zaxis\":{\"title\":{\"text\":\"B\"},\"nticks\":4,\"range\":[0,89]}},\"legend\":{\"title\":{\"text\":\"type, marker\"},\"tracegroupgap\":0},\"title\":{\"text\":\"best\"}},                        {\"responsive\": true}                    ).then(function(){\n",
              "                            \n",
              "var gd = document.getElementById('a16dd9fa-94a5-4b05-9f24-6466078502de');\n",
              "var x = new MutationObserver(function (mutations, observer) {{\n",
              "        var display = window.getComputedStyle(gd).display;\n",
              "        if (!display || display === 'none') {{\n",
              "            console.log([gd, 'removed!']);\n",
              "            Plotly.purge(gd);\n",
              "            observer.disconnect();\n",
              "        }}\n",
              "}});\n",
              "\n",
              "// Listen for the removal of the full notebook cells\n",
              "var notebookContainer = gd.closest('#notebook-container');\n",
              "if (notebookContainer) {{\n",
              "    x.observe(notebookContainer, {childList: true});\n",
              "}}\n",
              "\n",
              "// Listen for the clearing of the current output cell\n",
              "var outputEl = gd.closest('.output');\n",
              "if (outputEl) {{\n",
              "    x.observe(outputEl, {childList: true});\n",
              "}}\n",
              "\n",
              "                        })                };                            </script>        </div>\n",
              "</body>\n",
              "</html>"
            ]
          },
          "metadata": {},
          "output_type": "display_data"
        }
      ],
      "source": [
        "#@markdown Finally, we can take a look at how close the best experiments from each algorithm\n",
        "#@markdown compare to the true target inputs. You may need to rotate the image to get a\n",
        "#better view.\n",
        "\n",
        "true_inputs = pd.DataFrame({key: val for key, val in zip([\"R\", \"G\", \"B\"], sdl.get_target_inputs())}, index=[0])\n",
        "true_inputs[\"type\"] = \"true\"\n",
        "best_grid_inputs = grid_df.iloc[grid_df[\"frechet\"].idxmin()][[\"R\", \"G\", \"B\", \"type\"]]\n",
        "best_random_inputs = random_df.iloc[random_df[\"frechet\"].idxmin()][[\"R\", \"G\", \"B\", \"type\"]]\n",
        "best_bayes_inputs = bayes_df.iloc[bayes_df[\"frechet\"].idxmin()][[\"R\", \"G\", \"B\", \"type\"]]\n",
        "\n",
        "best_df = pd.concat([best_grid_inputs, best_random_inputs, best_bayes_inputs], axis=1).T\n",
        "best_df[\"marker\"] = \"observed\"\n",
        "true_inputs[\"marker\"] = \"target\"\n",
        "best_df = pd.concat([best_df, true_inputs], axis=0)\n",
        "bnds = sdl.bounds\n",
        "fig = px.scatter_3d(best_df, x=\"R\", y=\"G\", z=\"B\", color=\"type\", symbol=\"marker\", title=\"best\").update_layout(\n",
        "    scene=dict(\n",
        "        xaxis=dict(\n",
        "            nticks=4,\n",
        "            range=[bnds[\"R\"][0], bnds[\"R\"][1]],\n",
        "        ),\n",
        "        yaxis=dict(\n",
        "            nticks=4,\n",
        "            range=[bnds[\"G\"][0], bnds[\"G\"][1]],\n",
        "        ),\n",
        "        zaxis=dict(\n",
        "            nticks=4,\n",
        "            range=[bnds[\"B\"][0], bnds[\"B\"][1]],\n",
        "        ),\n",
        "    ),\n",
        ")\n",
        "fig.update_traces(marker={\"opacity\": 0.75})\n",
        "fig.data[-1].marker.symbol = \"diamond-open\"\n",
        "fig"
      ]
    },
    {
      "cell_type": "markdown",
      "metadata": {
        "id": "Xzlmc8seJEUI"
      },
      "source": [
        "#### Best Points vs. True RGB\n",
        "\n",
        "![](https://github.com/sparks-baird/self-driving-lab-demo/blob/main/notebooks/best-point-visualization.png?raw=1)"
      ]
    },
    {
      "cell_type": "markdown",
      "metadata": {
        "id": "EdoY8rAPtJoo"
      },
      "source": [
        "## Next Steps\n",
        "\n",
        "Interested in making your own SDL-Demo? See [the build instructions](https://youtu.be/GVdfJCsQ8vk).\n",
        "\n",
        "Interested in learning more about how SDL-Demo works? See our [notebooks](https://github.com/sparks-baird/self-driving-lab-demo/tree/main/notebooks) and\n",
        "[source code](https://github.com/sparks-baird/self-driving-lab-demo/tree/main/src)."
      ]
    }
  ],
  "metadata": {
    "colab": {
      "collapsed_sections": [],
      "provenance": []
    },
    "kernelspec": {
      "display_name": "Python 3.9.13 ('sdl-demo')",
      "language": "python",
      "name": "python3"
    },
    "language_info": {
      "codemirror_mode": {
        "name": "ipython",
        "version": 3
      },
      "file_extension": ".py",
      "mimetype": "text/x-python",
      "name": "python",
      "nbconvert_exporter": "python",
      "pygments_lexer": "ipython3",
      "version": "3.9.13"
    },
    "vscode": {
      "interpreter": {
        "hash": "70cb6d4911b67e25d1487ebd620c5d1370239efaaf47f3851af44f5c5a26f988"
      }
    }
  },
  "nbformat": 4,
  "nbformat_minor": 0
}
