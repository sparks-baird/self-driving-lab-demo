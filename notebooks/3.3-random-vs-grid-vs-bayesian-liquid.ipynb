{
 "cells": [
  {
   "cell_type": "markdown",
   "metadata": {},
   "source": [
    "[![Open In Colab](https://colab.research.google.com/assets/colab-badge.svg)](https://colab.research.google.com/github/sparks-baird/self-driving-lab-demo/blob/main/notebooks/3.3-random-vs-grid-vs-bayesian-liquid.ipynb)"
   ]
  },
  {
   "attachments": {},
   "cell_type": "markdown",
   "metadata": {},
   "source": [
    "# Random vs. Grid vs. Bayesian Optimization\n",
    "\n",
    "Using the liquid color-matching demo."
   ]
  },
  {
   "cell_type": "markdown",
   "metadata": {},
   "source": [
    "## Setup\n",
    "\n",
    "Imports and the main class."
   ]
  },
  {
   "cell_type": "markdown",
   "metadata": {},
   "source": [
    "### Imports"
   ]
  },
  {
   "cell_type": "code",
   "execution_count": null,
   "metadata": {},
   "outputs": [],
   "source": [
    "try:\n",
    "  import google.colab\n",
    "  IN_COLAB = True\n",
    "  %pip install git+https://github.com/sparks-baird/self-driving-lab-demo.git[ax-platform]\n",
    "  # %pip install self-driving-lab-demo[ax-platform]\n",
    "except:\n",
    "  IN_COLAB = False"
   ]
  },
  {
   "cell_type": "code",
   "execution_count": 1,
   "metadata": {},
   "outputs": [],
   "source": [
    "%load_ext autoreload\n",
    "%autoreload 2 # just some IPython magic to recognize changes to installed packages\n",
    "import pandas as pd\n",
    "from self_driving_lab_demo import SelfDrivingLabDemoLiquid"
   ]
  },
  {
   "attachments": {},
   "cell_type": "markdown",
   "metadata": {},
   "source": [
    "### SelfDrivingLabDemo\n",
    "\n",
    "We'll instantiate the class and verify some of the functionality described in the random\n",
    "search tutorial ([`2.0-random-search.ipynb`](2.0-random-search.ipynb)).\n",
    "\n",
    "#### Instantiation\n",
    "\n",
    "Now, we instantiate the `SelfDrivingLabDemo` class with `autoload=True` so that records\n",
    "a target to optimize against. This involves selecting a set of target measurements as the \"true\" input values (i.e. the RYB values that define the target spectrum) based on a random seed,\n",
    "setting the pump powers to those values, and then recording the spectrum intensities.\n",
    "\n",
    "> Note: Instantiating with autoload=True will run a color-mixing experiment."
   ]
  },
  {
   "cell_type": "code",
   "execution_count": 5,
   "metadata": {},
   "outputs": [],
   "source": [
    "from self_driving_lab_demo.demos.liquid import liquid_observe_sensor_data\n",
    "from self_driving_lab_demo.utils.observe import get_paho_client\n",
    "from uuid import uuid4\n",
    "\n",
    "dummy = False\n",
    "\n",
    "\n",
    "def liquid_observe_sensor_data_2(R, Y, B, **kwargs):\n",
    "    # gain = 32 instead of 128 to avoid saturation of the sensor data\n",
    "    return liquid_observe_sensor_data(\n",
    "        R, Y, B, prerinse_power=1.0, prerinse_time=10.0, runtime=5.0, gain=32, **kwargs\n",
    "    )\n",
    "\n",
    "\n",
    "def liquid_dummy_observe_sensor_data(R, Y, B, **kwargs):\n",
    "    # return a fixed set of values (no interaction with real hardware)\n",
    "    return {\n",
    "        \"utc_timestamp\": 1671675884,\n",
    "        \"ch470\": 21288,\n",
    "        \"ch410\": 5835,\n",
    "        \"ch440\": 65535,\n",
    "        \"sd_card_ready\": False,\n",
    "        \"ch510\": 21632,\n",
    "        \"ch550\": 6760,\n",
    "        \"ch670\": 8970,\n",
    "        \"utc_time_str\": \"2022-12-22 02:24:44\",\n",
    "        \"onboard_temperature_K\": 297.8537,\n",
    "        \"ch620\": 2901,\n",
    "        \"ch583\": 2057,\n",
    "    }\n",
    "\n",
    "\n",
    "observe_sensor_data_fn = (\n",
    "    liquid_observe_sensor_data_2 if not dummy else liquid_dummy_observe_sensor_data\n",
    ")\n",
    "\n",
    "PICO_ID = \"test\"  # @param {type:\"string\"}\n",
    "\n",
    "sensor_topic = f\"sdl-demo/picow/{PICO_ID}/as7341/\"\n",
    "paho_client = get_paho_client(sensor_topic)\n",
    "\n",
    "session_id = f\"grid-random-bayes-liquid-{str(uuid4())[:4]}\"\n",
    "\n",
    "sdl = SelfDrivingLabDemoLiquid(\n",
    "    autoload=True,\n",
    "    max_power=0.5,\n",
    "    observe_sensor_data_fn=observe_sensor_data_fn,\n",
    "    observe_sensor_data_kwargs=dict(\n",
    "        pico_id=PICO_ID, session_id=session_id, client=paho_client\n",
    "    ),\n",
    ")\n"
   ]
  },
  {
   "cell_type": "code",
   "execution_count": 6,
   "metadata": {},
   "outputs": [
    {
     "data": {
      "text/plain": [
       "[{'name': 'R', 'type': 'range', 'bounds': [0.0, 0.5]},\n",
       " {'name': 'Y', 'type': 'range', 'bounds': [0.0, 0.5]},\n",
       " {'name': 'B', 'type': 'range', 'bounds': [0.0, 0.5]},\n",
       " {'name': 'w', 'type': 'range', 'bounds': [0.0, 0.5]},\n",
       " {'name': 'prerinse_power', 'type': 'range', 'bounds': [0.0, 0.5]},\n",
       " {'name': 'prerinse_time', 'type': 'range', 'bounds': [1.0, 20.0]},\n",
       " {'name': 'runtime', 'type': 'range', 'bounds': [1.0, 20.0]},\n",
       " {'name': 'atime', 'type': 'range', 'bounds': [0, 255]},\n",
       " {'name': 'astep', 'type': 'range', 'bounds': [0, 65534]},\n",
       " {'name': 'gain',\n",
       "  'type': 'choice',\n",
       "  'is_ordered': True,\n",
       "  'values': [0.5, 1.0, 2.0, 4.0, 8.0, 16.0, 32.0, 64.0, 128.0, 256.0, 512.0]}]"
      ]
     },
     "execution_count": 6,
     "metadata": {},
     "output_type": "execute_result"
    }
   ],
   "source": [
    "sdl.parameters"
   ]
  },
  {
   "cell_type": "markdown",
   "metadata": {},
   "source": [
    "#### Functionality\n",
    "\n",
    "We can do similar things to what was done in `2.0-random-search.ipynb`. For example, getting\n",
    "random inputs, observing the sensor data, and evaluating the objective function."
   ]
  },
  {
   "cell_type": "code",
   "execution_count": 7,
   "metadata": {},
   "outputs": [
    {
     "data": {
      "text/plain": [
       "[{'R': 0.38697802427798167,\n",
       "  'Y': 0.21943921987602616,\n",
       "  'B': 0.42929895995569123},\n",
       " {'R': 0.34868401452968195,\n",
       "  'Y': 0.047088673943824766,\n",
       "  'B': 0.48781117581837796}]"
      ]
     },
     "execution_count": 7,
     "metadata": {},
     "output_type": "execute_result"
    }
   ],
   "source": [
    "[sdl.get_random_inputs(), sdl.get_random_inputs()]"
   ]
  },
  {
   "cell_type": "code",
   "execution_count": 8,
   "metadata": {},
   "outputs": [
    {
     "data": {
      "text/plain": [
       "{'utc_timestamp': 1671723211,\n",
       " 'ch470': 4270,\n",
       " 'ch410': 2562,\n",
       " 'ch440': 9662,\n",
       " 'sd_card_ready': False,\n",
       " 'ch510': 6687,\n",
       " 'ch550': 21507,\n",
       " 'ch670': 7507,\n",
       " 'utc_time_str': '2022-12-22 15:33:31',\n",
       " 'onboard_temperature_K': 297.3855,\n",
       " 'ch620': 15811,\n",
       " 'ch583': 25632}"
      ]
     },
     "execution_count": 8,
     "metadata": {},
     "output_type": "execute_result"
    }
   ],
   "source": [
    "sdl.observe_sensor_data(sdl.get_random_inputs())"
   ]
  },
  {
   "cell_type": "code",
   "execution_count": 9,
   "metadata": {},
   "outputs": [
    {
     "data": {
      "text/plain": [
       "{'utc_timestamp': 1671723237,\n",
       " 'ch470': 10480,\n",
       " 'ch410': 4005,\n",
       " 'ch440': 30225,\n",
       " 'sd_card_ready': False,\n",
       " 'ch510': 17545,\n",
       " 'ch550': 17416,\n",
       " 'ch670': 5508,\n",
       " 'utc_time_str': '2022-12-22 15:33:57',\n",
       " 'onboard_temperature_K': 297.3855,\n",
       " 'ch620': 5490,\n",
       " 'ch583': 8695,\n",
       " 'mae': 9144.25,\n",
       " 'rmse': 10616.122291119296,\n",
       " 'frechet': 12252.036728642304}"
      ]
     },
     "execution_count": 9,
     "metadata": {},
     "output_type": "execute_result"
    }
   ],
   "source": [
    "sdl.evaluate(sdl.get_random_inputs())"
   ]
  },
  {
   "attachments": {},
   "cell_type": "markdown",
   "metadata": {},
   "source": [
    "We can also flush out the chamber manually if we'll leave the experiment off for a while."
   ]
  },
  {
   "cell_type": "code",
   "execution_count": 10,
   "metadata": {},
   "outputs": [],
   "source": [
    "sdl.clear()"
   ]
  },
  {
   "cell_type": "markdown",
   "metadata": {},
   "source": [
    "## Optimization\n",
    "\n",
    "While there are great numerical tutorials comparing [grid search vs. random search vs.\n",
    "Bayesian optimization](https://towardsdatascience.com/grid-search-vs-random-search-vs-bayesian-optimization-2e68f57c3c46), here, we'll compare these three search methods in a way that perhaps you've never seen before,\n",
    "namely a self-driving laboratory demo!\n",
    "\n",
    "### Setup\n",
    "\n",
    "We define our optimization task parameters and take care of imports."
   ]
  },
  {
   "cell_type": "markdown",
   "metadata": {},
   "source": [
    "### Optimization Task Parameters\n",
    "\n",
    "We'll use 125 iterations repeated 5 times. The use of 125 iterations instead of something\n",
    "\"cleaner\" like 50 or 100 is due to constraints of doing uniform (full-factorial) grid\n",
    "search. $n^d$ number of points are required for uniform grid search, where $n$ and $d$\n",
    "represent number of points per dimension (`n_pts_per_dim`) and number of dimensions\n",
    "(`3`), respectively."
   ]
  },
  {
   "cell_type": "code",
   "execution_count": 11,
   "metadata": {},
   "outputs": [],
   "source": [
    "num_iter = 27\n",
    "num_repeats = 5\n",
    "SEEDS = range(10, 10 + num_repeats)"
   ]
  },
  {
   "cell_type": "markdown",
   "metadata": {},
   "source": [
    "We also instantiate multiple `SelfDrivingLabDemo` instances, each with their own\n",
    "unique target spectrum, and then turn off the LED."
   ]
  },
  {
   "cell_type": "code",
   "execution_count": 12,
   "metadata": {},
   "outputs": [],
   "source": [
    "sdls = [\n",
    "    SelfDrivingLabDemoLiquid(\n",
    "        autoload=True,\n",
    "        target_seed=seed,\n",
    "        max_power=0.5,\n",
    "        observe_sensor_data_fn=observe_sensor_data_fn,\n",
    "        observe_sensor_data_kwargs=dict(pico_id=secrets[\"PICO_ID_3\"]),\n",
    "    )\n",
    "    for seed in SEEDS\n",
    "]\n",
    "sdls[0].clear()\n"
   ]
  },
  {
   "cell_type": "markdown",
   "metadata": {},
   "source": [
    "Notice that the target_data is different for each."
   ]
  },
  {
   "cell_type": "code",
   "execution_count": 13,
   "metadata": {},
   "outputs": [
    {
     "data": {
      "text/html": [
       "<div>\n",
       "<style scoped>\n",
       "    .dataframe tbody tr th:only-of-type {\n",
       "        vertical-align: middle;\n",
       "    }\n",
       "\n",
       "    .dataframe tbody tr th {\n",
       "        vertical-align: top;\n",
       "    }\n",
       "\n",
       "    .dataframe thead th {\n",
       "        text-align: right;\n",
       "    }\n",
       "</style>\n",
       "<table border=\"1\" class=\"dataframe\">\n",
       "  <thead>\n",
       "    <tr style=\"text-align: right;\">\n",
       "      <th></th>\n",
       "      <th>ch410</th>\n",
       "      <th>ch440</th>\n",
       "      <th>ch470</th>\n",
       "      <th>ch510</th>\n",
       "      <th>ch550</th>\n",
       "      <th>ch583</th>\n",
       "      <th>ch620</th>\n",
       "      <th>ch670</th>\n",
       "    </tr>\n",
       "  </thead>\n",
       "  <tbody>\n",
       "    <tr>\n",
       "      <th>0</th>\n",
       "      <td>3405</td>\n",
       "      <td>18379</td>\n",
       "      <td>4635</td>\n",
       "      <td>5359</td>\n",
       "      <td>14778</td>\n",
       "      <td>12439</td>\n",
       "      <td>6048</td>\n",
       "      <td>6724</td>\n",
       "    </tr>\n",
       "    <tr>\n",
       "      <th>1</th>\n",
       "      <td>4054</td>\n",
       "      <td>24751</td>\n",
       "      <td>13880</td>\n",
       "      <td>22651</td>\n",
       "      <td>24324</td>\n",
       "      <td>12761</td>\n",
       "      <td>5118</td>\n",
       "      <td>8041</td>\n",
       "    </tr>\n",
       "    <tr>\n",
       "      <th>2</th>\n",
       "      <td>3487</td>\n",
       "      <td>13987</td>\n",
       "      <td>12110</td>\n",
       "      <td>20583</td>\n",
       "      <td>33495</td>\n",
       "      <td>29376</td>\n",
       "      <td>15051</td>\n",
       "      <td>8870</td>\n",
       "    </tr>\n",
       "    <tr>\n",
       "      <th>3</th>\n",
       "      <td>2910</td>\n",
       "      <td>14831</td>\n",
       "      <td>6146</td>\n",
       "      <td>8436</td>\n",
       "      <td>19239</td>\n",
       "      <td>16061</td>\n",
       "      <td>6811</td>\n",
       "      <td>7525</td>\n",
       "    </tr>\n",
       "    <tr>\n",
       "      <th>4</th>\n",
       "      <td>3637</td>\n",
       "      <td>19663</td>\n",
       "      <td>4970</td>\n",
       "      <td>5480</td>\n",
       "      <td>15719</td>\n",
       "      <td>13565</td>\n",
       "      <td>5647</td>\n",
       "      <td>7340</td>\n",
       "    </tr>\n",
       "  </tbody>\n",
       "</table>\n",
       "</div>"
      ],
      "text/plain": [
       "   ch410  ch440  ch470  ch510  ch550  ch583  ch620  ch670\n",
       "0   3405  18379   4635   5359  14778  12439   6048   6724\n",
       "1   4054  24751  13880  22651  24324  12761   5118   8041\n",
       "2   3487  13987  12110  20583  33495  29376  15051   8870\n",
       "3   2910  14831   6146   8436  19239  16061   6811   7525\n",
       "4   3637  19663   4970   5480  15719  13565   5647   7340"
      ]
     },
     "execution_count": 13,
     "metadata": {},
     "output_type": "execute_result"
    }
   ],
   "source": [
    "df = pd.DataFrame([sdl.target_results for sdl in sdls])\n",
    "df.loc[:, sdl.channel_names] # sort columns by wavelength"
   ]
  },
  {
   "cell_type": "markdown",
   "metadata": {},
   "source": [
    "\n",
    "\n",
    "### Imports\n",
    "\n",
    "We'll be using `scikit-learn`'s `ParameterGrid` for grid search, `self_driving_lab_demo`'s built-in\n",
    "`get_random_inputs` for random search, and `ax-platform`'s Gaussian Process Expected\n",
    "Improvement (GPEI) model for Bayesian\n",
    "optimization. To help with defining the grid search space, we will also use the\n",
    "`bounds` and `parameters` class property of `SelfDrivingLabDemo` for convenience. Note\n",
    "that 89 is the upper limit for RGB values instead of 255 since 255 is very bright."
   ]
  },
  {
   "cell_type": "code",
   "execution_count": 14,
   "metadata": {},
   "outputs": [],
   "source": [
    "import numpy as np\n",
    "from tqdm.notebook import trange, tqdm\n",
    "from sklearn.model_selection import ParameterGrid\n",
    "from ax import optimize"
   ]
  },
  {
   "cell_type": "code",
   "execution_count": 15,
   "metadata": {},
   "outputs": [
    {
     "data": {
      "text/plain": [
       "{'R': [0.0, 0.5], 'Y': [0.0, 0.5], 'B': [0.0, 0.5]}"
      ]
     },
     "execution_count": 15,
     "metadata": {},
     "output_type": "execute_result"
    }
   ],
   "source": [
    "bounds = sdls[0].bounds\n",
    "bounds = dict(R=bounds[\"R\"], Y=bounds[\"Y\"], B=bounds[\"B\"])\n",
    "bounds"
   ]
  },
  {
   "cell_type": "markdown",
   "metadata": {},
   "source": [
    "### Grid Search\n",
    "\n",
    "First, we need to define our parameter grid. We'll divide up the 3-dimensional parameter\n",
    "space as evenly as possible (see `num_pts_per_dim` below)."
   ]
  },
  {
   "cell_type": "code",
   "execution_count": 16,
   "metadata": {},
   "outputs": [
    {
     "name": "stdout",
     "output_type": "stream",
     "text": [
      "num_pts_per_dim: 3\n"
     ]
    }
   ],
   "source": [
    "param_grid = {}\n",
    "num_pts_per_dim = round(num_iter ** (1 / len(bounds)))\n",
    "for name, bnd in bounds.items():\n",
    "    param_grid[name] = np.linspace(bnd[0], bnd[1], num=num_pts_per_dim)\n",
    "print(f\"num_pts_per_dim: {num_pts_per_dim}\")"
   ]
  },
  {
   "cell_type": "markdown",
   "metadata": {},
   "source": [
    "Notice how many distinct values are along each dimension."
   ]
  },
  {
   "cell_type": "code",
   "execution_count": 17,
   "metadata": {},
   "outputs": [
    {
     "data": {
      "text/plain": [
       "{'R': array([0.  , 0.25, 0.5 ]),\n",
       " 'Y': array([0.  , 0.25, 0.5 ]),\n",
       " 'B': array([0.  , 0.25, 0.5 ])}"
      ]
     },
     "execution_count": 17,
     "metadata": {},
     "output_type": "execute_result"
    }
   ],
   "source": [
    "param_grid"
   ]
  },
  {
   "cell_type": "markdown",
   "metadata": {},
   "source": [
    "After assembling the full grid, notice that the total number of points is $5^3 = 125$."
   ]
  },
  {
   "cell_type": "code",
   "execution_count": 18,
   "metadata": {},
   "outputs": [
    {
     "name": "stdout",
     "output_type": "stream",
     "text": [
      "grid:\n",
      " [{'B': 0.0, 'R': 0.0, 'Y': 0.0}, {'B': 0.0, 'R': 0.0, 'Y': 0.25}, {'B': 0.0, 'R': 0.0, 'Y': 0.5}, {'B': 0.0, 'R': 0.25, 'Y': 0.0}] ... [{'B': 0.5, 'R': 0.5, 'Y': 0.5}]\n",
      "\n",
      "Number of grid points:  27\n"
     ]
    }
   ],
   "source": [
    "grid = list(ParameterGrid(param_grid))\n",
    "print(\"grid:\\n\", grid[0:4], \"...\", grid[-1:])\n",
    "print(\"\\nNumber of grid points: \", len(grid))"
   ]
  },
  {
   "cell_type": "markdown",
   "metadata": {},
   "source": [
    "Now, we can start the actual search. The grid search locations are fixed\n",
    "for each of the repeat optimization campaigns; however the observed sensor data will be\n",
    "stochastic and the target spectrum is different for each repeat run. An alternative approach to setting a\n",
    "fixed budget and varying the target solution would be to see how many iterations it takes to meet a criteria for the\n",
    "objective function similar to [this post](https://towardsdatascience.com/grid-search-vs-random-search-vs-bayesian-optimization-2e68f57c3c46); however, a fixed budget seems more characteristic of a real chemistry\n",
    "or materials optimization campaign due to limits on funding, time, and other resources:\n",
    "(i.e. we'll search until we find what we're looking for, until we run out of\n",
    "resources, or until we decide it's no longer worth the expense, whichever comes first)."
   ]
  },
  {
   "cell_type": "code",
   "execution_count": 19,
   "metadata": {},
   "outputs": [
    {
     "data": {
      "application/vnd.jupyter.widget-view+json": {
       "model_id": "d566e2ddf5f847baa9a2664524cf7a13",
       "version_major": 2,
       "version_minor": 0
      },
      "text/plain": [
       "  0%|          | 0/5 [00:00<?, ?it/s]"
      ]
     },
     "metadata": {},
     "output_type": "display_data"
    }
   ],
   "source": [
    "grid_data = [[sdl.evaluate(pt) for pt in grid] for sdl in tqdm(sdls)]\n",
    "sdls[0].clear()\n"
   ]
  },
  {
   "cell_type": "markdown",
   "metadata": {},
   "source": [
    "### Random Search"
   ]
  },
  {
   "cell_type": "markdown",
   "metadata": {},
   "source": [
    "Now, let's perform random search as we did before in\n",
    "[`2.0-random-search.ipynb`](2.0-random-search.ipynb), storing the inputs and outputs as we go."
   ]
  },
  {
   "cell_type": "code",
   "execution_count": 20,
   "metadata": {},
   "outputs": [
    {
     "data": {
      "application/vnd.jupyter.widget-view+json": {
       "model_id": "ace342557f9143448d5f00abfdae934b",
       "version_major": 2,
       "version_minor": 0
      },
      "text/plain": [
       "  0%|          | 0/5 [00:00<?, ?it/s]"
      ]
     },
     "metadata": {},
     "output_type": "display_data"
    },
    {
     "name": "stdout",
     "output_type": "stream",
     "text": [
      "CPU times: total: 6.11 s\n",
      "Wall time: 56min 11s\n"
     ]
    }
   ],
   "source": [
    "%%time\n",
    "random_inputs = []\n",
    "random_data = []\n",
    "for _ in tqdm(range(num_repeats)):\n",
    "    random_input = []\n",
    "    random_datum = []\n",
    "    for i in range(num_iter):\n",
    "        random_input.append(sdl.get_random_inputs())\n",
    "        random_datum.append(sdl.evaluate(random_input[i]))\n",
    "    random_inputs.append(random_input)\n",
    "    random_data.append(random_datum)\n",
    "sdls[0].clear()"
   ]
  },
  {
   "cell_type": "markdown",
   "metadata": {},
   "source": [
    "### Bayesian Optimization\n",
    "\n",
    "Now, we'll use an optimization algorithm that learns from prior information. Once a\n",
    "small set of initialization points have been evaluated, the algorithm will leverage the\n",
    "previously observed information to intelligently select the next point to evaluate. The\n",
    "selected point will be a trade-off between exploiting the highest performance and\n",
    "exploring uncertain regions (i.e. exploitation/exploration trade-off). We'll also use\n",
    "a discretized Frechet distance in place of mean absolute error as a more robust\n",
    "comparison between discrete distributions."
   ]
  },
  {
   "cell_type": "code",
   "execution_count": 27,
   "metadata": {},
   "outputs": [
    {
     "data": {
      "application/vnd.jupyter.widget-view+json": {
       "model_id": "29d9d01109a34431a924457da68accbc",
       "version_major": 2,
       "version_minor": 0
      },
      "text/plain": [
       "  0%|          | 0/5 [00:00<?, ?it/s]"
      ]
     },
     "metadata": {},
     "output_type": "display_data"
    },
    {
     "name": "stderr",
     "output_type": "stream",
     "text": [
      "[INFO 12-22 13:24:02] ax.service.utils.instantiation: Inferred value type of ParameterType.FLOAT for parameter R. If that is not the expected value type, you can explicity specify 'value_type' ('int', 'float', 'bool' or 'str') in parameter dict.\n",
      "[INFO 12-22 13:24:02] ax.service.utils.instantiation: Inferred value type of ParameterType.FLOAT for parameter Y. If that is not the expected value type, you can explicity specify 'value_type' ('int', 'float', 'bool' or 'str') in parameter dict.\n",
      "[INFO 12-22 13:24:02] ax.service.utils.instantiation: Inferred value type of ParameterType.FLOAT for parameter B. If that is not the expected value type, you can explicity specify 'value_type' ('int', 'float', 'bool' or 'str') in parameter dict.\n",
      "[INFO 12-22 13:24:02] ax.service.utils.instantiation: Created search space: SearchSpace(parameters=[RangeParameter(name='R', parameter_type=FLOAT, range=[0.0, 0.5]), RangeParameter(name='Y', parameter_type=FLOAT, range=[0.0, 0.5]), RangeParameter(name='B', parameter_type=FLOAT, range=[0.0, 0.5])], parameter_constraints=[]).\n",
      "[INFO 12-22 13:24:02] ax.modelbridge.dispatch_utils: Using Bayesian optimization since there are more ordered parameters than there are categories for the unordered categorical parameters.\n",
      "[INFO 12-22 13:24:02] ax.modelbridge.dispatch_utils: Using Bayesian Optimization generation strategy: GenerationStrategy(name='Sobol+GPEI', steps=[Sobol for 6 trials, GPEI for subsequent trials]). Iterations after 6 will take longer to generate due to  model-fitting.\n",
      "[INFO 12-22 13:24:02] ax.service.managed_loop: Started full optimization with 27 steps.\n",
      "[INFO 12-22 13:24:02] ax.service.managed_loop: Running optimization trial 1...\n",
      "[INFO 12-22 13:24:25] ax.service.managed_loop: Running optimization trial 2...\n",
      "[INFO 12-22 13:24:47] ax.service.managed_loop: Running optimization trial 3...\n",
      "[INFO 12-22 13:25:14] ax.service.managed_loop: Running optimization trial 4...\n",
      "[INFO 12-22 13:25:38] ax.service.managed_loop: Running optimization trial 5...\n",
      "[INFO 12-22 13:26:02] ax.service.managed_loop: Running optimization trial 6...\n",
      "[INFO 12-22 13:26:26] ax.service.managed_loop: Running optimization trial 7...\n",
      "[INFO 12-22 13:26:51] ax.service.managed_loop: Running optimization trial 8...\n",
      "[INFO 12-22 13:27:16] ax.service.managed_loop: Running optimization trial 9...\n",
      "[INFO 12-22 13:27:40] ax.service.managed_loop: Running optimization trial 10...\n",
      "[INFO 12-22 13:28:06] ax.service.managed_loop: Running optimization trial 11...\n",
      "[INFO 12-22 13:28:30] ax.service.managed_loop: Running optimization trial 12...\n",
      "[INFO 12-22 13:28:54] ax.service.managed_loop: Running optimization trial 13...\n",
      "[INFO 12-22 13:29:29] ax.service.managed_loop: Running optimization trial 14...\n",
      "[INFO 12-22 13:29:56] ax.service.managed_loop: Running optimization trial 15...\n",
      "[INFO 12-22 13:30:22] ax.service.managed_loop: Running optimization trial 16...\n",
      "[INFO 12-22 13:30:50] ax.service.managed_loop: Running optimization trial 17...\n",
      "[INFO 12-22 13:31:15] ax.service.managed_loop: Running optimization trial 18...\n",
      "[INFO 12-22 13:31:39] ax.service.managed_loop: Running optimization trial 19...\n",
      "[INFO 12-22 13:32:04] ax.service.managed_loop: Running optimization trial 20...\n",
      "[INFO 12-22 13:32:28] ax.service.managed_loop: Running optimization trial 21...\n",
      "[INFO 12-22 13:32:56] ax.service.managed_loop: Running optimization trial 22...\n",
      "[INFO 12-22 13:33:20] ax.service.managed_loop: Running optimization trial 23...\n",
      "[INFO 12-22 13:33:46] ax.service.managed_loop: Running optimization trial 24...\n",
      "[INFO 12-22 13:34:11] ax.service.managed_loop: Running optimization trial 25...\n",
      "[INFO 12-22 13:34:35] ax.service.managed_loop: Running optimization trial 26...\n",
      "[INFO 12-22 13:35:04] ax.service.managed_loop: Running optimization trial 27...\n",
      "[INFO 12-22 13:35:28] ax.service.utils.instantiation: Inferred value type of ParameterType.FLOAT for parameter R. If that is not the expected value type, you can explicity specify 'value_type' ('int', 'float', 'bool' or 'str') in parameter dict.\n",
      "[INFO 12-22 13:35:28] ax.service.utils.instantiation: Inferred value type of ParameterType.FLOAT for parameter Y. If that is not the expected value type, you can explicity specify 'value_type' ('int', 'float', 'bool' or 'str') in parameter dict.\n",
      "[INFO 12-22 13:35:28] ax.service.utils.instantiation: Inferred value type of ParameterType.FLOAT for parameter B. If that is not the expected value type, you can explicity specify 'value_type' ('int', 'float', 'bool' or 'str') in parameter dict.\n",
      "[INFO 12-22 13:35:28] ax.service.utils.instantiation: Created search space: SearchSpace(parameters=[RangeParameter(name='R', parameter_type=FLOAT, range=[0.0, 0.5]), RangeParameter(name='Y', parameter_type=FLOAT, range=[0.0, 0.5]), RangeParameter(name='B', parameter_type=FLOAT, range=[0.0, 0.5])], parameter_constraints=[]).\n",
      "[INFO 12-22 13:35:28] ax.modelbridge.dispatch_utils: Using Bayesian optimization since there are more ordered parameters than there are categories for the unordered categorical parameters.\n",
      "[INFO 12-22 13:35:28] ax.modelbridge.dispatch_utils: Using Bayesian Optimization generation strategy: GenerationStrategy(name='Sobol+GPEI', steps=[Sobol for 6 trials, GPEI for subsequent trials]). Iterations after 6 will take longer to generate due to  model-fitting.\n",
      "[INFO 12-22 13:35:28] ax.service.managed_loop: Started full optimization with 27 steps.\n",
      "[INFO 12-22 13:35:28] ax.service.managed_loop: Running optimization trial 1...\n",
      "[INFO 12-22 13:36:06] ax.service.managed_loop: Running optimization trial 2...\n",
      "[INFO 12-22 13:36:33] ax.service.managed_loop: Running optimization trial 3...\n",
      "[INFO 12-22 13:37:02] ax.service.managed_loop: Running optimization trial 4...\n",
      "[INFO 12-22 13:37:41] ax.service.managed_loop: Running optimization trial 5...\n",
      "[INFO 12-22 13:38:06] ax.service.managed_loop: Running optimization trial 6...\n",
      "[INFO 12-22 13:38:30] ax.service.managed_loop: Running optimization trial 7...\n",
      "[INFO 12-22 13:38:57] ax.service.managed_loop: Running optimization trial 8...\n",
      "[INFO 12-22 13:39:22] ax.service.managed_loop: Running optimization trial 9...\n",
      "[INFO 12-22 13:39:46] ax.service.managed_loop: Running optimization trial 10...\n",
      "[INFO 12-22 13:40:11] ax.service.managed_loop: Running optimization trial 11...\n",
      "[INFO 12-22 13:40:36] ax.service.managed_loop: Running optimization trial 12...\n",
      "[INFO 12-22 13:41:02] ax.service.managed_loop: Running optimization trial 13...\n",
      "[INFO 12-22 13:41:26] ax.service.managed_loop: Running optimization trial 14...\n",
      "[INFO 12-22 13:41:50] ax.service.managed_loop: Running optimization trial 15...\n",
      "[INFO 12-22 13:42:14] ax.service.managed_loop: Running optimization trial 16...\n",
      "[INFO 12-22 13:42:43] ax.service.managed_loop: Running optimization trial 17...\n",
      "[INFO 12-22 13:43:09] ax.service.managed_loop: Running optimization trial 18...\n",
      "[INFO 12-22 13:43:34] ax.service.managed_loop: Running optimization trial 19...\n",
      "[INFO 12-22 13:43:58] ax.service.managed_loop: Running optimization trial 20...\n",
      "[INFO 12-22 13:44:22] ax.service.managed_loop: Running optimization trial 21...\n",
      "[INFO 12-22 13:44:48] ax.service.managed_loop: Running optimization trial 22...\n",
      "[INFO 12-22 13:45:12] ax.service.managed_loop: Running optimization trial 23...\n",
      "[INFO 12-22 13:45:37] ax.service.managed_loop: Running optimization trial 24...\n",
      "[INFO 12-22 13:46:03] ax.service.managed_loop: Running optimization trial 25...\n",
      "[INFO 12-22 13:46:29] ax.service.managed_loop: Running optimization trial 26...\n",
      "[INFO 12-22 13:46:54] ax.service.managed_loop: Running optimization trial 27...\n",
      "[INFO 12-22 13:47:19] ax.service.utils.instantiation: Inferred value type of ParameterType.FLOAT for parameter R. If that is not the expected value type, you can explicity specify 'value_type' ('int', 'float', 'bool' or 'str') in parameter dict.\n",
      "[INFO 12-22 13:47:19] ax.service.utils.instantiation: Inferred value type of ParameterType.FLOAT for parameter Y. If that is not the expected value type, you can explicity specify 'value_type' ('int', 'float', 'bool' or 'str') in parameter dict.\n",
      "[INFO 12-22 13:47:19] ax.service.utils.instantiation: Inferred value type of ParameterType.FLOAT for parameter B. If that is not the expected value type, you can explicity specify 'value_type' ('int', 'float', 'bool' or 'str') in parameter dict.\n",
      "[INFO 12-22 13:47:19] ax.service.utils.instantiation: Created search space: SearchSpace(parameters=[RangeParameter(name='R', parameter_type=FLOAT, range=[0.0, 0.5]), RangeParameter(name='Y', parameter_type=FLOAT, range=[0.0, 0.5]), RangeParameter(name='B', parameter_type=FLOAT, range=[0.0, 0.5])], parameter_constraints=[]).\n",
      "[INFO 12-22 13:47:19] ax.modelbridge.dispatch_utils: Using Bayesian optimization since there are more ordered parameters than there are categories for the unordered categorical parameters.\n",
      "[INFO 12-22 13:47:19] ax.modelbridge.dispatch_utils: Using Bayesian Optimization generation strategy: GenerationStrategy(name='Sobol+GPEI', steps=[Sobol for 6 trials, GPEI for subsequent trials]). Iterations after 6 will take longer to generate due to  model-fitting.\n",
      "[INFO 12-22 13:47:19] ax.service.managed_loop: Started full optimization with 27 steps.\n",
      "[INFO 12-22 13:47:19] ax.service.managed_loop: Running optimization trial 1...\n",
      "[INFO 12-22 13:47:49] ax.service.managed_loop: Running optimization trial 2...\n",
      "[INFO 12-22 13:48:13] ax.service.managed_loop: Running optimization trial 3...\n",
      "[INFO 12-22 13:48:44] ax.service.managed_loop: Running optimization trial 4...\n",
      "[INFO 12-22 13:49:13] ax.service.managed_loop: Running optimization trial 5...\n",
      "[INFO 12-22 13:49:38] ax.service.managed_loop: Running optimization trial 6...\n",
      "[INFO 12-22 13:50:03] ax.service.managed_loop: Running optimization trial 7...\n",
      "[INFO 12-22 13:50:26] ax.service.managed_loop: Running optimization trial 8...\n",
      "[INFO 12-22 13:50:52] ax.service.managed_loop: Running optimization trial 9...\n",
      "[INFO 12-22 13:51:17] ax.service.managed_loop: Running optimization trial 10...\n",
      "[INFO 12-22 13:51:40] ax.service.managed_loop: Running optimization trial 11...\n",
      "[INFO 12-22 13:52:41] ax.service.managed_loop: Running optimization trial 12...\n",
      "[INFO 12-22 13:53:07] ax.service.managed_loop: Running optimization trial 13...\n",
      "[INFO 12-22 13:53:31] ax.service.managed_loop: Running optimization trial 14...\n",
      "[INFO 12-22 13:53:56] ax.service.managed_loop: Running optimization trial 15...\n",
      "[INFO 12-22 13:54:20] ax.service.managed_loop: Running optimization trial 16...\n",
      "[INFO 12-22 13:54:48] ax.service.managed_loop: Running optimization trial 17...\n",
      "[INFO 12-22 13:55:13] ax.service.managed_loop: Running optimization trial 18...\n",
      "[INFO 12-22 13:55:39] ax.service.managed_loop: Running optimization trial 19...\n",
      "[INFO 12-22 13:56:03] ax.service.managed_loop: Running optimization trial 20...\n",
      "[INFO 12-22 13:56:28] ax.service.managed_loop: Running optimization trial 21...\n",
      "[INFO 12-22 13:56:51] ax.service.managed_loop: Running optimization trial 22...\n",
      "[INFO 12-22 13:57:17] ax.service.managed_loop: Running optimization trial 23...\n",
      "[INFO 12-22 13:57:43] ax.service.managed_loop: Running optimization trial 24...\n",
      "[INFO 12-22 13:58:08] ax.service.managed_loop: Running optimization trial 25...\n",
      "[INFO 12-22 13:58:37] ax.service.managed_loop: Running optimization trial 26...\n",
      "[INFO 12-22 13:59:07] ax.service.managed_loop: Running optimization trial 27...\n",
      "[INFO 12-22 13:59:36] ax.service.utils.instantiation: Inferred value type of ParameterType.FLOAT for parameter R. If that is not the expected value type, you can explicity specify 'value_type' ('int', 'float', 'bool' or 'str') in parameter dict.\n",
      "[INFO 12-22 13:59:36] ax.service.utils.instantiation: Inferred value type of ParameterType.FLOAT for parameter Y. If that is not the expected value type, you can explicity specify 'value_type' ('int', 'float', 'bool' or 'str') in parameter dict.\n",
      "[INFO 12-22 13:59:36] ax.service.utils.instantiation: Inferred value type of ParameterType.FLOAT for parameter B. If that is not the expected value type, you can explicity specify 'value_type' ('int', 'float', 'bool' or 'str') in parameter dict.\n",
      "[INFO 12-22 13:59:36] ax.service.utils.instantiation: Created search space: SearchSpace(parameters=[RangeParameter(name='R', parameter_type=FLOAT, range=[0.0, 0.5]), RangeParameter(name='Y', parameter_type=FLOAT, range=[0.0, 0.5]), RangeParameter(name='B', parameter_type=FLOAT, range=[0.0, 0.5])], parameter_constraints=[]).\n",
      "[INFO 12-22 13:59:36] ax.modelbridge.dispatch_utils: Using Bayesian optimization since there are more ordered parameters than there are categories for the unordered categorical parameters.\n",
      "[INFO 12-22 13:59:36] ax.modelbridge.dispatch_utils: Using Bayesian Optimization generation strategy: GenerationStrategy(name='Sobol+GPEI', steps=[Sobol for 6 trials, GPEI for subsequent trials]). Iterations after 6 will take longer to generate due to  model-fitting.\n",
      "[INFO 12-22 13:59:36] ax.service.managed_loop: Started full optimization with 27 steps.\n",
      "[INFO 12-22 13:59:36] ax.service.managed_loop: Running optimization trial 1...\n",
      "[INFO 12-22 14:00:00] ax.service.managed_loop: Running optimization trial 2...\n",
      "[INFO 12-22 14:00:24] ax.service.managed_loop: Running optimization trial 3...\n",
      "[INFO 12-22 14:00:49] ax.service.managed_loop: Running optimization trial 4...\n",
      "[INFO 12-22 14:01:14] ax.service.managed_loop: Running optimization trial 5...\n",
      "[INFO 12-22 14:01:39] ax.service.managed_loop: Running optimization trial 6...\n",
      "[INFO 12-22 14:02:04] ax.service.managed_loop: Running optimization trial 7...\n",
      "[INFO 12-22 14:02:27] ax.service.managed_loop: Running optimization trial 8...\n",
      "[INFO 12-22 14:02:53] ax.service.managed_loop: Running optimization trial 9...\n",
      "[INFO 12-22 14:03:17] ax.service.managed_loop: Running optimization trial 10...\n",
      "[INFO 12-22 14:03:42] ax.service.managed_loop: Running optimization trial 11...\n",
      "[INFO 12-22 14:04:06] ax.service.managed_loop: Running optimization trial 12...\n",
      "[INFO 12-22 14:04:31] ax.service.managed_loop: Running optimization trial 13...\n",
      "[INFO 12-22 14:05:00] ax.service.managed_loop: Running optimization trial 14...\n",
      "[INFO 12-22 14:05:28] ax.service.managed_loop: Running optimization trial 15...\n",
      "[INFO 12-22 14:05:56] ax.service.managed_loop: Running optimization trial 16...\n",
      "[INFO 12-22 14:06:22] ax.service.managed_loop: Running optimization trial 17...\n",
      "[INFO 12-22 14:06:46] ax.service.managed_loop: Running optimization trial 18...\n",
      "[INFO 12-22 14:07:11] ax.service.managed_loop: Running optimization trial 19...\n",
      "[INFO 12-22 14:07:34] ax.service.managed_loop: Running optimization trial 20...\n",
      "[INFO 12-22 14:08:00] ax.service.managed_loop: Running optimization trial 21...\n",
      "[INFO 12-22 14:08:24] ax.service.managed_loop: Running optimization trial 22...\n",
      "[INFO 12-22 14:08:50] ax.service.managed_loop: Running optimization trial 23...\n",
      "[INFO 12-22 14:09:16] ax.service.managed_loop: Running optimization trial 24...\n",
      "[INFO 12-22 14:09:41] ax.service.managed_loop: Running optimization trial 25...\n",
      "[INFO 12-22 14:10:06] ax.service.managed_loop: Running optimization trial 26...\n",
      "[INFO 12-22 14:10:34] ax.service.managed_loop: Running optimization trial 27...\n",
      "[INFO 12-22 14:11:02] ax.service.utils.instantiation: Inferred value type of ParameterType.FLOAT for parameter R. If that is not the expected value type, you can explicity specify 'value_type' ('int', 'float', 'bool' or 'str') in parameter dict.\n",
      "[INFO 12-22 14:11:02] ax.service.utils.instantiation: Inferred value type of ParameterType.FLOAT for parameter Y. If that is not the expected value type, you can explicity specify 'value_type' ('int', 'float', 'bool' or 'str') in parameter dict.\n",
      "[INFO 12-22 14:11:02] ax.service.utils.instantiation: Inferred value type of ParameterType.FLOAT for parameter B. If that is not the expected value type, you can explicity specify 'value_type' ('int', 'float', 'bool' or 'str') in parameter dict.\n",
      "[INFO 12-22 14:11:02] ax.service.utils.instantiation: Created search space: SearchSpace(parameters=[RangeParameter(name='R', parameter_type=FLOAT, range=[0.0, 0.5]), RangeParameter(name='Y', parameter_type=FLOAT, range=[0.0, 0.5]), RangeParameter(name='B', parameter_type=FLOAT, range=[0.0, 0.5])], parameter_constraints=[]).\n",
      "[INFO 12-22 14:11:02] ax.modelbridge.dispatch_utils: Using Bayesian optimization since there are more ordered parameters than there are categories for the unordered categorical parameters.\n",
      "[INFO 12-22 14:11:02] ax.modelbridge.dispatch_utils: Using Bayesian Optimization generation strategy: GenerationStrategy(name='Sobol+GPEI', steps=[Sobol for 6 trials, GPEI for subsequent trials]). Iterations after 6 will take longer to generate due to  model-fitting.\n",
      "[INFO 12-22 14:11:02] ax.service.managed_loop: Started full optimization with 27 steps.\n",
      "[INFO 12-22 14:11:02] ax.service.managed_loop: Running optimization trial 1...\n",
      "[INFO 12-22 14:11:27] ax.service.managed_loop: Running optimization trial 2...\n",
      "[INFO 12-22 14:11:51] ax.service.managed_loop: Running optimization trial 3...\n",
      "[INFO 12-22 14:12:17] ax.service.managed_loop: Running optimization trial 4...\n",
      "[INFO 12-22 14:12:46] ax.service.managed_loop: Running optimization trial 5...\n",
      "[INFO 12-22 14:13:12] ax.service.managed_loop: Running optimization trial 6...\n",
      "[INFO 12-22 14:13:35] ax.service.managed_loop: Running optimization trial 7...\n",
      "[INFO 12-22 14:14:00] ax.service.managed_loop: Running optimization trial 8...\n",
      "[INFO 12-22 14:14:26] ax.service.managed_loop: Running optimization trial 9...\n",
      "[INFO 12-22 14:14:51] ax.service.managed_loop: Running optimization trial 10...\n",
      "[INFO 12-22 14:15:18] ax.service.managed_loop: Running optimization trial 11...\n",
      "[INFO 12-22 14:15:47] ax.service.managed_loop: Running optimization trial 12...\n",
      "[INFO 12-22 14:16:13] ax.service.managed_loop: Running optimization trial 13...\n",
      "[INFO 12-22 14:16:38] ax.service.managed_loop: Running optimization trial 14...\n",
      "[INFO 12-22 14:17:03] ax.service.managed_loop: Running optimization trial 15...\n",
      "[INFO 12-22 14:17:30] ax.service.managed_loop: Running optimization trial 16...\n",
      "[INFO 12-22 14:17:53] ax.service.managed_loop: Running optimization trial 17...\n",
      "[INFO 12-22 14:18:21] ax.service.managed_loop: Running optimization trial 18...\n",
      "[INFO 12-22 14:18:45] ax.service.managed_loop: Running optimization trial 19...\n",
      "[INFO 12-22 14:19:11] ax.service.managed_loop: Running optimization trial 20...\n",
      "[INFO 12-22 14:19:37] ax.service.managed_loop: Running optimization trial 21...\n",
      "[INFO 12-22 14:20:04] ax.service.managed_loop: Running optimization trial 22...\n",
      "[INFO 12-22 14:20:29] ax.service.managed_loop: Running optimization trial 23...\n",
      "[INFO 12-22 14:20:53] ax.service.managed_loop: Running optimization trial 24...\n",
      "[INFO 12-22 14:21:18] ax.service.managed_loop: Running optimization trial 25...\n",
      "[INFO 12-22 14:21:41] ax.service.managed_loop: Running optimization trial 26...\n",
      "[INFO 12-22 14:22:06] ax.service.managed_loop: Running optimization trial 27...\n"
     ]
    },
    {
     "name": "stdout",
     "output_type": "stream",
     "text": [
      "CPU times: total: 8min 10s\n",
      "Wall time: 58min 54s\n"
     ]
    }
   ],
   "source": [
    "%%time\n",
    "bo_results = []\n",
    "objective_name = \"frechet\"\n",
    "\n",
    "for sdl in tqdm(sdls):\n",
    "    def evaluation_function(parameters):\n",
    "        data = sdl.evaluate(parameters)\n",
    "        return data[objective_name]\n",
    "\n",
    "    bo_results.append(optimize(\n",
    "        parameters=sdl.parameters[:3], # R, Y, B\n",
    "        evaluation_function=evaluation_function,\n",
    "        minimize=True,\n",
    "        total_trials = num_iter,\n",
    "    ))\n",
    "\n",
    "best_parameters, values, experiment, model = zip(*bo_results)\n",
    "sdls[0].clear()"
   ]
  },
  {
   "cell_type": "markdown",
   "metadata": {},
   "source": [
    "### Analysis\n",
    "\n",
    "Now that we've run our three optimizations, let's compare the performance in tabular\n",
    "form and visually."
   ]
  },
  {
   "cell_type": "markdown",
   "metadata": {},
   "source": [
    "### Preparing the data"
   ]
  },
  {
   "cell_type": "code",
   "execution_count": 28,
   "metadata": {},
   "outputs": [],
   "source": [
    "grid_obj = [[g[objective_name] for g in gd] for gd in grid_data]\n",
    "random_obj = [[r[objective_name] for r in rd] for rd in random_data]\n",
    "bayesian_obj = [exp.fetch_data().df[\"mean\"].tolist() for exp in experiment]"
   ]
  },
  {
   "cell_type": "code",
   "execution_count": 29,
   "metadata": {},
   "outputs": [
    {
     "data": {
      "text/plain": [
       "(3, 5, 27)"
      ]
     },
     "execution_count": 29,
     "metadata": {},
     "output_type": "execute_result"
    }
   ],
   "source": [
    "obj = np.array([grid_obj, random_obj, bayesian_obj])\n",
    "obj.shape"
   ]
  },
  {
   "cell_type": "markdown",
   "metadata": {},
   "source": [
    "### Tabular"
   ]
  },
  {
   "cell_type": "code",
   "execution_count": 44,
   "metadata": {},
   "outputs": [
    {
     "name": "stdout",
     "output_type": "stream",
     "text": [
      "(3, 27)\n",
      "(3, 27)\n"
     ]
    }
   ],
   "source": [
    "cum_obj = np.minimum.accumulate(obj, axis=2)\n",
    "avg_obj = np.mean(cum_obj, axis=1)\n",
    "std_obj = np.std(cum_obj, axis=1)\n",
    "print(avg_obj.shape)\n",
    "print(std_obj.shape)"
   ]
  },
  {
   "cell_type": "code",
   "execution_count": 45,
   "metadata": {},
   "outputs": [
    {
     "data": {
      "text/plain": [
       "18483.474166954922"
      ]
     },
     "execution_count": 45,
     "metadata": {},
     "output_type": "execute_result"
    }
   ],
   "source": [
    "np.mean(random_obj)"
   ]
  },
  {
   "cell_type": "code",
   "execution_count": 46,
   "metadata": {},
   "outputs": [
    {
     "data": {
      "text/plain": [
       "array([10583.55585801,  8239.4       ,  4916.        ])"
      ]
     },
     "execution_count": 46,
     "metadata": {},
     "output_type": "execute_result"
    }
   ],
   "source": [
    "best_avg_obj = np.min(avg_obj, axis=1)\n",
    "best_avg_obj"
   ]
  },
  {
   "cell_type": "markdown",
   "metadata": {},
   "source": [
    "### Best Objective vs. Iteration"
   ]
  },
  {
   "cell_type": "code",
   "execution_count": 47,
   "metadata": {},
   "outputs": [],
   "source": [
    "names = [\"grid\", \"random\", \"bayesian\"]\n",
    "df = pd.DataFrame({\n",
    "    **{f\"{n}_{objective_name}\": m for n, m in zip(names, avg_obj)},\n",
    "    **{f\"{n}_std\": s for n, s in zip(names, std_obj)},\n",
    "})\n"
   ]
  },
  {
   "cell_type": "code",
   "execution_count": 48,
   "metadata": {},
   "outputs": [],
   "source": [
    "obj_df = pd.melt(df.reset_index(), id_vars=[\"index\"], value_vars = [f\"grid_{objective_name}\", f\"random_{objective_name}\", f\"bayesian_{objective_name}\"], var_name=\"method\", value_name=objective_name)\n",
    "\n",
    "std_df = pd.melt(df.reset_index(), id_vars=[\"index\"], value_vars = [\"grid_std\", \"random_std\", \"bayesian_std\"], var_name=\"method\", value_name=\"std\")\n",
    "\n",
    "obj_df.loc[:, \"method\"] = obj_df.loc[:, \"method\"].apply(lambda x: x.replace(f\"_{objective_name}\", \"\"))\n",
    "std_df.loc[:, \"method\"] = std_df.loc[:, \"method\"].apply(lambda x: x.replace(\"_std\", \"\"))"
   ]
  },
  {
   "cell_type": "code",
   "execution_count": 49,
   "metadata": {},
   "outputs": [
    {
     "data": {
      "text/html": [
       "<div>\n",
       "<style scoped>\n",
       "    .dataframe tbody tr th:only-of-type {\n",
       "        vertical-align: middle;\n",
       "    }\n",
       "\n",
       "    .dataframe tbody tr th {\n",
       "        vertical-align: top;\n",
       "    }\n",
       "\n",
       "    .dataframe thead th {\n",
       "        text-align: right;\n",
       "    }\n",
       "</style>\n",
       "<table border=\"1\" class=\"dataframe\">\n",
       "  <thead>\n",
       "    <tr style=\"text-align: right;\">\n",
       "      <th></th>\n",
       "      <th>iteration</th>\n",
       "      <th>method</th>\n",
       "      <th>frechet</th>\n",
       "      <th>std</th>\n",
       "    </tr>\n",
       "  </thead>\n",
       "  <tbody>\n",
       "    <tr>\n",
       "      <th>0</th>\n",
       "      <td>0</td>\n",
       "      <td>grid</td>\n",
       "      <td>38102.319947</td>\n",
       "      <td>8121.454181</td>\n",
       "    </tr>\n",
       "    <tr>\n",
       "      <th>1</th>\n",
       "      <td>1</td>\n",
       "      <td>grid</td>\n",
       "      <td>35976.401214</td>\n",
       "      <td>11727.675433</td>\n",
       "    </tr>\n",
       "    <tr>\n",
       "      <th>2</th>\n",
       "      <td>2</td>\n",
       "      <td>grid</td>\n",
       "      <td>35818.341867</td>\n",
       "      <td>12012.545831</td>\n",
       "    </tr>\n",
       "    <tr>\n",
       "      <th>3</th>\n",
       "      <td>3</td>\n",
       "      <td>grid</td>\n",
       "      <td>30889.270616</td>\n",
       "      <td>10553.165042</td>\n",
       "    </tr>\n",
       "    <tr>\n",
       "      <th>4</th>\n",
       "      <td>4</td>\n",
       "      <td>grid</td>\n",
       "      <td>26537.170294</td>\n",
       "      <td>10197.708516</td>\n",
       "    </tr>\n",
       "    <tr>\n",
       "      <th>...</th>\n",
       "      <td>...</td>\n",
       "      <td>...</td>\n",
       "      <td>...</td>\n",
       "      <td>...</td>\n",
       "    </tr>\n",
       "    <tr>\n",
       "      <th>76</th>\n",
       "      <td>22</td>\n",
       "      <td>bayesian</td>\n",
       "      <td>5099.000000</td>\n",
       "      <td>955.318586</td>\n",
       "    </tr>\n",
       "    <tr>\n",
       "      <th>77</th>\n",
       "      <td>23</td>\n",
       "      <td>bayesian</td>\n",
       "      <td>5059.600000</td>\n",
       "      <td>913.351980</td>\n",
       "    </tr>\n",
       "    <tr>\n",
       "      <th>78</th>\n",
       "      <td>24</td>\n",
       "      <td>bayesian</td>\n",
       "      <td>5059.600000</td>\n",
       "      <td>913.351980</td>\n",
       "    </tr>\n",
       "    <tr>\n",
       "      <th>79</th>\n",
       "      <td>25</td>\n",
       "      <td>bayesian</td>\n",
       "      <td>4922.800000</td>\n",
       "      <td>759.119068</td>\n",
       "    </tr>\n",
       "    <tr>\n",
       "      <th>80</th>\n",
       "      <td>26</td>\n",
       "      <td>bayesian</td>\n",
       "      <td>4916.000000</td>\n",
       "      <td>762.162187</td>\n",
       "    </tr>\n",
       "  </tbody>\n",
       "</table>\n",
       "<p>81 rows × 4 columns</p>\n",
       "</div>"
      ],
      "text/plain": [
       "    iteration    method       frechet           std\n",
       "0           0      grid  38102.319947   8121.454181\n",
       "1           1      grid  35976.401214  11727.675433\n",
       "2           2      grid  35818.341867  12012.545831\n",
       "3           3      grid  30889.270616  10553.165042\n",
       "4           4      grid  26537.170294  10197.708516\n",
       "..        ...       ...           ...           ...\n",
       "76         22  bayesian   5099.000000    955.318586\n",
       "77         23  bayesian   5059.600000    913.351980\n",
       "78         24  bayesian   5059.600000    913.351980\n",
       "79         25  bayesian   4922.800000    759.119068\n",
       "80         26  bayesian   4916.000000    762.162187\n",
       "\n",
       "[81 rows x 4 columns]"
      ]
     },
     "execution_count": 49,
     "metadata": {},
     "output_type": "execute_result"
    }
   ],
   "source": [
    "results_df = obj_df.merge(std_df, on=[\"method\", \"index\"]).rename(columns=dict(index=\"iteration\"))\n",
    "results_df.to_csv(\"clslab-liquid-grid-random-bayes-comparison.csv\", index=False)\n",
    "results_df"
   ]
  },
  {
   "cell_type": "markdown",
   "metadata": {},
   "source": [
    "### Visualization\n",
    "As we might expect, Bayesian optimization outperforms random search while grid and\n",
    "random search are on par with each other."
   ]
  },
  {
   "cell_type": "code",
   "execution_count": 50,
   "metadata": {},
   "outputs": [
    {
     "data": {
      "application/vnd.plotly.v1+json": {
       "config": {
        "plotlyServerURL": "https://plot.ly"
       },
       "data": [
        {
         "fill": "toself",
         "fillcolor": "rgba(99,110,250,.3)",
         "hoverinfo": "skip",
         "legendgroup": "grid",
         "line": {
          "color": "rgba(255,255,255,0)"
         },
         "showlegend": false,
         "type": "scatter",
         "x": [
          0,
          1,
          2,
          3,
          4,
          5,
          6,
          7,
          8,
          9,
          10,
          11,
          12,
          13,
          14,
          15,
          16,
          17,
          18,
          19,
          20,
          21,
          22,
          23,
          24,
          25,
          26,
          26,
          25,
          24,
          23,
          22,
          21,
          20,
          19,
          18,
          17,
          16,
          15,
          14,
          13,
          12,
          11,
          10,
          9,
          8,
          7,
          6,
          5,
          4,
          3,
          2,
          1,
          0
         ],
         "xaxis": "x",
         "y": [
          46223.774128892175,
          47704.07664733299,
          47830.887697123326,
          41442.43565826884,
          36734.87881047406,
          36734.87881047406,
          34226.580079830244,
          33651.764119114145,
          33738.31591530479,
          33738.31591530479,
          33446.601555866684,
          33446.601555866684,
          34019.12911192858,
          22881.922986026155,
          22881.922986026155,
          15339.018650517894,
          15339.018650517894,
          14989.254281679918,
          14989.254281679918,
          14989.254281679918,
          14989.254281679918,
          14989.254281679918,
          14989.254281679918,
          14989.254281679918,
          14989.254281679918,
          14989.254281679918,
          14989.254281679918,
          6177.857434348919,
          6177.857434348919,
          6177.857434348919,
          6177.857434348919,
          6177.857434348919,
          6177.857434348919,
          6177.857434348919,
          6177.857434348919,
          6177.857434348919,
          6177.857434348919,
          6686.121988048396,
          6686.121988048396,
          7757.041501859318,
          7757.041501859318,
          10927.676078010967,
          13321.382209181469,
          13321.382209181469,
          15029.280062567606,
          15029.280062567606,
          15349.79744724671,
          15361.781200074678,
          16339.461777542858,
          16339.461777542858,
          20336.10557383707,
          23805.7960359484,
          24248.72578147929,
          29980.865766037496
         ],
         "yaxis": "y"
        },
        {
         "hovertemplate": "method=grid<br>iteration=%{x}<br>frechet=%{y}<extra></extra>",
         "legendgroup": "grid",
         "line": {
          "color": "#636efa",
          "dash": "solid"
         },
         "marker": {
          "symbol": "circle"
         },
         "mode": "lines",
         "name": "grid",
         "orientation": "v",
         "showlegend": true,
         "type": "scatter",
         "x": [
          0,
          1,
          2,
          3,
          4,
          5,
          6,
          7,
          8,
          9,
          10,
          11,
          12,
          13,
          14,
          15,
          16,
          17,
          18,
          19,
          20,
          21,
          22,
          23,
          24,
          25,
          26
         ],
         "xaxis": "x",
         "y": [
          38102.319947464835,
          35976.40121440614,
          35818.34186653586,
          30889.270616052956,
          26537.170294008458,
          26537.170294008458,
          24794.18063995246,
          24500.780783180428,
          24383.797988936196,
          24383.797988936196,
          23383.991882524075,
          23383.991882524075,
          22473.402594969775,
          15319.482243942737,
          15319.482243942737,
          11012.570319283144,
          11012.570319283144,
          10583.555858014419,
          10583.555858014419,
          10583.555858014419,
          10583.555858014419,
          10583.555858014419,
          10583.555858014419,
          10583.555858014419,
          10583.555858014419,
          10583.555858014419,
          10583.555858014419
         ],
         "yaxis": "y"
        },
        {
         "fill": "toself",
         "fillcolor": "rgba(239,85,59,.3)",
         "hoverinfo": "skip",
         "legendgroup": "random",
         "line": {
          "color": "rgba(255,255,255,0)"
         },
         "showlegend": false,
         "type": "scatter",
         "x": [
          0,
          1,
          2,
          3,
          4,
          5,
          6,
          7,
          8,
          9,
          10,
          11,
          12,
          13,
          14,
          15,
          16,
          17,
          18,
          19,
          20,
          21,
          22,
          23,
          24,
          25,
          26,
          26,
          25,
          24,
          23,
          22,
          21,
          20,
          19,
          18,
          17,
          16,
          15,
          14,
          13,
          12,
          11,
          10,
          9,
          8,
          7,
          6,
          5,
          4,
          3,
          2,
          1,
          0
         ],
         "xaxis": "x",
         "y": [
          25026.957412382355,
          20865.590854823782,
          15749.196929627002,
          15749.196929627002,
          15749.196929627002,
          15749.196929627002,
          15749.196929627002,
          15749.196929627002,
          14837.449953696083,
          14837.449953696083,
          14837.449953696083,
          13804.004154339675,
          13804.004154339675,
          9505.50624407705,
          9505.50624407705,
          9505.50624407705,
          9225.670379952062,
          9225.670379952062,
          9114.393615375177,
          9114.393615375177,
          9114.393615375177,
          9114.393615375177,
          8874.299684103993,
          8578.45374205279,
          8578.45374205279,
          8578.45374205279,
          8578.45374205279,
          7900.34625794721,
          7900.34625794721,
          7900.34625794721,
          7900.34625794721,
          8082.900315896007,
          8055.6063846248235,
          8055.6063846248235,
          8055.6063846248235,
          8055.6063846248235,
          8196.329620047938,
          8196.329620047938,
          8443.69375592295,
          8443.69375592295,
          8443.69375592295,
          7795.606564403637,
          7795.606564403637,
          8583.760765047227,
          8583.760765047227,
          8583.760765047227,
          9697.21378911631,
          9697.21378911631,
          9697.21378911631,
          9697.21378911631,
          9697.21378911631,
          9697.21378911631,
          11380.419863919527,
          17170.352910723755
         ],
         "yaxis": "y"
        },
        {
         "hovertemplate": "method=random<br>iteration=%{x}<br>frechet=%{y}<extra></extra>",
         "legendgroup": "random",
         "line": {
          "color": "#EF553B",
          "dash": "solid"
         },
         "marker": {
          "symbol": "circle"
         },
         "mode": "lines",
         "name": "random",
         "orientation": "v",
         "showlegend": true,
         "type": "scatter",
         "x": [
          0,
          1,
          2,
          3,
          4,
          5,
          6,
          7,
          8,
          9,
          10,
          11,
          12,
          13,
          14,
          15,
          16,
          17,
          18,
          19,
          20,
          21,
          22,
          23,
          24,
          25,
          26
         ],
         "xaxis": "x",
         "y": [
          21098.655161553055,
          16123.005359371655,
          12723.205359371656,
          12723.205359371656,
          12723.205359371656,
          12723.205359371656,
          12723.205359371656,
          12723.205359371656,
          11710.605359371655,
          11710.605359371655,
          11710.605359371655,
          10799.805359371656,
          10799.805359371656,
          8974.6,
          8974.6,
          8974.6,
          8711,
          8711,
          8585,
          8585,
          8585,
          8585,
          8478.6,
          8239.4,
          8239.4,
          8239.4,
          8239.4
         ],
         "yaxis": "y"
        },
        {
         "fill": "toself",
         "fillcolor": "rgba(0,204,150,.3)",
         "hoverinfo": "skip",
         "legendgroup": "bayesian",
         "line": {
          "color": "rgba(255,255,255,0)"
         },
         "showlegend": false,
         "type": "scatter",
         "x": [
          0,
          1,
          2,
          3,
          4,
          5,
          6,
          7,
          8,
          9,
          10,
          11,
          12,
          13,
          14,
          15,
          16,
          17,
          18,
          19,
          20,
          21,
          22,
          23,
          24,
          25,
          26,
          26,
          25,
          24,
          23,
          22,
          21,
          20,
          19,
          18,
          17,
          16,
          15,
          14,
          13,
          12,
          11,
          10,
          9,
          8,
          7,
          6,
          5,
          4,
          3,
          2,
          1,
          0
         ],
         "xaxis": "x",
         "y": [
          27509.006148114087,
          12658.868210666717,
          12491.350954174433,
          11161.03929450155,
          11063.308171392311,
          10979.240625050661,
          10807.385384904599,
          9768.301345401389,
          9488.692878822458,
          9488.692878822458,
          8040.648860852034,
          6943.4220530237135,
          6943.4220530237135,
          6943.4220530237135,
          6716.286353965802,
          6550.944358722298,
          6129.063495229617,
          6110.487493578686,
          6101.290163132706,
          6101.290163132706,
          6101.290163132706,
          6054.318585603776,
          6054.318585603776,
          5972.9519803449275,
          5972.9519803449275,
          5681.9190683944125,
          5678.16218746406,
          4153.83781253594,
          4163.680931605588,
          4146.248019655073,
          4146.248019655073,
          4143.681414396224,
          4143.681414396224,
          4140.3098368672945,
          4140.3098368672945,
          4140.3098368672945,
          4139.512506421314,
          4193.736504770382,
          4441.055641277702,
          4440.913646034199,
          5338.177946976287,
          5338.177946976287,
          5338.177946976287,
          5387.351139147966,
          5930.322879184904,
          5930.322879184904,
          6271.752675722268,
          6545.241198164549,
          7162.1859580184855,
          7295.716106373939,
          7395.149293056385,
          7585.0638059047,
          7971.568605047041,
          5898.230034766466
         ],
         "yaxis": "y"
        },
        {
         "hovertemplate": "method=bayesian<br>iteration=%{x}<br>frechet=%{y}<extra></extra>",
         "legendgroup": "bayesian",
         "line": {
          "color": "#00cc96",
          "dash": "solid"
         },
         "marker": {
          "symbol": "circle"
         },
         "mode": "lines",
         "name": "bayesian",
         "orientation": "v",
         "showlegend": true,
         "type": "scatter",
         "x": [
          0,
          1,
          2,
          3,
          4,
          5,
          6,
          7,
          8,
          9,
          10,
          11,
          12,
          13,
          14,
          15,
          16,
          17,
          18,
          19,
          20,
          21,
          22,
          23,
          24,
          25,
          26
         ],
         "xaxis": "x",
         "y": [
          16703.618091440276,
          10315.218407856879,
          10038.207380039566,
          9278.094293778968,
          9179.512138883125,
          9070.713291534574,
          8676.313291534574,
          8020.027010561828,
          7709.507879003681,
          7709.507879003681,
          6714,
          6140.8,
          6140.8,
          6140.8,
          5578.6,
          5496,
          5161.4,
          5125,
          5120.8,
          5120.8,
          5120.8,
          5099,
          5099,
          5059.6,
          5059.6,
          4922.8,
          4916
         ],
         "yaxis": "y"
        }
       ],
       "layout": {
        "legend": {
         "title": {
          "text": "method"
         },
         "tracegroupgap": 0
        },
        "margin": {
         "t": 60
        },
        "template": {
         "data": {
          "bar": [
           {
            "error_x": {
             "color": "#2a3f5f"
            },
            "error_y": {
             "color": "#2a3f5f"
            },
            "marker": {
             "line": {
              "color": "#E5ECF6",
              "width": 0.5
             },
             "pattern": {
              "fillmode": "overlay",
              "size": 10,
              "solidity": 0.2
             }
            },
            "type": "bar"
           }
          ],
          "barpolar": [
           {
            "marker": {
             "line": {
              "color": "#E5ECF6",
              "width": 0.5
             },
             "pattern": {
              "fillmode": "overlay",
              "size": 10,
              "solidity": 0.2
             }
            },
            "type": "barpolar"
           }
          ],
          "carpet": [
           {
            "aaxis": {
             "endlinecolor": "#2a3f5f",
             "gridcolor": "white",
             "linecolor": "white",
             "minorgridcolor": "white",
             "startlinecolor": "#2a3f5f"
            },
            "baxis": {
             "endlinecolor": "#2a3f5f",
             "gridcolor": "white",
             "linecolor": "white",
             "minorgridcolor": "white",
             "startlinecolor": "#2a3f5f"
            },
            "type": "carpet"
           }
          ],
          "choropleth": [
           {
            "colorbar": {
             "outlinewidth": 0,
             "ticks": ""
            },
            "type": "choropleth"
           }
          ],
          "contour": [
           {
            "colorbar": {
             "outlinewidth": 0,
             "ticks": ""
            },
            "colorscale": [
             [
              0,
              "#0d0887"
             ],
             [
              0.1111111111111111,
              "#46039f"
             ],
             [
              0.2222222222222222,
              "#7201a8"
             ],
             [
              0.3333333333333333,
              "#9c179e"
             ],
             [
              0.4444444444444444,
              "#bd3786"
             ],
             [
              0.5555555555555556,
              "#d8576b"
             ],
             [
              0.6666666666666666,
              "#ed7953"
             ],
             [
              0.7777777777777778,
              "#fb9f3a"
             ],
             [
              0.8888888888888888,
              "#fdca26"
             ],
             [
              1,
              "#f0f921"
             ]
            ],
            "type": "contour"
           }
          ],
          "contourcarpet": [
           {
            "colorbar": {
             "outlinewidth": 0,
             "ticks": ""
            },
            "type": "contourcarpet"
           }
          ],
          "heatmap": [
           {
            "colorbar": {
             "outlinewidth": 0,
             "ticks": ""
            },
            "colorscale": [
             [
              0,
              "#0d0887"
             ],
             [
              0.1111111111111111,
              "#46039f"
             ],
             [
              0.2222222222222222,
              "#7201a8"
             ],
             [
              0.3333333333333333,
              "#9c179e"
             ],
             [
              0.4444444444444444,
              "#bd3786"
             ],
             [
              0.5555555555555556,
              "#d8576b"
             ],
             [
              0.6666666666666666,
              "#ed7953"
             ],
             [
              0.7777777777777778,
              "#fb9f3a"
             ],
             [
              0.8888888888888888,
              "#fdca26"
             ],
             [
              1,
              "#f0f921"
             ]
            ],
            "type": "heatmap"
           }
          ],
          "heatmapgl": [
           {
            "colorbar": {
             "outlinewidth": 0,
             "ticks": ""
            },
            "colorscale": [
             [
              0,
              "#0d0887"
             ],
             [
              0.1111111111111111,
              "#46039f"
             ],
             [
              0.2222222222222222,
              "#7201a8"
             ],
             [
              0.3333333333333333,
              "#9c179e"
             ],
             [
              0.4444444444444444,
              "#bd3786"
             ],
             [
              0.5555555555555556,
              "#d8576b"
             ],
             [
              0.6666666666666666,
              "#ed7953"
             ],
             [
              0.7777777777777778,
              "#fb9f3a"
             ],
             [
              0.8888888888888888,
              "#fdca26"
             ],
             [
              1,
              "#f0f921"
             ]
            ],
            "type": "heatmapgl"
           }
          ],
          "histogram": [
           {
            "marker": {
             "pattern": {
              "fillmode": "overlay",
              "size": 10,
              "solidity": 0.2
             }
            },
            "type": "histogram"
           }
          ],
          "histogram2d": [
           {
            "colorbar": {
             "outlinewidth": 0,
             "ticks": ""
            },
            "colorscale": [
             [
              0,
              "#0d0887"
             ],
             [
              0.1111111111111111,
              "#46039f"
             ],
             [
              0.2222222222222222,
              "#7201a8"
             ],
             [
              0.3333333333333333,
              "#9c179e"
             ],
             [
              0.4444444444444444,
              "#bd3786"
             ],
             [
              0.5555555555555556,
              "#d8576b"
             ],
             [
              0.6666666666666666,
              "#ed7953"
             ],
             [
              0.7777777777777778,
              "#fb9f3a"
             ],
             [
              0.8888888888888888,
              "#fdca26"
             ],
             [
              1,
              "#f0f921"
             ]
            ],
            "type": "histogram2d"
           }
          ],
          "histogram2dcontour": [
           {
            "colorbar": {
             "outlinewidth": 0,
             "ticks": ""
            },
            "colorscale": [
             [
              0,
              "#0d0887"
             ],
             [
              0.1111111111111111,
              "#46039f"
             ],
             [
              0.2222222222222222,
              "#7201a8"
             ],
             [
              0.3333333333333333,
              "#9c179e"
             ],
             [
              0.4444444444444444,
              "#bd3786"
             ],
             [
              0.5555555555555556,
              "#d8576b"
             ],
             [
              0.6666666666666666,
              "#ed7953"
             ],
             [
              0.7777777777777778,
              "#fb9f3a"
             ],
             [
              0.8888888888888888,
              "#fdca26"
             ],
             [
              1,
              "#f0f921"
             ]
            ],
            "type": "histogram2dcontour"
           }
          ],
          "mesh3d": [
           {
            "colorbar": {
             "outlinewidth": 0,
             "ticks": ""
            },
            "type": "mesh3d"
           }
          ],
          "parcoords": [
           {
            "line": {
             "colorbar": {
              "outlinewidth": 0,
              "ticks": ""
             }
            },
            "type": "parcoords"
           }
          ],
          "pie": [
           {
            "automargin": true,
            "type": "pie"
           }
          ],
          "scatter": [
           {
            "fillpattern": {
             "fillmode": "overlay",
             "size": 10,
             "solidity": 0.2
            },
            "type": "scatter"
           }
          ],
          "scatter3d": [
           {
            "line": {
             "colorbar": {
              "outlinewidth": 0,
              "ticks": ""
             }
            },
            "marker": {
             "colorbar": {
              "outlinewidth": 0,
              "ticks": ""
             }
            },
            "type": "scatter3d"
           }
          ],
          "scattercarpet": [
           {
            "marker": {
             "colorbar": {
              "outlinewidth": 0,
              "ticks": ""
             }
            },
            "type": "scattercarpet"
           }
          ],
          "scattergeo": [
           {
            "marker": {
             "colorbar": {
              "outlinewidth": 0,
              "ticks": ""
             }
            },
            "type": "scattergeo"
           }
          ],
          "scattergl": [
           {
            "marker": {
             "colorbar": {
              "outlinewidth": 0,
              "ticks": ""
             }
            },
            "type": "scattergl"
           }
          ],
          "scattermapbox": [
           {
            "marker": {
             "colorbar": {
              "outlinewidth": 0,
              "ticks": ""
             }
            },
            "type": "scattermapbox"
           }
          ],
          "scatterpolar": [
           {
            "marker": {
             "colorbar": {
              "outlinewidth": 0,
              "ticks": ""
             }
            },
            "type": "scatterpolar"
           }
          ],
          "scatterpolargl": [
           {
            "marker": {
             "colorbar": {
              "outlinewidth": 0,
              "ticks": ""
             }
            },
            "type": "scatterpolargl"
           }
          ],
          "scatterternary": [
           {
            "marker": {
             "colorbar": {
              "outlinewidth": 0,
              "ticks": ""
             }
            },
            "type": "scatterternary"
           }
          ],
          "surface": [
           {
            "colorbar": {
             "outlinewidth": 0,
             "ticks": ""
            },
            "colorscale": [
             [
              0,
              "#0d0887"
             ],
             [
              0.1111111111111111,
              "#46039f"
             ],
             [
              0.2222222222222222,
              "#7201a8"
             ],
             [
              0.3333333333333333,
              "#9c179e"
             ],
             [
              0.4444444444444444,
              "#bd3786"
             ],
             [
              0.5555555555555556,
              "#d8576b"
             ],
             [
              0.6666666666666666,
              "#ed7953"
             ],
             [
              0.7777777777777778,
              "#fb9f3a"
             ],
             [
              0.8888888888888888,
              "#fdca26"
             ],
             [
              1,
              "#f0f921"
             ]
            ],
            "type": "surface"
           }
          ],
          "table": [
           {
            "cells": {
             "fill": {
              "color": "#EBF0F8"
             },
             "line": {
              "color": "white"
             }
            },
            "header": {
             "fill": {
              "color": "#C8D4E3"
             },
             "line": {
              "color": "white"
             }
            },
            "type": "table"
           }
          ]
         },
         "layout": {
          "annotationdefaults": {
           "arrowcolor": "#2a3f5f",
           "arrowhead": 0,
           "arrowwidth": 1
          },
          "autotypenumbers": "strict",
          "coloraxis": {
           "colorbar": {
            "outlinewidth": 0,
            "ticks": ""
           }
          },
          "colorscale": {
           "diverging": [
            [
             0,
             "#8e0152"
            ],
            [
             0.1,
             "#c51b7d"
            ],
            [
             0.2,
             "#de77ae"
            ],
            [
             0.3,
             "#f1b6da"
            ],
            [
             0.4,
             "#fde0ef"
            ],
            [
             0.5,
             "#f7f7f7"
            ],
            [
             0.6,
             "#e6f5d0"
            ],
            [
             0.7,
             "#b8e186"
            ],
            [
             0.8,
             "#7fbc41"
            ],
            [
             0.9,
             "#4d9221"
            ],
            [
             1,
             "#276419"
            ]
           ],
           "sequential": [
            [
             0,
             "#0d0887"
            ],
            [
             0.1111111111111111,
             "#46039f"
            ],
            [
             0.2222222222222222,
             "#7201a8"
            ],
            [
             0.3333333333333333,
             "#9c179e"
            ],
            [
             0.4444444444444444,
             "#bd3786"
            ],
            [
             0.5555555555555556,
             "#d8576b"
            ],
            [
             0.6666666666666666,
             "#ed7953"
            ],
            [
             0.7777777777777778,
             "#fb9f3a"
            ],
            [
             0.8888888888888888,
             "#fdca26"
            ],
            [
             1,
             "#f0f921"
            ]
           ],
           "sequentialminus": [
            [
             0,
             "#0d0887"
            ],
            [
             0.1111111111111111,
             "#46039f"
            ],
            [
             0.2222222222222222,
             "#7201a8"
            ],
            [
             0.3333333333333333,
             "#9c179e"
            ],
            [
             0.4444444444444444,
             "#bd3786"
            ],
            [
             0.5555555555555556,
             "#d8576b"
            ],
            [
             0.6666666666666666,
             "#ed7953"
            ],
            [
             0.7777777777777778,
             "#fb9f3a"
            ],
            [
             0.8888888888888888,
             "#fdca26"
            ],
            [
             1,
             "#f0f921"
            ]
           ]
          },
          "colorway": [
           "#636efa",
           "#EF553B",
           "#00cc96",
           "#ab63fa",
           "#FFA15A",
           "#19d3f3",
           "#FF6692",
           "#B6E880",
           "#FF97FF",
           "#FECB52"
          ],
          "font": {
           "color": "#2a3f5f"
          },
          "geo": {
           "bgcolor": "white",
           "lakecolor": "white",
           "landcolor": "#E5ECF6",
           "showlakes": true,
           "showland": true,
           "subunitcolor": "white"
          },
          "hoverlabel": {
           "align": "left"
          },
          "hovermode": "closest",
          "mapbox": {
           "style": "light"
          },
          "paper_bgcolor": "white",
          "plot_bgcolor": "#E5ECF6",
          "polar": {
           "angularaxis": {
            "gridcolor": "white",
            "linecolor": "white",
            "ticks": ""
           },
           "bgcolor": "#E5ECF6",
           "radialaxis": {
            "gridcolor": "white",
            "linecolor": "white",
            "ticks": ""
           }
          },
          "scene": {
           "xaxis": {
            "backgroundcolor": "#E5ECF6",
            "gridcolor": "white",
            "gridwidth": 2,
            "linecolor": "white",
            "showbackground": true,
            "ticks": "",
            "zerolinecolor": "white"
           },
           "yaxis": {
            "backgroundcolor": "#E5ECF6",
            "gridcolor": "white",
            "gridwidth": 2,
            "linecolor": "white",
            "showbackground": true,
            "ticks": "",
            "zerolinecolor": "white"
           },
           "zaxis": {
            "backgroundcolor": "#E5ECF6",
            "gridcolor": "white",
            "gridwidth": 2,
            "linecolor": "white",
            "showbackground": true,
            "ticks": "",
            "zerolinecolor": "white"
           }
          },
          "shapedefaults": {
           "line": {
            "color": "#2a3f5f"
           }
          },
          "ternary": {
           "aaxis": {
            "gridcolor": "white",
            "linecolor": "white",
            "ticks": ""
           },
           "baxis": {
            "gridcolor": "white",
            "linecolor": "white",
            "ticks": ""
           },
           "bgcolor": "#E5ECF6",
           "caxis": {
            "gridcolor": "white",
            "linecolor": "white",
            "ticks": ""
           }
          },
          "title": {
           "x": 0.05
          },
          "xaxis": {
           "automargin": true,
           "gridcolor": "white",
           "linecolor": "white",
           "ticks": "",
           "title": {
            "standoff": 15
           },
           "zerolinecolor": "white",
           "zerolinewidth": 2
          },
          "yaxis": {
           "automargin": true,
           "gridcolor": "white",
           "linecolor": "white",
           "ticks": "",
           "title": {
            "standoff": 15
           },
           "zerolinecolor": "white",
           "zerolinewidth": 2
          }
         }
        },
        "xaxis": {
         "anchor": "y",
         "domain": [
          0,
          1
         ],
         "title": {
          "text": "iteration"
         }
        },
        "yaxis": {
         "anchor": "x",
         "domain": [
          0,
          1
         ],
         "range": [
          0,
          48787.505451065794
         ],
         "title": {
          "text": "frechet"
         }
        }
       }
      }
     },
     "metadata": {},
     "output_type": "display_data"
    }
   ],
   "source": [
    "# import plotly.express as px\n",
    "from self_driving_lab_demo.utils.plotting import line\n",
    "\n",
    "fig = line(\n",
    "    data_frame=results_df,\n",
    "    x=\"iteration\",\n",
    "    y=objective_name,\n",
    "    error_y=\"std\",\n",
    "    error_y_mode=\"band\",\n",
    "    color=\"method\",\n",
    ")\n",
    "max_y = (results_df[objective_name] + results_df[\"std\"]).max()\n",
    "fig.update_yaxes(range=[0.0, max_y*1.02])\n",
    "fig"
   ]
  },
  {
   "attachments": {},
   "cell_type": "markdown",
   "metadata": {},
   "source": [
    "#### Example Output\n",
    "\n",
    "![](clslab-liquid-grid-random-bayes-comparison.png?)"
   ]
  }
 ],
 "metadata": {
  "kernelspec": {
   "display_name": "Python 3.9.12 ('sdl-demo')",
   "language": "python",
   "name": "python3"
  },
  "language_info": {
   "codemirror_mode": {
    "name": "ipython",
    "version": 3
   },
   "file_extension": ".py",
   "mimetype": "text/x-python",
   "name": "python",
   "nbconvert_exporter": "python",
   "pygments_lexer": "ipython3",
   "version": "3.9.13"
  },
  "orig_nbformat": 4,
  "vscode": {
   "interpreter": {
    "hash": "70cb6d4911b67e25d1487ebd620c5d1370239efaaf47f3851af44f5c5a26f988"
   }
  }
 },
 "nbformat": 4,
 "nbformat_minor": 2
}
