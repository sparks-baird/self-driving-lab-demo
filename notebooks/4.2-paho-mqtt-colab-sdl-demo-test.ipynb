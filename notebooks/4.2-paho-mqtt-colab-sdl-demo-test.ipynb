{
 "cells": [
  {
   "cell_type": "markdown",
   "metadata": {
    "id": "5hwB8KgatJoa"
   },
   "source": [
    "[![Open In Colab](https://colab.research.google.com/assets/colab-badge.svg)](https://colab.research.google.com/github/sparks-baird/self-driving-lab-demo/blob/main/notebooks/4.2-paho-mqtt-colab-sdl-demo-test.ipynb)"
   ]
  },
  {
   "cell_type": "markdown",
   "metadata": {
    "id": "3SqGTCMkhrC7"
   },
   "source": [
    "# Remotely Access a Free Self-driving Lab Demo\n",
    "\n",
    "The fourth industrial revolution, or Industry 4.0, \"is revolutionizing the way companies manufacture, improve and distribute\n",
    "their products [by] integrating new technologies, including Internet of\n",
    "Things (IoT), cloud computing and analytics, and AI and machine learning into their\n",
    "production facilities and throughout their operations\"\n",
    "([IBM](https://www.ibm.com/topics/industry-4-0)).\n",
    "\n",
    "<!-- Too much jargon, paraphrase, doesn't actually say what Industry 4.0 is explicitly, which causes a poor transition to next section. Also, say what the source is instead of \"source\", e.g. IBM, and keep the hyperlink) -->\n",
    "\n",
    "<p align=\"center\">\n",
    "<img src=\"https://www.calsoft.com/wp-content/uploads/2022/07/27.-Industry-4.0-1.png\" width=450>\n",
    "</p>\n",
    "\n",
    "<p align=\"center\">\n",
    "<sup><a href=\"https://www.calsoft.com/what-is-industry-4-0/\">https://www.calsoft.com/what-is-industry-4-0/</a></sup>\n",
    "</p>\n",
    "\n",
    "While Industry 4.0 is accelerating the efficiency with which manufacturers develop\n",
    "products and respond to consumer needs, these products are inherently limited by the materials that make\n",
    "them up. Discovery of new materials (plastics, alloys, molecules, drugs) is typically a\n",
    "painstakingly slow process characterized by serendipity and manual trial-and-error.\n",
    "Phrased another way, if Marie Curie were to step into a modern-day chemistry lab, the processes\n",
    "would likely seem very familiar, for example: handheld pipetting and manual mixing.\n",
    "\n",
    "<p align=\"center\">\n",
    "<img src=\"https://github.com/sparks-baird/self-driving-lab-demo/blob/main/notebooks/serendipitous-discovery-2.png?raw=1\" width=300>\n",
    "</p>\n",
    "\n",
    "<p align=\"center\"><sub> What do the above materials (insulin, vulcanized rubber, teflon, etc.) have in common? They were discovered <b>accidentally</b>.</sub></p>\n",
    "\n",
    "What if we could bring the acceleration of Industry 4.0 to scientific research laboratory\n",
    "settings? This is where the concept of \"self-driving laboratories\" comes in. These are autonomous\n",
    "research laboratories that \"learn\" from prior experiments using artificial intelligence,\n",
    "automatically carry out the next experiments, and discover new materials in a fraction\n",
    "of the time and at a fraction of the cost. The researcher can then focus on higher-level\n",
    "scientific tasks \"such as formulating hypotheses, designing experimental\n",
    "campaigns, and interpreting data\"\n",
    "([source](https://dx.doi.org/10.1021/acs.accounts.2c00220)).\n",
    "\n",
    "<p align=\"center\">\n",
    "<img src=\"https://github.com/sparks-baird/self-driving-lab-demo/blob/main/notebooks/map-diagram-2.png?raw=true\" width=300>\n",
    "</p>\n",
    "\n",
    "\n",
    "<p align=\"center\">\n",
    "<sup>(<a href=\"https://doi.org/10.1016/j.matt.2022.05.035\">source</a>)</sup>\n",
    "\n",
    "Discoveries enabled by self-driving laboratories such as\n",
    "[RoboRXN](https://rxn.res.ibm.com/rxn/robo-rxn/welcome) or the increasing number of\n",
    "[AC-affiliated materials acceleration platforms](https://acceleration.utoronto.ca/maps)\n",
    "can help to address urgent societal needs related to climate change, energy, food, and agriculture.\n",
    "\n",
    "<p align=\"center\">\n",
    "<img src=\"https://github.com/sparks-baird/self-driving-lab-demo/blob/main/notebooks/robots-loop.gif?raw=1\" width=300>\n",
    "</p>\n",
    "\n",
    "<p align=\"center\"><sup>1. <a href=\"https://acceleration.utoronto.ca/maps/ada\">Ada, a thin-film discovery robot</a> 2. <a href=\"https://acceleration.utoronto.ca/maps/artificial-chemist\">Artificial Chemist for solar cell discovery</a> 3. <a href=\"https://pubmed.ncbi.nlm.nih.gov/31395756/\">Robotically reconfigurable flow chemistry platform</a> 4. <a href=\"https://www.science.org/doi/10.1126/science.aav2211\">Chemputer, a computer-driven automated chemistry lab</a> 5. <a href=\"https://acceleration.utoronto.ca/maps/mobile-robotic-chemist-2\">Mobile robot chemist</a><br>(Video source: <a href=\"https://acceleration.utoronto.ca/maps\">Acceleration Consortium</a>)</sup></p>\n",
    "\n",
    "While the number of self-driving laboratories is increasing, the cost of creating and\n",
    "maintaining a self-driving laboratory is entry-inhibiting. To address this\n",
    "need, there have been many excellent low-cost demos (see below).\n",
    "\n",
    "\n",
    "<p align=\"center\">\n",
    "<img src=\"https://github.com/sparks-baird/self-driving-lab-demo/blob/main/notebooks/low-cost-sdl-demo-prior.png?raw=1\" width=450>\n",
    "\n",
    "<sup> (a) <a href=\"https://dx.doi.org/10.1038/ncomms6571\">J. M. P. Gutierrez, et al., Nat Commun. 5, 5571 (2014)</a>. (b) <a href=\"https://dx.doi.org/10.1038/s41467-018-05828-8\">D. Caramelli et al., Nat Commun. 9, 3406 (2018)</a>. (c) <a href=\"https:/dx.doi.org/10.1371/journal.pone.0229862\">L. M. Roch et al., PLoS ONE. 15, e0229862 (2020)</a>. (d) <a href=\"https://t.co/LEnbzen6dc\">Tonio Buonassisi. Twitter (2020)</a>. (e) <a href=\"https://dx.doi.org/10.1021/acs.jchemed.0c01394\">F. Yang et al., J. Chem. Educ. 98, 876–881 (2021)</a>. (f) <a href=\"https://dx.doi.org/10.1557/s43577-021-00051-1\">J. R. Deneault et al., MRS Bulletin. 46, 566–575 (2021) </a>. (g) <a href=\"https://dx.doi.org/10.48550/arXiv.2204.04187\">L. Saar et al., (2022)</a>. (h) <a href=\"https://youtu.be/SX26XRFx0U0\">Atinary SDLabs Demo. YouTube (2022) </a>.\n",
    "</sup>\n",
    "</p>\n",
    "\n",
    "## SDL-Demo: A Low-cost, Easy-to-use, Low-footprint, Self-Driving Lab Demo\n",
    "\n",
    "Despite the increased accessibility through low-cost demos, for wider\n",
    "adoption, we need something that is even lower cost (< 100 USD), easier to setup (< 1\n",
    "hr), and that has a smaller footprint (< 1 sq. ft) *while retaining key principles of a self-driving laboratory*. Our solution is SDL-Demo, a teaching and\n",
    "prototyping platform for self-driving laboratories with an emphasis on principles of\n",
    "accelerating materials discovery. The following table illustrates high-level differences\n",
    "between prior work and SDL-Demo.\n",
    "\n",
    "<p align=\"center\">\n",
    "<img src=\"https://github.com/sparks-baird/self-driving-lab-demo/blob/main/notebooks/low-cost-sdl-summary-table.png?raw=true\" width=450>\n",
    "\n",
    "<sup>Summary of low-cost self-driving lab demos. From left to right: picture of setup, name of group, year, hardware cost in USD, number of design variables, minutes required per iteration/experiment, whether or not custom parts are required, the number of axes, and whether computer vision is used. SDL-Demo has the lowest cost (~50 USD), setup time (no custom parts), and footprint (~4\"x4\"). </sup>\n",
    "</p>\n",
    "\n",
    "<!-- This figure needs a white background. Not enough context here. Maybe needs a caption. State what the columns are, especially hardware cost and whether custom parts are needed. Also, I think the table needs to be updated, not sure if it's accurate (e.g. Cronin 2018 not requiring custom parts). -->\n",
    "\n",
    "SDL-Demo can be easily set up and paired with optimization algorithms for closed-loop\n",
    "discovery. This is similar to several demos where the task was to mix liquids in order\n",
    "to match a target color; however, in our case we are mixing light instead of matter.\n",
    "While this demo does not explicitly involve chemistry or materials science, key concepts\n",
    "of self-driving laboratories focused on materials discovery are retained: sending\n",
    "commands to hardware, reading data from sensors, using optimization algorithms to\n",
    "suggest next experiments, and optionally incorporating physics-based simulations to inform the\n",
    "optimization process.\n",
    "\n",
    "<!-- ![](https://github.com/sparks-baird/self-driving-lab-demo/blob/main/reports/figures/clslab-light/abstract-white-background.png?raw=true) -->\n",
    "\n",
    "<p align=\"center\">\n",
    "<img src=\"clslab-light.gif\" width=400>\n",
    "\n",
    "<sup>SDL-Demo summary. A microcontroller (Raspberry Pi (RPi)) sends commands to a dimmable LED. A spectrophotometer measures the light signal. The microcontroller reads the intensity values from the spectrophotometer. An AI algorithm uses these newly measured values and prior information to choose the next set of LED parameters to better match a target spectrum (i.e. light-based color-matching demo).</sup>\n",
    "</p>\n",
    "\n",
    "<!-- Maybe remove or simplify the code in the top-right, e.g. to `read_sensor_data()` -->\n",
    "\n",
    "<!-- The SDL-Demo is also extensible to more complex tasks such as liquid-based color matching and reaction optimization by adding appropriate hardware. -->\n",
    "\n",
    "The value of SDL-Demo is that it retains the principles of high-cost implementations in\n",
    "a low-cost setting and that it can be used for low-cost prototyping of self-driving\n",
    "laboratory concepts and extensions.\n",
    "\n",
    "## Your Turn to Remotely Access an SDL-Demo\n",
    "\n",
    "The SDL-Demo platform is open-source and can be easily modified to suit your needs,\n",
    "including for teaching demonstrations and low-cost prototyping. To illustrate this,\n",
    "there is an SDL-Demo located in Salt Lake City, UT (active as of 2022-09-12) that is\n",
    "remotely accessible as a cloud-based experiment that multiple people can use\n",
    "simultaneously. See the image below for a picture of the SDL-Demo setup."
   ]
  },
  {
   "cell_type": "markdown",
   "metadata": {},
   "source": [
    "<p align=\"center\">\n",
    "<img src=\"../reports/figures/clslab-light/high-quality-annotated.png\" width=450>\n",
    "</p>"
   ]
  },
  {
   "cell_type": "markdown",
   "metadata": {
    "id": "gVeyGiqdaEzW"
   },
   "source": [
    "\n",
    "\n",
    "### Getting Started\n",
    "The following code lets you run this SDL-Demo remotely from your browser! You can run cells one at a time using the play button to the left of each cell, or you can run all cells sequentially using \"Runtime\" --> \"Run all\" via the menu bar.\n",
    "\n",
    "Each experiment is on the order of a few seconds, and if multiple people are\n",
    "requesting experiments at the same time, the experiments will be carried out in the\n",
    "order they're received ([first-in-first-out](https://en.wikipedia.org/wiki/FIFO) or FIFO).\n",
    "\n",
    "<!-- Right now, multiple people running will throw things off. I should make sure the requested input parameters are in the payload and then make sure mqtt_observe_sensor_data waits for the input parameters that correspond to experiment that was requested and ignores anything else. If two people request the same experiment at the same exact time, then the experiment will be run twice and only one of the experiments will be reported to both parties. Kind of a limitation, but could probably be dealt with by including a client_id or similar as a kwarg. -->"
   ]
  },
  {
   "cell_type": "markdown",
   "metadata": {
    "id": "eLXKw9nAGw1t"
   },
   "source": [
    "First, let's install the `self_driving_lab_demo` Python package."
   ]
  },
  {
   "cell_type": "code",
   "execution_count": 1,
   "metadata": {
    "colab": {
     "base_uri": "https://localhost:8080/"
    },
    "id": "36C-UDjGemiM",
    "outputId": "54c9649d-2bb8-4cb7-dafc-04581f755fe1"
   },
   "outputs": [],
   "source": [
    "try:\n",
    "  import google.colab\n",
    "  IN_COLAB = True\n",
    "  %pip install \"git+https://github.com/sparks-baird/self-driving-lab-demo.git[ax]\" # latest\n",
    "  # %pip install \"self-driving-lab-demo[ax]\" # uncomment for stable release\n",
    "except:\n",
    "  IN_COLAB = False"
   ]
  },
  {
   "cell_type": "markdown",
   "metadata": {
    "id": "Tiu3AMxE_0bt"
   },
   "source": [
    "Next, we'll import the `SelfDrivingLabDemo` class and\n",
    "instantiate it. We'll pass an observation function compatible with MQTT (i.e. the interface\n",
    "that makes this demo cloud-accessible), the pico ID (`pico_id`), and a session ID (`session_id`).\n",
    "\n",
    "The pico ID is a unique identifer for the microcontroller (e.g. `a123b456`), but is hardcoded to the\n",
    "value of `\"test\"` for both the remotely accessible SDL-Demo and this notebook (i.e. just\n",
    "for this public demonstration). If you run into problems with using the physical test demo, you can also check the box for `dummy` (i.e., set `dummy=True`), which will run a very basic simulation in place of running a physical experiment on the hardware. Normally, the results are logged to a database, but to keep the time per iteration smaller, we skip that in this tutorial. To turn this back on, check the `log_to_database` variable (i.e., set `log_to_database=True`).\n",
    "\n",
    "To make sure that experiments that are requested at the\n",
    "same time don't get mixed up, an experiment ID (`experiment_id`) is generated\n",
    "internally for each experiment. We can also pass a session ID (`session_id`) to make it easier to\n",
    "distinguish experiments from multiple sessions, though in-depth treatment of database management is planned for a separate tutorial (TBD).\n",
    "\n",
    "```{warning}\n",
    "Recently, HiveMQ Cloud changed such that `hivemq-com-chain.der` (a Certificate Authority (CA) file) is not transferrable across different broker instances. The [latest `hivemq-com-chain.der` file](https://raw.githubusercontent.com/sparks-baird/self-driving-lab-demo/main/src/public_mqtt_sdl_demo/hivemq-com-chain.der) from [`self-driving-lab-demo`](https://github.com/sparks-baird/self-driving-lab-demo) will be hard-coded to the `self-driving-lab-demo` public test credentials (i.e., what is used in Module 1 - Running the Demo), so the *tutorials* should run without issue as long as you are using that file. However, the *assignment* requires you to have your own HiveMQ Cloud broker instance, so you will need to [generate a `hivemq-com-chain.der` file specific to your instance](https://colab.research.google.com/github/sparks-baird/self-driving-lab-demo/blob/main/notebooks/7.2.1-hivemq-openssl-certificate.ipynb) and upload it to your microcontroller in place of the default one.\n",
    "```\n",
    "\n",
    "\n",
    "<!-- Calling it `client_id` could be confusing, since this has a separate meaning in the MQTT style of things. Maybe I should call this something else, like `client_key`, or `username`. -->"
   ]
  },
  {
   "cell_type": "code",
   "execution_count": 2,
   "metadata": {
    "colab": {
     "base_uri": "https://localhost:8080/"
    },
    "id": "PG3r2NfV_pHF",
    "outputId": "39e925c8-354b-4b1f-d096-cde1b013fed2"
   },
   "outputs": [
    {
     "name": "stdout",
     "output_type": "stream",
     "text": [
      "session ID: 1011eafb-7373-4b6f-8c31-7bfaa7dc30a2\n"
     ]
    }
   ],
   "source": [
    "from uuid import uuid4  # universally unique identifier\n",
    "from self_driving_lab_demo import (\n",
    "    SelfDrivingLabDemoLight,\n",
    "    mqtt_observe_sensor_data,\n",
    "    get_paho_client,\n",
    ")\n",
    "import numpy as np\n",
    "\n",
    "PICO_ID = \"test\"  # @param {type:\"string\"}\n",
    "dummy = False  # @param {type:\"boolean\"}\n",
    "log_to_database = False  # @param {type:\"boolean\"}\n",
    "SESSION_ID = str(uuid4())  # random session ID\n",
    "print(f\"session ID: {SESSION_ID}\")\n",
    "rng = np.random.default_rng()  # random number generator\n",
    "\n",
    "# You can change the values below to set the target color (keep below 89, 255 is very bright)\n",
    "R_target = 75  # @param {type:\"integer\"}\n",
    "G_target = 10  # @param {type:\"integer\"}\n",
    "B_target = 56  # @param {type:\"integer\"}\n",
    "\n",
    "target_inputs = {\"R\": R_target, \"G\": G_target, \"B\": B_target}\n",
    "\n",
    "# instantiate client once and reuse (to avoid opening too many connections)\n",
    "client = get_paho_client(\n",
    "    f\"sdl-demo/picow/{PICO_ID}/as7341/\",\n",
    "    username=\"sgbaird\",\n",
    "    password=\"D.Pq5gYtejYbU#L\",\n",
    "    hostname=\"248cc294c37642359297f75b7b023374.s2.eu.hivemq.cloud\",\n",
    ")\n",
    "\n",
    "sdl = SelfDrivingLabDemoLight(\n",
    "    autoload=True,  # perform target data experiment automatically\n",
    "    target_inputs=target_inputs,  # if None, then defaults to random color using `target_seed` attribute\n",
    "    random_rng=rng,\n",
    "    target_seed=604523,  # change to get different random target color (if `target_inputs` is None)\n",
    "    simulation=dummy,  # run simulation instead of physical experiment\n",
    "    observe_sensor_data_fn=mqtt_observe_sensor_data,  # (default)\n",
    "    observe_sensor_data_kwargs=dict(\n",
    "        pico_id=PICO_ID,\n",
    "        session_id=SESSION_ID,\n",
    "        client=client,\n",
    "        mongodb=log_to_database,\n",
    "    ),\n",
    ")"
   ]
  },
  {
   "cell_type": "markdown",
   "metadata": {
    "id": "fwth0nvwtJoh"
   },
   "source": [
    "Next, we'll observe the sensor data for the following red/green/blue (RGB) values."
   ]
  },
  {
   "cell_type": "code",
   "execution_count": 3,
   "metadata": {
    "colab": {
     "base_uri": "https://localhost:8080/"
    },
    "id": "dNSVEiYjtJoi",
    "outputId": "b31826e4-e554-4559-d23c-e3519b2bf4fb"
   },
   "outputs": [
    {
     "data": {
      "text/plain": [
       "{'utc_time_str': '2024-4-4 16:40:09',\n",
       " 'utc_timestamp': 1712248809,\n",
       " 'ch470': 6736,\n",
       " 'ch550': 1351,\n",
       " 'ch670': 514,\n",
       " 'ch410': 245,\n",
       " 'logged_to_mongodb': False,\n",
       " 'background': {'ch583': 167,\n",
       "  'ch670': 277,\n",
       "  'ch510': 392,\n",
       "  'ch410': 71,\n",
       "  'ch620': 210,\n",
       "  'ch470': 2280,\n",
       "  'ch550': 375,\n",
       "  'ch440': 486},\n",
       " 'ch620': 444,\n",
       " 'sd_card_ready': True,\n",
       " 'ch510': 9353,\n",
       " 'warning': 'Failed to write to SD card: Traceback (most recent call last):\\n  File \"/lib/sdl_demo_utils.py\", line 210, in write_to_sd_card\\n  File \"/lib/data_logging.py\", line 72, in write_payload_backup\\nOSError: [Errno 13] EACCES\\n',\n",
       " 'ch583': 378,\n",
       " 'device_nickname': 'For MongoDB, enter whatever name you want here (optional)',\n",
       " 'ch440': 572,\n",
       " 'onboard_temperature_K': 307.2166,\n",
       " 'encrypted_device_id_truncated': 'test'}"
      ]
     },
     "execution_count": 3,
     "metadata": {},
     "output_type": "execute_result"
    }
   ],
   "source": [
    "sdl.observe_sensor_data({\"R\": 0, \"G\": 55, \"B\": 0})"
   ]
  },
  {
   "cell_type": "markdown",
   "metadata": {
    "id": "sY8UxxodtJoi"
   },
   "source": [
    "The microcontroller will briefly turn the LED green\n",
    "and collect the data from the spectrophotometer, then publish this data to the HiveMQ MQTT server, the go-between for the microcontroller and this notebook.\n",
    "\n",
    "<p align=\"center\">\n",
    "<img src=\"https://github.com/sparks-baird/self-driving-lab-demo/blob/main/notebooks/green-led.jpg?raw=1\" width=500>\n",
    "</p>"
   ]
  },
  {
   "cell_type": "markdown",
   "metadata": {
    "id": "paWVw0lwtJoj"
   },
   "source": [
    "## \"Hello, World!\" of Optimization\n",
    "\n",
    "Now, let's do the \"Hello, World!\" of optimization tasks and compare grid search vs.\n",
    "random search vs. Bayesian optimization. If you don't know what those are, see [this\n",
    "Towards Data Science\n",
    "Post](https://towardsdatascience.com/grid-search-vs-random-search-vs-bayesian-optimization-2e68f57c3c46).\n",
    "This is the artificial intelligence (though grid and random are \"uninformed\" methods) that suggests what experiment to run next. We will use the predefined search space shown below with the RGB values are capped to 35% power since 100% power can be painful to look directly at for a Neopixel LED, but you can still manually send commands that use RGB values up to 255. Note that `atime`, `astep`, and `gain` (sensor parameters) are fixed for the following search campaigns."
   ]
  },
  {
   "cell_type": "code",
   "execution_count": 4,
   "metadata": {
    "colab": {
     "base_uri": "https://localhost:8080/"
    },
    "id": "N88u4HkItJoj",
    "outputId": "3c5ea5a6-e667-45e9-afc1-2597d203acdd"
   },
   "outputs": [
    {
     "data": {
      "text/plain": [
       "{'R': [0, 89],\n",
       " 'G': [0, 89],\n",
       " 'B': [0, 89],\n",
       " 'atime': [0, 255],\n",
       " 'astep': [0, 65534],\n",
       " 'gain': [0.5, 512]}"
      ]
     },
     "execution_count": 4,
     "metadata": {},
     "output_type": "execute_result"
    }
   ],
   "source": [
    "sdl.bounds"
   ]
  },
  {
   "cell_type": "markdown",
   "metadata": {
    "id": "709-CUcKtJok"
   },
   "source": [
    "### Run Search Algorithms\n",
    "\n",
    "Next, we'll use some convenience functions to run each of the searches. The following cell may take approximately 20 minutes to run. The `ax_bayesian_optimization` function uses the [Ax Platform](https://ax.dev/) to run Bayesian optimization."
   ]
  },
  {
   "cell_type": "code",
   "execution_count": 5,
   "metadata": {
    "colab": {
     "base_uri": "https://localhost:8080/"
    },
    "id": "VApvR5lHtJol",
    "outputId": "61ee7003-4201-48f5-ef01-29485f1919a6"
   },
   "outputs": [
    {
     "name": "stdout",
     "output_type": "stream",
     "text": [
      "Starting grid search...\n",
      "Starting random search...\n"
     ]
    },
    {
     "name": "stderr",
     "output_type": "stream",
     "text": [
      "[INFO 04-04 12:43:59] ax.service.utils.instantiation: Inferred value type of ParameterType.INT for parameter R. If that is not the expected value type, you can explicitly specify 'value_type' ('int', 'float', 'bool' or 'str') in parameter dict.\n",
      "[INFO 04-04 12:43:59] ax.service.utils.instantiation: Inferred value type of ParameterType.INT for parameter G. If that is not the expected value type, you can explicitly specify 'value_type' ('int', 'float', 'bool' or 'str') in parameter dict.\n",
      "[INFO 04-04 12:43:59] ax.service.utils.instantiation: Inferred value type of ParameterType.INT for parameter B. If that is not the expected value type, you can explicitly specify 'value_type' ('int', 'float', 'bool' or 'str') in parameter dict.\n",
      "[INFO 04-04 12:43:59] ax.service.utils.instantiation: Created search space: SearchSpace(parameters=[RangeParameter(name='R', parameter_type=INT, range=[0, 89]), RangeParameter(name='G', parameter_type=INT, range=[0, 89]), RangeParameter(name='B', parameter_type=INT, range=[0, 89])], parameter_constraints=[]).\n",
      "[INFO 04-04 12:43:59] ax.modelbridge.dispatch_utils: Using Models.BOTORCH_MODULAR since there is at least one ordered parameter and there are no unordered categorical parameters.\n",
      "[INFO 04-04 12:43:59] ax.modelbridge.dispatch_utils: Calculating the number of remaining initialization trials based on num_initialization_trials=None max_initialization_trials=None num_tunable_parameters=3 num_trials=None use_batch_trials=False\n",
      "[INFO 04-04 12:43:59] ax.modelbridge.dispatch_utils: calculated num_initialization_trials=6\n",
      "[INFO 04-04 12:43:59] ax.modelbridge.dispatch_utils: num_completed_initialization_trials=0 num_remaining_initialization_trials=6\n",
      "[INFO 04-04 12:43:59] ax.modelbridge.dispatch_utils: `verbose`, `disable_progbar`, and `jit_compile` are not yet supported when using `choose_generation_strategy` with ModularBoTorchModel, dropping these arguments.\n",
      "[INFO 04-04 12:43:59] ax.modelbridge.dispatch_utils: Using Bayesian Optimization generation strategy: GenerationStrategy(name='Sobol+BoTorch', steps=[Sobol for 6 trials, BoTorch for subsequent trials]). Iterations after 6 will take longer to generate due to model-fitting.\n",
      "[INFO 04-04 12:43:59] ax.service.managed_loop: Started full optimization with 27 steps.\n",
      "[INFO 04-04 12:43:59] ax.service.managed_loop: Running optimization trial 1...\n"
     ]
    },
    {
     "name": "stdout",
     "output_type": "stream",
     "text": [
      "Starting Bayesian optimization...\n"
     ]
    },
    {
     "name": "stderr",
     "output_type": "stream",
     "text": [
      "[INFO 04-04 12:44:03] ax.core.experiment: Attached data has some metrics ({'rmse', 'mae'}) that are not among the metrics on this experiment. Note that attaching data will not automatically add those metrics to the experiment. For these metrics to be automatically fetched by `experiment.fetch_data`, add them via `experiment.add_tracking_metric` or update the experiment's optimization config.\n",
      "[INFO 04-04 12:44:03] ax.service.managed_loop: Running optimization trial 2...\n",
      "[INFO 04-04 12:44:06] ax.core.experiment: Attached data has some metrics ({'rmse', 'mae'}) that are not among the metrics on this experiment. Note that attaching data will not automatically add those metrics to the experiment. For these metrics to be automatically fetched by `experiment.fetch_data`, add them via `experiment.add_tracking_metric` or update the experiment's optimization config.\n",
      "[INFO 04-04 12:44:06] ax.service.managed_loop: Running optimization trial 3...\n",
      "[INFO 04-04 12:44:10] ax.core.experiment: Attached data has some metrics ({'rmse', 'mae'}) that are not among the metrics on this experiment. Note that attaching data will not automatically add those metrics to the experiment. For these metrics to be automatically fetched by `experiment.fetch_data`, add them via `experiment.add_tracking_metric` or update the experiment's optimization config.\n",
      "[INFO 04-04 12:44:10] ax.service.managed_loop: Running optimization trial 4...\n",
      "[INFO 04-04 12:44:14] ax.core.experiment: Attached data has some metrics ({'rmse', 'mae'}) that are not among the metrics on this experiment. Note that attaching data will not automatically add those metrics to the experiment. For these metrics to be automatically fetched by `experiment.fetch_data`, add them via `experiment.add_tracking_metric` or update the experiment's optimization config.\n",
      "[INFO 04-04 12:44:14] ax.service.managed_loop: Running optimization trial 5...\n",
      "[INFO 04-04 12:44:19] ax.core.experiment: Attached data has some metrics ({'rmse', 'mae'}) that are not among the metrics on this experiment. Note that attaching data will not automatically add those metrics to the experiment. For these metrics to be automatically fetched by `experiment.fetch_data`, add them via `experiment.add_tracking_metric` or update the experiment's optimization config.\n",
      "[INFO 04-04 12:44:19] ax.service.managed_loop: Running optimization trial 6...\n",
      "[INFO 04-04 12:44:23] ax.core.experiment: Attached data has some metrics ({'rmse', 'mae'}) that are not among the metrics on this experiment. Note that attaching data will not automatically add those metrics to the experiment. For these metrics to be automatically fetched by `experiment.fetch_data`, add them via `experiment.add_tracking_metric` or update the experiment's optimization config.\n",
      "[INFO 04-04 12:44:23] ax.service.managed_loop: Running optimization trial 7...\n",
      "[INFO 04-04 12:44:28] ax.core.experiment: Attached data has some metrics ({'rmse', 'mae'}) that are not among the metrics on this experiment. Note that attaching data will not automatically add those metrics to the experiment. For these metrics to be automatically fetched by `experiment.fetch_data`, add them via `experiment.add_tracking_metric` or update the experiment's optimization config.\n",
      "[INFO 04-04 12:44:28] ax.service.managed_loop: Running optimization trial 8...\n",
      "[INFO 04-04 12:44:33] ax.core.experiment: Attached data has some metrics ({'rmse', 'mae'}) that are not among the metrics on this experiment. Note that attaching data will not automatically add those metrics to the experiment. For these metrics to be automatically fetched by `experiment.fetch_data`, add them via `experiment.add_tracking_metric` or update the experiment's optimization config.\n",
      "[INFO 04-04 12:44:33] ax.service.managed_loop: Running optimization trial 9...\n",
      "[INFO 04-04 12:44:38] ax.core.experiment: Attached data has some metrics ({'rmse', 'mae'}) that are not among the metrics on this experiment. Note that attaching data will not automatically add those metrics to the experiment. For these metrics to be automatically fetched by `experiment.fetch_data`, add them via `experiment.add_tracking_metric` or update the experiment's optimization config.\n",
      "[INFO 04-04 12:44:38] ax.service.managed_loop: Running optimization trial 10...\n",
      "[INFO 04-04 12:44:44] ax.core.experiment: Attached data has some metrics ({'rmse', 'mae'}) that are not among the metrics on this experiment. Note that attaching data will not automatically add those metrics to the experiment. For these metrics to be automatically fetched by `experiment.fetch_data`, add them via `experiment.add_tracking_metric` or update the experiment's optimization config.\n",
      "[INFO 04-04 12:44:44] ax.service.managed_loop: Running optimization trial 11...\n",
      "[INFO 04-04 12:44:49] ax.core.experiment: Attached data has some metrics ({'rmse', 'mae'}) that are not among the metrics on this experiment. Note that attaching data will not automatically add those metrics to the experiment. For these metrics to be automatically fetched by `experiment.fetch_data`, add them via `experiment.add_tracking_metric` or update the experiment's optimization config.\n",
      "[INFO 04-04 12:44:49] ax.service.managed_loop: Running optimization trial 12...\n",
      "[INFO 04-04 12:44:55] ax.core.experiment: Attached data has some metrics ({'rmse', 'mae'}) that are not among the metrics on this experiment. Note that attaching data will not automatically add those metrics to the experiment. For these metrics to be automatically fetched by `experiment.fetch_data`, add them via `experiment.add_tracking_metric` or update the experiment's optimization config.\n",
      "[INFO 04-04 12:44:55] ax.service.managed_loop: Running optimization trial 13...\n",
      "[INFO 04-04 12:45:02] ax.core.experiment: Attached data has some metrics ({'rmse', 'mae'}) that are not among the metrics on this experiment. Note that attaching data will not automatically add those metrics to the experiment. For these metrics to be automatically fetched by `experiment.fetch_data`, add them via `experiment.add_tracking_metric` or update the experiment's optimization config.\n",
      "[INFO 04-04 12:45:02] ax.service.managed_loop: Running optimization trial 14...\n",
      "[INFO 04-04 12:45:07] ax.core.experiment: Attached data has some metrics ({'rmse', 'mae'}) that are not among the metrics on this experiment. Note that attaching data will not automatically add those metrics to the experiment. For these metrics to be automatically fetched by `experiment.fetch_data`, add them via `experiment.add_tracking_metric` or update the experiment's optimization config.\n",
      "[INFO 04-04 12:45:07] ax.service.managed_loop: Running optimization trial 15...\n",
      "[INFO 04-04 12:45:13] ax.core.experiment: Attached data has some metrics ({'rmse', 'mae'}) that are not among the metrics on this experiment. Note that attaching data will not automatically add those metrics to the experiment. For these metrics to be automatically fetched by `experiment.fetch_data`, add them via `experiment.add_tracking_metric` or update the experiment's optimization config.\n",
      "[INFO 04-04 12:45:13] ax.service.managed_loop: Running optimization trial 16...\n",
      "[INFO 04-04 12:45:20] ax.core.experiment: Attached data has some metrics ({'rmse', 'mae'}) that are not among the metrics on this experiment. Note that attaching data will not automatically add those metrics to the experiment. For these metrics to be automatically fetched by `experiment.fetch_data`, add them via `experiment.add_tracking_metric` or update the experiment's optimization config.\n",
      "[INFO 04-04 12:45:20] ax.service.managed_loop: Running optimization trial 17...\n",
      "[INFO 04-04 12:45:25] ax.core.experiment: Attached data has some metrics ({'rmse', 'mae'}) that are not among the metrics on this experiment. Note that attaching data will not automatically add those metrics to the experiment. For these metrics to be automatically fetched by `experiment.fetch_data`, add them via `experiment.add_tracking_metric` or update the experiment's optimization config.\n",
      "[INFO 04-04 12:45:25] ax.service.managed_loop: Running optimization trial 18...\n",
      "[INFO 04-04 12:45:31] ax.core.experiment: Attached data has some metrics ({'rmse', 'mae'}) that are not among the metrics on this experiment. Note that attaching data will not automatically add those metrics to the experiment. For these metrics to be automatically fetched by `experiment.fetch_data`, add them via `experiment.add_tracking_metric` or update the experiment's optimization config.\n",
      "[INFO 04-04 12:45:31] ax.service.managed_loop: Running optimization trial 19...\n",
      "[INFO 04-04 12:45:38] ax.core.experiment: Attached data has some metrics ({'rmse', 'mae'}) that are not among the metrics on this experiment. Note that attaching data will not automatically add those metrics to the experiment. For these metrics to be automatically fetched by `experiment.fetch_data`, add them via `experiment.add_tracking_metric` or update the experiment's optimization config.\n",
      "[INFO 04-04 12:45:38] ax.service.managed_loop: Running optimization trial 20...\n",
      "[INFO 04-04 12:45:43] ax.core.experiment: Attached data has some metrics ({'rmse', 'mae'}) that are not among the metrics on this experiment. Note that attaching data will not automatically add those metrics to the experiment. For these metrics to be automatically fetched by `experiment.fetch_data`, add them via `experiment.add_tracking_metric` or update the experiment's optimization config.\n",
      "[INFO 04-04 12:45:43] ax.service.managed_loop: Running optimization trial 21...\n",
      "[INFO 04-04 12:45:49] ax.core.experiment: Attached data has some metrics ({'rmse', 'mae'}) that are not among the metrics on this experiment. Note that attaching data will not automatically add those metrics to the experiment. For these metrics to be automatically fetched by `experiment.fetch_data`, add them via `experiment.add_tracking_metric` or update the experiment's optimization config.\n",
      "[INFO 04-04 12:45:49] ax.service.managed_loop: Running optimization trial 22...\n",
      "[INFO 04-04 12:45:55] ax.core.experiment: Attached data has some metrics ({'rmse', 'mae'}) that are not among the metrics on this experiment. Note that attaching data will not automatically add those metrics to the experiment. For these metrics to be automatically fetched by `experiment.fetch_data`, add them via `experiment.add_tracking_metric` or update the experiment's optimization config.\n",
      "[INFO 04-04 12:45:55] ax.service.managed_loop: Running optimization trial 23...\n",
      "[INFO 04-04 12:46:02] ax.core.experiment: Attached data has some metrics ({'rmse', 'mae'}) that are not among the metrics on this experiment. Note that attaching data will not automatically add those metrics to the experiment. For these metrics to be automatically fetched by `experiment.fetch_data`, add them via `experiment.add_tracking_metric` or update the experiment's optimization config.\n",
      "[INFO 04-04 12:46:02] ax.service.managed_loop: Running optimization trial 24...\n",
      "[INFO 04-04 12:46:07] ax.core.experiment: Attached data has some metrics ({'rmse', 'mae'}) that are not among the metrics on this experiment. Note that attaching data will not automatically add those metrics to the experiment. For these metrics to be automatically fetched by `experiment.fetch_data`, add them via `experiment.add_tracking_metric` or update the experiment's optimization config.\n",
      "[INFO 04-04 12:46:07] ax.service.managed_loop: Running optimization trial 25...\n",
      "[INFO 04-04 12:46:13] ax.core.experiment: Attached data has some metrics ({'rmse', 'mae'}) that are not among the metrics on this experiment. Note that attaching data will not automatically add those metrics to the experiment. For these metrics to be automatically fetched by `experiment.fetch_data`, add them via `experiment.add_tracking_metric` or update the experiment's optimization config.\n",
      "[INFO 04-04 12:46:13] ax.service.managed_loop: Running optimization trial 26...\n",
      "[INFO 04-04 12:46:18] ax.core.experiment: Attached data has some metrics ({'rmse', 'mae'}) that are not among the metrics on this experiment. Note that attaching data will not automatically add those metrics to the experiment. For these metrics to be automatically fetched by `experiment.fetch_data`, add them via `experiment.add_tracking_metric` or update the experiment's optimization config.\n",
      "[INFO 04-04 12:46:18] ax.service.managed_loop: Running optimization trial 27...\n",
      "[INFO 04-04 12:46:24] ax.core.experiment: Attached data has some metrics ({'rmse', 'mae'}) that are not among the metrics on this experiment. Note that attaching data will not automatically add those metrics to the experiment. For these metrics to be automatically fetched by `experiment.fetch_data`, add them via `experiment.add_tracking_metric` or update the experiment's optimization config.\n"
     ]
    },
    {
     "name": "stdout",
     "output_type": "stream",
     "text": [
      "CPU times: total: 4.22 s\n",
      "Wall time: 6min 5s\n"
     ]
    }
   ],
   "source": [
    "%%time\n",
    "from self_driving_lab_demo.utils.search import (\n",
    "    grid_search,\n",
    "    random_search,\n",
    "    ax_bayesian_optimization,\n",
    ")\n",
    "\n",
    "num_iter = 27\n",
    "\n",
    "print(\"Starting grid search...\")\n",
    "grid, grid_data = grid_search(sdl, num_iter)\n",
    "print(\"Starting random search...\")\n",
    "random_inputs, random_data = random_search(sdl, num_iter)\n",
    "print(\"Starting Bayesian optimization...\")\n",
    "best_parameters, values, experiment, model = ax_bayesian_optimization(sdl, num_iter)"
   ]
  },
  {
   "cell_type": "markdown",
   "metadata": {
    "id": "-OpIE-YYJEUE"
   },
   "source": [
    "## Results\n",
    "\n",
    "### Best error so far vs. iteration"
   ]
  },
  {
   "cell_type": "code",
   "execution_count": 6,
   "metadata": {
    "cellView": "form",
    "colab": {
     "base_uri": "https://localhost:8080/",
     "height": 542
    },
    "id": "o2LWl3dxtJon",
    "outputId": "3d54a299-175b-48fe-a1dd-cd1a222a861c"
   },
   "outputs": [
    {
     "data": {
      "application/vnd.plotly.v1+json": {
       "config": {
        "plotlyServerURL": "https://plot.ly"
       },
       "data": [
        {
         "hovertemplate": "type=grid<br>index=%{x}<br>best_so_far=%{y}<extra></extra>",
         "legendgroup": "grid",
         "line": {
          "color": "#636efa",
          "dash": "solid"
         },
         "marker": {
          "symbol": "circle"
         },
         "mode": "lines",
         "name": "grid",
         "orientation": "v",
         "showlegend": true,
         "type": "scatter",
         "x": [
          0,
          1,
          2,
          3,
          4,
          5,
          6,
          7,
          8,
          9,
          10,
          11,
          12,
          13,
          14,
          15,
          16,
          17,
          18,
          19,
          20,
          21,
          22,
          23,
          24,
          25,
          26
         ],
         "xaxis": "x",
         "y": [
          16025.702012704467,
          9129,
          9129,
          9129,
          9129,
          6884.355888534526,
          6884.355888534526,
          6884.355888534526,
          5827.137290299586,
          5827.137290299586,
          5827.137290299586,
          3976,
          3976,
          3976,
          3908,
          3908,
          3908,
          3908,
          3908,
          3908,
          3908,
          3908,
          3908,
          3908,
          3908,
          3908,
          3908
         ],
         "yaxis": "y"
        },
        {
         "hovertemplate": "type=random<br>index=%{x}<br>best_so_far=%{y}<extra></extra>",
         "legendgroup": "random",
         "line": {
          "color": "#EF553B",
          "dash": "solid"
         },
         "marker": {
          "symbol": "circle"
         },
         "mode": "lines",
         "name": "random",
         "orientation": "v",
         "showlegend": true,
         "type": "scatter",
         "x": [
          0,
          1,
          2,
          3,
          4,
          5,
          6,
          7,
          8,
          9,
          10,
          11,
          12,
          13,
          14,
          15,
          16,
          17,
          18,
          19,
          20,
          21,
          22,
          23,
          24,
          25,
          26
         ],
         "xaxis": "x",
         "y": [
          8060,
          6023.07471313448,
          6023.07471313448,
          4711,
          4711,
          4117,
          4117,
          4117,
          4117,
          4117,
          4117,
          4117,
          4117,
          4117,
          4117,
          4117,
          4117,
          4117,
          4117,
          4117,
          4117,
          4117,
          2194,
          2194,
          2194,
          2194,
          2194
         ],
         "yaxis": "y"
        },
        {
         "hovertemplate": "type=bayesian<br>index=%{x}<br>best_so_far=%{y}<extra></extra>",
         "legendgroup": "bayesian",
         "line": {
          "color": "#00cc96",
          "dash": "solid"
         },
         "marker": {
          "symbol": "circle"
         },
         "mode": "lines",
         "name": "bayesian",
         "orientation": "v",
         "showlegend": true,
         "type": "scatter",
         "x": [
          0,
          1,
          2,
          3,
          4,
          5,
          6,
          7,
          8,
          9,
          10,
          11,
          12,
          13,
          14,
          15,
          16,
          17,
          18,
          19,
          20,
          21,
          22,
          23,
          24,
          25,
          26
         ],
         "xaxis": "x",
         "y": [
          13316.03379388923,
          9845.142761788678,
          9845.142761788678,
          4667,
          4667,
          4667,
          1588.283350035503,
          1588.283350035503,
          1588.283350035503,
          1588.283350035503,
          1588.283350035503,
          996.4517048005889,
          996.4517048005889,
          996.4517048005889,
          996.4517048005889,
          996.4517048005889,
          934,
          934,
          930,
          930,
          894,
          894,
          894,
          514,
          269,
          269,
          269
         ],
         "yaxis": "y"
        }
       ],
       "layout": {
        "legend": {
         "title": {
          "text": "type"
         },
         "tracegroupgap": 0
        },
        "margin": {
         "t": 60
        },
        "template": {
         "data": {
          "bar": [
           {
            "error_x": {
             "color": "#2a3f5f"
            },
            "error_y": {
             "color": "#2a3f5f"
            },
            "marker": {
             "line": {
              "color": "#E5ECF6",
              "width": 0.5
             },
             "pattern": {
              "fillmode": "overlay",
              "size": 10,
              "solidity": 0.2
             }
            },
            "type": "bar"
           }
          ],
          "barpolar": [
           {
            "marker": {
             "line": {
              "color": "#E5ECF6",
              "width": 0.5
             },
             "pattern": {
              "fillmode": "overlay",
              "size": 10,
              "solidity": 0.2
             }
            },
            "type": "barpolar"
           }
          ],
          "carpet": [
           {
            "aaxis": {
             "endlinecolor": "#2a3f5f",
             "gridcolor": "white",
             "linecolor": "white",
             "minorgridcolor": "white",
             "startlinecolor": "#2a3f5f"
            },
            "baxis": {
             "endlinecolor": "#2a3f5f",
             "gridcolor": "white",
             "linecolor": "white",
             "minorgridcolor": "white",
             "startlinecolor": "#2a3f5f"
            },
            "type": "carpet"
           }
          ],
          "choropleth": [
           {
            "colorbar": {
             "outlinewidth": 0,
             "ticks": ""
            },
            "type": "choropleth"
           }
          ],
          "contour": [
           {
            "colorbar": {
             "outlinewidth": 0,
             "ticks": ""
            },
            "colorscale": [
             [
              0,
              "#0d0887"
             ],
             [
              0.1111111111111111,
              "#46039f"
             ],
             [
              0.2222222222222222,
              "#7201a8"
             ],
             [
              0.3333333333333333,
              "#9c179e"
             ],
             [
              0.4444444444444444,
              "#bd3786"
             ],
             [
              0.5555555555555556,
              "#d8576b"
             ],
             [
              0.6666666666666666,
              "#ed7953"
             ],
             [
              0.7777777777777778,
              "#fb9f3a"
             ],
             [
              0.8888888888888888,
              "#fdca26"
             ],
             [
              1,
              "#f0f921"
             ]
            ],
            "type": "contour"
           }
          ],
          "contourcarpet": [
           {
            "colorbar": {
             "outlinewidth": 0,
             "ticks": ""
            },
            "type": "contourcarpet"
           }
          ],
          "heatmap": [
           {
            "colorbar": {
             "outlinewidth": 0,
             "ticks": ""
            },
            "colorscale": [
             [
              0,
              "#0d0887"
             ],
             [
              0.1111111111111111,
              "#46039f"
             ],
             [
              0.2222222222222222,
              "#7201a8"
             ],
             [
              0.3333333333333333,
              "#9c179e"
             ],
             [
              0.4444444444444444,
              "#bd3786"
             ],
             [
              0.5555555555555556,
              "#d8576b"
             ],
             [
              0.6666666666666666,
              "#ed7953"
             ],
             [
              0.7777777777777778,
              "#fb9f3a"
             ],
             [
              0.8888888888888888,
              "#fdca26"
             ],
             [
              1,
              "#f0f921"
             ]
            ],
            "type": "heatmap"
           }
          ],
          "heatmapgl": [
           {
            "colorbar": {
             "outlinewidth": 0,
             "ticks": ""
            },
            "colorscale": [
             [
              0,
              "#0d0887"
             ],
             [
              0.1111111111111111,
              "#46039f"
             ],
             [
              0.2222222222222222,
              "#7201a8"
             ],
             [
              0.3333333333333333,
              "#9c179e"
             ],
             [
              0.4444444444444444,
              "#bd3786"
             ],
             [
              0.5555555555555556,
              "#d8576b"
             ],
             [
              0.6666666666666666,
              "#ed7953"
             ],
             [
              0.7777777777777778,
              "#fb9f3a"
             ],
             [
              0.8888888888888888,
              "#fdca26"
             ],
             [
              1,
              "#f0f921"
             ]
            ],
            "type": "heatmapgl"
           }
          ],
          "histogram": [
           {
            "marker": {
             "pattern": {
              "fillmode": "overlay",
              "size": 10,
              "solidity": 0.2
             }
            },
            "type": "histogram"
           }
          ],
          "histogram2d": [
           {
            "colorbar": {
             "outlinewidth": 0,
             "ticks": ""
            },
            "colorscale": [
             [
              0,
              "#0d0887"
             ],
             [
              0.1111111111111111,
              "#46039f"
             ],
             [
              0.2222222222222222,
              "#7201a8"
             ],
             [
              0.3333333333333333,
              "#9c179e"
             ],
             [
              0.4444444444444444,
              "#bd3786"
             ],
             [
              0.5555555555555556,
              "#d8576b"
             ],
             [
              0.6666666666666666,
              "#ed7953"
             ],
             [
              0.7777777777777778,
              "#fb9f3a"
             ],
             [
              0.8888888888888888,
              "#fdca26"
             ],
             [
              1,
              "#f0f921"
             ]
            ],
            "type": "histogram2d"
           }
          ],
          "histogram2dcontour": [
           {
            "colorbar": {
             "outlinewidth": 0,
             "ticks": ""
            },
            "colorscale": [
             [
              0,
              "#0d0887"
             ],
             [
              0.1111111111111111,
              "#46039f"
             ],
             [
              0.2222222222222222,
              "#7201a8"
             ],
             [
              0.3333333333333333,
              "#9c179e"
             ],
             [
              0.4444444444444444,
              "#bd3786"
             ],
             [
              0.5555555555555556,
              "#d8576b"
             ],
             [
              0.6666666666666666,
              "#ed7953"
             ],
             [
              0.7777777777777778,
              "#fb9f3a"
             ],
             [
              0.8888888888888888,
              "#fdca26"
             ],
             [
              1,
              "#f0f921"
             ]
            ],
            "type": "histogram2dcontour"
           }
          ],
          "mesh3d": [
           {
            "colorbar": {
             "outlinewidth": 0,
             "ticks": ""
            },
            "type": "mesh3d"
           }
          ],
          "parcoords": [
           {
            "line": {
             "colorbar": {
              "outlinewidth": 0,
              "ticks": ""
             }
            },
            "type": "parcoords"
           }
          ],
          "pie": [
           {
            "automargin": true,
            "type": "pie"
           }
          ],
          "scatter": [
           {
            "fillpattern": {
             "fillmode": "overlay",
             "size": 10,
             "solidity": 0.2
            },
            "type": "scatter"
           }
          ],
          "scatter3d": [
           {
            "line": {
             "colorbar": {
              "outlinewidth": 0,
              "ticks": ""
             }
            },
            "marker": {
             "colorbar": {
              "outlinewidth": 0,
              "ticks": ""
             }
            },
            "type": "scatter3d"
           }
          ],
          "scattercarpet": [
           {
            "marker": {
             "colorbar": {
              "outlinewidth": 0,
              "ticks": ""
             }
            },
            "type": "scattercarpet"
           }
          ],
          "scattergeo": [
           {
            "marker": {
             "colorbar": {
              "outlinewidth": 0,
              "ticks": ""
             }
            },
            "type": "scattergeo"
           }
          ],
          "scattergl": [
           {
            "marker": {
             "colorbar": {
              "outlinewidth": 0,
              "ticks": ""
             }
            },
            "type": "scattergl"
           }
          ],
          "scattermapbox": [
           {
            "marker": {
             "colorbar": {
              "outlinewidth": 0,
              "ticks": ""
             }
            },
            "type": "scattermapbox"
           }
          ],
          "scatterpolar": [
           {
            "marker": {
             "colorbar": {
              "outlinewidth": 0,
              "ticks": ""
             }
            },
            "type": "scatterpolar"
           }
          ],
          "scatterpolargl": [
           {
            "marker": {
             "colorbar": {
              "outlinewidth": 0,
              "ticks": ""
             }
            },
            "type": "scatterpolargl"
           }
          ],
          "scatterternary": [
           {
            "marker": {
             "colorbar": {
              "outlinewidth": 0,
              "ticks": ""
             }
            },
            "type": "scatterternary"
           }
          ],
          "surface": [
           {
            "colorbar": {
             "outlinewidth": 0,
             "ticks": ""
            },
            "colorscale": [
             [
              0,
              "#0d0887"
             ],
             [
              0.1111111111111111,
              "#46039f"
             ],
             [
              0.2222222222222222,
              "#7201a8"
             ],
             [
              0.3333333333333333,
              "#9c179e"
             ],
             [
              0.4444444444444444,
              "#bd3786"
             ],
             [
              0.5555555555555556,
              "#d8576b"
             ],
             [
              0.6666666666666666,
              "#ed7953"
             ],
             [
              0.7777777777777778,
              "#fb9f3a"
             ],
             [
              0.8888888888888888,
              "#fdca26"
             ],
             [
              1,
              "#f0f921"
             ]
            ],
            "type": "surface"
           }
          ],
          "table": [
           {
            "cells": {
             "fill": {
              "color": "#EBF0F8"
             },
             "line": {
              "color": "white"
             }
            },
            "header": {
             "fill": {
              "color": "#C8D4E3"
             },
             "line": {
              "color": "white"
             }
            },
            "type": "table"
           }
          ]
         },
         "layout": {
          "annotationdefaults": {
           "arrowcolor": "#2a3f5f",
           "arrowhead": 0,
           "arrowwidth": 1
          },
          "autotypenumbers": "strict",
          "coloraxis": {
           "colorbar": {
            "outlinewidth": 0,
            "ticks": ""
           }
          },
          "colorscale": {
           "diverging": [
            [
             0,
             "#8e0152"
            ],
            [
             0.1,
             "#c51b7d"
            ],
            [
             0.2,
             "#de77ae"
            ],
            [
             0.3,
             "#f1b6da"
            ],
            [
             0.4,
             "#fde0ef"
            ],
            [
             0.5,
             "#f7f7f7"
            ],
            [
             0.6,
             "#e6f5d0"
            ],
            [
             0.7,
             "#b8e186"
            ],
            [
             0.8,
             "#7fbc41"
            ],
            [
             0.9,
             "#4d9221"
            ],
            [
             1,
             "#276419"
            ]
           ],
           "sequential": [
            [
             0,
             "#0d0887"
            ],
            [
             0.1111111111111111,
             "#46039f"
            ],
            [
             0.2222222222222222,
             "#7201a8"
            ],
            [
             0.3333333333333333,
             "#9c179e"
            ],
            [
             0.4444444444444444,
             "#bd3786"
            ],
            [
             0.5555555555555556,
             "#d8576b"
            ],
            [
             0.6666666666666666,
             "#ed7953"
            ],
            [
             0.7777777777777778,
             "#fb9f3a"
            ],
            [
             0.8888888888888888,
             "#fdca26"
            ],
            [
             1,
             "#f0f921"
            ]
           ],
           "sequentialminus": [
            [
             0,
             "#0d0887"
            ],
            [
             0.1111111111111111,
             "#46039f"
            ],
            [
             0.2222222222222222,
             "#7201a8"
            ],
            [
             0.3333333333333333,
             "#9c179e"
            ],
            [
             0.4444444444444444,
             "#bd3786"
            ],
            [
             0.5555555555555556,
             "#d8576b"
            ],
            [
             0.6666666666666666,
             "#ed7953"
            ],
            [
             0.7777777777777778,
             "#fb9f3a"
            ],
            [
             0.8888888888888888,
             "#fdca26"
            ],
            [
             1,
             "#f0f921"
            ]
           ]
          },
          "colorway": [
           "#636efa",
           "#EF553B",
           "#00cc96",
           "#ab63fa",
           "#FFA15A",
           "#19d3f3",
           "#FF6692",
           "#B6E880",
           "#FF97FF",
           "#FECB52"
          ],
          "font": {
           "color": "#2a3f5f"
          },
          "geo": {
           "bgcolor": "white",
           "lakecolor": "white",
           "landcolor": "#E5ECF6",
           "showlakes": true,
           "showland": true,
           "subunitcolor": "white"
          },
          "hoverlabel": {
           "align": "left"
          },
          "hovermode": "closest",
          "mapbox": {
           "style": "light"
          },
          "paper_bgcolor": "white",
          "plot_bgcolor": "#E5ECF6",
          "polar": {
           "angularaxis": {
            "gridcolor": "white",
            "linecolor": "white",
            "ticks": ""
           },
           "bgcolor": "#E5ECF6",
           "radialaxis": {
            "gridcolor": "white",
            "linecolor": "white",
            "ticks": ""
           }
          },
          "scene": {
           "xaxis": {
            "backgroundcolor": "#E5ECF6",
            "gridcolor": "white",
            "gridwidth": 2,
            "linecolor": "white",
            "showbackground": true,
            "ticks": "",
            "zerolinecolor": "white"
           },
           "yaxis": {
            "backgroundcolor": "#E5ECF6",
            "gridcolor": "white",
            "gridwidth": 2,
            "linecolor": "white",
            "showbackground": true,
            "ticks": "",
            "zerolinecolor": "white"
           },
           "zaxis": {
            "backgroundcolor": "#E5ECF6",
            "gridcolor": "white",
            "gridwidth": 2,
            "linecolor": "white",
            "showbackground": true,
            "ticks": "",
            "zerolinecolor": "white"
           }
          },
          "shapedefaults": {
           "line": {
            "color": "#2a3f5f"
           }
          },
          "ternary": {
           "aaxis": {
            "gridcolor": "white",
            "linecolor": "white",
            "ticks": ""
           },
           "baxis": {
            "gridcolor": "white",
            "linecolor": "white",
            "ticks": ""
           },
           "bgcolor": "#E5ECF6",
           "caxis": {
            "gridcolor": "white",
            "linecolor": "white",
            "ticks": ""
           }
          },
          "title": {
           "x": 0.05
          },
          "xaxis": {
           "automargin": true,
           "gridcolor": "white",
           "linecolor": "white",
           "ticks": "",
           "title": {
            "standoff": 15
           },
           "zerolinecolor": "white",
           "zerolinewidth": 2
          },
          "yaxis": {
           "automargin": true,
           "gridcolor": "white",
           "linecolor": "white",
           "ticks": "",
           "title": {
            "standoff": 15
           },
           "zerolinecolor": "white",
           "zerolinewidth": 2
          }
         }
        },
        "xaxis": {
         "anchor": "y",
         "domain": [
          0,
          1
         ],
         "title": {
          "text": "iteration"
         }
        },
        "yaxis": {
         "anchor": "x",
         "domain": [
          0,
          1
         ],
         "title": {
          "text": "Best error so far"
         }
        }
       }
      }
     },
     "metadata": {},
     "output_type": "display_data"
    }
   ],
   "source": [
    "#@markdown Let's compare how each optimization algorithm did as a function of the number of\n",
    "#@markdown iterations. The faster the error goes down, the better.\n",
    "import plotly.express as px\n",
    "import pandas as pd\n",
    "grid_input_df = pd.DataFrame(grid)\n",
    "grid_output_df = pd.DataFrame(grid_data)[[\"frechet\"]]\n",
    "grid_df = pd.concat([grid_input_df, grid_output_df], axis=1)\n",
    "grid_df[\"best_so_far\"] = grid_df[\"frechet\"].cummin()\n",
    "\n",
    "random_input_df = pd.DataFrame(random_inputs, columns=[\"R\", \"G\", \"B\"])\n",
    "random_output_df = pd.DataFrame(random_data)[[\"frechet\"]]\n",
    "random_df = pd.concat([random_input_df, random_output_df], axis=1)\n",
    "random_df[\"best_so_far\"] = random_df[\"frechet\"].cummin()\n",
    "\n",
    "trials = list(experiment.trials.values())\n",
    "bayes_input_df = pd.DataFrame([t.arm.parameters for t in trials])\n",
    "bayes_output_df = pd.Series([t.objective_mean for t in trials], name=\"frechet\").to_frame()\n",
    "bayes_df = pd.concat([bayes_input_df, bayes_output_df], axis=1)\n",
    "bayes_df[\"best_so_far\"] = bayes_df[\"frechet\"].cummin()\n",
    "\n",
    "grid_df[\"type\"] = \"grid\"\n",
    "random_df[\"type\"] = \"random\"\n",
    "bayes_df[\"type\"] = \"bayesian\"\n",
    "df = pd.concat([grid_df, random_df, bayes_df], axis=0)\n",
    "px.line(df, x=df.index, y=\"best_so_far\", color=\"type\").update_layout(\n",
    "    xaxis_title=\"iteration\",\n",
    "    yaxis_title=\"Best error so far\",\n",
    ")"
   ]
  },
  {
   "cell_type": "code",
   "execution_count": null,
   "metadata": {},
   "outputs": [],
   "source": [
    "df"
   ]
  },
  {
   "cell_type": "markdown",
   "metadata": {
    "id": "N4DBayFoJEUF"
   },
   "source": [
    "#### Example Output\n",
    "\n",
    "![](https://github.com/sparks-baird/self-driving-lab-demo/blob/main/notebooks/mqtt-optimization-comparison.png?raw=1)"
   ]
  },
  {
   "cell_type": "markdown",
   "metadata": {
    "id": "mmn7Su6atJom"
   },
   "source": [
    "### Observed Points and Corresponding Errors\n",
    "\n",
    "Let's take a look at the points that were observed for each of the search algorithms. The axes correspond to red (R), green (G), and blue (B) input values, and the color corresponds to \"Fréchet distance\" (pronounced like freh-shay). Fréchet distance is a measure of how close the measured spectrum is to the target and\n",
    "should be considered simply as an error metric for this demo. Lower Fréchet distance is better,\n",
    "and zero Fréchet distance is perfect."
   ]
  },
  {
   "cell_type": "code",
   "execution_count": 7,
   "metadata": {
    "cellView": "form",
    "colab": {
     "base_uri": "https://localhost:8080/",
     "height": 542
    },
    "id": "v51-G9futJom",
    "outputId": "8e8c3bb7-be97-4c81-9389-fba49ec2656e"
   },
   "outputs": [
    {
     "data": {
      "application/vnd.plotly.v1+json": {
       "config": {
        "plotlyServerURL": "https://plot.ly"
       },
       "data": [
        {
         "hovertemplate": "R=%{x}<br>G=%{y}<br>B=%{z}<br>frechet=%{marker.color}<extra></extra>",
         "legendgroup": "",
         "marker": {
          "color": [
           16025.702012704467,
           9129,
           9466.057521481685,
           11283.536192169546,
           9191,
           6884.355888534526,
           9295.344264738127,
           8933,
           5827.137290299586,
           9380.644967165104,
           8925,
           3976,
           9380.644967165104,
           8998,
           3908,
           9473.63863570909,
           8759,
           6177.129511350721,
           13292.033854907231,
           10408,
           10274,
           10504,
           10428,
           10266,
           12987.034649988425,
           10368,
           10254
          ],
          "coloraxis": "coloraxis",
          "symbol": "circle"
         },
         "mode": "markers",
         "name": "",
         "scene": "scene",
         "showlegend": false,
         "type": "scatter3d",
         "x": [
          0,
          44,
          89,
          0,
          44,
          89,
          0,
          44,
          89,
          0,
          44,
          89,
          0,
          44,
          89,
          0,
          44,
          89,
          0,
          44,
          89,
          0,
          44,
          89,
          0,
          44,
          89
         ],
         "y": [
          0,
          0,
          0,
          44,
          44,
          44,
          89,
          89,
          89,
          0,
          0,
          0,
          44,
          44,
          44,
          89,
          89,
          89,
          0,
          0,
          0,
          44,
          44,
          44,
          89,
          89,
          89
         ],
         "z": [
          0,
          0,
          0,
          0,
          0,
          0,
          0,
          0,
          0,
          44,
          44,
          44,
          44,
          44,
          44,
          44,
          44,
          44,
          89,
          89,
          89,
          89,
          89,
          89,
          89,
          89,
          89
         ]
        }
       ],
       "layout": {
        "coloraxis": {
         "colorbar": {
          "title": {
           "text": "frechet"
          }
         },
         "colorscale": [
          [
           0,
           "#0d0887"
          ],
          [
           0.1111111111111111,
           "#46039f"
          ],
          [
           0.2222222222222222,
           "#7201a8"
          ],
          [
           0.3333333333333333,
           "#9c179e"
          ],
          [
           0.4444444444444444,
           "#bd3786"
          ],
          [
           0.5555555555555556,
           "#d8576b"
          ],
          [
           0.6666666666666666,
           "#ed7953"
          ],
          [
           0.7777777777777778,
           "#fb9f3a"
          ],
          [
           0.8888888888888888,
           "#fdca26"
          ],
          [
           1,
           "#f0f921"
          ]
         ]
        },
        "legend": {
         "tracegroupgap": 0
        },
        "scene": {
         "domain": {
          "x": [
           0,
           1
          ],
          "y": [
           0,
           1
          ]
         },
         "xaxis": {
          "title": {
           "text": "R"
          }
         },
         "yaxis": {
          "title": {
           "text": "G"
          }
         },
         "zaxis": {
          "title": {
           "text": "B"
          }
         }
        },
        "template": {
         "data": {
          "bar": [
           {
            "error_x": {
             "color": "#2a3f5f"
            },
            "error_y": {
             "color": "#2a3f5f"
            },
            "marker": {
             "line": {
              "color": "#E5ECF6",
              "width": 0.5
             },
             "pattern": {
              "fillmode": "overlay",
              "size": 10,
              "solidity": 0.2
             }
            },
            "type": "bar"
           }
          ],
          "barpolar": [
           {
            "marker": {
             "line": {
              "color": "#E5ECF6",
              "width": 0.5
             },
             "pattern": {
              "fillmode": "overlay",
              "size": 10,
              "solidity": 0.2
             }
            },
            "type": "barpolar"
           }
          ],
          "carpet": [
           {
            "aaxis": {
             "endlinecolor": "#2a3f5f",
             "gridcolor": "white",
             "linecolor": "white",
             "minorgridcolor": "white",
             "startlinecolor": "#2a3f5f"
            },
            "baxis": {
             "endlinecolor": "#2a3f5f",
             "gridcolor": "white",
             "linecolor": "white",
             "minorgridcolor": "white",
             "startlinecolor": "#2a3f5f"
            },
            "type": "carpet"
           }
          ],
          "choropleth": [
           {
            "colorbar": {
             "outlinewidth": 0,
             "ticks": ""
            },
            "type": "choropleth"
           }
          ],
          "contour": [
           {
            "colorbar": {
             "outlinewidth": 0,
             "ticks": ""
            },
            "colorscale": [
             [
              0,
              "#0d0887"
             ],
             [
              0.1111111111111111,
              "#46039f"
             ],
             [
              0.2222222222222222,
              "#7201a8"
             ],
             [
              0.3333333333333333,
              "#9c179e"
             ],
             [
              0.4444444444444444,
              "#bd3786"
             ],
             [
              0.5555555555555556,
              "#d8576b"
             ],
             [
              0.6666666666666666,
              "#ed7953"
             ],
             [
              0.7777777777777778,
              "#fb9f3a"
             ],
             [
              0.8888888888888888,
              "#fdca26"
             ],
             [
              1,
              "#f0f921"
             ]
            ],
            "type": "contour"
           }
          ],
          "contourcarpet": [
           {
            "colorbar": {
             "outlinewidth": 0,
             "ticks": ""
            },
            "type": "contourcarpet"
           }
          ],
          "heatmap": [
           {
            "colorbar": {
             "outlinewidth": 0,
             "ticks": ""
            },
            "colorscale": [
             [
              0,
              "#0d0887"
             ],
             [
              0.1111111111111111,
              "#46039f"
             ],
             [
              0.2222222222222222,
              "#7201a8"
             ],
             [
              0.3333333333333333,
              "#9c179e"
             ],
             [
              0.4444444444444444,
              "#bd3786"
             ],
             [
              0.5555555555555556,
              "#d8576b"
             ],
             [
              0.6666666666666666,
              "#ed7953"
             ],
             [
              0.7777777777777778,
              "#fb9f3a"
             ],
             [
              0.8888888888888888,
              "#fdca26"
             ],
             [
              1,
              "#f0f921"
             ]
            ],
            "type": "heatmap"
           }
          ],
          "heatmapgl": [
           {
            "colorbar": {
             "outlinewidth": 0,
             "ticks": ""
            },
            "colorscale": [
             [
              0,
              "#0d0887"
             ],
             [
              0.1111111111111111,
              "#46039f"
             ],
             [
              0.2222222222222222,
              "#7201a8"
             ],
             [
              0.3333333333333333,
              "#9c179e"
             ],
             [
              0.4444444444444444,
              "#bd3786"
             ],
             [
              0.5555555555555556,
              "#d8576b"
             ],
             [
              0.6666666666666666,
              "#ed7953"
             ],
             [
              0.7777777777777778,
              "#fb9f3a"
             ],
             [
              0.8888888888888888,
              "#fdca26"
             ],
             [
              1,
              "#f0f921"
             ]
            ],
            "type": "heatmapgl"
           }
          ],
          "histogram": [
           {
            "marker": {
             "pattern": {
              "fillmode": "overlay",
              "size": 10,
              "solidity": 0.2
             }
            },
            "type": "histogram"
           }
          ],
          "histogram2d": [
           {
            "colorbar": {
             "outlinewidth": 0,
             "ticks": ""
            },
            "colorscale": [
             [
              0,
              "#0d0887"
             ],
             [
              0.1111111111111111,
              "#46039f"
             ],
             [
              0.2222222222222222,
              "#7201a8"
             ],
             [
              0.3333333333333333,
              "#9c179e"
             ],
             [
              0.4444444444444444,
              "#bd3786"
             ],
             [
              0.5555555555555556,
              "#d8576b"
             ],
             [
              0.6666666666666666,
              "#ed7953"
             ],
             [
              0.7777777777777778,
              "#fb9f3a"
             ],
             [
              0.8888888888888888,
              "#fdca26"
             ],
             [
              1,
              "#f0f921"
             ]
            ],
            "type": "histogram2d"
           }
          ],
          "histogram2dcontour": [
           {
            "colorbar": {
             "outlinewidth": 0,
             "ticks": ""
            },
            "colorscale": [
             [
              0,
              "#0d0887"
             ],
             [
              0.1111111111111111,
              "#46039f"
             ],
             [
              0.2222222222222222,
              "#7201a8"
             ],
             [
              0.3333333333333333,
              "#9c179e"
             ],
             [
              0.4444444444444444,
              "#bd3786"
             ],
             [
              0.5555555555555556,
              "#d8576b"
             ],
             [
              0.6666666666666666,
              "#ed7953"
             ],
             [
              0.7777777777777778,
              "#fb9f3a"
             ],
             [
              0.8888888888888888,
              "#fdca26"
             ],
             [
              1,
              "#f0f921"
             ]
            ],
            "type": "histogram2dcontour"
           }
          ],
          "mesh3d": [
           {
            "colorbar": {
             "outlinewidth": 0,
             "ticks": ""
            },
            "type": "mesh3d"
           }
          ],
          "parcoords": [
           {
            "line": {
             "colorbar": {
              "outlinewidth": 0,
              "ticks": ""
             }
            },
            "type": "parcoords"
           }
          ],
          "pie": [
           {
            "automargin": true,
            "type": "pie"
           }
          ],
          "scatter": [
           {
            "fillpattern": {
             "fillmode": "overlay",
             "size": 10,
             "solidity": 0.2
            },
            "type": "scatter"
           }
          ],
          "scatter3d": [
           {
            "line": {
             "colorbar": {
              "outlinewidth": 0,
              "ticks": ""
             }
            },
            "marker": {
             "colorbar": {
              "outlinewidth": 0,
              "ticks": ""
             }
            },
            "type": "scatter3d"
           }
          ],
          "scattercarpet": [
           {
            "marker": {
             "colorbar": {
              "outlinewidth": 0,
              "ticks": ""
             }
            },
            "type": "scattercarpet"
           }
          ],
          "scattergeo": [
           {
            "marker": {
             "colorbar": {
              "outlinewidth": 0,
              "ticks": ""
             }
            },
            "type": "scattergeo"
           }
          ],
          "scattergl": [
           {
            "marker": {
             "colorbar": {
              "outlinewidth": 0,
              "ticks": ""
             }
            },
            "type": "scattergl"
           }
          ],
          "scattermapbox": [
           {
            "marker": {
             "colorbar": {
              "outlinewidth": 0,
              "ticks": ""
             }
            },
            "type": "scattermapbox"
           }
          ],
          "scatterpolar": [
           {
            "marker": {
             "colorbar": {
              "outlinewidth": 0,
              "ticks": ""
             }
            },
            "type": "scatterpolar"
           }
          ],
          "scatterpolargl": [
           {
            "marker": {
             "colorbar": {
              "outlinewidth": 0,
              "ticks": ""
             }
            },
            "type": "scatterpolargl"
           }
          ],
          "scatterternary": [
           {
            "marker": {
             "colorbar": {
              "outlinewidth": 0,
              "ticks": ""
             }
            },
            "type": "scatterternary"
           }
          ],
          "surface": [
           {
            "colorbar": {
             "outlinewidth": 0,
             "ticks": ""
            },
            "colorscale": [
             [
              0,
              "#0d0887"
             ],
             [
              0.1111111111111111,
              "#46039f"
             ],
             [
              0.2222222222222222,
              "#7201a8"
             ],
             [
              0.3333333333333333,
              "#9c179e"
             ],
             [
              0.4444444444444444,
              "#bd3786"
             ],
             [
              0.5555555555555556,
              "#d8576b"
             ],
             [
              0.6666666666666666,
              "#ed7953"
             ],
             [
              0.7777777777777778,
              "#fb9f3a"
             ],
             [
              0.8888888888888888,
              "#fdca26"
             ],
             [
              1,
              "#f0f921"
             ]
            ],
            "type": "surface"
           }
          ],
          "table": [
           {
            "cells": {
             "fill": {
              "color": "#EBF0F8"
             },
             "line": {
              "color": "white"
             }
            },
            "header": {
             "fill": {
              "color": "#C8D4E3"
             },
             "line": {
              "color": "white"
             }
            },
            "type": "table"
           }
          ]
         },
         "layout": {
          "annotationdefaults": {
           "arrowcolor": "#2a3f5f",
           "arrowhead": 0,
           "arrowwidth": 1
          },
          "autotypenumbers": "strict",
          "coloraxis": {
           "colorbar": {
            "outlinewidth": 0,
            "ticks": ""
           }
          },
          "colorscale": {
           "diverging": [
            [
             0,
             "#8e0152"
            ],
            [
             0.1,
             "#c51b7d"
            ],
            [
             0.2,
             "#de77ae"
            ],
            [
             0.3,
             "#f1b6da"
            ],
            [
             0.4,
             "#fde0ef"
            ],
            [
             0.5,
             "#f7f7f7"
            ],
            [
             0.6,
             "#e6f5d0"
            ],
            [
             0.7,
             "#b8e186"
            ],
            [
             0.8,
             "#7fbc41"
            ],
            [
             0.9,
             "#4d9221"
            ],
            [
             1,
             "#276419"
            ]
           ],
           "sequential": [
            [
             0,
             "#0d0887"
            ],
            [
             0.1111111111111111,
             "#46039f"
            ],
            [
             0.2222222222222222,
             "#7201a8"
            ],
            [
             0.3333333333333333,
             "#9c179e"
            ],
            [
             0.4444444444444444,
             "#bd3786"
            ],
            [
             0.5555555555555556,
             "#d8576b"
            ],
            [
             0.6666666666666666,
             "#ed7953"
            ],
            [
             0.7777777777777778,
             "#fb9f3a"
            ],
            [
             0.8888888888888888,
             "#fdca26"
            ],
            [
             1,
             "#f0f921"
            ]
           ],
           "sequentialminus": [
            [
             0,
             "#0d0887"
            ],
            [
             0.1111111111111111,
             "#46039f"
            ],
            [
             0.2222222222222222,
             "#7201a8"
            ],
            [
             0.3333333333333333,
             "#9c179e"
            ],
            [
             0.4444444444444444,
             "#bd3786"
            ],
            [
             0.5555555555555556,
             "#d8576b"
            ],
            [
             0.6666666666666666,
             "#ed7953"
            ],
            [
             0.7777777777777778,
             "#fb9f3a"
            ],
            [
             0.8888888888888888,
             "#fdca26"
            ],
            [
             1,
             "#f0f921"
            ]
           ]
          },
          "colorway": [
           "#636efa",
           "#EF553B",
           "#00cc96",
           "#ab63fa",
           "#FFA15A",
           "#19d3f3",
           "#FF6692",
           "#B6E880",
           "#FF97FF",
           "#FECB52"
          ],
          "font": {
           "color": "#2a3f5f"
          },
          "geo": {
           "bgcolor": "white",
           "lakecolor": "white",
           "landcolor": "#E5ECF6",
           "showlakes": true,
           "showland": true,
           "subunitcolor": "white"
          },
          "hoverlabel": {
           "align": "left"
          },
          "hovermode": "closest",
          "mapbox": {
           "style": "light"
          },
          "paper_bgcolor": "white",
          "plot_bgcolor": "#E5ECF6",
          "polar": {
           "angularaxis": {
            "gridcolor": "white",
            "linecolor": "white",
            "ticks": ""
           },
           "bgcolor": "#E5ECF6",
           "radialaxis": {
            "gridcolor": "white",
            "linecolor": "white",
            "ticks": ""
           }
          },
          "scene": {
           "xaxis": {
            "backgroundcolor": "#E5ECF6",
            "gridcolor": "white",
            "gridwidth": 2,
            "linecolor": "white",
            "showbackground": true,
            "ticks": "",
            "zerolinecolor": "white"
           },
           "yaxis": {
            "backgroundcolor": "#E5ECF6",
            "gridcolor": "white",
            "gridwidth": 2,
            "linecolor": "white",
            "showbackground": true,
            "ticks": "",
            "zerolinecolor": "white"
           },
           "zaxis": {
            "backgroundcolor": "#E5ECF6",
            "gridcolor": "white",
            "gridwidth": 2,
            "linecolor": "white",
            "showbackground": true,
            "ticks": "",
            "zerolinecolor": "white"
           }
          },
          "shapedefaults": {
           "line": {
            "color": "#2a3f5f"
           }
          },
          "ternary": {
           "aaxis": {
            "gridcolor": "white",
            "linecolor": "white",
            "ticks": ""
           },
           "baxis": {
            "gridcolor": "white",
            "linecolor": "white",
            "ticks": ""
           },
           "bgcolor": "#E5ECF6",
           "caxis": {
            "gridcolor": "white",
            "linecolor": "white",
            "ticks": ""
           }
          },
          "title": {
           "x": 0.05
          },
          "xaxis": {
           "automargin": true,
           "gridcolor": "white",
           "linecolor": "white",
           "ticks": "",
           "title": {
            "standoff": 15
           },
           "zerolinecolor": "white",
           "zerolinewidth": 2
          },
          "yaxis": {
           "automargin": true,
           "gridcolor": "white",
           "linecolor": "white",
           "ticks": "",
           "title": {
            "standoff": 15
           },
           "zerolinecolor": "white",
           "zerolinewidth": 2
          }
         }
        },
        "title": {
         "text": "grid"
        }
       }
      }
     },
     "metadata": {},
     "output_type": "display_data"
    }
   ],
   "source": [
    "#@markdown Visualize the grid points that were used for searching.\n",
    "px.scatter_3d(grid_df, x=\"R\", y=\"G\", z=\"B\", color=\"frechet\", title=\"grid\")"
   ]
  },
  {
   "cell_type": "markdown",
   "metadata": {
    "id": "20EbNZ8IJEUG"
   },
   "source": [
    "#### Grid Example Output\n",
    "\n",
    "![](https://github.com/sparks-baird/self-driving-lab-demo/blob/main/notebooks/grid-observations.png?raw=1)"
   ]
  },
  {
   "cell_type": "code",
   "execution_count": 8,
   "metadata": {
    "cellView": "form",
    "colab": {
     "base_uri": "https://localhost:8080/",
     "height": 542
    },
    "id": "KLFyuvubtJom",
    "outputId": "a6f806b2-f96c-4023-887b-c882a1375eea"
   },
   "outputs": [
    {
     "data": {
      "application/vnd.plotly.v1+json": {
       "config": {
        "plotlyServerURL": "https://plot.ly"
       },
       "data": [
        {
         "hovertemplate": "R=%{x}<br>G=%{y}<br>B=%{z}<br>frechet=%{marker.color}<extra></extra>",
         "legendgroup": "",
         "marker": {
          "color": [
           8060,
           6023.07471313448,
           7468,
           4711,
           8662.092356930858,
           4117,
           10130,
           5888.07642613443,
           7806.7750063646645,
           8396,
           9631.628159350837,
           7423,
           7272.061880924832,
           7837.771941055697,
           7350,
           6340,
           12438.25727342862,
           5599.080370918067,
           6482.069422645826,
           8522.063893212724,
           9271,
           9555.633155369664,
           2194,
           9721.157338506562,
           10183.594110136166,
           8808,
           8183
          ],
          "coloraxis": "coloraxis",
          "symbol": "circle"
         },
         "mode": "markers",
         "name": "",
         "scene": "scene",
         "showlegend": false,
         "type": "scatter3d",
         "x": [
          46,
          85,
          48,
          65,
          24,
          61,
          7,
          77,
          34,
          7,
          14,
          49,
          55,
          28,
          49,
          53,
          13,
          86,
          79,
          82,
          43,
          38,
          76,
          38,
          17,
          45,
          48
         ],
         "y": [
          1,
          48,
          12,
          28,
          53,
          49,
          59,
          39,
          71,
          80,
          48,
          17,
          39,
          84,
          79,
          16,
          25,
          85,
          59,
          29,
          18,
          50,
          17,
          37,
          47,
          38,
          8
         ],
         "z": [
          74,
          23,
          76,
          41,
          78,
          50,
          88,
          29,
          39,
          29,
          81,
          54,
          22,
          39,
          54,
          51,
          66,
          66,
          8,
          13,
          37,
          52,
          63,
          33,
          53,
          26,
          30
         ]
        }
       ],
       "layout": {
        "coloraxis": {
         "colorbar": {
          "title": {
           "text": "frechet"
          }
         },
         "colorscale": [
          [
           0,
           "#0d0887"
          ],
          [
           0.1111111111111111,
           "#46039f"
          ],
          [
           0.2222222222222222,
           "#7201a8"
          ],
          [
           0.3333333333333333,
           "#9c179e"
          ],
          [
           0.4444444444444444,
           "#bd3786"
          ],
          [
           0.5555555555555556,
           "#d8576b"
          ],
          [
           0.6666666666666666,
           "#ed7953"
          ],
          [
           0.7777777777777778,
           "#fb9f3a"
          ],
          [
           0.8888888888888888,
           "#fdca26"
          ],
          [
           1,
           "#f0f921"
          ]
         ]
        },
        "legend": {
         "tracegroupgap": 0
        },
        "scene": {
         "domain": {
          "x": [
           0,
           1
          ],
          "y": [
           0,
           1
          ]
         },
         "xaxis": {
          "title": {
           "text": "R"
          }
         },
         "yaxis": {
          "title": {
           "text": "G"
          }
         },
         "zaxis": {
          "title": {
           "text": "B"
          }
         }
        },
        "template": {
         "data": {
          "bar": [
           {
            "error_x": {
             "color": "#2a3f5f"
            },
            "error_y": {
             "color": "#2a3f5f"
            },
            "marker": {
             "line": {
              "color": "#E5ECF6",
              "width": 0.5
             },
             "pattern": {
              "fillmode": "overlay",
              "size": 10,
              "solidity": 0.2
             }
            },
            "type": "bar"
           }
          ],
          "barpolar": [
           {
            "marker": {
             "line": {
              "color": "#E5ECF6",
              "width": 0.5
             },
             "pattern": {
              "fillmode": "overlay",
              "size": 10,
              "solidity": 0.2
             }
            },
            "type": "barpolar"
           }
          ],
          "carpet": [
           {
            "aaxis": {
             "endlinecolor": "#2a3f5f",
             "gridcolor": "white",
             "linecolor": "white",
             "minorgridcolor": "white",
             "startlinecolor": "#2a3f5f"
            },
            "baxis": {
             "endlinecolor": "#2a3f5f",
             "gridcolor": "white",
             "linecolor": "white",
             "minorgridcolor": "white",
             "startlinecolor": "#2a3f5f"
            },
            "type": "carpet"
           }
          ],
          "choropleth": [
           {
            "colorbar": {
             "outlinewidth": 0,
             "ticks": ""
            },
            "type": "choropleth"
           }
          ],
          "contour": [
           {
            "colorbar": {
             "outlinewidth": 0,
             "ticks": ""
            },
            "colorscale": [
             [
              0,
              "#0d0887"
             ],
             [
              0.1111111111111111,
              "#46039f"
             ],
             [
              0.2222222222222222,
              "#7201a8"
             ],
             [
              0.3333333333333333,
              "#9c179e"
             ],
             [
              0.4444444444444444,
              "#bd3786"
             ],
             [
              0.5555555555555556,
              "#d8576b"
             ],
             [
              0.6666666666666666,
              "#ed7953"
             ],
             [
              0.7777777777777778,
              "#fb9f3a"
             ],
             [
              0.8888888888888888,
              "#fdca26"
             ],
             [
              1,
              "#f0f921"
             ]
            ],
            "type": "contour"
           }
          ],
          "contourcarpet": [
           {
            "colorbar": {
             "outlinewidth": 0,
             "ticks": ""
            },
            "type": "contourcarpet"
           }
          ],
          "heatmap": [
           {
            "colorbar": {
             "outlinewidth": 0,
             "ticks": ""
            },
            "colorscale": [
             [
              0,
              "#0d0887"
             ],
             [
              0.1111111111111111,
              "#46039f"
             ],
             [
              0.2222222222222222,
              "#7201a8"
             ],
             [
              0.3333333333333333,
              "#9c179e"
             ],
             [
              0.4444444444444444,
              "#bd3786"
             ],
             [
              0.5555555555555556,
              "#d8576b"
             ],
             [
              0.6666666666666666,
              "#ed7953"
             ],
             [
              0.7777777777777778,
              "#fb9f3a"
             ],
             [
              0.8888888888888888,
              "#fdca26"
             ],
             [
              1,
              "#f0f921"
             ]
            ],
            "type": "heatmap"
           }
          ],
          "heatmapgl": [
           {
            "colorbar": {
             "outlinewidth": 0,
             "ticks": ""
            },
            "colorscale": [
             [
              0,
              "#0d0887"
             ],
             [
              0.1111111111111111,
              "#46039f"
             ],
             [
              0.2222222222222222,
              "#7201a8"
             ],
             [
              0.3333333333333333,
              "#9c179e"
             ],
             [
              0.4444444444444444,
              "#bd3786"
             ],
             [
              0.5555555555555556,
              "#d8576b"
             ],
             [
              0.6666666666666666,
              "#ed7953"
             ],
             [
              0.7777777777777778,
              "#fb9f3a"
             ],
             [
              0.8888888888888888,
              "#fdca26"
             ],
             [
              1,
              "#f0f921"
             ]
            ],
            "type": "heatmapgl"
           }
          ],
          "histogram": [
           {
            "marker": {
             "pattern": {
              "fillmode": "overlay",
              "size": 10,
              "solidity": 0.2
             }
            },
            "type": "histogram"
           }
          ],
          "histogram2d": [
           {
            "colorbar": {
             "outlinewidth": 0,
             "ticks": ""
            },
            "colorscale": [
             [
              0,
              "#0d0887"
             ],
             [
              0.1111111111111111,
              "#46039f"
             ],
             [
              0.2222222222222222,
              "#7201a8"
             ],
             [
              0.3333333333333333,
              "#9c179e"
             ],
             [
              0.4444444444444444,
              "#bd3786"
             ],
             [
              0.5555555555555556,
              "#d8576b"
             ],
             [
              0.6666666666666666,
              "#ed7953"
             ],
             [
              0.7777777777777778,
              "#fb9f3a"
             ],
             [
              0.8888888888888888,
              "#fdca26"
             ],
             [
              1,
              "#f0f921"
             ]
            ],
            "type": "histogram2d"
           }
          ],
          "histogram2dcontour": [
           {
            "colorbar": {
             "outlinewidth": 0,
             "ticks": ""
            },
            "colorscale": [
             [
              0,
              "#0d0887"
             ],
             [
              0.1111111111111111,
              "#46039f"
             ],
             [
              0.2222222222222222,
              "#7201a8"
             ],
             [
              0.3333333333333333,
              "#9c179e"
             ],
             [
              0.4444444444444444,
              "#bd3786"
             ],
             [
              0.5555555555555556,
              "#d8576b"
             ],
             [
              0.6666666666666666,
              "#ed7953"
             ],
             [
              0.7777777777777778,
              "#fb9f3a"
             ],
             [
              0.8888888888888888,
              "#fdca26"
             ],
             [
              1,
              "#f0f921"
             ]
            ],
            "type": "histogram2dcontour"
           }
          ],
          "mesh3d": [
           {
            "colorbar": {
             "outlinewidth": 0,
             "ticks": ""
            },
            "type": "mesh3d"
           }
          ],
          "parcoords": [
           {
            "line": {
             "colorbar": {
              "outlinewidth": 0,
              "ticks": ""
             }
            },
            "type": "parcoords"
           }
          ],
          "pie": [
           {
            "automargin": true,
            "type": "pie"
           }
          ],
          "scatter": [
           {
            "fillpattern": {
             "fillmode": "overlay",
             "size": 10,
             "solidity": 0.2
            },
            "type": "scatter"
           }
          ],
          "scatter3d": [
           {
            "line": {
             "colorbar": {
              "outlinewidth": 0,
              "ticks": ""
             }
            },
            "marker": {
             "colorbar": {
              "outlinewidth": 0,
              "ticks": ""
             }
            },
            "type": "scatter3d"
           }
          ],
          "scattercarpet": [
           {
            "marker": {
             "colorbar": {
              "outlinewidth": 0,
              "ticks": ""
             }
            },
            "type": "scattercarpet"
           }
          ],
          "scattergeo": [
           {
            "marker": {
             "colorbar": {
              "outlinewidth": 0,
              "ticks": ""
             }
            },
            "type": "scattergeo"
           }
          ],
          "scattergl": [
           {
            "marker": {
             "colorbar": {
              "outlinewidth": 0,
              "ticks": ""
             }
            },
            "type": "scattergl"
           }
          ],
          "scattermapbox": [
           {
            "marker": {
             "colorbar": {
              "outlinewidth": 0,
              "ticks": ""
             }
            },
            "type": "scattermapbox"
           }
          ],
          "scatterpolar": [
           {
            "marker": {
             "colorbar": {
              "outlinewidth": 0,
              "ticks": ""
             }
            },
            "type": "scatterpolar"
           }
          ],
          "scatterpolargl": [
           {
            "marker": {
             "colorbar": {
              "outlinewidth": 0,
              "ticks": ""
             }
            },
            "type": "scatterpolargl"
           }
          ],
          "scatterternary": [
           {
            "marker": {
             "colorbar": {
              "outlinewidth": 0,
              "ticks": ""
             }
            },
            "type": "scatterternary"
           }
          ],
          "surface": [
           {
            "colorbar": {
             "outlinewidth": 0,
             "ticks": ""
            },
            "colorscale": [
             [
              0,
              "#0d0887"
             ],
             [
              0.1111111111111111,
              "#46039f"
             ],
             [
              0.2222222222222222,
              "#7201a8"
             ],
             [
              0.3333333333333333,
              "#9c179e"
             ],
             [
              0.4444444444444444,
              "#bd3786"
             ],
             [
              0.5555555555555556,
              "#d8576b"
             ],
             [
              0.6666666666666666,
              "#ed7953"
             ],
             [
              0.7777777777777778,
              "#fb9f3a"
             ],
             [
              0.8888888888888888,
              "#fdca26"
             ],
             [
              1,
              "#f0f921"
             ]
            ],
            "type": "surface"
           }
          ],
          "table": [
           {
            "cells": {
             "fill": {
              "color": "#EBF0F8"
             },
             "line": {
              "color": "white"
             }
            },
            "header": {
             "fill": {
              "color": "#C8D4E3"
             },
             "line": {
              "color": "white"
             }
            },
            "type": "table"
           }
          ]
         },
         "layout": {
          "annotationdefaults": {
           "arrowcolor": "#2a3f5f",
           "arrowhead": 0,
           "arrowwidth": 1
          },
          "autotypenumbers": "strict",
          "coloraxis": {
           "colorbar": {
            "outlinewidth": 0,
            "ticks": ""
           }
          },
          "colorscale": {
           "diverging": [
            [
             0,
             "#8e0152"
            ],
            [
             0.1,
             "#c51b7d"
            ],
            [
             0.2,
             "#de77ae"
            ],
            [
             0.3,
             "#f1b6da"
            ],
            [
             0.4,
             "#fde0ef"
            ],
            [
             0.5,
             "#f7f7f7"
            ],
            [
             0.6,
             "#e6f5d0"
            ],
            [
             0.7,
             "#b8e186"
            ],
            [
             0.8,
             "#7fbc41"
            ],
            [
             0.9,
             "#4d9221"
            ],
            [
             1,
             "#276419"
            ]
           ],
           "sequential": [
            [
             0,
             "#0d0887"
            ],
            [
             0.1111111111111111,
             "#46039f"
            ],
            [
             0.2222222222222222,
             "#7201a8"
            ],
            [
             0.3333333333333333,
             "#9c179e"
            ],
            [
             0.4444444444444444,
             "#bd3786"
            ],
            [
             0.5555555555555556,
             "#d8576b"
            ],
            [
             0.6666666666666666,
             "#ed7953"
            ],
            [
             0.7777777777777778,
             "#fb9f3a"
            ],
            [
             0.8888888888888888,
             "#fdca26"
            ],
            [
             1,
             "#f0f921"
            ]
           ],
           "sequentialminus": [
            [
             0,
             "#0d0887"
            ],
            [
             0.1111111111111111,
             "#46039f"
            ],
            [
             0.2222222222222222,
             "#7201a8"
            ],
            [
             0.3333333333333333,
             "#9c179e"
            ],
            [
             0.4444444444444444,
             "#bd3786"
            ],
            [
             0.5555555555555556,
             "#d8576b"
            ],
            [
             0.6666666666666666,
             "#ed7953"
            ],
            [
             0.7777777777777778,
             "#fb9f3a"
            ],
            [
             0.8888888888888888,
             "#fdca26"
            ],
            [
             1,
             "#f0f921"
            ]
           ]
          },
          "colorway": [
           "#636efa",
           "#EF553B",
           "#00cc96",
           "#ab63fa",
           "#FFA15A",
           "#19d3f3",
           "#FF6692",
           "#B6E880",
           "#FF97FF",
           "#FECB52"
          ],
          "font": {
           "color": "#2a3f5f"
          },
          "geo": {
           "bgcolor": "white",
           "lakecolor": "white",
           "landcolor": "#E5ECF6",
           "showlakes": true,
           "showland": true,
           "subunitcolor": "white"
          },
          "hoverlabel": {
           "align": "left"
          },
          "hovermode": "closest",
          "mapbox": {
           "style": "light"
          },
          "paper_bgcolor": "white",
          "plot_bgcolor": "#E5ECF6",
          "polar": {
           "angularaxis": {
            "gridcolor": "white",
            "linecolor": "white",
            "ticks": ""
           },
           "bgcolor": "#E5ECF6",
           "radialaxis": {
            "gridcolor": "white",
            "linecolor": "white",
            "ticks": ""
           }
          },
          "scene": {
           "xaxis": {
            "backgroundcolor": "#E5ECF6",
            "gridcolor": "white",
            "gridwidth": 2,
            "linecolor": "white",
            "showbackground": true,
            "ticks": "",
            "zerolinecolor": "white"
           },
           "yaxis": {
            "backgroundcolor": "#E5ECF6",
            "gridcolor": "white",
            "gridwidth": 2,
            "linecolor": "white",
            "showbackground": true,
            "ticks": "",
            "zerolinecolor": "white"
           },
           "zaxis": {
            "backgroundcolor": "#E5ECF6",
            "gridcolor": "white",
            "gridwidth": 2,
            "linecolor": "white",
            "showbackground": true,
            "ticks": "",
            "zerolinecolor": "white"
           }
          },
          "shapedefaults": {
           "line": {
            "color": "#2a3f5f"
           }
          },
          "ternary": {
           "aaxis": {
            "gridcolor": "white",
            "linecolor": "white",
            "ticks": ""
           },
           "baxis": {
            "gridcolor": "white",
            "linecolor": "white",
            "ticks": ""
           },
           "bgcolor": "#E5ECF6",
           "caxis": {
            "gridcolor": "white",
            "linecolor": "white",
            "ticks": ""
           }
          },
          "title": {
           "x": 0.05
          },
          "xaxis": {
           "automargin": true,
           "gridcolor": "white",
           "linecolor": "white",
           "ticks": "",
           "title": {
            "standoff": 15
           },
           "zerolinecolor": "white",
           "zerolinewidth": 2
          },
          "yaxis": {
           "automargin": true,
           "gridcolor": "white",
           "linecolor": "white",
           "ticks": "",
           "title": {
            "standoff": 15
           },
           "zerolinecolor": "white",
           "zerolinewidth": 2
          }
         }
        },
        "title": {
         "text": "random"
        }
       }
      }
     },
     "metadata": {},
     "output_type": "display_data"
    }
   ],
   "source": [
    "#@markdown Visualize the random points that were used for searching.\n",
    "px.scatter_3d(random_df, x=\"R\", y=\"G\", z=\"B\", color=\"frechet\", title=\"random\")"
   ]
  },
  {
   "cell_type": "markdown",
   "metadata": {
    "id": "l-N_jgNxJEUH"
   },
   "source": [
    "#### Random Example Output\n",
    "\n",
    "![](https://github.com/sparks-baird/self-driving-lab-demo/blob/main/notebooks/random-observations.png?raw=1)"
   ]
  },
  {
   "cell_type": "code",
   "execution_count": 9,
   "metadata": {
    "cellView": "form",
    "colab": {
     "base_uri": "https://localhost:8080/",
     "height": 542
    },
    "id": "jP1tAFzytJon",
    "outputId": "c42efd11-aa74-457d-a7d7-bcd64f25014f"
   },
   "outputs": [
    {
     "data": {
      "application/vnd.plotly.v1+json": {
       "config": {
        "plotlyServerURL": "https://plot.ly"
       },
       "data": [
        {
         "hovertemplate": "R=%{x}<br>G=%{y}<br>B=%{z}<br>frechet=%{marker.color}<extra></extra>",
         "legendgroup": "",
         "marker": {
          "color": [
           13316.03379388923,
           9845.142761788678,
           12181,
           4667,
           9211.347404153206,
           5477.0821611511365,
           1588.283350035503,
           2459.3253139834915,
           3127,
           3418,
           2520.317440323738,
           996.4517048005889,
           3039,
           5930,
           1460.3081866510233,
           6232.128368382667,
           934,
           4101,
           930,
           10265,
           894,
           939,
           2512,
           514,
           269,
           5825.137337436775,
           1238
          ],
          "coloraxis": "coloraxis",
          "symbol": "circle"
         },
         "mode": "markers",
         "name": "",
         "scene": "scene",
         "showlegend": false,
         "type": "scatter3d",
         "x": [
          3,
          16,
          31,
          60,
          38,
          78,
          73,
          83,
          73,
          79,
          69,
          77,
          86,
          89,
          72,
          72,
          75,
          89,
          76,
          89,
          72,
          77,
          71,
          75,
          75,
          89,
          72
         ],
         "y": [
          86,
          36,
          10,
          60,
          84,
          77,
          57,
          47,
          57,
          52,
          47,
          58,
          64,
          11,
          63,
          89,
          57,
          0,
          57,
          0,
          0,
          0,
          0,
          0,
          8,
          89,
          8
         ],
         "z": [
          57,
          33,
          84,
          71,
          9,
          70,
          60,
          56,
          46,
          67,
          56,
          56,
          55,
          37,
          56,
          50,
          56,
          65,
          55,
          89,
          54,
          53,
          48,
          57,
          57,
          0,
          60
         ]
        }
       ],
       "layout": {
        "coloraxis": {
         "colorbar": {
          "title": {
           "text": "frechet"
          }
         },
         "colorscale": [
          [
           0,
           "#0d0887"
          ],
          [
           0.1111111111111111,
           "#46039f"
          ],
          [
           0.2222222222222222,
           "#7201a8"
          ],
          [
           0.3333333333333333,
           "#9c179e"
          ],
          [
           0.4444444444444444,
           "#bd3786"
          ],
          [
           0.5555555555555556,
           "#d8576b"
          ],
          [
           0.6666666666666666,
           "#ed7953"
          ],
          [
           0.7777777777777778,
           "#fb9f3a"
          ],
          [
           0.8888888888888888,
           "#fdca26"
          ],
          [
           1,
           "#f0f921"
          ]
         ]
        },
        "legend": {
         "tracegroupgap": 0
        },
        "scene": {
         "domain": {
          "x": [
           0,
           1
          ],
          "y": [
           0,
           1
          ]
         },
         "xaxis": {
          "title": {
           "text": "R"
          }
         },
         "yaxis": {
          "title": {
           "text": "G"
          }
         },
         "zaxis": {
          "title": {
           "text": "B"
          }
         }
        },
        "template": {
         "data": {
          "bar": [
           {
            "error_x": {
             "color": "#2a3f5f"
            },
            "error_y": {
             "color": "#2a3f5f"
            },
            "marker": {
             "line": {
              "color": "#E5ECF6",
              "width": 0.5
             },
             "pattern": {
              "fillmode": "overlay",
              "size": 10,
              "solidity": 0.2
             }
            },
            "type": "bar"
           }
          ],
          "barpolar": [
           {
            "marker": {
             "line": {
              "color": "#E5ECF6",
              "width": 0.5
             },
             "pattern": {
              "fillmode": "overlay",
              "size": 10,
              "solidity": 0.2
             }
            },
            "type": "barpolar"
           }
          ],
          "carpet": [
           {
            "aaxis": {
             "endlinecolor": "#2a3f5f",
             "gridcolor": "white",
             "linecolor": "white",
             "minorgridcolor": "white",
             "startlinecolor": "#2a3f5f"
            },
            "baxis": {
             "endlinecolor": "#2a3f5f",
             "gridcolor": "white",
             "linecolor": "white",
             "minorgridcolor": "white",
             "startlinecolor": "#2a3f5f"
            },
            "type": "carpet"
           }
          ],
          "choropleth": [
           {
            "colorbar": {
             "outlinewidth": 0,
             "ticks": ""
            },
            "type": "choropleth"
           }
          ],
          "contour": [
           {
            "colorbar": {
             "outlinewidth": 0,
             "ticks": ""
            },
            "colorscale": [
             [
              0,
              "#0d0887"
             ],
             [
              0.1111111111111111,
              "#46039f"
             ],
             [
              0.2222222222222222,
              "#7201a8"
             ],
             [
              0.3333333333333333,
              "#9c179e"
             ],
             [
              0.4444444444444444,
              "#bd3786"
             ],
             [
              0.5555555555555556,
              "#d8576b"
             ],
             [
              0.6666666666666666,
              "#ed7953"
             ],
             [
              0.7777777777777778,
              "#fb9f3a"
             ],
             [
              0.8888888888888888,
              "#fdca26"
             ],
             [
              1,
              "#f0f921"
             ]
            ],
            "type": "contour"
           }
          ],
          "contourcarpet": [
           {
            "colorbar": {
             "outlinewidth": 0,
             "ticks": ""
            },
            "type": "contourcarpet"
           }
          ],
          "heatmap": [
           {
            "colorbar": {
             "outlinewidth": 0,
             "ticks": ""
            },
            "colorscale": [
             [
              0,
              "#0d0887"
             ],
             [
              0.1111111111111111,
              "#46039f"
             ],
             [
              0.2222222222222222,
              "#7201a8"
             ],
             [
              0.3333333333333333,
              "#9c179e"
             ],
             [
              0.4444444444444444,
              "#bd3786"
             ],
             [
              0.5555555555555556,
              "#d8576b"
             ],
             [
              0.6666666666666666,
              "#ed7953"
             ],
             [
              0.7777777777777778,
              "#fb9f3a"
             ],
             [
              0.8888888888888888,
              "#fdca26"
             ],
             [
              1,
              "#f0f921"
             ]
            ],
            "type": "heatmap"
           }
          ],
          "heatmapgl": [
           {
            "colorbar": {
             "outlinewidth": 0,
             "ticks": ""
            },
            "colorscale": [
             [
              0,
              "#0d0887"
             ],
             [
              0.1111111111111111,
              "#46039f"
             ],
             [
              0.2222222222222222,
              "#7201a8"
             ],
             [
              0.3333333333333333,
              "#9c179e"
             ],
             [
              0.4444444444444444,
              "#bd3786"
             ],
             [
              0.5555555555555556,
              "#d8576b"
             ],
             [
              0.6666666666666666,
              "#ed7953"
             ],
             [
              0.7777777777777778,
              "#fb9f3a"
             ],
             [
              0.8888888888888888,
              "#fdca26"
             ],
             [
              1,
              "#f0f921"
             ]
            ],
            "type": "heatmapgl"
           }
          ],
          "histogram": [
           {
            "marker": {
             "pattern": {
              "fillmode": "overlay",
              "size": 10,
              "solidity": 0.2
             }
            },
            "type": "histogram"
           }
          ],
          "histogram2d": [
           {
            "colorbar": {
             "outlinewidth": 0,
             "ticks": ""
            },
            "colorscale": [
             [
              0,
              "#0d0887"
             ],
             [
              0.1111111111111111,
              "#46039f"
             ],
             [
              0.2222222222222222,
              "#7201a8"
             ],
             [
              0.3333333333333333,
              "#9c179e"
             ],
             [
              0.4444444444444444,
              "#bd3786"
             ],
             [
              0.5555555555555556,
              "#d8576b"
             ],
             [
              0.6666666666666666,
              "#ed7953"
             ],
             [
              0.7777777777777778,
              "#fb9f3a"
             ],
             [
              0.8888888888888888,
              "#fdca26"
             ],
             [
              1,
              "#f0f921"
             ]
            ],
            "type": "histogram2d"
           }
          ],
          "histogram2dcontour": [
           {
            "colorbar": {
             "outlinewidth": 0,
             "ticks": ""
            },
            "colorscale": [
             [
              0,
              "#0d0887"
             ],
             [
              0.1111111111111111,
              "#46039f"
             ],
             [
              0.2222222222222222,
              "#7201a8"
             ],
             [
              0.3333333333333333,
              "#9c179e"
             ],
             [
              0.4444444444444444,
              "#bd3786"
             ],
             [
              0.5555555555555556,
              "#d8576b"
             ],
             [
              0.6666666666666666,
              "#ed7953"
             ],
             [
              0.7777777777777778,
              "#fb9f3a"
             ],
             [
              0.8888888888888888,
              "#fdca26"
             ],
             [
              1,
              "#f0f921"
             ]
            ],
            "type": "histogram2dcontour"
           }
          ],
          "mesh3d": [
           {
            "colorbar": {
             "outlinewidth": 0,
             "ticks": ""
            },
            "type": "mesh3d"
           }
          ],
          "parcoords": [
           {
            "line": {
             "colorbar": {
              "outlinewidth": 0,
              "ticks": ""
             }
            },
            "type": "parcoords"
           }
          ],
          "pie": [
           {
            "automargin": true,
            "type": "pie"
           }
          ],
          "scatter": [
           {
            "fillpattern": {
             "fillmode": "overlay",
             "size": 10,
             "solidity": 0.2
            },
            "type": "scatter"
           }
          ],
          "scatter3d": [
           {
            "line": {
             "colorbar": {
              "outlinewidth": 0,
              "ticks": ""
             }
            },
            "marker": {
             "colorbar": {
              "outlinewidth": 0,
              "ticks": ""
             }
            },
            "type": "scatter3d"
           }
          ],
          "scattercarpet": [
           {
            "marker": {
             "colorbar": {
              "outlinewidth": 0,
              "ticks": ""
             }
            },
            "type": "scattercarpet"
           }
          ],
          "scattergeo": [
           {
            "marker": {
             "colorbar": {
              "outlinewidth": 0,
              "ticks": ""
             }
            },
            "type": "scattergeo"
           }
          ],
          "scattergl": [
           {
            "marker": {
             "colorbar": {
              "outlinewidth": 0,
              "ticks": ""
             }
            },
            "type": "scattergl"
           }
          ],
          "scattermapbox": [
           {
            "marker": {
             "colorbar": {
              "outlinewidth": 0,
              "ticks": ""
             }
            },
            "type": "scattermapbox"
           }
          ],
          "scatterpolar": [
           {
            "marker": {
             "colorbar": {
              "outlinewidth": 0,
              "ticks": ""
             }
            },
            "type": "scatterpolar"
           }
          ],
          "scatterpolargl": [
           {
            "marker": {
             "colorbar": {
              "outlinewidth": 0,
              "ticks": ""
             }
            },
            "type": "scatterpolargl"
           }
          ],
          "scatterternary": [
           {
            "marker": {
             "colorbar": {
              "outlinewidth": 0,
              "ticks": ""
             }
            },
            "type": "scatterternary"
           }
          ],
          "surface": [
           {
            "colorbar": {
             "outlinewidth": 0,
             "ticks": ""
            },
            "colorscale": [
             [
              0,
              "#0d0887"
             ],
             [
              0.1111111111111111,
              "#46039f"
             ],
             [
              0.2222222222222222,
              "#7201a8"
             ],
             [
              0.3333333333333333,
              "#9c179e"
             ],
             [
              0.4444444444444444,
              "#bd3786"
             ],
             [
              0.5555555555555556,
              "#d8576b"
             ],
             [
              0.6666666666666666,
              "#ed7953"
             ],
             [
              0.7777777777777778,
              "#fb9f3a"
             ],
             [
              0.8888888888888888,
              "#fdca26"
             ],
             [
              1,
              "#f0f921"
             ]
            ],
            "type": "surface"
           }
          ],
          "table": [
           {
            "cells": {
             "fill": {
              "color": "#EBF0F8"
             },
             "line": {
              "color": "white"
             }
            },
            "header": {
             "fill": {
              "color": "#C8D4E3"
             },
             "line": {
              "color": "white"
             }
            },
            "type": "table"
           }
          ]
         },
         "layout": {
          "annotationdefaults": {
           "arrowcolor": "#2a3f5f",
           "arrowhead": 0,
           "arrowwidth": 1
          },
          "autotypenumbers": "strict",
          "coloraxis": {
           "colorbar": {
            "outlinewidth": 0,
            "ticks": ""
           }
          },
          "colorscale": {
           "diverging": [
            [
             0,
             "#8e0152"
            ],
            [
             0.1,
             "#c51b7d"
            ],
            [
             0.2,
             "#de77ae"
            ],
            [
             0.3,
             "#f1b6da"
            ],
            [
             0.4,
             "#fde0ef"
            ],
            [
             0.5,
             "#f7f7f7"
            ],
            [
             0.6,
             "#e6f5d0"
            ],
            [
             0.7,
             "#b8e186"
            ],
            [
             0.8,
             "#7fbc41"
            ],
            [
             0.9,
             "#4d9221"
            ],
            [
             1,
             "#276419"
            ]
           ],
           "sequential": [
            [
             0,
             "#0d0887"
            ],
            [
             0.1111111111111111,
             "#46039f"
            ],
            [
             0.2222222222222222,
             "#7201a8"
            ],
            [
             0.3333333333333333,
             "#9c179e"
            ],
            [
             0.4444444444444444,
             "#bd3786"
            ],
            [
             0.5555555555555556,
             "#d8576b"
            ],
            [
             0.6666666666666666,
             "#ed7953"
            ],
            [
             0.7777777777777778,
             "#fb9f3a"
            ],
            [
             0.8888888888888888,
             "#fdca26"
            ],
            [
             1,
             "#f0f921"
            ]
           ],
           "sequentialminus": [
            [
             0,
             "#0d0887"
            ],
            [
             0.1111111111111111,
             "#46039f"
            ],
            [
             0.2222222222222222,
             "#7201a8"
            ],
            [
             0.3333333333333333,
             "#9c179e"
            ],
            [
             0.4444444444444444,
             "#bd3786"
            ],
            [
             0.5555555555555556,
             "#d8576b"
            ],
            [
             0.6666666666666666,
             "#ed7953"
            ],
            [
             0.7777777777777778,
             "#fb9f3a"
            ],
            [
             0.8888888888888888,
             "#fdca26"
            ],
            [
             1,
             "#f0f921"
            ]
           ]
          },
          "colorway": [
           "#636efa",
           "#EF553B",
           "#00cc96",
           "#ab63fa",
           "#FFA15A",
           "#19d3f3",
           "#FF6692",
           "#B6E880",
           "#FF97FF",
           "#FECB52"
          ],
          "font": {
           "color": "#2a3f5f"
          },
          "geo": {
           "bgcolor": "white",
           "lakecolor": "white",
           "landcolor": "#E5ECF6",
           "showlakes": true,
           "showland": true,
           "subunitcolor": "white"
          },
          "hoverlabel": {
           "align": "left"
          },
          "hovermode": "closest",
          "mapbox": {
           "style": "light"
          },
          "paper_bgcolor": "white",
          "plot_bgcolor": "#E5ECF6",
          "polar": {
           "angularaxis": {
            "gridcolor": "white",
            "linecolor": "white",
            "ticks": ""
           },
           "bgcolor": "#E5ECF6",
           "radialaxis": {
            "gridcolor": "white",
            "linecolor": "white",
            "ticks": ""
           }
          },
          "scene": {
           "xaxis": {
            "backgroundcolor": "#E5ECF6",
            "gridcolor": "white",
            "gridwidth": 2,
            "linecolor": "white",
            "showbackground": true,
            "ticks": "",
            "zerolinecolor": "white"
           },
           "yaxis": {
            "backgroundcolor": "#E5ECF6",
            "gridcolor": "white",
            "gridwidth": 2,
            "linecolor": "white",
            "showbackground": true,
            "ticks": "",
            "zerolinecolor": "white"
           },
           "zaxis": {
            "backgroundcolor": "#E5ECF6",
            "gridcolor": "white",
            "gridwidth": 2,
            "linecolor": "white",
            "showbackground": true,
            "ticks": "",
            "zerolinecolor": "white"
           }
          },
          "shapedefaults": {
           "line": {
            "color": "#2a3f5f"
           }
          },
          "ternary": {
           "aaxis": {
            "gridcolor": "white",
            "linecolor": "white",
            "ticks": ""
           },
           "baxis": {
            "gridcolor": "white",
            "linecolor": "white",
            "ticks": ""
           },
           "bgcolor": "#E5ECF6",
           "caxis": {
            "gridcolor": "white",
            "linecolor": "white",
            "ticks": ""
           }
          },
          "title": {
           "x": 0.05
          },
          "xaxis": {
           "automargin": true,
           "gridcolor": "white",
           "linecolor": "white",
           "ticks": "",
           "title": {
            "standoff": 15
           },
           "zerolinecolor": "white",
           "zerolinewidth": 2
          },
          "yaxis": {
           "automargin": true,
           "gridcolor": "white",
           "linecolor": "white",
           "ticks": "",
           "title": {
            "standoff": 15
           },
           "zerolinecolor": "white",
           "zerolinewidth": 2
          }
         }
        },
        "title": {
         "text": "Bayesian"
        }
       }
      }
     },
     "metadata": {},
     "output_type": "display_data"
    }
   ],
   "source": [
    "#@markdown Visualize the points that were explored during Bayesian optimization.\n",
    "px.scatter_3d(bayes_df, x=\"R\", y=\"G\", z=\"B\", color=\"frechet\", title=\"Bayesian\")"
   ]
  },
  {
   "cell_type": "markdown",
   "metadata": {
    "id": "tPZaMpNYJEUH"
   },
   "source": [
    "#### Bayesian Example Output\n",
    "\n",
    "![](https://github.com/sparks-baird/self-driving-lab-demo/blob/main/notebooks/bayesian-observations.png?raw=1)"
   ]
  },
  {
   "cell_type": "code",
   "execution_count": 10,
   "metadata": {
    "cellView": "form",
    "colab": {
     "base_uri": "https://localhost:8080/",
     "height": 542
    },
    "id": "0r_CdGjmtJoo",
    "outputId": "69db69d7-2aab-4153-98bc-154e53f1d6f2"
   },
   "outputs": [
    {
     "data": {
      "application/vnd.plotly.v1+json": {
       "config": {
        "plotlyServerURL": "https://plot.ly"
       },
       "data": [
        {
         "hovertemplate": "type=grid<br>marker=observed<br>R=%{x}<br>G=%{y}<br>B=%{z}<extra></extra>",
         "legendgroup": "grid, observed",
         "marker": {
          "color": "#636efa",
          "opacity": 0.75,
          "symbol": "circle"
         },
         "mode": "markers",
         "name": "grid, observed",
         "scene": "scene",
         "showlegend": true,
         "type": "scatter3d",
         "x": [
          89
         ],
         "y": [
          44
         ],
         "z": [
          44
         ]
        },
        {
         "hovertemplate": "type=random<br>marker=observed<br>R=%{x}<br>G=%{y}<br>B=%{z}<extra></extra>",
         "legendgroup": "random, observed",
         "marker": {
          "color": "#EF553B",
          "opacity": 0.75,
          "symbol": "circle"
         },
         "mode": "markers",
         "name": "random, observed",
         "scene": "scene",
         "showlegend": true,
         "type": "scatter3d",
         "x": [
          76
         ],
         "y": [
          17
         ],
         "z": [
          63
         ]
        },
        {
         "hovertemplate": "type=bayesian<br>marker=observed<br>R=%{x}<br>G=%{y}<br>B=%{z}<extra></extra>",
         "legendgroup": "bayesian, observed",
         "marker": {
          "color": "#00cc96",
          "opacity": 0.75,
          "symbol": "circle"
         },
         "mode": "markers",
         "name": "bayesian, observed",
         "scene": "scene",
         "showlegend": true,
         "type": "scatter3d",
         "x": [
          75
         ],
         "y": [
          8
         ],
         "z": [
          57
         ]
        },
        {
         "hovertemplate": "type=true<br>marker=target<br>R=%{x}<br>G=%{y}<br>B=%{z}<extra></extra>",
         "legendgroup": "true, target",
         "marker": {
          "color": "#ab63fa",
          "opacity": 0.75,
          "symbol": "diamond-open"
         },
         "mode": "markers",
         "name": "true, target",
         "scene": "scene",
         "showlegend": true,
         "type": "scatter3d",
         "x": [
          75
         ],
         "y": [
          10
         ],
         "z": [
          56
         ]
        }
       ],
       "layout": {
        "legend": {
         "title": {
          "text": "type, marker"
         },
         "tracegroupgap": 0
        },
        "scene": {
         "domain": {
          "x": [
           0,
           1
          ],
          "y": [
           0,
           1
          ]
         },
         "xaxis": {
          "nticks": 4,
          "range": [
           0,
           89
          ],
          "title": {
           "text": "R"
          }
         },
         "yaxis": {
          "nticks": 4,
          "range": [
           0,
           89
          ],
          "title": {
           "text": "G"
          }
         },
         "zaxis": {
          "nticks": 4,
          "range": [
           0,
           89
          ],
          "title": {
           "text": "B"
          }
         }
        },
        "template": {
         "data": {
          "bar": [
           {
            "error_x": {
             "color": "#2a3f5f"
            },
            "error_y": {
             "color": "#2a3f5f"
            },
            "marker": {
             "line": {
              "color": "#E5ECF6",
              "width": 0.5
             },
             "pattern": {
              "fillmode": "overlay",
              "size": 10,
              "solidity": 0.2
             }
            },
            "type": "bar"
           }
          ],
          "barpolar": [
           {
            "marker": {
             "line": {
              "color": "#E5ECF6",
              "width": 0.5
             },
             "pattern": {
              "fillmode": "overlay",
              "size": 10,
              "solidity": 0.2
             }
            },
            "type": "barpolar"
           }
          ],
          "carpet": [
           {
            "aaxis": {
             "endlinecolor": "#2a3f5f",
             "gridcolor": "white",
             "linecolor": "white",
             "minorgridcolor": "white",
             "startlinecolor": "#2a3f5f"
            },
            "baxis": {
             "endlinecolor": "#2a3f5f",
             "gridcolor": "white",
             "linecolor": "white",
             "minorgridcolor": "white",
             "startlinecolor": "#2a3f5f"
            },
            "type": "carpet"
           }
          ],
          "choropleth": [
           {
            "colorbar": {
             "outlinewidth": 0,
             "ticks": ""
            },
            "type": "choropleth"
           }
          ],
          "contour": [
           {
            "colorbar": {
             "outlinewidth": 0,
             "ticks": ""
            },
            "colorscale": [
             [
              0,
              "#0d0887"
             ],
             [
              0.1111111111111111,
              "#46039f"
             ],
             [
              0.2222222222222222,
              "#7201a8"
             ],
             [
              0.3333333333333333,
              "#9c179e"
             ],
             [
              0.4444444444444444,
              "#bd3786"
             ],
             [
              0.5555555555555556,
              "#d8576b"
             ],
             [
              0.6666666666666666,
              "#ed7953"
             ],
             [
              0.7777777777777778,
              "#fb9f3a"
             ],
             [
              0.8888888888888888,
              "#fdca26"
             ],
             [
              1,
              "#f0f921"
             ]
            ],
            "type": "contour"
           }
          ],
          "contourcarpet": [
           {
            "colorbar": {
             "outlinewidth": 0,
             "ticks": ""
            },
            "type": "contourcarpet"
           }
          ],
          "heatmap": [
           {
            "colorbar": {
             "outlinewidth": 0,
             "ticks": ""
            },
            "colorscale": [
             [
              0,
              "#0d0887"
             ],
             [
              0.1111111111111111,
              "#46039f"
             ],
             [
              0.2222222222222222,
              "#7201a8"
             ],
             [
              0.3333333333333333,
              "#9c179e"
             ],
             [
              0.4444444444444444,
              "#bd3786"
             ],
             [
              0.5555555555555556,
              "#d8576b"
             ],
             [
              0.6666666666666666,
              "#ed7953"
             ],
             [
              0.7777777777777778,
              "#fb9f3a"
             ],
             [
              0.8888888888888888,
              "#fdca26"
             ],
             [
              1,
              "#f0f921"
             ]
            ],
            "type": "heatmap"
           }
          ],
          "heatmapgl": [
           {
            "colorbar": {
             "outlinewidth": 0,
             "ticks": ""
            },
            "colorscale": [
             [
              0,
              "#0d0887"
             ],
             [
              0.1111111111111111,
              "#46039f"
             ],
             [
              0.2222222222222222,
              "#7201a8"
             ],
             [
              0.3333333333333333,
              "#9c179e"
             ],
             [
              0.4444444444444444,
              "#bd3786"
             ],
             [
              0.5555555555555556,
              "#d8576b"
             ],
             [
              0.6666666666666666,
              "#ed7953"
             ],
             [
              0.7777777777777778,
              "#fb9f3a"
             ],
             [
              0.8888888888888888,
              "#fdca26"
             ],
             [
              1,
              "#f0f921"
             ]
            ],
            "type": "heatmapgl"
           }
          ],
          "histogram": [
           {
            "marker": {
             "pattern": {
              "fillmode": "overlay",
              "size": 10,
              "solidity": 0.2
             }
            },
            "type": "histogram"
           }
          ],
          "histogram2d": [
           {
            "colorbar": {
             "outlinewidth": 0,
             "ticks": ""
            },
            "colorscale": [
             [
              0,
              "#0d0887"
             ],
             [
              0.1111111111111111,
              "#46039f"
             ],
             [
              0.2222222222222222,
              "#7201a8"
             ],
             [
              0.3333333333333333,
              "#9c179e"
             ],
             [
              0.4444444444444444,
              "#bd3786"
             ],
             [
              0.5555555555555556,
              "#d8576b"
             ],
             [
              0.6666666666666666,
              "#ed7953"
             ],
             [
              0.7777777777777778,
              "#fb9f3a"
             ],
             [
              0.8888888888888888,
              "#fdca26"
             ],
             [
              1,
              "#f0f921"
             ]
            ],
            "type": "histogram2d"
           }
          ],
          "histogram2dcontour": [
           {
            "colorbar": {
             "outlinewidth": 0,
             "ticks": ""
            },
            "colorscale": [
             [
              0,
              "#0d0887"
             ],
             [
              0.1111111111111111,
              "#46039f"
             ],
             [
              0.2222222222222222,
              "#7201a8"
             ],
             [
              0.3333333333333333,
              "#9c179e"
             ],
             [
              0.4444444444444444,
              "#bd3786"
             ],
             [
              0.5555555555555556,
              "#d8576b"
             ],
             [
              0.6666666666666666,
              "#ed7953"
             ],
             [
              0.7777777777777778,
              "#fb9f3a"
             ],
             [
              0.8888888888888888,
              "#fdca26"
             ],
             [
              1,
              "#f0f921"
             ]
            ],
            "type": "histogram2dcontour"
           }
          ],
          "mesh3d": [
           {
            "colorbar": {
             "outlinewidth": 0,
             "ticks": ""
            },
            "type": "mesh3d"
           }
          ],
          "parcoords": [
           {
            "line": {
             "colorbar": {
              "outlinewidth": 0,
              "ticks": ""
             }
            },
            "type": "parcoords"
           }
          ],
          "pie": [
           {
            "automargin": true,
            "type": "pie"
           }
          ],
          "scatter": [
           {
            "fillpattern": {
             "fillmode": "overlay",
             "size": 10,
             "solidity": 0.2
            },
            "type": "scatter"
           }
          ],
          "scatter3d": [
           {
            "line": {
             "colorbar": {
              "outlinewidth": 0,
              "ticks": ""
             }
            },
            "marker": {
             "colorbar": {
              "outlinewidth": 0,
              "ticks": ""
             }
            },
            "type": "scatter3d"
           }
          ],
          "scattercarpet": [
           {
            "marker": {
             "colorbar": {
              "outlinewidth": 0,
              "ticks": ""
             }
            },
            "type": "scattercarpet"
           }
          ],
          "scattergeo": [
           {
            "marker": {
             "colorbar": {
              "outlinewidth": 0,
              "ticks": ""
             }
            },
            "type": "scattergeo"
           }
          ],
          "scattergl": [
           {
            "marker": {
             "colorbar": {
              "outlinewidth": 0,
              "ticks": ""
             }
            },
            "type": "scattergl"
           }
          ],
          "scattermapbox": [
           {
            "marker": {
             "colorbar": {
              "outlinewidth": 0,
              "ticks": ""
             }
            },
            "type": "scattermapbox"
           }
          ],
          "scatterpolar": [
           {
            "marker": {
             "colorbar": {
              "outlinewidth": 0,
              "ticks": ""
             }
            },
            "type": "scatterpolar"
           }
          ],
          "scatterpolargl": [
           {
            "marker": {
             "colorbar": {
              "outlinewidth": 0,
              "ticks": ""
             }
            },
            "type": "scatterpolargl"
           }
          ],
          "scatterternary": [
           {
            "marker": {
             "colorbar": {
              "outlinewidth": 0,
              "ticks": ""
             }
            },
            "type": "scatterternary"
           }
          ],
          "surface": [
           {
            "colorbar": {
             "outlinewidth": 0,
             "ticks": ""
            },
            "colorscale": [
             [
              0,
              "#0d0887"
             ],
             [
              0.1111111111111111,
              "#46039f"
             ],
             [
              0.2222222222222222,
              "#7201a8"
             ],
             [
              0.3333333333333333,
              "#9c179e"
             ],
             [
              0.4444444444444444,
              "#bd3786"
             ],
             [
              0.5555555555555556,
              "#d8576b"
             ],
             [
              0.6666666666666666,
              "#ed7953"
             ],
             [
              0.7777777777777778,
              "#fb9f3a"
             ],
             [
              0.8888888888888888,
              "#fdca26"
             ],
             [
              1,
              "#f0f921"
             ]
            ],
            "type": "surface"
           }
          ],
          "table": [
           {
            "cells": {
             "fill": {
              "color": "#EBF0F8"
             },
             "line": {
              "color": "white"
             }
            },
            "header": {
             "fill": {
              "color": "#C8D4E3"
             },
             "line": {
              "color": "white"
             }
            },
            "type": "table"
           }
          ]
         },
         "layout": {
          "annotationdefaults": {
           "arrowcolor": "#2a3f5f",
           "arrowhead": 0,
           "arrowwidth": 1
          },
          "autotypenumbers": "strict",
          "coloraxis": {
           "colorbar": {
            "outlinewidth": 0,
            "ticks": ""
           }
          },
          "colorscale": {
           "diverging": [
            [
             0,
             "#8e0152"
            ],
            [
             0.1,
             "#c51b7d"
            ],
            [
             0.2,
             "#de77ae"
            ],
            [
             0.3,
             "#f1b6da"
            ],
            [
             0.4,
             "#fde0ef"
            ],
            [
             0.5,
             "#f7f7f7"
            ],
            [
             0.6,
             "#e6f5d0"
            ],
            [
             0.7,
             "#b8e186"
            ],
            [
             0.8,
             "#7fbc41"
            ],
            [
             0.9,
             "#4d9221"
            ],
            [
             1,
             "#276419"
            ]
           ],
           "sequential": [
            [
             0,
             "#0d0887"
            ],
            [
             0.1111111111111111,
             "#46039f"
            ],
            [
             0.2222222222222222,
             "#7201a8"
            ],
            [
             0.3333333333333333,
             "#9c179e"
            ],
            [
             0.4444444444444444,
             "#bd3786"
            ],
            [
             0.5555555555555556,
             "#d8576b"
            ],
            [
             0.6666666666666666,
             "#ed7953"
            ],
            [
             0.7777777777777778,
             "#fb9f3a"
            ],
            [
             0.8888888888888888,
             "#fdca26"
            ],
            [
             1,
             "#f0f921"
            ]
           ],
           "sequentialminus": [
            [
             0,
             "#0d0887"
            ],
            [
             0.1111111111111111,
             "#46039f"
            ],
            [
             0.2222222222222222,
             "#7201a8"
            ],
            [
             0.3333333333333333,
             "#9c179e"
            ],
            [
             0.4444444444444444,
             "#bd3786"
            ],
            [
             0.5555555555555556,
             "#d8576b"
            ],
            [
             0.6666666666666666,
             "#ed7953"
            ],
            [
             0.7777777777777778,
             "#fb9f3a"
            ],
            [
             0.8888888888888888,
             "#fdca26"
            ],
            [
             1,
             "#f0f921"
            ]
           ]
          },
          "colorway": [
           "#636efa",
           "#EF553B",
           "#00cc96",
           "#ab63fa",
           "#FFA15A",
           "#19d3f3",
           "#FF6692",
           "#B6E880",
           "#FF97FF",
           "#FECB52"
          ],
          "font": {
           "color": "#2a3f5f"
          },
          "geo": {
           "bgcolor": "white",
           "lakecolor": "white",
           "landcolor": "#E5ECF6",
           "showlakes": true,
           "showland": true,
           "subunitcolor": "white"
          },
          "hoverlabel": {
           "align": "left"
          },
          "hovermode": "closest",
          "mapbox": {
           "style": "light"
          },
          "paper_bgcolor": "white",
          "plot_bgcolor": "#E5ECF6",
          "polar": {
           "angularaxis": {
            "gridcolor": "white",
            "linecolor": "white",
            "ticks": ""
           },
           "bgcolor": "#E5ECF6",
           "radialaxis": {
            "gridcolor": "white",
            "linecolor": "white",
            "ticks": ""
           }
          },
          "scene": {
           "xaxis": {
            "backgroundcolor": "#E5ECF6",
            "gridcolor": "white",
            "gridwidth": 2,
            "linecolor": "white",
            "showbackground": true,
            "ticks": "",
            "zerolinecolor": "white"
           },
           "yaxis": {
            "backgroundcolor": "#E5ECF6",
            "gridcolor": "white",
            "gridwidth": 2,
            "linecolor": "white",
            "showbackground": true,
            "ticks": "",
            "zerolinecolor": "white"
           },
           "zaxis": {
            "backgroundcolor": "#E5ECF6",
            "gridcolor": "white",
            "gridwidth": 2,
            "linecolor": "white",
            "showbackground": true,
            "ticks": "",
            "zerolinecolor": "white"
           }
          },
          "shapedefaults": {
           "line": {
            "color": "#2a3f5f"
           }
          },
          "ternary": {
           "aaxis": {
            "gridcolor": "white",
            "linecolor": "white",
            "ticks": ""
           },
           "baxis": {
            "gridcolor": "white",
            "linecolor": "white",
            "ticks": ""
           },
           "bgcolor": "#E5ECF6",
           "caxis": {
            "gridcolor": "white",
            "linecolor": "white",
            "ticks": ""
           }
          },
          "title": {
           "x": 0.05
          },
          "xaxis": {
           "automargin": true,
           "gridcolor": "white",
           "linecolor": "white",
           "ticks": "",
           "title": {
            "standoff": 15
           },
           "zerolinecolor": "white",
           "zerolinewidth": 2
          },
          "yaxis": {
           "automargin": true,
           "gridcolor": "white",
           "linecolor": "white",
           "ticks": "",
           "title": {
            "standoff": 15
           },
           "zerolinecolor": "white",
           "zerolinewidth": 2
          }
         }
        },
        "title": {
         "text": "best"
        }
       }
      }
     },
     "metadata": {},
     "output_type": "display_data"
    }
   ],
   "source": [
    "# @markdown Finally, we can take a look at how close the best experiments from each algorithm\n",
    "# @markdown compare to the true target inputs. You may need to rotate the image to get a\n",
    "# better view.\n",
    "\n",
    "target_inputs = sdl.get_target_inputs()\n",
    "true_inputs = pd.DataFrame(\n",
    "    {key: target_inputs[key] for key in target_inputs}, index=[0]\n",
    ")\n",
    "true_inputs[\"type\"] = \"true\"\n",
    "best_grid_inputs = grid_df.iloc[grid_df[\"frechet\"].idxmin()][[\"R\", \"G\", \"B\", \"type\"]]\n",
    "best_random_inputs = random_df.iloc[random_df[\"frechet\"].idxmin()][\n",
    "    [\"R\", \"G\", \"B\", \"type\"]\n",
    "]\n",
    "best_bayes_inputs = bayes_df.iloc[bayes_df[\"frechet\"].idxmin()][[\"R\", \"G\", \"B\", \"type\"]]\n",
    "\n",
    "best_df = pd.concat([best_grid_inputs, best_random_inputs, best_bayes_inputs], axis=1).T\n",
    "best_df[\"marker\"] = \"observed\"\n",
    "true_inputs[\"marker\"] = \"target\"\n",
    "best_df = pd.concat([best_df, true_inputs], axis=0)\n",
    "bnds = sdl.bounds\n",
    "fig = px.scatter_3d(\n",
    "    best_df, x=\"R\", y=\"G\", z=\"B\", color=\"type\", symbol=\"marker\", title=\"best\"\n",
    ").update_layout(\n",
    "    scene=dict(\n",
    "        xaxis=dict(\n",
    "            nticks=4,\n",
    "            range=[bnds[\"R\"][0], bnds[\"R\"][1]],\n",
    "        ),\n",
    "        yaxis=dict(\n",
    "            nticks=4,\n",
    "            range=[bnds[\"G\"][0], bnds[\"G\"][1]],\n",
    "        ),\n",
    "        zaxis=dict(\n",
    "            nticks=4,\n",
    "            range=[bnds[\"B\"][0], bnds[\"B\"][1]],\n",
    "        ),\n",
    "    ),\n",
    ")\n",
    "fig.update_traces(marker={\"opacity\": 0.75})\n",
    "fig.data[-1].marker.symbol = \"diamond-open\"\n",
    "fig"
   ]
  },
  {
   "cell_type": "markdown",
   "metadata": {
    "id": "Xzlmc8seJEUI"
   },
   "source": [
    "#### Best Points vs. True RGB\n",
    "\n",
    "![](https://github.com/sparks-baird/self-driving-lab-demo/blob/main/notebooks/best-point-visualization.png?raw=1)"
   ]
  },
  {
   "cell_type": "markdown",
   "metadata": {
    "id": "EdoY8rAPtJoo"
   },
   "source": [
    "## Next Steps\n",
    "\n",
    "🔰 To see where it started, read [the Matter white paper](https://doi.org/10.1016/j.matt.2022.11.007) 🔰\n",
    "\n",
    "> Baird, S. G.; Sparks, T. D. What Is a Minimal Working Example for a Self-Driving Laboratory? Matter 2022, 5 (12), 4170–4178. https://doi.org/10.1016/j.matt.2022.11.007.\n",
    "\n",
    "🏗️ To create your own CLSLab:Light, see [the video build\n",
    "instructions](https://youtu.be/GVdfJCsQ8vk) and [the Star Protocols manuscript](https://doi.org/10.1016/j.xpro.2023.102329) 🏗️\n",
    "\n",
    "> Baird, S. G.; Sparks, T. D. Building a \"Hello World\" for Self-Driving Labs: The Closed-Loop Spectroscopy Lab Light-Mixing Demo. STAR Protocols 2023, 4 (2), 102329. https://doi.org/10.1016/j.xpro.2023.102329.\n",
    "\n",
    "💡 To learn more about the potential uses of CLSLab:Light, see the\n",
    "[notebooks](https://github.com/sparks-baird/self-driving-lab-demo/tree/main/notebooks) 💡\n",
    "\n",
    "💬 To participate in discussions about self-driving lab topics, low-cost SDLs, and demo extensions, see the [Discussions\n",
    "Page](https://github.com/sparks-baird/self-driving-lab-demo/discussions) 💬\n",
    "\n",
    "🛠️ For a nitty-gritty dive into how it works, see the [source\n",
    "code](https://github.com/sparks-baird/self-driving-lab-demo/tree/main/src) 🛠️\n"
   ]
  }
 ],
 "metadata": {
  "colab": {
   "provenance": []
  },
  "kernelspec": {
   "display_name": "Python 3.9.13 ('sdl-demo')",
   "language": "python",
   "name": "python3"
  },
  "language_info": {
   "codemirror_mode": {
    "name": "ipython",
    "version": 3
   },
   "file_extension": ".py",
   "mimetype": "text/x-python",
   "name": "python",
   "nbconvert_exporter": "python",
   "pygments_lexer": "ipython3",
   "version": "3.11.8"
  },
  "vscode": {
   "interpreter": {
    "hash": "70cb6d4911b67e25d1487ebd620c5d1370239efaaf47f3851af44f5c5a26f988"
   }
  }
 },
 "nbformat": 4,
 "nbformat_minor": 0
}
