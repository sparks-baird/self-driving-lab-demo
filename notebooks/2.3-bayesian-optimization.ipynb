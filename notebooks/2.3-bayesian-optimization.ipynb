{
 "cells": [
  {
   "cell_type": "markdown",
   "metadata": {},
   "source": [
    "# Bayesian Optimization\n",
    "\n",
    "We implement a Bayesian optimization for LED configurations that most closely match a target\n",
    "light spectrum. We will work with a helper class, `SelfDrivingLabDemo` for setting up the\n",
    "spectrophotometer sensor, measuring data from the sensor,\n",
    "generating random inputs, and measuring the objective function (i.e. mean absolute\n",
    "error). From there, we perform an experiment with 100 iterations, visualize the\n",
    "results, and compare against random search. See\n",
    "[2.0-random-search.ipynb](2.0-random-search.ipynb) for some links on troubleshooting\n",
    "installation setup and a linear version of running an optimization campaign without the\n",
    "`SelfDrivingLabDemo` class."
   ]
  },
  {
   "cell_type": "markdown",
   "metadata": {},
   "source": [
    "## Setup\n",
    "\n",
    "Imports and the main class."
   ]
  },
  {
   "cell_type": "markdown",
   "metadata": {},
   "source": [
    "### Imports"
   ]
  },
  {
   "cell_type": "code",
   "execution_count": 1,
   "metadata": {},
   "outputs": [],
   "source": [
    "%load_ext autoreload\n",
    "%autoreload 2 # just some IPython magic to recognize changes to installed packages\n",
    "import pandas as pd\n",
    "from self_driving_lab_demo.core import SelfDrivingLabDemo"
   ]
  },
  {
   "cell_type": "markdown",
   "metadata": {},
   "source": [
    "### SelfDrivingLabDemo\n",
    "\n",
    "We'll instantiate the class and verify some of the functionality described in the random\n",
    "search tutorial ([`2.0-random-search.ipynb`](2.0-random-search.ipynb)).\n",
    "\n",
    "#### Instantiation\n",
    "\n",
    "Now, we instantiate the `SelfDrivingLabDemo` class with `autoload=True` so that records\n",
    "a target to optimize against. This involves selecting a set of target measurements as the \"true\" input values (i.e. the input\n",
    "brightness and RGB values that define the target spectrum) based on a random seed,\n",
    "setting the LED to those values, and then recording the spectrum intensities.\n",
    "\n",
    "> Note: Instantiating with autoload=True will light the LED briefly."
   ]
  },
  {
   "cell_type": "code",
   "execution_count": 2,
   "metadata": {},
   "outputs": [],
   "source": [
    "sdl = SelfDrivingLabDemo(autoload=True)"
   ]
  },
  {
   "cell_type": "markdown",
   "metadata": {},
   "source": [
    "#### Functionality\n",
    "\n",
    "We can do similar things to what was done in `2.0-random-search.ipynb`. For example, getting\n",
    "random inputs, observing the sensor data, and evaluating the objective function."
   ]
  },
  {
   "cell_type": "code",
   "execution_count": 3,
   "metadata": {},
   "outputs": [
    {
     "data": {
      "text/plain": [
       "[(0.27088461699458716, 112, 219, 178), (0.032962071760677336, 249, 194, 200)]"
      ]
     },
     "execution_count": 3,
     "metadata": {},
     "output_type": "execute_result"
    }
   ],
   "source": [
    "[sdl.get_random_inputs(), sdl.get_random_inputs()]"
   ]
  },
  {
   "cell_type": "code",
   "execution_count": 4,
   "metadata": {},
   "outputs": [
    {
     "data": {
      "text/plain": [
       "(314, 2129, 2196, 1575, 738, 1067, 1691, 1219)"
      ]
     },
     "execution_count": 4,
     "metadata": {},
     "output_type": "execute_result"
    }
   ],
   "source": [
    "sdl.observe_sensor_data(*sdl.get_random_inputs())"
   ]
  },
  {
   "cell_type": "code",
   "execution_count": 5,
   "metadata": {},
   "outputs": [
    {
     "data": {
      "text/plain": [
       "{'ch415_violet': 602,\n",
       " 'ch445_indigo': 3314,\n",
       " 'ch480_blue': 3909,\n",
       " 'ch515_cyan': 7842,\n",
       " 'ch560_green': 1973,\n",
       " 'ch615_yellow': 6624,\n",
       " 'ch670_orange': 12736,\n",
       " 'ch720_red': 1532,\n",
       " 'mae': 3158.75,\n",
       " 'rmse': 4783.712731759715}"
      ]
     },
     "execution_count": 5,
     "metadata": {},
     "output_type": "execute_result"
    }
   ],
   "source": [
    "sdl.evaluate(*sdl.get_random_inputs())"
   ]
  },
  {
   "cell_type": "markdown",
   "metadata": {},
   "source": [
    "## Optimization\n",
    "\n",
    "While there are great numerical tutorials comparing [grid search vs. random search vs.\n",
    "Bayesian optimization](https://towardsdatascience.com/grid-search-vs-random-search-vs-bayesian-optimization-2e68f57c3c46), here, we'll compare these three search methods in a way that perhaps you've never seen before,\n",
    "namely a self-driving laboratory demo!\n",
    "\n",
    "### Setup\n",
    "\n",
    "We define our optimization task parameters and take care of imports."
   ]
  },
  {
   "cell_type": "markdown",
   "metadata": {},
   "source": [
    "### Optimization Task Parameters\n",
    "\n",
    "We'll use 81 iterations repeated 5 times. The use of 81 iterations instead of something\n",
    "\"cleaner\" like 50 or 100 is due to constraints of doing uniform (full-factorial) grid\n",
    "search. $n^d$ number of points are required for uniform grid search, where $n$ and $d$\n",
    "represent number of points per dimension (`n_pts_per_dim`) and number of dimensions\n",
    "(`4`), respectively."
   ]
  },
  {
   "cell_type": "code",
   "execution_count": 6,
   "metadata": {},
   "outputs": [],
   "source": [
    "num_iter = 3 ** 4\n",
    "num_repeats = 5\n",
    "SEEDS = range(10, 10 + num_repeats)"
   ]
  },
  {
   "cell_type": "markdown",
   "metadata": {},
   "source": [
    "We also instantiate multiple `SelfDrivingLabDemo` instances, each with their own\n",
    "unique target spectrum."
   ]
  },
  {
   "cell_type": "code",
   "execution_count": 7,
   "metadata": {},
   "outputs": [],
   "source": [
    "sdls = [SelfDrivingLabDemo(autoload=True, target_seed=seed) for seed in SEEDS]"
   ]
  },
  {
   "cell_type": "markdown",
   "metadata": {},
   "source": [
    "Notice that the target_data is different for each."
   ]
  },
  {
   "cell_type": "code",
   "execution_count": 8,
   "metadata": {},
   "outputs": [
    {
     "data": {
      "text/html": [
       "<div>\n",
       "<style scoped>\n",
       "    .dataframe tbody tr th:only-of-type {\n",
       "        vertical-align: middle;\n",
       "    }\n",
       "\n",
       "    .dataframe tbody tr th {\n",
       "        vertical-align: top;\n",
       "    }\n",
       "\n",
       "    .dataframe thead th {\n",
       "        text-align: right;\n",
       "    }\n",
       "</style>\n",
       "<table border=\"1\" class=\"dataframe\">\n",
       "  <thead>\n",
       "    <tr style=\"text-align: right;\">\n",
       "      <th></th>\n",
       "      <th>ch415_violet</th>\n",
       "      <th>ch445_indigo</th>\n",
       "      <th>ch480_blue</th>\n",
       "      <th>ch515_cyan</th>\n",
       "      <th>ch560_green</th>\n",
       "      <th>ch615_yellow</th>\n",
       "      <th>ch670_orange</th>\n",
       "      <th>ch720_red</th>\n",
       "    </tr>\n",
       "  </thead>\n",
       "  <tbody>\n",
       "    <tr>\n",
       "      <th>0</th>\n",
       "      <td>725</td>\n",
       "      <td>3680</td>\n",
       "      <td>7084</td>\n",
       "      <td>21221</td>\n",
       "      <td>3924</td>\n",
       "      <td>3668</td>\n",
       "      <td>6416</td>\n",
       "      <td>1724</td>\n",
       "    </tr>\n",
       "    <tr>\n",
       "      <th>1</th>\n",
       "      <td>278</td>\n",
       "      <td>306</td>\n",
       "      <td>572</td>\n",
       "      <td>2162</td>\n",
       "      <td>853</td>\n",
       "      <td>1092</td>\n",
       "      <td>1731</td>\n",
       "      <td>1133</td>\n",
       "    </tr>\n",
       "    <tr>\n",
       "      <th>2</th>\n",
       "      <td>332</td>\n",
       "      <td>1013</td>\n",
       "      <td>1146</td>\n",
       "      <td>1558</td>\n",
       "      <td>744</td>\n",
       "      <td>2614</td>\n",
       "      <td>4775</td>\n",
       "      <td>1208</td>\n",
       "    </tr>\n",
       "    <tr>\n",
       "      <th>3</th>\n",
       "      <td>952</td>\n",
       "      <td>5662</td>\n",
       "      <td>7941</td>\n",
       "      <td>19392</td>\n",
       "      <td>3946</td>\n",
       "      <td>10356</td>\n",
       "      <td>20214</td>\n",
       "      <td>1977</td>\n",
       "    </tr>\n",
       "    <tr>\n",
       "      <th>4</th>\n",
       "      <td>1082</td>\n",
       "      <td>17454</td>\n",
       "      <td>14793</td>\n",
       "      <td>17145</td>\n",
       "      <td>3566</td>\n",
       "      <td>5163</td>\n",
       "      <td>9550</td>\n",
       "      <td>2294</td>\n",
       "    </tr>\n",
       "  </tbody>\n",
       "</table>\n",
       "</div>"
      ],
      "text/plain": [
       "   ch415_violet  ch445_indigo  ch480_blue  ch515_cyan  ch560_green  \\\n",
       "0           725          3680        7084       21221         3924   \n",
       "1           278           306         572        2162          853   \n",
       "2           332          1013        1146        1558          744   \n",
       "3           952          5662        7941       19392         3946   \n",
       "4          1082         17454       14793       17145         3566   \n",
       "\n",
       "   ch615_yellow  ch670_orange  ch720_red  \n",
       "0          3668          6416       1724  \n",
       "1          1092          1731       1133  \n",
       "2          2614          4775       1208  \n",
       "3         10356         20214       1977  \n",
       "4          5163          9550       2294  "
      ]
     },
     "execution_count": 8,
     "metadata": {},
     "output_type": "execute_result"
    }
   ],
   "source": [
    "pd.DataFrame([sdl.target_data for sdl in sdls], columns=sdl.channel_names)"
   ]
  },
  {
   "cell_type": "markdown",
   "metadata": {},
   "source": [
    "\n",
    "\n",
    "### Imports\n",
    "\n",
    "We'll be using `scikit-learn`'s `ParameterGrid` for grid search, `self_driving_lab_demo`'s built-in\n",
    "`get_random_inputs` for random search, and `ax-platform`'s Gaussian Process Expected\n",
    "Improvement (GPEI) model for Bayesian\n",
    "optimization. To help with defining the grid search space, we will also use the\n",
    "`bounds` and `parameters` class property of `SelfDrivingLabDemo` for convenience."
   ]
  },
  {
   "cell_type": "code",
   "execution_count": 9,
   "metadata": {},
   "outputs": [],
   "source": [
    "import numpy as np\n",
    "from tqdm import trange, tqdm\n",
    "from sklearn.model_selection import ParameterGrid\n",
    "from ax.service.ax_client import AxClient\n"
   ]
  },
  {
   "cell_type": "code",
   "execution_count": 10,
   "metadata": {},
   "outputs": [
    {
     "data": {
      "text/plain": [
       "{'brightness': [0.0, 0.35], 'R': [0, 255], 'G': [0, 255], 'B': [0, 255]}"
      ]
     },
     "execution_count": 10,
     "metadata": {},
     "output_type": "execute_result"
    }
   ],
   "source": [
    "sdls[0].bounds"
   ]
  },
  {
   "cell_type": "code",
   "execution_count": 11,
   "metadata": {},
   "outputs": [
    {
     "data": {
      "text/plain": [
       "[{'name': 'brightness', 'type': 'range', 'bounds': [0.0, 0.35]},\n",
       " {'name': 'R', 'type': 'range', 'bounds': [0, 255]},\n",
       " {'name': 'G', 'type': 'range', 'bounds': [0, 255]},\n",
       " {'name': 'B', 'type': 'range', 'bounds': [0, 255]}]"
      ]
     },
     "execution_count": 11,
     "metadata": {},
     "output_type": "execute_result"
    }
   ],
   "source": [
    "sdls[0].parameters"
   ]
  },
  {
   "cell_type": "markdown",
   "metadata": {},
   "source": [
    "### Grid Search\n",
    "\n",
    "First, we need to define our parameter grid. We'll divide up the 4-dimensional parameter\n",
    "space as evenly as possible (see `num_pts_per_dim` below)."
   ]
  },
  {
   "cell_type": "code",
   "execution_count": 12,
   "metadata": {},
   "outputs": [
    {
     "name": "stdout",
     "output_type": "stream",
     "text": [
      "num_pts_per_dim: 3\n"
     ]
    }
   ],
   "source": [
    "param_grid = {}\n",
    "num_pts_per_dim = round(num_iter ** (1 / len(sdl.bounds)))\n",
    "for name, bnd in sdl.bounds.items():\n",
    "    param_grid[name] = np.linspace(bnd[0], bnd[1], num=num_pts_per_dim)\n",
    "    if isinstance(bnd[0], int):\n",
    "        param_grid[name] = np.round(param_grid[name]).astype(int)\n",
    "print(f\"num_pts_per_dim: {num_pts_per_dim}\")"
   ]
  },
  {
   "cell_type": "markdown",
   "metadata": {},
   "source": [
    "Notice that there are only 3 distinct values along each dimension."
   ]
  },
  {
   "cell_type": "code",
   "execution_count": 13,
   "metadata": {},
   "outputs": [
    {
     "data": {
      "text/plain": [
       "{'brightness': array([0.   , 0.175, 0.35 ]),\n",
       " 'R': array([  0, 128, 255]),\n",
       " 'G': array([  0, 128, 255]),\n",
       " 'B': array([  0, 128, 255])}"
      ]
     },
     "execution_count": 13,
     "metadata": {},
     "output_type": "execute_result"
    }
   ],
   "source": [
    "param_grid"
   ]
  },
  {
   "cell_type": "markdown",
   "metadata": {},
   "source": [
    "After assembling the full grid, notice that the total number of points is $3^4 = 81$."
   ]
  },
  {
   "cell_type": "code",
   "execution_count": 14,
   "metadata": {},
   "outputs": [
    {
     "name": "stdout",
     "output_type": "stream",
     "text": [
      "grid:\n",
      " [{'B': 0, 'G': 0, 'R': 0, 'brightness': 0.0}, {'B': 0, 'G': 0, 'R': 0, 'brightness': 0.175}, {'B': 0, 'G': 0, 'R': 0, 'brightness': 0.35}, {'B': 0, 'G': 0, 'R': 128, 'brightness': 0.0}] ... [{'B': 255, 'G': 255, 'R': 255, 'brightness': 0.35}]\n",
      "\n",
      "Number of grid points:  81\n"
     ]
    }
   ],
   "source": [
    "grid = list(ParameterGrid(param_grid))\n",
    "print(\"grid:\\n\", grid[0:4], \"...\", grid[-1:])\n",
    "print(\"\\nNumber of grid points: \", len(grid))"
   ]
  },
  {
   "cell_type": "markdown",
   "metadata": {},
   "source": [
    "Now, we can start the actual search. The grid search locations are fixed\n",
    "for each of the repeat optimization campaigns; however the observed sensor data will be\n",
    "stochastic and the target spectrum is different for each repeat run. An alternative approach to setting a\n",
    "fixed budget and varying the target solution would be to see how many iterations it takes to meet a criteria for the\n",
    "objective function similar to [this post](https://towardsdatascience.com/grid-search-vs-random-search-vs-bayesian-optimization-2e68f57c3c46); however, a fixed budget seems more characteristic of a real chemistry\n",
    "or materials optimization campaign due to limits on funding, time, and other resources:\n",
    "(i.e. we'll search until we find what we're looking for, until we run out of\n",
    "resources, or until we decide it's no longer worth the expense, whichever comes first)."
   ]
  },
  {
   "cell_type": "code",
   "execution_count": 15,
   "metadata": {},
   "outputs": [
    {
     "name": "stderr",
     "output_type": "stream",
     "text": [
      "100%|\u2588\u2588\u2588\u2588\u2588\u2588\u2588\u2588\u2588\u2588| 5/5 [05:39<00:00, 67.86s/it]\n"
     ]
    }
   ],
   "source": [
    "grid_data = [\n",
    "    [\n",
    "        sdl.evaluate(pt[\"brightness\"], pt[\"R\"], pt[\"G\"], pt[\"B\"])\n",
    "        for pt in grid\n",
    "    ]\n",
    "    for sdl in tqdm(sdls)\n",
    "]"
   ]
  },
  {
   "cell_type": "markdown",
   "metadata": {},
   "source": [
    "### Random Search"
   ]
  },
  {
   "cell_type": "markdown",
   "metadata": {},
   "source": [
    "Now, let's perform random search as we did before in\n",
    "[`2.0-random-search.ipynb`](2.0-random-search.ipynb), storing the inputs and outputs as we go."
   ]
  },
  {
   "cell_type": "code",
   "execution_count": 16,
   "metadata": {},
   "outputs": [
    {
     "name": "stderr",
     "output_type": "stream",
     "text": [
      "100%|\u2588\u2588\u2588\u2588\u2588\u2588\u2588\u2588\u2588\u2588| 5/5 [05:39<00:00, 67.87s/it]"
     ]
    },
    {
     "name": "stdout",
     "output_type": "stream",
     "text": [
      "CPU times: user 34.8 s, sys: 29.6 s, total: 1min 4s\n",
      "Wall time: 5min 39s\n"
     ]
    },
    {
     "name": "stderr",
     "output_type": "stream",
     "text": [
      "\n"
     ]
    }
   ],
   "source": [
    "%%time\n",
    "random_inputs = []\n",
    "random_data = []\n",
    "for _ in tqdm(range(num_repeats)):\n",
    "    ri = []\n",
    "    od = []\n",
    "    for i in range(num_iter):\n",
    "        ri.append(sdl.get_random_inputs())\n",
    "        od.append(sdl.evaluate(*ri[i]))\n",
    "    random_inputs.append(ri)\n",
    "    random_data.append(od)"
   ]
  },
  {
   "cell_type": "markdown",
   "metadata": {},
   "source": [
    "### Bayesian Optimization\n",
    "\n",
    "Ax may run out of memory for low-RAM RPi's such as RPi Zero 2. Even on RPi 4B/RPi\n",
    "400, it will be slow* for more than about 50 iterations due to the lack of MKL\n",
    "optimization (a feature of RPi compute hardware).\n",
    "\n",
    "<p>\n",
    "<sup>\n",
    "*i.e. maybe slower than a demo/tutorial should be\n",
    "</sup>\n",
    "</p>"
   ]
  },
  {
   "cell_type": "code",
   "execution_count": 17,
   "metadata": {},
   "outputs": [
    {
     "name": "stderr",
     "output_type": "stream",
     "text": [
      "  0%|          | 0/5 [00:00<?, ?it/s][INFO 08-20 17:25:12] ax.service.utils.instantiation: Inferred value type of ParameterType.FLOAT for parameter brightness. If that is not the expected value type, you can explicity specify 'value_type' ('int', 'float', 'bool' or 'str') in parameter dict.\n",
      "[INFO 08-20 17:25:12] ax.service.utils.instantiation: Inferred value type of ParameterType.INT for parameter R. If that is not the expected value type, you can explicity specify 'value_type' ('int', 'float', 'bool' or 'str') in parameter dict.\n",
      "[INFO 08-20 17:25:12] ax.service.utils.instantiation: Inferred value type of ParameterType.INT for parameter G. If that is not the expected value type, you can explicity specify 'value_type' ('int', 'float', 'bool' or 'str') in parameter dict.\n",
      "[INFO 08-20 17:25:12] ax.service.utils.instantiation: Inferred value type of ParameterType.INT for parameter B. If that is not the expected value type, you can explicity specify 'value_type' ('int', 'float', 'bool' or 'str') in parameter dict.\n",
      "[INFO 08-20 17:25:12] ax.service.utils.instantiation: Created search space: SearchSpace(parameters=[RangeParameter(name='brightness', parameter_type=FLOAT, range=[0.0, 0.35]), RangeParameter(name='R', parameter_type=INT, range=[0, 255]), RangeParameter(name='G', parameter_type=INT, range=[0, 255]), RangeParameter(name='B', parameter_type=INT, range=[0, 255])], parameter_constraints=[]).\n",
      "[INFO 08-20 17:25:12] ax.modelbridge.dispatch_utils: Using Bayesian optimization since there are more ordered parameters than there are categories for the unordered categorical parameters.\n",
      "[INFO 08-20 17:25:12] ax.modelbridge.dispatch_utils: Using Bayesian Optimization generation strategy: GenerationStrategy(name='Sobol+GPEI', steps=[Sobol for 8 trials, GPEI for subsequent trials]). Iterations after 8 will take longer to generate due to  model-fitting.\n",
      "[INFO 08-20 17:25:12] ax.service.managed_loop: Started full optimization with 81 steps.\n",
      "[INFO 08-20 17:25:12] ax.service.managed_loop: Running optimization trial 1...\n",
      "[INFO 08-20 17:25:13] ax.service.managed_loop: Running optimization trial 2...\n",
      "[INFO 08-20 17:25:14] ax.service.managed_loop: Running optimization trial 3...\n",
      "[INFO 08-20 17:25:15] ax.service.managed_loop: Running optimization trial 4...\n",
      "[INFO 08-20 17:25:15] ax.service.managed_loop: Running optimization trial 5...\n",
      "[INFO 08-20 17:25:16] ax.service.managed_loop: Running optimization trial 6...\n",
      "[INFO 08-20 17:25:17] ax.service.managed_loop: Running optimization trial 7...\n",
      "[INFO 08-20 17:25:18] ax.service.managed_loop: Running optimization trial 8...\n",
      "[INFO 08-20 17:25:19] ax.service.managed_loop: Running optimization trial 9...\n",
      "/home/pi/mambaforge/envs/sdl-demo/lib/python3.9/site-packages/gpytorch/lazy/lazy_tensor.py:1811: UserWarning: torch.triangular_solve is deprecated in favor of torch.linalg.solve_triangularand will be removed in a future PyTorch release.\n",
      "torch.linalg.solve_triangular has its arguments reversed and does not return a copy of one of the inputs.\n",
      "X = torch.triangular_solve(B, A).solution\n",
      "should be replaced with\n",
      "X = torch.linalg.solve_triangular(A, B). (Triggered internally at  /root/pytorch/aten/src/ATen/native/BatchLinearAlgebra.cpp:2183.)\n",
      "  Linv = torch.triangular_solve(Eye, L, upper=False).solution\n",
      "[INFO 08-20 17:25:23] ax.service.managed_loop: Running optimization trial 10...\n",
      "[INFO 08-20 17:25:28] ax.service.managed_loop: Running optimization trial 11...\n",
      "[INFO 08-20 17:25:33] ax.service.managed_loop: Running optimization trial 12...\n",
      "[INFO 08-20 17:25:38] ax.service.managed_loop: Running optimization trial 13...\n",
      "[INFO 08-20 17:25:42] ax.service.managed_loop: Running optimization trial 14...\n",
      "[INFO 08-20 17:25:47] ax.service.managed_loop: Running optimization trial 15...\n",
      "[INFO 08-20 17:25:52] ax.service.managed_loop: Running optimization trial 16...\n",
      "[INFO 08-20 17:25:57] ax.service.managed_loop: Running optimization trial 17...\n",
      "[INFO 08-20 17:26:00] ax.service.managed_loop: Running optimization trial 18...\n",
      "[INFO 08-20 17:26:03] ax.service.managed_loop: Running optimization trial 19...\n",
      "[INFO 08-20 17:26:08] ax.service.managed_loop: Running optimization trial 20...\n",
      "[INFO 08-20 17:26:14] ax.service.managed_loop: Running optimization trial 21...\n",
      "[INFO 08-20 17:26:27] ax.service.managed_loop: Running optimization trial 22...\n",
      "[INFO 08-20 17:26:42] ax.service.managed_loop: Running optimization trial 23...\n",
      "[INFO 08-20 17:26:53] ax.service.managed_loop: Running optimization trial 24...\n",
      "[INFO 08-20 17:27:03] ax.service.managed_loop: Running optimization trial 25...\n",
      "[INFO 08-20 17:27:07] ax.service.managed_loop: Running optimization trial 26...\n",
      "[INFO 08-20 17:27:13] ax.service.managed_loop: Running optimization trial 27...\n",
      "[INFO 08-20 17:27:39] ax.service.managed_loop: Running optimization trial 28...\n",
      "[INFO 08-20 17:27:43] ax.service.managed_loop: Running optimization trial 29...\n",
      "[INFO 08-20 17:27:46] ax.service.managed_loop: Running optimization trial 30...\n",
      "[INFO 08-20 17:27:49] ax.service.managed_loop: Running optimization trial 31...\n",
      "[INFO 08-20 17:27:54] ax.service.managed_loop: Running optimization trial 32...\n",
      "[INFO 08-20 17:27:58] ax.service.managed_loop: Running optimization trial 33...\n",
      "[INFO 08-20 17:28:03] ax.service.managed_loop: Running optimization trial 34...\n",
      "[INFO 08-20 17:28:07] ax.service.managed_loop: Running optimization trial 35...\n",
      "[INFO 08-20 17:28:11] ax.service.managed_loop: Running optimization trial 36...\n",
      "[INFO 08-20 17:28:14] ax.service.managed_loop: Running optimization trial 37...\n",
      "[INFO 08-20 17:28:18] ax.service.managed_loop: Running optimization trial 38...\n",
      "[INFO 08-20 17:28:23] ax.service.managed_loop: Running optimization trial 39...\n",
      "[INFO 08-20 17:28:27] ax.service.managed_loop: Running optimization trial 40...\n",
      "[INFO 08-20 17:28:30] ax.service.managed_loop: Running optimization trial 41...\n",
      "[INFO 08-20 17:28:34] ax.service.managed_loop: Running optimization trial 42...\n",
      "[INFO 08-20 17:28:40] ax.service.managed_loop: Running optimization trial 43...\n",
      "[INFO 08-20 17:28:43] ax.service.managed_loop: Running optimization trial 44...\n",
      "[INFO 08-20 17:28:46] ax.service.managed_loop: Running optimization trial 45...\n",
      "[INFO 08-20 17:28:49] ax.service.managed_loop: Running optimization trial 46...\n",
      "[INFO 08-20 17:28:53] ax.service.managed_loop: Running optimization trial 47...\n",
      "[INFO 08-20 17:28:57] ax.service.managed_loop: Running optimization trial 48...\n",
      "[INFO 08-20 17:29:02] ax.service.managed_loop: Running optimization trial 49...\n",
      "[INFO 08-20 17:29:05] ax.service.managed_loop: Running optimization trial 50...\n",
      "[INFO 08-20 17:29:08] ax.service.managed_loop: Running optimization trial 51...\n",
      "[INFO 08-20 17:29:11] ax.service.managed_loop: Running optimization trial 52...\n",
      "[INFO 08-20 17:29:15] ax.service.managed_loop: Running optimization trial 53...\n",
      "[INFO 08-20 17:29:18] ax.service.managed_loop: Running optimization trial 54...\n",
      "[INFO 08-20 17:29:25] ax.service.managed_loop: Running optimization trial 55...\n",
      "[INFO 08-20 17:29:28] ax.service.managed_loop: Running optimization trial 56...\n",
      "[INFO 08-20 17:29:32] ax.service.managed_loop: Running optimization trial 57...\n",
      "[INFO 08-20 17:29:36] ax.service.managed_loop: Running optimization trial 58...\n",
      "[INFO 08-20 17:29:40] ax.service.managed_loop: Running optimization trial 59...\n",
      "[INFO 08-20 17:29:43] ax.service.managed_loop: Running optimization trial 60...\n",
      "[INFO 08-20 17:29:48] ax.service.managed_loop: Running optimization trial 61...\n",
      "[INFO 08-20 17:29:51] ax.service.managed_loop: Running optimization trial 62...\n",
      "[INFO 08-20 17:29:54] ax.service.managed_loop: Running optimization trial 63...\n",
      "[INFO 08-20 17:29:58] ax.service.managed_loop: Running optimization trial 64...\n",
      "[INFO 08-20 17:30:02] ax.service.managed_loop: Running optimization trial 65...\n",
      "[INFO 08-20 17:30:10] ax.service.managed_loop: Running optimization trial 66...\n",
      "[INFO 08-20 17:30:14] ax.service.managed_loop: Running optimization trial 67...\n",
      "[INFO 08-20 17:30:17] ax.service.managed_loop: Running optimization trial 68...\n",
      "[INFO 08-20 17:30:20] ax.service.managed_loop: Running optimization trial 69...\n",
      "[INFO 08-20 17:30:24] ax.service.managed_loop: Running optimization trial 70...\n",
      "[INFO 08-20 17:30:28] ax.service.managed_loop: Running optimization trial 71...\n",
      "[INFO 08-20 17:30:33] ax.service.managed_loop: Running optimization trial 72...\n",
      "[INFO 08-20 17:30:37] ax.service.managed_loop: Running optimization trial 73...\n",
      "[INFO 08-20 17:30:41] ax.service.managed_loop: Running optimization trial 74...\n",
      "[INFO 08-20 17:30:44] ax.service.managed_loop: Running optimization trial 75...\n",
      "[INFO 08-20 17:30:48] ax.service.managed_loop: Running optimization trial 76...\n",
      "[INFO 08-20 17:30:52] ax.service.managed_loop: Running optimization trial 77...\n",
      "[INFO 08-20 17:30:57] ax.service.managed_loop: Running optimization trial 78...\n",
      "[INFO 08-20 17:31:01] ax.service.managed_loop: Running optimization trial 79...\n",
      "[INFO 08-20 17:31:05] ax.service.managed_loop: Running optimization trial 80...\n",
      "[INFO 08-20 17:31:09] ax.service.managed_loop: Running optimization trial 81...\n",
      " 20%|\u2588\u2588        | 1/5 [06:09<24:36, 369.18s/it][INFO 08-20 17:31:21] ax.service.utils.instantiation: Inferred value type of ParameterType.FLOAT for parameter brightness. If that is not the expected value type, you can explicity specify 'value_type' ('int', 'float', 'bool' or 'str') in parameter dict.\n",
      "[INFO 08-20 17:31:21] ax.service.utils.instantiation: Inferred value type of ParameterType.INT for parameter R. If that is not the expected value type, you can explicity specify 'value_type' ('int', 'float', 'bool' or 'str') in parameter dict.\n",
      "[INFO 08-20 17:31:21] ax.service.utils.instantiation: Inferred value type of ParameterType.INT for parameter G. If that is not the expected value type, you can explicity specify 'value_type' ('int', 'float', 'bool' or 'str') in parameter dict.\n",
      "[INFO 08-20 17:31:21] ax.service.utils.instantiation: Inferred value type of ParameterType.INT for parameter B. If that is not the expected value type, you can explicity specify 'value_type' ('int', 'float', 'bool' or 'str') in parameter dict.\n",
      "[INFO 08-20 17:31:21] ax.service.utils.instantiation: Created search space: SearchSpace(parameters=[RangeParameter(name='brightness', parameter_type=FLOAT, range=[0.0, 0.35]), RangeParameter(name='R', parameter_type=INT, range=[0, 255]), RangeParameter(name='G', parameter_type=INT, range=[0, 255]), RangeParameter(name='B', parameter_type=INT, range=[0, 255])], parameter_constraints=[]).\n",
      "[INFO 08-20 17:31:21] ax.modelbridge.dispatch_utils: Using Bayesian optimization since there are more ordered parameters than there are categories for the unordered categorical parameters.\n",
      "[INFO 08-20 17:31:21] ax.modelbridge.dispatch_utils: Using Bayesian Optimization generation strategy: GenerationStrategy(name='Sobol+GPEI', steps=[Sobol for 8 trials, GPEI for subsequent trials]). Iterations after 8 will take longer to generate due to  model-fitting.\n",
      "[INFO 08-20 17:31:21] ax.service.managed_loop: Started full optimization with 81 steps.\n",
      "[INFO 08-20 17:31:21] ax.service.managed_loop: Running optimization trial 1...\n",
      "[INFO 08-20 17:31:22] ax.service.managed_loop: Running optimization trial 2...\n",
      "[INFO 08-20 17:31:23] ax.service.managed_loop: Running optimization trial 3...\n",
      "[INFO 08-20 17:31:24] ax.service.managed_loop: Running optimization trial 4...\n",
      "[INFO 08-20 17:31:25] ax.service.managed_loop: Running optimization trial 5...\n",
      "[INFO 08-20 17:31:26] ax.service.managed_loop: Running optimization trial 6...\n",
      "[INFO 08-20 17:31:26] ax.service.managed_loop: Running optimization trial 7...\n",
      "[INFO 08-20 17:31:27] ax.service.managed_loop: Running optimization trial 8...\n",
      "[INFO 08-20 17:31:28] ax.service.managed_loop: Running optimization trial 9...\n",
      "[INFO 08-20 17:31:32] ax.service.managed_loop: Running optimization trial 10...\n",
      "[INFO 08-20 17:31:35] ax.service.managed_loop: Running optimization trial 11...\n",
      "[INFO 08-20 17:31:38] ax.service.managed_loop: Running optimization trial 12...\n",
      "[INFO 08-20 17:31:42] ax.service.managed_loop: Running optimization trial 13...\n",
      "[INFO 08-20 17:31:45] ax.service.managed_loop: Running optimization trial 14...\n",
      "[INFO 08-20 17:31:49] ax.service.managed_loop: Running optimization trial 15...\n",
      "[INFO 08-20 17:31:53] ax.service.managed_loop: Running optimization trial 16...\n",
      "[INFO 08-20 17:31:58] ax.service.managed_loop: Running optimization trial 17...\n",
      "[INFO 08-20 17:32:02] ax.service.managed_loop: Running optimization trial 18...\n",
      "[INFO 08-20 17:32:06] ax.service.managed_loop: Running optimization trial 19...\n",
      "[INFO 08-20 17:32:13] ax.service.managed_loop: Running optimization trial 20...\n",
      "[INFO 08-20 17:32:17] ax.service.managed_loop: Running optimization trial 21...\n",
      "[INFO 08-20 17:32:21] ax.service.managed_loop: Running optimization trial 22...\n",
      "[INFO 08-20 17:32:26] ax.service.managed_loop: Running optimization trial 23...\n",
      "[INFO 08-20 17:32:30] ax.service.managed_loop: Running optimization trial 24...\n",
      "[INFO 08-20 17:32:34] ax.service.managed_loop: Running optimization trial 25...\n",
      "[INFO 08-20 17:32:38] ax.service.managed_loop: Running optimization trial 26...\n",
      "[INFO 08-20 17:32:42] ax.service.managed_loop: Running optimization trial 27...\n",
      "[INFO 08-20 17:32:47] ax.service.managed_loop: Running optimization trial 28...\n",
      "[INFO 08-20 17:32:52] ax.service.managed_loop: Running optimization trial 29...\n",
      "[INFO 08-20 17:32:57] ax.service.managed_loop: Running optimization trial 30...\n",
      "[INFO 08-20 17:33:01] ax.service.managed_loop: Running optimization trial 31...\n",
      "[INFO 08-20 17:33:07] ax.service.managed_loop: Running optimization trial 32...\n",
      "[INFO 08-20 17:33:12] ax.service.managed_loop: Running optimization trial 33...\n",
      "[INFO 08-20 17:33:17] ax.service.managed_loop: Running optimization trial 34...\n",
      "[INFO 08-20 17:33:20] ax.service.managed_loop: Running optimization trial 35...\n",
      "[INFO 08-20 17:33:24] ax.service.managed_loop: Running optimization trial 36...\n",
      "[INFO 08-20 17:33:29] ax.service.managed_loop: Running optimization trial 37...\n",
      "[INFO 08-20 17:33:35] ax.service.managed_loop: Running optimization trial 38...\n",
      "[INFO 08-20 17:33:40] ax.service.managed_loop: Running optimization trial 39...\n",
      "[INFO 08-20 17:33:46] ax.service.managed_loop: Running optimization trial 40...\n",
      "[INFO 08-20 17:33:51] ax.service.managed_loop: Running optimization trial 41...\n",
      "[INFO 08-20 17:33:57] ax.service.managed_loop: Running optimization trial 42...\n",
      "[INFO 08-20 17:34:03] ax.service.managed_loop: Running optimization trial 43...\n",
      "[INFO 08-20 17:34:08] ax.service.managed_loop: Running optimization trial 44...\n",
      "[INFO 08-20 17:34:13] ax.service.managed_loop: Running optimization trial 45...\n",
      "[INFO 08-20 17:34:19] ax.service.managed_loop: Running optimization trial 46...\n",
      "[INFO 08-20 17:34:26] ax.service.managed_loop: Running optimization trial 47...\n",
      "[INFO 08-20 17:34:31] ax.service.managed_loop: Running optimization trial 48...\n",
      "[INFO 08-20 17:34:37] ax.service.managed_loop: Running optimization trial 49...\n",
      "[INFO 08-20 17:34:44] ax.service.managed_loop: Running optimization trial 50...\n",
      "[INFO 08-20 17:34:51] ax.service.managed_loop: Running optimization trial 51...\n",
      "[INFO 08-20 17:34:57] ax.service.managed_loop: Running optimization trial 52...\n",
      "[INFO 08-20 17:35:03] ax.service.managed_loop: Running optimization trial 53...\n",
      "[INFO 08-20 17:35:10] ax.service.managed_loop: Running optimization trial 54...\n",
      "[INFO 08-20 17:35:16] ax.service.managed_loop: Running optimization trial 55...\n",
      "[INFO 08-20 17:35:21] ax.service.managed_loop: Running optimization trial 56...\n",
      "[INFO 08-20 17:35:27] ax.service.managed_loop: Running optimization trial 57...\n",
      "[INFO 08-20 17:35:33] ax.service.managed_loop: Running optimization trial 58...\n",
      "[INFO 08-20 17:35:41] ax.service.managed_loop: Running optimization trial 59...\n",
      "[INFO 08-20 17:35:50] ax.service.managed_loop: Running optimization trial 60...\n",
      "[INFO 08-20 17:35:58] ax.service.managed_loop: Running optimization trial 61...\n",
      "[INFO 08-20 17:36:15] ax.service.managed_loop: Running optimization trial 62...\n",
      "[INFO 08-20 17:36:24] ax.service.managed_loop: Running optimization trial 63...\n",
      "[INFO 08-20 17:36:33] ax.service.managed_loop: Running optimization trial 64...\n",
      "[INFO 08-20 17:36:42] ax.service.managed_loop: Running optimization trial 65...\n",
      "[INFO 08-20 17:36:51] ax.service.managed_loop: Running optimization trial 66...\n",
      "[INFO 08-20 17:37:00] ax.service.managed_loop: Running optimization trial 67...\n",
      "[INFO 08-20 17:37:13] ax.service.managed_loop: Running optimization trial 68...\n",
      "[INFO 08-20 17:37:25] ax.service.managed_loop: Running optimization trial 69...\n",
      "[INFO 08-20 17:37:39] ax.service.managed_loop: Running optimization trial 70...\n",
      "[INFO 08-20 17:37:51] ax.service.managed_loop: Running optimization trial 71...\n",
      "[INFO 08-20 17:38:03] ax.service.managed_loop: Running optimization trial 72...\n",
      "[INFO 08-20 17:38:19] ax.service.managed_loop: Running optimization trial 73...\n",
      "[INFO 08-20 17:38:30] ax.service.managed_loop: Running optimization trial 74...\n",
      "[INFO 08-20 17:38:42] ax.service.managed_loop: Running optimization trial 75...\n",
      "[INFO 08-20 17:38:55] ax.service.managed_loop: Running optimization trial 76...\n",
      "[INFO 08-20 17:39:08] ax.service.managed_loop: Running optimization trial 77...\n",
      "[INFO 08-20 17:39:21] ax.service.managed_loop: Running optimization trial 78...\n",
      "[INFO 08-20 17:39:26] ax.service.managed_loop: Running optimization trial 79...\n",
      "[INFO 08-20 17:39:38] ax.service.managed_loop: Running optimization trial 80...\n",
      "[INFO 08-20 17:39:48] ax.service.managed_loop: Running optimization trial 81...\n",
      " 40%|\u2588\u2588\u2588\u2588      | 2/5 [14:59<23:11, 463.90s/it][INFO 08-20 17:40:11] ax.service.utils.instantiation: Inferred value type of ParameterType.FLOAT for parameter brightness. If that is not the expected value type, you can explicity specify 'value_type' ('int', 'float', 'bool' or 'str') in parameter dict.\n",
      "[INFO 08-20 17:40:11] ax.service.utils.instantiation: Inferred value type of ParameterType.INT for parameter R. If that is not the expected value type, you can explicity specify 'value_type' ('int', 'float', 'bool' or 'str') in parameter dict.\n",
      "[INFO 08-20 17:40:11] ax.service.utils.instantiation: Inferred value type of ParameterType.INT for parameter G. If that is not the expected value type, you can explicity specify 'value_type' ('int', 'float', 'bool' or 'str') in parameter dict.\n",
      "[INFO 08-20 17:40:11] ax.service.utils.instantiation: Inferred value type of ParameterType.INT for parameter B. If that is not the expected value type, you can explicity specify 'value_type' ('int', 'float', 'bool' or 'str') in parameter dict.\n",
      "[INFO 08-20 17:40:11] ax.service.utils.instantiation: Created search space: SearchSpace(parameters=[RangeParameter(name='brightness', parameter_type=FLOAT, range=[0.0, 0.35]), RangeParameter(name='R', parameter_type=INT, range=[0, 255]), RangeParameter(name='G', parameter_type=INT, range=[0, 255]), RangeParameter(name='B', parameter_type=INT, range=[0, 255])], parameter_constraints=[]).\n",
      "[INFO 08-20 17:40:11] ax.modelbridge.dispatch_utils: Using Bayesian optimization since there are more ordered parameters than there are categories for the unordered categorical parameters.\n",
      "[INFO 08-20 17:40:11] ax.modelbridge.dispatch_utils: Using Bayesian Optimization generation strategy: GenerationStrategy(name='Sobol+GPEI', steps=[Sobol for 8 trials, GPEI for subsequent trials]). Iterations after 8 will take longer to generate due to  model-fitting.\n",
      "[INFO 08-20 17:40:11] ax.service.managed_loop: Started full optimization with 81 steps.\n",
      "[INFO 08-20 17:40:11] ax.service.managed_loop: Running optimization trial 1...\n",
      "[INFO 08-20 17:40:12] ax.service.managed_loop: Running optimization trial 2...\n",
      "[INFO 08-20 17:40:13] ax.service.managed_loop: Running optimization trial 3...\n",
      "[INFO 08-20 17:40:14] ax.service.managed_loop: Running optimization trial 4...\n",
      "[INFO 08-20 17:40:15] ax.service.managed_loop: Running optimization trial 5...\n",
      "[INFO 08-20 17:40:16] ax.service.managed_loop: Running optimization trial 6...\n",
      "[INFO 08-20 17:40:17] ax.service.managed_loop: Running optimization trial 7...\n",
      "[INFO 08-20 17:40:18] ax.service.managed_loop: Running optimization trial 8...\n",
      "[INFO 08-20 17:40:19] ax.service.managed_loop: Running optimization trial 9...\n",
      "[INFO 08-20 17:40:21] ax.service.managed_loop: Running optimization trial 10...\n",
      "[INFO 08-20 17:40:24] ax.service.managed_loop: Running optimization trial 11...\n",
      "[INFO 08-20 17:40:26] ax.service.managed_loop: Running optimization trial 12...\n",
      "[INFO 08-20 17:40:29] ax.service.managed_loop: Running optimization trial 13...\n",
      "[INFO 08-20 17:40:31] ax.service.managed_loop: Running optimization trial 14...\n",
      "[INFO 08-20 17:40:33] ax.service.managed_loop: Running optimization trial 15...\n",
      "[INFO 08-20 17:40:36] ax.service.managed_loop: Running optimization trial 16...\n",
      "[INFO 08-20 17:40:40] ax.service.managed_loop: Running optimization trial 17...\n",
      "[INFO 08-20 17:40:43] ax.service.managed_loop: Running optimization trial 18...\n",
      "[INFO 08-20 17:40:46] ax.service.managed_loop: Running optimization trial 19...\n",
      "[INFO 08-20 17:40:48] ax.service.managed_loop: Running optimization trial 20...\n",
      "[INFO 08-20 17:40:52] ax.service.managed_loop: Running optimization trial 21...\n",
      "[INFO 08-20 17:40:55] ax.service.managed_loop: Running optimization trial 22...\n",
      "[INFO 08-20 17:40:59] ax.service.managed_loop: Running optimization trial 23...\n",
      "[INFO 08-20 17:41:04] ax.service.managed_loop: Running optimization trial 24...\n",
      "[INFO 08-20 17:41:07] ax.service.managed_loop: Running optimization trial 25...\n",
      "[INFO 08-20 17:41:11] ax.service.managed_loop: Running optimization trial 26...\n",
      "[INFO 08-20 17:41:14] ax.service.managed_loop: Running optimization trial 27...\n",
      "[INFO 08-20 17:41:19] ax.service.managed_loop: Running optimization trial 28...\n",
      "[INFO 08-20 17:41:24] ax.service.managed_loop: Running optimization trial 29...\n",
      "[INFO 08-20 17:41:29] ax.service.managed_loop: Running optimization trial 30...\n",
      "[INFO 08-20 17:41:33] ax.service.managed_loop: Running optimization trial 31...\n",
      "[INFO 08-20 17:41:38] ax.service.managed_loop: Running optimization trial 32...\n",
      "[INFO 08-20 17:41:42] ax.service.managed_loop: Running optimization trial 33...\n",
      "[INFO 08-20 17:41:48] ax.service.managed_loop: Running optimization trial 34...\n",
      "[INFO 08-20 17:41:53] ax.service.managed_loop: Running optimization trial 35...\n",
      "[INFO 08-20 17:41:58] ax.service.managed_loop: Running optimization trial 36...\n",
      "[INFO 08-20 17:42:04] ax.service.managed_loop: Running optimization trial 37...\n",
      "[INFO 08-20 17:42:17] ax.service.managed_loop: Running optimization trial 38...\n",
      "[INFO 08-20 17:42:21] ax.service.managed_loop: Running optimization trial 39...\n",
      "[INFO 08-20 17:42:25] ax.service.managed_loop: Running optimization trial 40...\n",
      "[INFO 08-20 17:42:29] ax.service.managed_loop: Running optimization trial 41...\n",
      "[INFO 08-20 17:42:33] ax.service.managed_loop: Running optimization trial 42...\n",
      "[INFO 08-20 17:42:38] ax.service.managed_loop: Running optimization trial 43...\n",
      "[INFO 08-20 17:42:42] ax.service.managed_loop: Running optimization trial 44...\n",
      "[INFO 08-20 17:42:46] ax.service.managed_loop: Running optimization trial 45...\n",
      "[INFO 08-20 17:42:51] ax.service.managed_loop: Running optimization trial 46...\n",
      "[INFO 08-20 17:42:55] ax.service.managed_loop: Running optimization trial 47...\n",
      "[INFO 08-20 17:42:59] ax.service.managed_loop: Running optimization trial 48...\n",
      "[INFO 08-20 17:43:04] ax.service.managed_loop: Running optimization trial 49...\n",
      "[INFO 08-20 17:43:09] ax.service.managed_loop: Running optimization trial 50...\n",
      "[INFO 08-20 17:43:14] ax.service.managed_loop: Running optimization trial 51...\n",
      "[INFO 08-20 17:43:21] ax.service.managed_loop: Running optimization trial 52...\n",
      "[INFO 08-20 17:43:29] ax.service.managed_loop: Running optimization trial 53...\n",
      "[INFO 08-20 17:43:35] ax.service.managed_loop: Running optimization trial 54...\n",
      "[INFO 08-20 17:43:41] ax.service.managed_loop: Running optimization trial 55...\n",
      "[INFO 08-20 17:43:48] ax.service.managed_loop: Running optimization trial 56...\n",
      "[INFO 08-20 17:43:56] ax.service.managed_loop: Running optimization trial 57...\n",
      "[INFO 08-20 17:44:02] ax.service.managed_loop: Running optimization trial 58...\n",
      "[INFO 08-20 17:44:09] ax.service.managed_loop: Running optimization trial 59...\n",
      "[INFO 08-20 17:44:21] ax.service.managed_loop: Running optimization trial 60...\n",
      "[INFO 08-20 17:44:28] ax.service.managed_loop: Running optimization trial 61...\n",
      "[INFO 08-20 17:44:34] ax.service.managed_loop: Running optimization trial 62...\n",
      "[INFO 08-20 17:44:41] ax.service.managed_loop: Running optimization trial 63...\n",
      "[INFO 08-20 17:44:51] ax.service.managed_loop: Running optimization trial 64...\n",
      "[INFO 08-20 17:44:59] ax.service.managed_loop: Running optimization trial 65...\n",
      "[INFO 08-20 17:45:06] ax.service.managed_loop: Running optimization trial 66...\n",
      "[INFO 08-20 17:45:21] ax.service.managed_loop: Running optimization trial 67...\n",
      "[INFO 08-20 17:45:31] ax.service.managed_loop: Running optimization trial 68...\n",
      "[INFO 08-20 17:45:42] ax.service.managed_loop: Running optimization trial 69...\n",
      "[INFO 08-20 17:45:53] ax.service.managed_loop: Running optimization trial 70...\n",
      "[INFO 08-20 17:46:04] ax.service.managed_loop: Running optimization trial 71...\n",
      "[INFO 08-20 17:46:15] ax.service.managed_loop: Running optimization trial 72...\n",
      "[INFO 08-20 17:46:26] ax.service.managed_loop: Running optimization trial 73...\n",
      "[INFO 08-20 17:46:42] ax.service.managed_loop: Running optimization trial 74...\n",
      "[INFO 08-20 17:46:54] ax.service.managed_loop: Running optimization trial 75...\n",
      "[INFO 08-20 17:47:04] ax.service.managed_loop: Running optimization trial 76...\n",
      "[INFO 08-20 17:47:17] ax.service.managed_loop: Running optimization trial 77...\n",
      "[INFO 08-20 17:47:29] ax.service.managed_loop: Running optimization trial 78...\n",
      "[INFO 08-20 17:47:43] ax.service.managed_loop: Running optimization trial 79...\n",
      "[INFO 08-20 17:47:57] ax.service.managed_loop: Running optimization trial 80...\n",
      "[INFO 08-20 17:48:17] ax.service.managed_loop: Running optimization trial 81...\n",
      " 60%|\u2588\u2588\u2588\u2588\u2588\u2588    | 3/5 [23:28<16:08, 484.45s/it][INFO 08-20 17:48:40] ax.service.utils.instantiation: Inferred value type of ParameterType.FLOAT for parameter brightness. If that is not the expected value type, you can explicity specify 'value_type' ('int', 'float', 'bool' or 'str') in parameter dict.\n",
      "[INFO 08-20 17:48:40] ax.service.utils.instantiation: Inferred value type of ParameterType.INT for parameter R. If that is not the expected value type, you can explicity specify 'value_type' ('int', 'float', 'bool' or 'str') in parameter dict.\n",
      "[INFO 08-20 17:48:40] ax.service.utils.instantiation: Inferred value type of ParameterType.INT for parameter G. If that is not the expected value type, you can explicity specify 'value_type' ('int', 'float', 'bool' or 'str') in parameter dict.\n",
      "[INFO 08-20 17:48:40] ax.service.utils.instantiation: Inferred value type of ParameterType.INT for parameter B. If that is not the expected value type, you can explicity specify 'value_type' ('int', 'float', 'bool' or 'str') in parameter dict.\n",
      "[INFO 08-20 17:48:40] ax.service.utils.instantiation: Created search space: SearchSpace(parameters=[RangeParameter(name='brightness', parameter_type=FLOAT, range=[0.0, 0.35]), RangeParameter(name='R', parameter_type=INT, range=[0, 255]), RangeParameter(name='G', parameter_type=INT, range=[0, 255]), RangeParameter(name='B', parameter_type=INT, range=[0, 255])], parameter_constraints=[]).\n",
      "[INFO 08-20 17:48:40] ax.modelbridge.dispatch_utils: Using Bayesian optimization since there are more ordered parameters than there are categories for the unordered categorical parameters.\n",
      "[INFO 08-20 17:48:40] ax.modelbridge.dispatch_utils: Using Bayesian Optimization generation strategy: GenerationStrategy(name='Sobol+GPEI', steps=[Sobol for 8 trials, GPEI for subsequent trials]). Iterations after 8 will take longer to generate due to  model-fitting.\n",
      "[INFO 08-20 17:48:40] ax.service.managed_loop: Started full optimization with 81 steps.\n",
      "[INFO 08-20 17:48:40] ax.service.managed_loop: Running optimization trial 1...\n",
      "[INFO 08-20 17:48:41] ax.service.managed_loop: Running optimization trial 2...\n",
      "[INFO 08-20 17:48:42] ax.service.managed_loop: Running optimization trial 3...\n",
      "[INFO 08-20 17:48:43] ax.service.managed_loop: Running optimization trial 4...\n",
      "[INFO 08-20 17:48:44] ax.service.managed_loop: Running optimization trial 5...\n",
      "[INFO 08-20 17:48:45] ax.service.managed_loop: Running optimization trial 6...\n",
      "[INFO 08-20 17:48:46] ax.service.managed_loop: Running optimization trial 7...\n",
      "[INFO 08-20 17:48:47] ax.service.managed_loop: Running optimization trial 8...\n",
      "[INFO 08-20 17:48:47] ax.service.managed_loop: Running optimization trial 9...\n",
      "[INFO 08-20 17:48:51] ax.service.managed_loop: Running optimization trial 10...\n",
      "[INFO 08-20 17:48:56] ax.service.managed_loop: Running optimization trial 11...\n",
      "[INFO 08-20 17:48:59] ax.service.managed_loop: Running optimization trial 12...\n",
      "[INFO 08-20 17:49:04] ax.service.managed_loop: Running optimization trial 13...\n",
      "[INFO 08-20 17:49:08] ax.service.managed_loop: Running optimization trial 14...\n",
      "[INFO 08-20 17:49:13] ax.service.managed_loop: Running optimization trial 15...\n",
      "[INFO 08-20 17:49:17] ax.service.managed_loop: Running optimization trial 16...\n",
      "[INFO 08-20 17:49:25] ax.service.managed_loop: Running optimization trial 17...\n",
      "[INFO 08-20 17:49:31] ax.service.managed_loop: Running optimization trial 18...\n",
      "[INFO 08-20 17:49:40] ax.service.managed_loop: Running optimization trial 19...\n",
      "[INFO 08-20 17:49:52] ax.service.managed_loop: Running optimization trial 20...\n",
      "[INFO 08-20 17:50:05] ax.service.managed_loop: Running optimization trial 21...\n",
      "[INFO 08-20 17:50:10] ax.service.managed_loop: Running optimization trial 22...\n",
      "[INFO 08-20 17:50:18] ax.service.managed_loop: Running optimization trial 23...\n",
      "[INFO 08-20 17:50:30] ax.service.managed_loop: Running optimization trial 24...\n",
      "[INFO 08-20 17:50:38] ax.service.managed_loop: Running optimization trial 25...\n",
      "[INFO 08-20 17:50:41] ax.service.managed_loop: Running optimization trial 26...\n",
      "[INFO 08-20 17:50:49] ax.service.managed_loop: Running optimization trial 27...\n",
      "[INFO 08-20 17:50:57] ax.service.managed_loop: Running optimization trial 28...\n",
      "[INFO 08-20 17:51:01] ax.service.managed_loop: Running optimization trial 29...\n",
      "[INFO 08-20 17:51:05] ax.service.managed_loop: Running optimization trial 30...\n",
      "[INFO 08-20 17:51:10] ax.service.managed_loop: Running optimization trial 31...\n",
      "[INFO 08-20 17:51:17] ax.service.managed_loop: Running optimization trial 32...\n",
      "[INFO 08-20 17:51:28] ax.service.managed_loop: Running optimization trial 33...\n",
      "[INFO 08-20 17:51:40] ax.service.managed_loop: Running optimization trial 34...\n",
      "[INFO 08-20 17:51:49] ax.service.managed_loop: Running optimization trial 35...\n",
      "[INFO 08-20 17:51:57] ax.service.managed_loop: Running optimization trial 36...\n",
      "[INFO 08-20 17:52:07] ax.service.managed_loop: Running optimization trial 37...\n",
      "[INFO 08-20 17:52:17] ax.service.managed_loop: Running optimization trial 38...\n",
      "[INFO 08-20 17:52:21] ax.service.managed_loop: Running optimization trial 39...\n",
      "[INFO 08-20 17:52:31] ax.service.managed_loop: Running optimization trial 40...\n",
      "[INFO 08-20 17:52:38] ax.service.managed_loop: Running optimization trial 41...\n",
      "[INFO 08-20 17:52:46] ax.service.managed_loop: Running optimization trial 42...\n",
      "[INFO 08-20 17:52:50] ax.service.managed_loop: Running optimization trial 43...\n",
      "[INFO 08-20 17:52:56] ax.service.managed_loop: Running optimization trial 44...\n",
      "[INFO 08-20 17:53:01] ax.service.managed_loop: Running optimization trial 45...\n",
      "[INFO 08-20 17:53:04] ax.service.managed_loop: Running optimization trial 46...\n",
      "[INFO 08-20 17:53:08] ax.service.managed_loop: Running optimization trial 47...\n",
      "[INFO 08-20 17:53:12] ax.service.managed_loop: Running optimization trial 48...\n",
      "[INFO 08-20 17:53:16] ax.service.managed_loop: Running optimization trial 49...\n",
      "[INFO 08-20 17:53:20] ax.service.managed_loop: Running optimization trial 50...\n",
      "[INFO 08-20 17:53:24] ax.service.managed_loop: Running optimization trial 51...\n",
      "[INFO 08-20 17:53:27] ax.service.managed_loop: Running optimization trial 52...\n",
      "[INFO 08-20 17:53:31] ax.service.managed_loop: Running optimization trial 53...\n",
      "[INFO 08-20 17:53:35] ax.service.managed_loop: Running optimization trial 54...\n",
      "[INFO 08-20 17:53:39] ax.service.managed_loop: Running optimization trial 55...\n",
      "[INFO 08-20 17:53:43] ax.service.managed_loop: Running optimization trial 56...\n",
      "[INFO 08-20 17:53:46] ax.service.managed_loop: Running optimization trial 57...\n",
      "[INFO 08-20 17:53:50] ax.service.managed_loop: Running optimization trial 58...\n",
      "[INFO 08-20 17:53:54] ax.service.managed_loop: Running optimization trial 59...\n",
      "[INFO 08-20 17:53:58] ax.service.managed_loop: Running optimization trial 60...\n",
      "[INFO 08-20 17:54:02] ax.service.managed_loop: Running optimization trial 61...\n",
      "[INFO 08-20 17:54:07] ax.service.managed_loop: Running optimization trial 62...\n",
      "[INFO 08-20 17:54:12] ax.service.managed_loop: Running optimization trial 63...\n",
      "[INFO 08-20 17:54:16] ax.service.managed_loop: Running optimization trial 64...\n",
      "[INFO 08-20 17:54:23] ax.service.managed_loop: Running optimization trial 65...\n",
      "[INFO 08-20 17:54:28] ax.service.managed_loop: Running optimization trial 66...\n",
      "[INFO 08-20 17:54:32] ax.service.managed_loop: Running optimization trial 67...\n",
      "[INFO 08-20 17:54:37] ax.service.managed_loop: Running optimization trial 68...\n",
      "[INFO 08-20 17:54:41] ax.service.managed_loop: Running optimization trial 69...\n",
      "[INFO 08-20 17:54:46] ax.service.managed_loop: Running optimization trial 70...\n",
      "[INFO 08-20 17:54:51] ax.service.managed_loop: Running optimization trial 71...\n",
      "[INFO 08-20 17:54:55] ax.service.managed_loop: Running optimization trial 72...\n",
      "[INFO 08-20 17:55:00] ax.service.managed_loop: Running optimization trial 73...\n",
      "[INFO 08-20 17:55:03] ax.service.managed_loop: Running optimization trial 74...\n",
      "[INFO 08-20 17:55:08] ax.service.managed_loop: Running optimization trial 75...\n",
      "[INFO 08-20 17:55:11] ax.service.managed_loop: Running optimization trial 76...\n",
      "[INFO 08-20 17:55:15] ax.service.managed_loop: Running optimization trial 77...\n",
      "[INFO 08-20 17:55:19] ax.service.managed_loop: Running optimization trial 78...\n",
      "[INFO 08-20 17:55:24] ax.service.managed_loop: Running optimization trial 79...\n",
      "[INFO 08-20 17:55:29] ax.service.managed_loop: Running optimization trial 80...\n",
      "[INFO 08-20 17:55:34] ax.service.managed_loop: Running optimization trial 81...\n",
      " 80%|\u2588\u2588\u2588\u2588\u2588\u2588\u2588\u2588  | 4/5 [30:34<07:41, 461.55s/it][INFO 08-20 17:55:47] ax.service.utils.instantiation: Inferred value type of ParameterType.FLOAT for parameter brightness. If that is not the expected value type, you can explicity specify 'value_type' ('int', 'float', 'bool' or 'str') in parameter dict.\n",
      "[INFO 08-20 17:55:47] ax.service.utils.instantiation: Inferred value type of ParameterType.INT for parameter R. If that is not the expected value type, you can explicity specify 'value_type' ('int', 'float', 'bool' or 'str') in parameter dict.\n",
      "[INFO 08-20 17:55:47] ax.service.utils.instantiation: Inferred value type of ParameterType.INT for parameter G. If that is not the expected value type, you can explicity specify 'value_type' ('int', 'float', 'bool' or 'str') in parameter dict.\n",
      "[INFO 08-20 17:55:47] ax.service.utils.instantiation: Inferred value type of ParameterType.INT for parameter B. If that is not the expected value type, you can explicity specify 'value_type' ('int', 'float', 'bool' or 'str') in parameter dict.\n",
      "[INFO 08-20 17:55:47] ax.service.utils.instantiation: Created search space: SearchSpace(parameters=[RangeParameter(name='brightness', parameter_type=FLOAT, range=[0.0, 0.35]), RangeParameter(name='R', parameter_type=INT, range=[0, 255]), RangeParameter(name='G', parameter_type=INT, range=[0, 255]), RangeParameter(name='B', parameter_type=INT, range=[0, 255])], parameter_constraints=[]).\n",
      "[INFO 08-20 17:55:47] ax.modelbridge.dispatch_utils: Using Bayesian optimization since there are more ordered parameters than there are categories for the unordered categorical parameters.\n",
      "[INFO 08-20 17:55:47] ax.modelbridge.dispatch_utils: Using Bayesian Optimization generation strategy: GenerationStrategy(name='Sobol+GPEI', steps=[Sobol for 8 trials, GPEI for subsequent trials]). Iterations after 8 will take longer to generate due to  model-fitting.\n",
      "[INFO 08-20 17:55:47] ax.service.managed_loop: Started full optimization with 81 steps.\n",
      "[INFO 08-20 17:55:47] ax.service.managed_loop: Running optimization trial 1...\n",
      "[INFO 08-20 17:55:47] ax.service.managed_loop: Running optimization trial 2...\n",
      "[INFO 08-20 17:55:48] ax.service.managed_loop: Running optimization trial 3...\n",
      "[INFO 08-20 17:55:49] ax.service.managed_loop: Running optimization trial 4...\n",
      "[INFO 08-20 17:55:50] ax.service.managed_loop: Running optimization trial 5...\n",
      "[INFO 08-20 17:55:51] ax.service.managed_loop: Running optimization trial 6...\n",
      "[INFO 08-20 17:55:52] ax.service.managed_loop: Running optimization trial 7...\n",
      "[INFO 08-20 17:55:53] ax.service.managed_loop: Running optimization trial 8...\n",
      "[INFO 08-20 17:55:54] ax.service.managed_loop: Running optimization trial 9...\n",
      "[INFO 08-20 17:55:56] ax.service.managed_loop: Running optimization trial 10...\n",
      "[INFO 08-20 17:56:00] ax.service.managed_loop: Running optimization trial 11...\n",
      "[INFO 08-20 17:56:03] ax.service.managed_loop: Running optimization trial 12...\n",
      "[INFO 08-20 17:56:07] ax.service.managed_loop: Running optimization trial 13...\n",
      "[INFO 08-20 17:56:12] ax.service.managed_loop: Running optimization trial 14...\n",
      "[INFO 08-20 17:56:16] ax.service.managed_loop: Running optimization trial 15...\n",
      "[INFO 08-20 17:56:21] ax.service.managed_loop: Running optimization trial 16...\n",
      "[INFO 08-20 17:56:28] ax.service.managed_loop: Running optimization trial 17...\n",
      "[INFO 08-20 17:56:37] ax.service.managed_loop: Running optimization trial 18...\n",
      "[INFO 08-20 17:56:43] ax.service.managed_loop: Running optimization trial 19...\n",
      "[INFO 08-20 17:56:53] ax.service.managed_loop: Running optimization trial 20...\n",
      "[INFO 08-20 17:57:01] ax.service.managed_loop: Running optimization trial 21...\n",
      "[INFO 08-20 17:57:10] ax.service.managed_loop: Running optimization trial 22...\n",
      "[INFO 08-20 17:57:19] ax.service.managed_loop: Running optimization trial 23...\n",
      "[INFO 08-20 17:57:30] ax.service.managed_loop: Running optimization trial 24...\n",
      "[INFO 08-20 17:57:34] ax.service.managed_loop: Running optimization trial 25...\n",
      "[INFO 08-20 17:57:38] ax.service.managed_loop: Running optimization trial 26...\n",
      "[INFO 08-20 17:57:42] ax.service.managed_loop: Running optimization trial 27...\n",
      "[INFO 08-20 17:57:49] ax.service.managed_loop: Running optimization trial 28...\n",
      "[INFO 08-20 17:57:53] ax.service.managed_loop: Running optimization trial 29...\n",
      "[INFO 08-20 17:57:56] ax.service.managed_loop: Running optimization trial 30...\n",
      "[INFO 08-20 17:58:02] ax.service.managed_loop: Running optimization trial 31...\n",
      "[INFO 08-20 17:58:06] ax.service.managed_loop: Running optimization trial 32...\n",
      "[INFO 08-20 17:58:10] ax.service.managed_loop: Running optimization trial 33...\n",
      "[INFO 08-20 17:58:14] ax.service.managed_loop: Running optimization trial 34...\n",
      "[INFO 08-20 17:58:19] ax.service.managed_loop: Running optimization trial 35...\n",
      "[INFO 08-20 17:58:23] ax.service.managed_loop: Running optimization trial 36...\n",
      "[INFO 08-20 17:58:27] ax.service.managed_loop: Running optimization trial 37...\n",
      "[INFO 08-20 17:58:31] ax.service.managed_loop: Running optimization trial 38...\n",
      "[INFO 08-20 17:58:34] ax.service.managed_loop: Running optimization trial 39...\n",
      "[INFO 08-20 17:58:38] ax.service.managed_loop: Running optimization trial 40...\n",
      "[INFO 08-20 17:58:41] ax.service.managed_loop: Running optimization trial 41...\n",
      "[INFO 08-20 17:58:45] ax.service.managed_loop: Running optimization trial 42...\n",
      "[INFO 08-20 17:58:50] ax.service.managed_loop: Running optimization trial 43...\n",
      "[INFO 08-20 17:58:55] ax.service.managed_loop: Running optimization trial 44...\n",
      "[INFO 08-20 17:58:59] ax.service.managed_loop: Running optimization trial 45...\n",
      "[INFO 08-20 17:59:02] ax.service.managed_loop: Running optimization trial 46...\n",
      "[INFO 08-20 17:59:08] ax.service.managed_loop: Running optimization trial 47...\n",
      "[INFO 08-20 17:59:12] ax.service.managed_loop: Running optimization trial 48...\n",
      "[INFO 08-20 17:59:15] ax.service.managed_loop: Running optimization trial 49...\n",
      "[INFO 08-20 17:59:18] ax.service.managed_loop: Running optimization trial 50...\n",
      "[INFO 08-20 17:59:21] ax.service.managed_loop: Running optimization trial 51...\n",
      "[INFO 08-20 17:59:26] ax.service.managed_loop: Running optimization trial 52...\n",
      "[INFO 08-20 17:59:30] ax.service.managed_loop: Running optimization trial 53...\n",
      "[INFO 08-20 17:59:35] ax.service.managed_loop: Running optimization trial 54...\n",
      "[INFO 08-20 17:59:41] ax.service.managed_loop: Running optimization trial 55...\n",
      "[INFO 08-20 17:59:45] ax.service.managed_loop: Running optimization trial 56...\n",
      "[INFO 08-20 17:59:50] ax.service.managed_loop: Running optimization trial 57...\n",
      "[INFO 08-20 17:59:56] ax.service.managed_loop: Running optimization trial 58...\n",
      "[INFO 08-20 18:00:01] ax.service.managed_loop: Running optimization trial 59...\n",
      "[INFO 08-20 18:00:06] ax.service.managed_loop: Running optimization trial 60...\n",
      "[INFO 08-20 18:00:12] ax.service.managed_loop: Running optimization trial 61...\n",
      "[INFO 08-20 18:00:17] ax.service.managed_loop: Running optimization trial 62...\n",
      "[INFO 08-20 18:00:22] ax.service.managed_loop: Running optimization trial 63...\n",
      "[INFO 08-20 18:00:27] ax.service.managed_loop: Running optimization trial 64...\n",
      "[INFO 08-20 18:00:32] ax.service.managed_loop: Running optimization trial 65...\n",
      "[INFO 08-20 18:00:36] ax.service.managed_loop: Running optimization trial 66...\n",
      "[INFO 08-20 18:00:40] ax.service.managed_loop: Running optimization trial 67...\n",
      "[INFO 08-20 18:00:44] ax.service.managed_loop: Running optimization trial 68...\n",
      "[INFO 08-20 18:00:50] ax.service.managed_loop: Running optimization trial 69...\n",
      "[INFO 08-20 18:00:54] ax.service.managed_loop: Running optimization trial 70...\n",
      "[INFO 08-20 18:00:57] ax.service.managed_loop: Running optimization trial 71...\n",
      "[INFO 08-20 18:01:02] ax.service.managed_loop: Running optimization trial 72...\n",
      "[INFO 08-20 18:01:05] ax.service.managed_loop: Running optimization trial 73...\n",
      "[INFO 08-20 18:01:09] ax.service.managed_loop: Running optimization trial 74...\n",
      "[INFO 08-20 18:01:13] ax.service.managed_loop: Running optimization trial 75...\n",
      "[INFO 08-20 18:01:16] ax.service.managed_loop: Running optimization trial 76...\n",
      "[INFO 08-20 18:01:20] ax.service.managed_loop: Running optimization trial 77...\n",
      "[INFO 08-20 18:01:24] ax.service.managed_loop: Running optimization trial 78...\n",
      "[INFO 08-20 18:01:29] ax.service.managed_loop: Running optimization trial 79...\n",
      "[INFO 08-20 18:01:33] ax.service.managed_loop: Running optimization trial 80...\n",
      "[INFO 08-20 18:01:36] ax.service.managed_loop: Running optimization trial 81...\n",
      "100%|\u2588\u2588\u2588\u2588\u2588\u2588\u2588\u2588\u2588\u2588| 5/5 [36:35<00:00, 439.05s/it]"
     ]
    },
    {
     "name": "stdout",
     "output_type": "stream",
     "text": [
      "CPU times: user 54min 27s, sys: 2min 20s, total: 56min 47s\n",
      "Wall time: 36min 35s\n"
     ]
    },
    {
     "name": "stderr",
     "output_type": "stream",
     "text": [
      "\n"
     ]
    }
   ],
   "source": [
    "%%time\n",
    "bo_results = []\n",
    "\n",
    "for sdl in tqdm(sdls):\n",
    "    def evaluation_function(parameters):\n",
    "        data = sdl.evaluate(\n",
    "            parameters[\"brightness\"],\n",
    "            parameters[\"R\"],\n",
    "            parameters[\"G\"],\n",
    "            parameters[\"B\"],\n",
    "        )\n",
    "        return data[\"mae\"]\n",
    "\n",
    "ax_client = AxClient()\n",
    "ax_client.create_experiment(\n",
    "    parameters=parameters,\n",
    "    objective_name=\"frechet\",\n",
    "    minimize=True,\n",
    ")\n",
    "\n",
    "for i in range(num_iter):\n",
    "    trial_parameters, trial_index = ax_client.get_next_trial()\n",
    "    raw_data = evaluation_function(trial_parameters)\n",
    "    ax_client.complete_trial(trial_index=trial_index, raw_data=raw_data)\n",
    "\n",
    "best_parameters, values = ax_client.get_best_parameters()\n",
    "experiment = ax_client.experiment\n",
    "model = ax_client.generation_strategy.model\n",
    "\n",
    "best_parameters, values, experiment, model = zip(*bo_results)"
   ]
  },
  {
   "cell_type": "markdown",
   "metadata": {},
   "source": [
    "### Analysis\n",
    "\n",
    "Now that we've run our three optimizations, let's compare the performance in tabular\n",
    "form and visually."
   ]
  },
  {
   "cell_type": "markdown",
   "metadata": {},
   "source": [
    "### Preparing the data"
   ]
  },
  {
   "cell_type": "code",
   "execution_count": 32,
   "metadata": {},
   "outputs": [],
   "source": [
    "grid_mae = [[g[\"mae\"] for g in gd] for gd in grid_data]\n",
    "random_mae = [[r[\"mae\"] for r in rd] for rd in random_data]\n",
    "bayesian_mae = [exp.fetch_data().df[\"mean\"].tolist() for exp in experiment]"
   ]
  },
  {
   "cell_type": "code",
   "execution_count": 33,
   "metadata": {},
   "outputs": [
    {
     "data": {
      "text/plain": [
       "(3, 5, 81)"
      ]
     },
     "execution_count": 33,
     "metadata": {},
     "output_type": "execute_result"
    }
   ],
   "source": [
    "mae = np.array([grid_mae, random_mae, bayesian_mae])\n",
    "mae.shape"
   ]
  },
  {
   "cell_type": "markdown",
   "metadata": {},
   "source": [
    "### Tabular"
   ]
  },
  {
   "cell_type": "code",
   "execution_count": 34,
   "metadata": {},
   "outputs": [
    {
     "data": {
      "text/plain": [
       "(3, 81)"
      ]
     },
     "execution_count": 34,
     "metadata": {},
     "output_type": "execute_result"
    }
   ],
   "source": [
    "avg_mae = np.mean(np.minimum.accumulate(mae, axis=2), axis=1)\n",
    "std_mae = np.std(avg_mae, axis=1)\n",
    "avg_mae.shape"
   ]
  },
  {
   "cell_type": "code",
   "execution_count": 35,
   "metadata": {},
   "outputs": [
    {
     "data": {
      "text/plain": [
       "2818.2574074074073"
      ]
     },
     "execution_count": 35,
     "metadata": {},
     "output_type": "execute_result"
    }
   ],
   "source": [
    "np.mean(random_mae)"
   ]
  },
  {
   "cell_type": "code",
   "execution_count": 36,
   "metadata": {},
   "outputs": [
    {
     "data": {
      "text/plain": [
       "array([1364.125,  707.9  ,  138.625])"
      ]
     },
     "execution_count": 36,
     "metadata": {},
     "output_type": "execute_result"
    }
   ],
   "source": [
    "best_avg_mae = np.min(avg_mae, axis=1)\n",
    "best_avg_mae"
   ]
  },
  {
   "cell_type": "markdown",
   "metadata": {},
   "source": [
    "### Best Objective vs. Iteration"
   ]
  },
  {
   "cell_type": "code",
   "execution_count": 37,
   "metadata": {},
   "outputs": [],
   "source": [
    "names = [\"grid\", \"random\", \"bayesian\"]\n",
    "df = pd.DataFrame({\n",
    "    **{f\"{n}_mae\": m for n, m in zip(names, avg_mae)},\n",
    "    **{f\"{n}_std\": s for n, s in zip(names, std_mae)},\n",
    "})\n"
   ]
  },
  {
   "cell_type": "code",
   "execution_count": 38,
   "metadata": {},
   "outputs": [],
   "source": [
    "mae_df = pd.melt(df.reset_index(), id_vars=[\"index\"], value_vars = [\"grid_mae\", \"random_mae\", \"bayesian_mae\"], var_name=\"method\", value_name=\"mae\")\n",
    "\n",
    "std_df = pd.melt(df.reset_index(), id_vars=[\"index\"], value_vars = [\"grid_std\", \"random_std\", \"bayesian_std\"], var_name=\"method\", value_name=\"std\")\n",
    "\n",
    "mae_df.loc[:, \"method\"] = mae_df.loc[:, \"method\"].apply(lambda x: x.replace(\"_mae\", \"\"))\n",
    "std_df.loc[:, \"method\"] = std_df.loc[:, \"method\"].apply(lambda x: x.replace(\"_std\", \"\"))"
   ]
  },
  {
   "cell_type": "code",
   "execution_count": 39,
   "metadata": {},
   "outputs": [
    {
     "data": {
      "text/html": [
       "<div>\n",
       "<style scoped>\n",
       "    .dataframe tbody tr th:only-of-type {\n",
       "        vertical-align: middle;\n",
       "    }\n",
       "\n",
       "    .dataframe tbody tr th {\n",
       "        vertical-align: top;\n",
       "    }\n",
       "\n",
       "    .dataframe thead th {\n",
       "        text-align: right;\n",
       "    }\n",
       "</style>\n",
       "<table border=\"1\" class=\"dataframe\">\n",
       "  <thead>\n",
       "    <tr style=\"text-align: right;\">\n",
       "      <th></th>\n",
       "      <th>iteration</th>\n",
       "      <th>method</th>\n",
       "      <th>mae</th>\n",
       "      <th>std</th>\n",
       "    </tr>\n",
       "  </thead>\n",
       "  <tbody>\n",
       "    <tr>\n",
       "      <th>0</th>\n",
       "      <td>0</td>\n",
       "      <td>grid</td>\n",
       "      <td>4811.075</td>\n",
       "      <td>906.654837</td>\n",
       "    </tr>\n",
       "    <tr>\n",
       "      <th>1</th>\n",
       "      <td>1</td>\n",
       "      <td>grid</td>\n",
       "      <td>4810.525</td>\n",
       "      <td>906.654837</td>\n",
       "    </tr>\n",
       "    <tr>\n",
       "      <th>2</th>\n",
       "      <td>2</td>\n",
       "      <td>grid</td>\n",
       "      <td>4810.250</td>\n",
       "      <td>906.654837</td>\n",
       "    </tr>\n",
       "    <tr>\n",
       "      <th>3</th>\n",
       "      <td>3</td>\n",
       "      <td>grid</td>\n",
       "      <td>4809.875</td>\n",
       "      <td>906.654837</td>\n",
       "    </tr>\n",
       "    <tr>\n",
       "      <th>4</th>\n",
       "      <td>4</td>\n",
       "      <td>grid</td>\n",
       "      <td>4012.850</td>\n",
       "      <td>906.654837</td>\n",
       "    </tr>\n",
       "    <tr>\n",
       "      <th>...</th>\n",
       "      <td>...</td>\n",
       "      <td>...</td>\n",
       "      <td>...</td>\n",
       "      <td>...</td>\n",
       "    </tr>\n",
       "    <tr>\n",
       "      <th>238</th>\n",
       "      <td>76</td>\n",
       "      <td>bayesian</td>\n",
       "      <td>138.625</td>\n",
       "      <td>878.744510</td>\n",
       "    </tr>\n",
       "    <tr>\n",
       "      <th>239</th>\n",
       "      <td>77</td>\n",
       "      <td>bayesian</td>\n",
       "      <td>138.625</td>\n",
       "      <td>878.744510</td>\n",
       "    </tr>\n",
       "    <tr>\n",
       "      <th>240</th>\n",
       "      <td>78</td>\n",
       "      <td>bayesian</td>\n",
       "      <td>138.625</td>\n",
       "      <td>878.744510</td>\n",
       "    </tr>\n",
       "    <tr>\n",
       "      <th>241</th>\n",
       "      <td>79</td>\n",
       "      <td>bayesian</td>\n",
       "      <td>138.625</td>\n",
       "      <td>878.744510</td>\n",
       "    </tr>\n",
       "    <tr>\n",
       "      <th>242</th>\n",
       "      <td>80</td>\n",
       "      <td>bayesian</td>\n",
       "      <td>138.625</td>\n",
       "      <td>878.744510</td>\n",
       "    </tr>\n",
       "  </tbody>\n",
       "</table>\n",
       "<p>243 rows \u00d7 4 columns</p>\n",
       "</div>"
      ],
      "text/plain": [
       "     iteration    method       mae         std\n",
       "0            0      grid  4811.075  906.654837\n",
       "1            1      grid  4810.525  906.654837\n",
       "2            2      grid  4810.250  906.654837\n",
       "3            3      grid  4809.875  906.654837\n",
       "4            4      grid  4012.850  906.654837\n",
       "..         ...       ...       ...         ...\n",
       "238         76  bayesian   138.625  878.744510\n",
       "239         77  bayesian   138.625  878.744510\n",
       "240         78  bayesian   138.625  878.744510\n",
       "241         79  bayesian   138.625  878.744510\n",
       "242         80  bayesian   138.625  878.744510\n",
       "\n",
       "[243 rows x 4 columns]"
      ]
     },
     "execution_count": 39,
     "metadata": {},
     "output_type": "execute_result"
    }
   ],
   "source": [
    "results_df = mae_df.merge(std_df, on=[\"method\", \"index\"]).rename(columns=dict(index=\"iteration\"))\n",
    "results_df"
   ]
  },
  {
   "cell_type": "markdown",
   "metadata": {},
   "source": [
    "### Visualization\n",
    "As we might expect, Bayesian optimization outperforms random search while grid and\n",
    "random search are on par with each other."
   ]
  },
  {
   "cell_type": "code",
   "execution_count": 51,
   "metadata": {},
   "outputs": [
    {
     "data": {
      "application/vnd.plotly.v1+json": {
       "config": {
        "plotlyServerURL": "https://plot.ly"
       },
       "data": [
        {
         "fill": "toself",
         "fillcolor": "rgba(99,110,250,.3)",
         "hoverinfo": "skip",
         "legendgroup": "grid",
         "line": {
          "color": "rgba(255,255,255,0)"
         },
         "showlegend": false,
         "type": "scatter",
         "x": [
          0,
          1,
          2,
          3,
          4,
          5,
          6,
          7,
          8,
          9,
          10,
          11,
          12,
          13,
          14,
          15,
          16,
          17,
          18,
          19,
          20,
          21,
          22,
          23,
          24,
          25,
          26,
          27,
          28,
          29,
          30,
          31,
          32,
          33,
          34,
          35,
          36,
          37,
          38,
          39,
          40,
          41,
          42,
          43,
          44,
          45,
          46,
          47,
          48,
          49,
          50,
          51,
          52,
          53,
          54,
          55,
          56,
          57,
          58,
          59,
          60,
          61,
          62,
          63,
          64,
          65,
          66,
          67,
          68,
          69,
          70,
          71,
          72,
          73,
          74,
          75,
          76,
          77,
          78,
          79,
          80,
          80,
          79,
          78,
          77,
          76,
          75,
          74,
          73,
          72,
          71,
          70,
          69,
          68,
          67,
          66,
          65,
          64,
          63,
          62,
          61,
          60,
          59,
          58,
          57,
          56,
          55,
          54,
          53,
          52,
          51,
          50,
          49,
          48,
          47,
          46,
          45,
          44,
          43,
          42,
          41,
          40,
          39,
          38,
          37,
          36,
          35,
          34,
          33,
          32,
          31,
          30,
          29,
          28,
          27,
          26,
          25,
          24,
          23,
          22,
          21,
          20,
          19,
          18,
          17,
          16,
          15,
          14,
          13,
          12,
          11,
          10,
          9,
          8,
          7,
          6,
          5,
          4,
          3,
          2,
          1,
          0
         ],
         "xaxis": "x",
         "y": [
          5717.729837332726,
          5717.179837332726,
          5716.904837332726,
          5716.529837332726,
          4919.504837332726,
          4660.604837332726,
          4660.604837332726,
          4643.254837332726,
          4549.979837332726,
          4549.979837332726,
          4514.379837332726,
          4092.7798373327264,
          4092.7798373327264,
          4060.3298373327266,
          3517.1798373327265,
          3517.1798373327265,
          3517.1798373327265,
          3448.7048373327266,
          3448.7048373327266,
          3396.8798373327263,
          3224.979837332726,
          3224.979837332726,
          3137.7798373327264,
          3096.2548373327263,
          3096.2548373327263,
          3096.2548373327263,
          3075.6798373327265,
          3075.6798373327265,
          3075.6798373327265,
          3075.6798373327265,
          3075.6798373327265,
          3075.6798373327265,
          3075.6798373327265,
          3075.5048373327263,
          3075.5048373327263,
          3075.5048373327263,
          3075.5048373327263,
          3075.5048373327263,
          2843.0548373327265,
          2843.0548373327265,
          2843.0548373327265,
          2675.2798373327264,
          2675.2798373327264,
          2675.2798373327264,
          2675.2798373327264,
          2675.2798373327264,
          2675.2798373327264,
          2675.2798373327264,
          2675.2798373327264,
          2537.954837332726,
          2537.954837332726,
          2537.954837332726,
          2401.4048373327264,
          2401.4048373327264,
          2401.4048373327264,
          2401.4048373327264,
          2401.4048373327264,
          2401.4048373327264,
          2401.4048373327264,
          2401.4048373327264,
          2401.4048373327264,
          2401.4048373327264,
          2401.4048373327264,
          2401.4048373327264,
          2401.4048373327264,
          2401.4048373327264,
          2401.4048373327264,
          2401.4048373327264,
          2326.354837332726,
          2326.354837332726,
          2326.354837332726,
          2326.354837332726,
          2324.0548373327265,
          2324.0548373327265,
          2324.0548373327265,
          2320.8798373327263,
          2270.7798373327264,
          2270.7798373327264,
          2270.7798373327264,
          2270.7798373327264,
          2270.7798373327264,
          457.4701626672737,
          457.4701626672737,
          457.4701626672737,
          457.4701626672737,
          457.4701626672737,
          507.5701626672736,
          510.7451626672738,
          510.7451626672738,
          510.7451626672738,
          513.0451626672738,
          513.0451626672738,
          513.0451626672738,
          513.0451626672738,
          588.0951626672737,
          588.0951626672737,
          588.0951626672737,
          588.0951626672737,
          588.0951626672737,
          588.0951626672737,
          588.0951626672737,
          588.0951626672737,
          588.0951626672737,
          588.0951626672737,
          588.0951626672737,
          588.0951626672737,
          588.0951626672737,
          588.0951626672737,
          588.0951626672737,
          588.0951626672737,
          724.6451626672737,
          724.6451626672737,
          724.6451626672737,
          861.9701626672737,
          861.9701626672737,
          861.9701626672737,
          861.9701626672737,
          861.9701626672737,
          861.9701626672737,
          861.9701626672737,
          861.9701626672737,
          1029.7451626672737,
          1029.7451626672737,
          1029.7451626672737,
          1262.1951626672735,
          1262.1951626672735,
          1262.1951626672735,
          1262.1951626672735,
          1262.1951626672735,
          1262.3701626672737,
          1262.3701626672737,
          1262.3701626672737,
          1262.3701626672737,
          1262.3701626672737,
          1262.3701626672737,
          1262.3701626672737,
          1282.9451626672735,
          1282.9451626672735,
          1282.9451626672735,
          1324.4701626672736,
          1411.6701626672734,
          1411.6701626672734,
          1583.5701626672735,
          1635.3951626672738,
          1635.3951626672738,
          1703.8701626672737,
          1703.8701626672737,
          1703.8701626672737,
          2247.020162667274,
          2279.4701626672736,
          2279.4701626672736,
          2701.0701626672735,
          2736.6701626672734,
          2736.6701626672734,
          2829.9451626672735,
          2847.2951626672734,
          2847.2951626672734,
          3106.1951626672735,
          3903.2201626672736,
          3903.5951626672736,
          3903.8701626672732,
          3904.4201626672734
         ],
         "yaxis": "y"
        },
        {
         "hovertemplate": "method=grid<br>iteration=%{x}<br>mae=%{y}<extra></extra>",
         "legendgroup": "grid",
         "line": {
          "color": "#636efa",
          "dash": "solid"
         },
         "marker": {
          "symbol": "circle"
         },
         "mode": "lines",
         "name": "grid",
         "orientation": "v",
         "showlegend": true,
         "type": "scatter",
         "x": [
          0,
          1,
          2,
          3,
          4,
          5,
          6,
          7,
          8,
          9,
          10,
          11,
          12,
          13,
          14,
          15,
          16,
          17,
          18,
          19,
          20,
          21,
          22,
          23,
          24,
          25,
          26,
          27,
          28,
          29,
          30,
          31,
          32,
          33,
          34,
          35,
          36,
          37,
          38,
          39,
          40,
          41,
          42,
          43,
          44,
          45,
          46,
          47,
          48,
          49,
          50,
          51,
          52,
          53,
          54,
          55,
          56,
          57,
          58,
          59,
          60,
          61,
          62,
          63,
          64,
          65,
          66,
          67,
          68,
          69,
          70,
          71,
          72,
          73,
          74,
          75,
          76,
          77,
          78,
          79,
          80
         ],
         "xaxis": "x",
         "y": [
          4811.075,
          4810.525,
          4810.25,
          4809.875,
          4012.85,
          3753.95,
          3753.95,
          3736.6,
          3643.325,
          3643.325,
          3607.725,
          3186.125,
          3186.125,
          3153.675,
          2610.525,
          2610.525,
          2610.525,
          2542.05,
          2542.05,
          2490.225,
          2318.325,
          2318.325,
          2231.125,
          2189.6,
          2189.6,
          2189.6,
          2169.025,
          2169.025,
          2169.025,
          2169.025,
          2169.025,
          2169.025,
          2169.025,
          2168.85,
          2168.85,
          2168.85,
          2168.85,
          2168.85,
          1936.4,
          1936.4,
          1936.4,
          1768.625,
          1768.625,
          1768.625,
          1768.625,
          1768.625,
          1768.625,
          1768.625,
          1768.625,
          1631.3,
          1631.3,
          1631.3,
          1494.75,
          1494.75,
          1494.75,
          1494.75,
          1494.75,
          1494.75,
          1494.75,
          1494.75,
          1494.75,
          1494.75,
          1494.75,
          1494.75,
          1494.75,
          1494.75,
          1494.75,
          1494.75,
          1419.7,
          1419.7,
          1419.7,
          1419.7,
          1417.4,
          1417.4,
          1417.4,
          1414.225,
          1364.125,
          1364.125,
          1364.125,
          1364.125,
          1364.125
         ],
         "yaxis": "y"
        },
        {
         "fill": "toself",
         "fillcolor": "rgba(239,85,59,.3)",
         "hoverinfo": "skip",
         "legendgroup": "random",
         "line": {
          "color": "rgba(255,255,255,0)"
         },
         "showlegend": false,
         "type": "scatter",
         "x": [
          0,
          1,
          2,
          3,
          4,
          5,
          6,
          7,
          8,
          9,
          10,
          11,
          12,
          13,
          14,
          15,
          16,
          17,
          18,
          19,
          20,
          21,
          22,
          23,
          24,
          25,
          26,
          27,
          28,
          29,
          30,
          31,
          32,
          33,
          34,
          35,
          36,
          37,
          38,
          39,
          40,
          41,
          42,
          43,
          44,
          45,
          46,
          47,
          48,
          49,
          50,
          51,
          52,
          53,
          54,
          55,
          56,
          57,
          58,
          59,
          60,
          61,
          62,
          63,
          64,
          65,
          66,
          67,
          68,
          69,
          70,
          71,
          72,
          73,
          74,
          75,
          76,
          77,
          78,
          79,
          80,
          80,
          79,
          78,
          77,
          76,
          75,
          74,
          73,
          72,
          71,
          70,
          69,
          68,
          67,
          66,
          65,
          64,
          63,
          62,
          61,
          60,
          59,
          58,
          57,
          56,
          55,
          54,
          53,
          52,
          51,
          50,
          49,
          48,
          47,
          46,
          45,
          44,
          43,
          42,
          41,
          40,
          39,
          38,
          37,
          36,
          35,
          34,
          33,
          32,
          31,
          30,
          29,
          28,
          27,
          26,
          25,
          24,
          23,
          22,
          21,
          20,
          19,
          18,
          17,
          16,
          15,
          14,
          13,
          12,
          11,
          10,
          9,
          8,
          7,
          6,
          5,
          4,
          3,
          2,
          1,
          0
         ],
         "xaxis": "x",
         "y": [
          1880.0117227245833,
          1781.2117227245833,
          1760.8117227245832,
          1534.4367227245832,
          1496.9367227245832,
          1496.4617227245833,
          1496.4617227245833,
          1465.8867227245833,
          1465.8867227245833,
          1456.0117227245833,
          1456.0117227245833,
          1456.0117227245833,
          1456.0117227245833,
          1456.0117227245833,
          1456.0117227245833,
          1424.5117227245833,
          1357.1367227245833,
          1357.1367227245833,
          1357.1367227245833,
          1282.5867227245833,
          1253.5367227245833,
          1253.5367227245833,
          1253.5367227245833,
          1253.5367227245833,
          1224.8117227245834,
          1224.8117227245834,
          1224.8117227245834,
          1224.8117227245834,
          1224.8117227245834,
          1224.8117227245834,
          1224.8117227245834,
          1215.8117227245834,
          1215.8117227245834,
          1215.8117227245834,
          1215.8117227245834,
          1203.1117227245832,
          1203.1117227245832,
          1203.1117227245832,
          1203.1117227245832,
          1203.1117227245832,
          1203.1117227245832,
          1203.1117227245832,
          1203.1117227245832,
          1203.1117227245832,
          1203.1117227245832,
          1203.1117227245832,
          1147.1867227245834,
          1147.1867227245834,
          1147.1867227245834,
          1147.1867227245834,
          1147.1867227245834,
          1147.1867227245834,
          1147.1867227245834,
          1141.2617227245833,
          1141.2617227245833,
          1095.6867227245834,
          1095.6867227245834,
          937.3117227245833,
          937.3117227245833,
          937.3117227245833,
          929.5617227245833,
          929.5617227245833,
          929.5617227245833,
          929.5617227245833,
          929.5617227245833,
          929.5617227245833,
          929.5617227245833,
          929.5617227245833,
          929.5617227245833,
          929.5617227245833,
          929.5617227245833,
          929.5617227245833,
          929.5617227245833,
          928.9867227245833,
          928.9867227245833,
          928.9867227245833,
          928.9867227245833,
          928.9867227245833,
          928.9867227245833,
          928.9867227245833,
          928.9867227245833,
          486.8132772754167,
          486.8132772754167,
          486.8132772754167,
          486.8132772754167,
          486.8132772754167,
          486.8132772754167,
          486.8132772754167,
          486.8132772754167,
          487.3882772754167,
          487.3882772754167,
          487.3882772754167,
          487.3882772754167,
          487.3882772754167,
          487.3882772754167,
          487.3882772754167,
          487.3882772754167,
          487.3882772754167,
          487.3882772754167,
          487.3882772754167,
          487.3882772754167,
          487.3882772754167,
          495.1382772754167,
          495.1382772754167,
          495.1382772754167,
          653.5132772754167,
          653.5132772754167,
          699.0882772754167,
          699.0882772754167,
          705.0132772754167,
          705.0132772754167,
          705.0132772754167,
          705.0132772754167,
          705.0132772754167,
          705.0132772754167,
          705.0132772754167,
          760.9382772754167,
          760.9382772754167,
          760.9382772754167,
          760.9382772754167,
          760.9382772754167,
          760.9382772754167,
          760.9382772754167,
          760.9382772754167,
          760.9382772754167,
          760.9382772754167,
          760.9382772754167,
          773.6382772754167,
          773.6382772754167,
          773.6382772754167,
          773.6382772754167,
          782.6382772754167,
          782.6382772754167,
          782.6382772754167,
          782.6382772754167,
          782.6382772754167,
          782.6382772754167,
          782.6382772754167,
          811.3632772754167,
          811.3632772754167,
          811.3632772754167,
          811.3632772754167,
          840.4132772754167,
          914.9632772754167,
          914.9632772754167,
          914.9632772754167,
          982.3382772754167,
          1013.8382772754167,
          1013.8382772754167,
          1013.8382772754167,
          1013.8382772754167,
          1013.8382772754167,
          1013.8382772754167,
          1023.7132772754167,
          1023.7132772754167,
          1054.2882772754167,
          1054.2882772754167,
          1054.7632772754166,
          1092.2632772754166,
          1318.6382772754166,
          1339.0382772754167,
          1437.8382772754167
         ],
         "yaxis": "y"
        },
        {
         "hovertemplate": "method=random<br>iteration=%{x}<br>mae=%{y}<extra></extra>",
         "legendgroup": "random",
         "line": {
          "color": "#EF553B",
          "dash": "solid"
         },
         "marker": {
          "symbol": "circle"
         },
         "mode": "lines",
         "name": "random",
         "orientation": "v",
         "showlegend": true,
         "type": "scatter",
         "x": [
          0,
          1,
          2,
          3,
          4,
          5,
          6,
          7,
          8,
          9,
          10,
          11,
          12,
          13,
          14,
          15,
          16,
          17,
          18,
          19,
          20,
          21,
          22,
          23,
          24,
          25,
          26,
          27,
          28,
          29,
          30,
          31,
          32,
          33,
          34,
          35,
          36,
          37,
          38,
          39,
          40,
          41,
          42,
          43,
          44,
          45,
          46,
          47,
          48,
          49,
          50,
          51,
          52,
          53,
          54,
          55,
          56,
          57,
          58,
          59,
          60,
          61,
          62,
          63,
          64,
          65,
          66,
          67,
          68,
          69,
          70,
          71,
          72,
          73,
          74,
          75,
          76,
          77,
          78,
          79,
          80
         ],
         "xaxis": "x",
         "y": [
          1658.925,
          1560.125,
          1539.725,
          1313.35,
          1275.85,
          1275.375,
          1275.375,
          1244.8,
          1244.8,
          1234.925,
          1234.925,
          1234.925,
          1234.925,
          1234.925,
          1234.925,
          1203.425,
          1136.05,
          1136.05,
          1136.05,
          1061.5,
          1032.45,
          1032.45,
          1032.45,
          1032.45,
          1003.725,
          1003.725,
          1003.725,
          1003.725,
          1003.725,
          1003.725,
          1003.725,
          994.725,
          994.725,
          994.725,
          994.725,
          982.025,
          982.025,
          982.025,
          982.025,
          982.025,
          982.025,
          982.025,
          982.025,
          982.025,
          982.025,
          982.025,
          926.1,
          926.1,
          926.1,
          926.1,
          926.1,
          926.1,
          926.1,
          920.175,
          920.175,
          874.6,
          874.6,
          716.225,
          716.225,
          716.225,
          708.475,
          708.475,
          708.475,
          708.475,
          708.475,
          708.475,
          708.475,
          708.475,
          708.475,
          708.475,
          708.475,
          708.475,
          708.475,
          707.9,
          707.9,
          707.9,
          707.9,
          707.9,
          707.9,
          707.9,
          707.9
         ],
         "yaxis": "y"
        },
        {
         "fill": "toself",
         "fillcolor": "rgba(0,204,150,.3)",
         "hoverinfo": "skip",
         "legendgroup": "bayesian",
         "line": {
          "color": "rgba(255,255,255,0)"
         },
         "showlegend": false,
         "type": "scatter",
         "x": [
          0,
          1,
          2,
          3,
          4,
          5,
          6,
          7,
          8,
          9,
          10,
          11,
          12,
          13,
          14,
          15,
          16,
          17,
          18,
          19,
          20,
          21,
          22,
          23,
          24,
          25,
          26,
          27,
          28,
          29,
          30,
          31,
          32,
          33,
          34,
          35,
          36,
          37,
          38,
          39,
          40,
          41,
          42,
          43,
          44,
          45,
          46,
          47,
          48,
          49,
          50,
          51,
          52,
          53,
          54,
          55,
          56,
          57,
          58,
          59,
          60,
          61,
          62,
          63,
          64,
          65,
          66,
          67,
          68,
          69,
          70,
          71,
          72,
          73,
          74,
          75,
          76,
          77,
          78,
          79,
          80,
          80,
          79,
          78,
          77,
          76,
          75,
          74,
          73,
          72,
          71,
          70,
          69,
          68,
          67,
          66,
          65,
          64,
          63,
          62,
          61,
          60,
          59,
          58,
          57,
          56,
          55,
          54,
          53,
          52,
          51,
          50,
          49,
          48,
          47,
          46,
          45,
          44,
          43,
          42,
          41,
          40,
          39,
          38,
          37,
          36,
          35,
          34,
          33,
          32,
          31,
          30,
          29,
          28,
          27,
          26,
          25,
          24,
          23,
          22,
          21,
          20,
          19,
          18,
          17,
          16,
          15,
          14,
          13,
          12,
          11,
          10,
          9,
          8,
          7,
          6,
          5,
          4,
          3,
          2,
          1,
          0
         ],
         "xaxis": "x",
         "y": [
          5364.769509828086,
          4339.694509828086,
          3802.5195098280856,
          3731.544509828086,
          3602.8945098280856,
          3393.2695098280856,
          3393.2695098280856,
          3304.294509828086,
          2500.6445098280856,
          2246.2195098280854,
          2019.9695098280856,
          1766.8695098280857,
          1577.0445098280857,
          1502.7195098280858,
          1456.4445098280858,
          1328.6695098280857,
          1218.9195098280857,
          1218.9195098280857,
          1218.9195098280857,
          1143.8945098280856,
          1143.8945098280856,
          1143.8945098280856,
          1143.8945098280856,
          1143.8945098280856,
          1119.1445098280858,
          1111.1695098280857,
          1111.1695098280857,
          1111.1695098280857,
          1110.0945098280856,
          1070.8445098280856,
          1070.8445098280856,
          1054.8195098280858,
          1029.7445098280857,
          1029.7445098280857,
          1029.7445098280857,
          1029.7445098280857,
          1029.7445098280857,
          1029.7445098280857,
          1029.7445098280857,
          1029.7445098280857,
          1029.7445098280857,
          1029.7445098280857,
          1029.7445098280857,
          1029.7445098280857,
          1029.7445098280857,
          1025.6695098280857,
          1025.6695098280857,
          1025.6695098280857,
          1025.6695098280857,
          1025.6695098280857,
          1025.6695098280857,
          1025.6695098280857,
          1025.6695098280857,
          1025.6695098280857,
          1025.6695098280857,
          1025.6695098280857,
          1025.6695098280857,
          1025.6695098280857,
          1025.6695098280857,
          1025.6695098280857,
          1025.1445098280858,
          1025.1445098280858,
          1025.1445098280858,
          1025.1445098280858,
          1025.1445098280858,
          1025.1445098280858,
          1025.1445098280858,
          1025.1445098280858,
          1025.1445098280858,
          1025.1445098280858,
          1025.1445098280858,
          1025.1445098280858,
          1025.1445098280858,
          1017.3695098280857,
          1017.3695098280857,
          1017.3695098280857,
          1017.3695098280857,
          1017.3695098280857,
          1017.3695098280857,
          1017.3695098280857,
          1017.3695098280857,
          -740.1195098280857,
          -740.1195098280857,
          -740.1195098280857,
          -740.1195098280857,
          -740.1195098280857,
          -740.1195098280857,
          -740.1195098280857,
          -740.1195098280857,
          -732.3445098280857,
          -732.3445098280857,
          -732.3445098280857,
          -732.3445098280857,
          -732.3445098280857,
          -732.3445098280857,
          -732.3445098280857,
          -732.3445098280857,
          -732.3445098280857,
          -732.3445098280857,
          -732.3445098280857,
          -732.3445098280857,
          -732.3445098280857,
          -731.8195098280858,
          -731.8195098280858,
          -731.8195098280858,
          -731.8195098280858,
          -731.8195098280858,
          -731.8195098280858,
          -731.8195098280858,
          -731.8195098280858,
          -731.8195098280858,
          -731.8195098280858,
          -731.8195098280858,
          -731.8195098280858,
          -731.8195098280858,
          -731.8195098280858,
          -731.8195098280858,
          -727.7445098280857,
          -727.7445098280857,
          -727.7445098280857,
          -727.7445098280857,
          -727.7445098280857,
          -727.7445098280857,
          -727.7445098280857,
          -727.7445098280857,
          -727.7445098280857,
          -727.7445098280857,
          -727.7445098280857,
          -727.7445098280857,
          -727.7445098280857,
          -702.6695098280857,
          -686.6445098280857,
          -686.6445098280857,
          -647.3945098280857,
          -646.3195098280858,
          -646.3195098280858,
          -646.3195098280858,
          -638.3445098280857,
          -613.5945098280857,
          -613.5945098280857,
          -613.5945098280857,
          -613.5945098280857,
          -613.5945098280857,
          -538.5695098280858,
          -538.5695098280858,
          -538.5695098280858,
          -428.8195098280857,
          -301.04450982808567,
          -254.7695098280857,
          -180.44450982808576,
          9.380490171914289,
          262.4804901719142,
          488.7304901719142,
          743.1554901719144,
          1546.8054901719145,
          1635.7804901719144,
          1635.7804901719144,
          1845.4054901719144,
          1974.0554901719145,
          2045.0304901719144,
          2582.205490171914,
          3607.2804901719137
         ],
         "yaxis": "y"
        },
        {
         "hovertemplate": "method=bayesian<br>iteration=%{x}<br>mae=%{y}<extra></extra>",
         "legendgroup": "bayesian",
         "line": {
          "color": "#00cc96",
          "dash": "solid"
         },
         "marker": {
          "symbol": "circle"
         },
         "mode": "lines",
         "name": "bayesian",
         "orientation": "v",
         "showlegend": true,
         "type": "scatter",
         "x": [
          0,
          1,
          2,
          3,
          4,
          5,
          6,
          7,
          8,
          9,
          10,
          11,
          12,
          13,
          14,
          15,
          16,
          17,
          18,
          19,
          20,
          21,
          22,
          23,
          24,
          25,
          26,
          27,
          28,
          29,
          30,
          31,
          32,
          33,
          34,
          35,
          36,
          37,
          38,
          39,
          40,
          41,
          42,
          43,
          44,
          45,
          46,
          47,
          48,
          49,
          50,
          51,
          52,
          53,
          54,
          55,
          56,
          57,
          58,
          59,
          60,
          61,
          62,
          63,
          64,
          65,
          66,
          67,
          68,
          69,
          70,
          71,
          72,
          73,
          74,
          75,
          76,
          77,
          78,
          79,
          80
         ],
         "xaxis": "x",
         "y": [
          4486.025,
          3460.95,
          2923.775,
          2852.8,
          2724.15,
          2514.525,
          2514.525,
          2425.55,
          1621.9,
          1367.475,
          1141.225,
          888.125,
          698.3,
          623.975,
          577.7,
          449.925,
          340.175,
          340.175,
          340.175,
          265.15,
          265.15,
          265.15,
          265.15,
          265.15,
          240.4,
          232.425,
          232.425,
          232.425,
          231.35,
          192.1,
          192.1,
          176.075,
          151,
          151,
          151,
          151,
          151,
          151,
          151,
          151,
          151,
          151,
          151,
          151,
          151,
          146.925,
          146.925,
          146.925,
          146.925,
          146.925,
          146.925,
          146.925,
          146.925,
          146.925,
          146.925,
          146.925,
          146.925,
          146.925,
          146.925,
          146.925,
          146.4,
          146.4,
          146.4,
          146.4,
          146.4,
          146.4,
          146.4,
          146.4,
          146.4,
          146.4,
          146.4,
          146.4,
          146.4,
          138.625,
          138.625,
          138.625,
          138.625,
          138.625,
          138.625,
          138.625,
          138.625
         ],
         "yaxis": "y"
        }
       ],
       "layout": {
        "legend": {
         "title": {
          "text": "method"
         },
         "tracegroupgap": 0
        },
        "margin": {
         "t": 60
        },
        "template": {
         "data": {
          "bar": [
           {
            "error_x": {
             "color": "#2a3f5f"
            },
            "error_y": {
             "color": "#2a3f5f"
            },
            "marker": {
             "line": {
              "color": "#E5ECF6",
              "width": 0.5
             },
             "pattern": {
              "fillmode": "overlay",
              "size": 10,
              "solidity": 0.2
             }
            },
            "type": "bar"
           }
          ],
          "barpolar": [
           {
            "marker": {
             "line": {
              "color": "#E5ECF6",
              "width": 0.5
             },
             "pattern": {
              "fillmode": "overlay",
              "size": 10,
              "solidity": 0.2
             }
            },
            "type": "barpolar"
           }
          ],
          "carpet": [
           {
            "aaxis": {
             "endlinecolor": "#2a3f5f",
             "gridcolor": "white",
             "linecolor": "white",
             "minorgridcolor": "white",
             "startlinecolor": "#2a3f5f"
            },
            "baxis": {
             "endlinecolor": "#2a3f5f",
             "gridcolor": "white",
             "linecolor": "white",
             "minorgridcolor": "white",
             "startlinecolor": "#2a3f5f"
            },
            "type": "carpet"
           }
          ],
          "choropleth": [
           {
            "colorbar": {
             "outlinewidth": 0,
             "ticks": ""
            },
            "type": "choropleth"
           }
          ],
          "contour": [
           {
            "colorbar": {
             "outlinewidth": 0,
             "ticks": ""
            },
            "colorscale": [
             [
              0,
              "#0d0887"
             ],
             [
              0.1111111111111111,
              "#46039f"
             ],
             [
              0.2222222222222222,
              "#7201a8"
             ],
             [
              0.3333333333333333,
              "#9c179e"
             ],
             [
              0.4444444444444444,
              "#bd3786"
             ],
             [
              0.5555555555555556,
              "#d8576b"
             ],
             [
              0.6666666666666666,
              "#ed7953"
             ],
             [
              0.7777777777777778,
              "#fb9f3a"
             ],
             [
              0.8888888888888888,
              "#fdca26"
             ],
             [
              1,
              "#f0f921"
             ]
            ],
            "type": "contour"
           }
          ],
          "contourcarpet": [
           {
            "colorbar": {
             "outlinewidth": 0,
             "ticks": ""
            },
            "type": "contourcarpet"
           }
          ],
          "heatmap": [
           {
            "colorbar": {
             "outlinewidth": 0,
             "ticks": ""
            },
            "colorscale": [
             [
              0,
              "#0d0887"
             ],
             [
              0.1111111111111111,
              "#46039f"
             ],
             [
              0.2222222222222222,
              "#7201a8"
             ],
             [
              0.3333333333333333,
              "#9c179e"
             ],
             [
              0.4444444444444444,
              "#bd3786"
             ],
             [
              0.5555555555555556,
              "#d8576b"
             ],
             [
              0.6666666666666666,
              "#ed7953"
             ],
             [
              0.7777777777777778,
              "#fb9f3a"
             ],
             [
              0.8888888888888888,
              "#fdca26"
             ],
             [
              1,
              "#f0f921"
             ]
            ],
            "type": "heatmap"
           }
          ],
          "heatmapgl": [
           {
            "colorbar": {
             "outlinewidth": 0,
             "ticks": ""
            },
            "colorscale": [
             [
              0,
              "#0d0887"
             ],
             [
              0.1111111111111111,
              "#46039f"
             ],
             [
              0.2222222222222222,
              "#7201a8"
             ],
             [
              0.3333333333333333,
              "#9c179e"
             ],
             [
              0.4444444444444444,
              "#bd3786"
             ],
             [
              0.5555555555555556,
              "#d8576b"
             ],
             [
              0.6666666666666666,
              "#ed7953"
             ],
             [
              0.7777777777777778,
              "#fb9f3a"
             ],
             [
              0.8888888888888888,
              "#fdca26"
             ],
             [
              1,
              "#f0f921"
             ]
            ],
            "type": "heatmapgl"
           }
          ],
          "histogram": [
           {
            "marker": {
             "pattern": {
              "fillmode": "overlay",
              "size": 10,
              "solidity": 0.2
             }
            },
            "type": "histogram"
           }
          ],
          "histogram2d": [
           {
            "colorbar": {
             "outlinewidth": 0,
             "ticks": ""
            },
            "colorscale": [
             [
              0,
              "#0d0887"
             ],
             [
              0.1111111111111111,
              "#46039f"
             ],
             [
              0.2222222222222222,
              "#7201a8"
             ],
             [
              0.3333333333333333,
              "#9c179e"
             ],
             [
              0.4444444444444444,
              "#bd3786"
             ],
             [
              0.5555555555555556,
              "#d8576b"
             ],
             [
              0.6666666666666666,
              "#ed7953"
             ],
             [
              0.7777777777777778,
              "#fb9f3a"
             ],
             [
              0.8888888888888888,
              "#fdca26"
             ],
             [
              1,
              "#f0f921"
             ]
            ],
            "type": "histogram2d"
           }
          ],
          "histogram2dcontour": [
           {
            "colorbar": {
             "outlinewidth": 0,
             "ticks": ""
            },
            "colorscale": [
             [
              0,
              "#0d0887"
             ],
             [
              0.1111111111111111,
              "#46039f"
             ],
             [
              0.2222222222222222,
              "#7201a8"
             ],
             [
              0.3333333333333333,
              "#9c179e"
             ],
             [
              0.4444444444444444,
              "#bd3786"
             ],
             [
              0.5555555555555556,
              "#d8576b"
             ],
             [
              0.6666666666666666,
              "#ed7953"
             ],
             [
              0.7777777777777778,
              "#fb9f3a"
             ],
             [
              0.8888888888888888,
              "#fdca26"
             ],
             [
              1,
              "#f0f921"
             ]
            ],
            "type": "histogram2dcontour"
           }
          ],
          "mesh3d": [
           {
            "colorbar": {
             "outlinewidth": 0,
             "ticks": ""
            },
            "type": "mesh3d"
           }
          ],
          "parcoords": [
           {
            "line": {
             "colorbar": {
              "outlinewidth": 0,
              "ticks": ""
             }
            },
            "type": "parcoords"
           }
          ],
          "pie": [
           {
            "automargin": true,
            "type": "pie"
           }
          ],
          "scatter": [
           {
            "fillpattern": {
             "fillmode": "overlay",
             "size": 10,
             "solidity": 0.2
            },
            "type": "scatter"
           }
          ],
          "scatter3d": [
           {
            "line": {
             "colorbar": {
              "outlinewidth": 0,
              "ticks": ""
             }
            },
            "marker": {
             "colorbar": {
              "outlinewidth": 0,
              "ticks": ""
             }
            },
            "type": "scatter3d"
           }
          ],
          "scattercarpet": [
           {
            "marker": {
             "colorbar": {
              "outlinewidth": 0,
              "ticks": ""
             }
            },
            "type": "scattercarpet"
           }
          ],
          "scattergeo": [
           {
            "marker": {
             "colorbar": {
              "outlinewidth": 0,
              "ticks": ""
             }
            },
            "type": "scattergeo"
           }
          ],
          "scattergl": [
           {
            "marker": {
             "colorbar": {
              "outlinewidth": 0,
              "ticks": ""
             }
            },
            "type": "scattergl"
           }
          ],
          "scattermapbox": [
           {
            "marker": {
             "colorbar": {
              "outlinewidth": 0,
              "ticks": ""
             }
            },
            "type": "scattermapbox"
           }
          ],
          "scatterpolar": [
           {
            "marker": {
             "colorbar": {
              "outlinewidth": 0,
              "ticks": ""
             }
            },
            "type": "scatterpolar"
           }
          ],
          "scatterpolargl": [
           {
            "marker": {
             "colorbar": {
              "outlinewidth": 0,
              "ticks": ""
             }
            },
            "type": "scatterpolargl"
           }
          ],
          "scatterternary": [
           {
            "marker": {
             "colorbar": {
              "outlinewidth": 0,
              "ticks": ""
             }
            },
            "type": "scatterternary"
           }
          ],
          "surface": [
           {
            "colorbar": {
             "outlinewidth": 0,
             "ticks": ""
            },
            "colorscale": [
             [
              0,
              "#0d0887"
             ],
             [
              0.1111111111111111,
              "#46039f"
             ],
             [
              0.2222222222222222,
              "#7201a8"
             ],
             [
              0.3333333333333333,
              "#9c179e"
             ],
             [
              0.4444444444444444,
              "#bd3786"
             ],
             [
              0.5555555555555556,
              "#d8576b"
             ],
             [
              0.6666666666666666,
              "#ed7953"
             ],
             [
              0.7777777777777778,
              "#fb9f3a"
             ],
             [
              0.8888888888888888,
              "#fdca26"
             ],
             [
              1,
              "#f0f921"
             ]
            ],
            "type": "surface"
           }
          ],
          "table": [
           {
            "cells": {
             "fill": {
              "color": "#EBF0F8"
             },
             "line": {
              "color": "white"
             }
            },
            "header": {
             "fill": {
              "color": "#C8D4E3"
             },
             "line": {
              "color": "white"
             }
            },
            "type": "table"
           }
          ]
         },
         "layout": {
          "annotationdefaults": {
           "arrowcolor": "#2a3f5f",
           "arrowhead": 0,
           "arrowwidth": 1
          },
          "autotypenumbers": "strict",
          "coloraxis": {
           "colorbar": {
            "outlinewidth": 0,
            "ticks": ""
           }
          },
          "colorscale": {
           "diverging": [
            [
             0,
             "#8e0152"
            ],
            [
             0.1,
             "#c51b7d"
            ],
            [
             0.2,
             "#de77ae"
            ],
            [
             0.3,
             "#f1b6da"
            ],
            [
             0.4,
             "#fde0ef"
            ],
            [
             0.5,
             "#f7f7f7"
            ],
            [
             0.6,
             "#e6f5d0"
            ],
            [
             0.7,
             "#b8e186"
            ],
            [
             0.8,
             "#7fbc41"
            ],
            [
             0.9,
             "#4d9221"
            ],
            [
             1,
             "#276419"
            ]
           ],
           "sequential": [
            [
             0,
             "#0d0887"
            ],
            [
             0.1111111111111111,
             "#46039f"
            ],
            [
             0.2222222222222222,
             "#7201a8"
            ],
            [
             0.3333333333333333,
             "#9c179e"
            ],
            [
             0.4444444444444444,
             "#bd3786"
            ],
            [
             0.5555555555555556,
             "#d8576b"
            ],
            [
             0.6666666666666666,
             "#ed7953"
            ],
            [
             0.7777777777777778,
             "#fb9f3a"
            ],
            [
             0.8888888888888888,
             "#fdca26"
            ],
            [
             1,
             "#f0f921"
            ]
           ],
           "sequentialminus": [
            [
             0,
             "#0d0887"
            ],
            [
             0.1111111111111111,
             "#46039f"
            ],
            [
             0.2222222222222222,
             "#7201a8"
            ],
            [
             0.3333333333333333,
             "#9c179e"
            ],
            [
             0.4444444444444444,
             "#bd3786"
            ],
            [
             0.5555555555555556,
             "#d8576b"
            ],
            [
             0.6666666666666666,
             "#ed7953"
            ],
            [
             0.7777777777777778,
             "#fb9f3a"
            ],
            [
             0.8888888888888888,
             "#fdca26"
            ],
            [
             1,
             "#f0f921"
            ]
           ]
          },
          "colorway": [
           "#636efa",
           "#EF553B",
           "#00cc96",
           "#ab63fa",
           "#FFA15A",
           "#19d3f3",
           "#FF6692",
           "#B6E880",
           "#FF97FF",
           "#FECB52"
          ],
          "font": {
           "color": "#2a3f5f"
          },
          "geo": {
           "bgcolor": "white",
           "lakecolor": "white",
           "landcolor": "#E5ECF6",
           "showlakes": true,
           "showland": true,
           "subunitcolor": "white"
          },
          "hoverlabel": {
           "align": "left"
          },
          "hovermode": "closest",
          "mapbox": {
           "style": "light"
          },
          "paper_bgcolor": "white",
          "plot_bgcolor": "#E5ECF6",
          "polar": {
           "angularaxis": {
            "gridcolor": "white",
            "linecolor": "white",
            "ticks": ""
           },
           "bgcolor": "#E5ECF6",
           "radialaxis": {
            "gridcolor": "white",
            "linecolor": "white",
            "ticks": ""
           }
          },
          "scene": {
           "xaxis": {
            "backgroundcolor": "#E5ECF6",
            "gridcolor": "white",
            "gridwidth": 2,
            "linecolor": "white",
            "showbackground": true,
            "ticks": "",
            "zerolinecolor": "white"
           },
           "yaxis": {
            "backgroundcolor": "#E5ECF6",
            "gridcolor": "white",
            "gridwidth": 2,
            "linecolor": "white",
            "showbackground": true,
            "ticks": "",
            "zerolinecolor": "white"
           },
           "zaxis": {
            "backgroundcolor": "#E5ECF6",
            "gridcolor": "white",
            "gridwidth": 2,
            "linecolor": "white",
            "showbackground": true,
            "ticks": "",
            "zerolinecolor": "white"
           }
          },
          "shapedefaults": {
           "line": {
            "color": "#2a3f5f"
           }
          },
          "ternary": {
           "aaxis": {
            "gridcolor": "white",
            "linecolor": "white",
            "ticks": ""
           },
           "baxis": {
            "gridcolor": "white",
            "linecolor": "white",
            "ticks": ""
           },
           "bgcolor": "#E5ECF6",
           "caxis": {
            "gridcolor": "white",
            "linecolor": "white",
            "ticks": ""
           }
          },
          "title": {
           "x": 0.05
          },
          "xaxis": {
           "automargin": true,
           "gridcolor": "white",
           "linecolor": "white",
           "ticks": "",
           "title": {
            "standoff": 15
           },
           "zerolinecolor": "white",
           "zerolinewidth": 2
          },
          "yaxis": {
           "automargin": true,
           "gridcolor": "white",
           "linecolor": "white",
           "ticks": "",
           "title": {
            "standoff": 15
           },
           "zerolinecolor": "white",
           "zerolinewidth": 2
          }
         }
        },
        "xaxis": {
         "anchor": "y",
         "domain": [
          0,
          1
         ],
         "title": {
          "text": "iteration"
         }
        },
        "yaxis": {
         "anchor": "x",
         "domain": [
          0,
          1
         ],
         "range": [
          0,
          5832.08443407938
         ],
         "title": {
          "text": "mae"
         }
        }
       }
      },
      "text/html": [
       "<div>                            <div id=\"7a872fa0-897a-4c12-b2b2-e241d63acc16\" class=\"plotly-graph-div\" style=\"height:525px; width:100%;\"></div>            <script type=\"text/javascript\">                require([\"plotly\"], function(Plotly) {                    window.PLOTLYENV=window.PLOTLYENV || {};                                    if (document.getElementById(\"7a872fa0-897a-4c12-b2b2-e241d63acc16\")) {                    Plotly.newPlot(                        \"7a872fa0-897a-4c12-b2b2-e241d63acc16\",                        [{\"fill\":\"toself\",\"fillcolor\":\"rgba(99,110,250,.3)\",\"hoverinfo\":\"skip\",\"legendgroup\":\"grid\",\"line\":{\"color\":\"rgba(255,255,255,0)\"},\"showlegend\":false,\"x\":[0,1,2,3,4,5,6,7,8,9,10,11,12,13,14,15,16,17,18,19,20,21,22,23,24,25,26,27,28,29,30,31,32,33,34,35,36,37,38,39,40,41,42,43,44,45,46,47,48,49,50,51,52,53,54,55,56,57,58,59,60,61,62,63,64,65,66,67,68,69,70,71,72,73,74,75,76,77,78,79,80,80,79,78,77,76,75,74,73,72,71,70,69,68,67,66,65,64,63,62,61,60,59,58,57,56,55,54,53,52,51,50,49,48,47,46,45,44,43,42,41,40,39,38,37,36,35,34,33,32,31,30,29,28,27,26,25,24,23,22,21,20,19,18,17,16,15,14,13,12,11,10,9,8,7,6,5,4,3,2,1,0],\"xaxis\":\"x\",\"y\":[5717.729837332726,5717.179837332726,5716.904837332726,5716.529837332726,4919.504837332726,4660.604837332726,4660.604837332726,4643.254837332726,4549.979837332726,4549.979837332726,4514.379837332726,4092.7798373327264,4092.7798373327264,4060.3298373327266,3517.1798373327265,3517.1798373327265,3517.1798373327265,3448.7048373327266,3448.7048373327266,3396.8798373327263,3224.979837332726,3224.979837332726,3137.7798373327264,3096.2548373327263,3096.2548373327263,3096.2548373327263,3075.6798373327265,3075.6798373327265,3075.6798373327265,3075.6798373327265,3075.6798373327265,3075.6798373327265,3075.6798373327265,3075.5048373327263,3075.5048373327263,3075.5048373327263,3075.5048373327263,3075.5048373327263,2843.0548373327265,2843.0548373327265,2843.0548373327265,2675.2798373327264,2675.2798373327264,2675.2798373327264,2675.2798373327264,2675.2798373327264,2675.2798373327264,2675.2798373327264,2675.2798373327264,2537.954837332726,2537.954837332726,2537.954837332726,2401.4048373327264,2401.4048373327264,2401.4048373327264,2401.4048373327264,2401.4048373327264,2401.4048373327264,2401.4048373327264,2401.4048373327264,2401.4048373327264,2401.4048373327264,2401.4048373327264,2401.4048373327264,2401.4048373327264,2401.4048373327264,2401.4048373327264,2401.4048373327264,2326.354837332726,2326.354837332726,2326.354837332726,2326.354837332726,2324.0548373327265,2324.0548373327265,2324.0548373327265,2320.8798373327263,2270.7798373327264,2270.7798373327264,2270.7798373327264,2270.7798373327264,2270.7798373327264,457.4701626672737,457.4701626672737,457.4701626672737,457.4701626672737,457.4701626672737,507.5701626672736,510.7451626672738,510.7451626672738,510.7451626672738,513.0451626672738,513.0451626672738,513.0451626672738,513.0451626672738,588.0951626672737,588.0951626672737,588.0951626672737,588.0951626672737,588.0951626672737,588.0951626672737,588.0951626672737,588.0951626672737,588.0951626672737,588.0951626672737,588.0951626672737,588.0951626672737,588.0951626672737,588.0951626672737,588.0951626672737,588.0951626672737,724.6451626672737,724.6451626672737,724.6451626672737,861.9701626672737,861.9701626672737,861.9701626672737,861.9701626672737,861.9701626672737,861.9701626672737,861.9701626672737,861.9701626672737,1029.7451626672737,1029.7451626672737,1029.7451626672737,1262.1951626672735,1262.1951626672735,1262.1951626672735,1262.1951626672735,1262.1951626672735,1262.3701626672737,1262.3701626672737,1262.3701626672737,1262.3701626672737,1262.3701626672737,1262.3701626672737,1262.3701626672737,1282.9451626672735,1282.9451626672735,1282.9451626672735,1324.4701626672736,1411.6701626672734,1411.6701626672734,1583.5701626672735,1635.3951626672738,1635.3951626672738,1703.8701626672737,1703.8701626672737,1703.8701626672737,2247.020162667274,2279.4701626672736,2279.4701626672736,2701.0701626672735,2736.6701626672734,2736.6701626672734,2829.9451626672735,2847.2951626672734,2847.2951626672734,3106.1951626672735,3903.2201626672736,3903.5951626672736,3903.8701626672732,3904.4201626672734],\"yaxis\":\"y\",\"type\":\"scatter\"},{\"hovertemplate\":\"method=grid<br>iteration=%{x}<br>mae=%{y}<extra></extra>\",\"legendgroup\":\"grid\",\"line\":{\"color\":\"#636efa\",\"dash\":\"solid\"},\"marker\":{\"symbol\":\"circle\"},\"mode\":\"lines\",\"name\":\"grid\",\"orientation\":\"v\",\"showlegend\":true,\"x\":[0,1,2,3,4,5,6,7,8,9,10,11,12,13,14,15,16,17,18,19,20,21,22,23,24,25,26,27,28,29,30,31,32,33,34,35,36,37,38,39,40,41,42,43,44,45,46,47,48,49,50,51,52,53,54,55,56,57,58,59,60,61,62,63,64,65,66,67,68,69,70,71,72,73,74,75,76,77,78,79,80],\"xaxis\":\"x\",\"y\":[4811.075,4810.525,4810.25,4809.875,4012.85,3753.95,3753.95,3736.6,3643.325,3643.325,3607.725,3186.125,3186.125,3153.675,2610.525,2610.525,2610.525,2542.05,2542.05,2490.225,2318.325,2318.325,2231.125,2189.6,2189.6,2189.6,2169.025,2169.025,2169.025,2169.025,2169.025,2169.025,2169.025,2168.85,2168.85,2168.85,2168.85,2168.85,1936.4,1936.4,1936.4,1768.625,1768.625,1768.625,1768.625,1768.625,1768.625,1768.625,1768.625,1631.3,1631.3,1631.3,1494.75,1494.75,1494.75,1494.75,1494.75,1494.75,1494.75,1494.75,1494.75,1494.75,1494.75,1494.75,1494.75,1494.75,1494.75,1494.75,1419.7,1419.7,1419.7,1419.7,1417.4,1417.4,1417.4,1414.225,1364.125,1364.125,1364.125,1364.125,1364.125],\"yaxis\":\"y\",\"type\":\"scatter\"},{\"fill\":\"toself\",\"fillcolor\":\"rgba(239,85,59,.3)\",\"hoverinfo\":\"skip\",\"legendgroup\":\"random\",\"line\":{\"color\":\"rgba(255,255,255,0)\"},\"showlegend\":false,\"x\":[0,1,2,3,4,5,6,7,8,9,10,11,12,13,14,15,16,17,18,19,20,21,22,23,24,25,26,27,28,29,30,31,32,33,34,35,36,37,38,39,40,41,42,43,44,45,46,47,48,49,50,51,52,53,54,55,56,57,58,59,60,61,62,63,64,65,66,67,68,69,70,71,72,73,74,75,76,77,78,79,80,80,79,78,77,76,75,74,73,72,71,70,69,68,67,66,65,64,63,62,61,60,59,58,57,56,55,54,53,52,51,50,49,48,47,46,45,44,43,42,41,40,39,38,37,36,35,34,33,32,31,30,29,28,27,26,25,24,23,22,21,20,19,18,17,16,15,14,13,12,11,10,9,8,7,6,5,4,3,2,1,0],\"xaxis\":\"x\",\"y\":[1880.0117227245833,1781.2117227245833,1760.8117227245832,1534.4367227245832,1496.9367227245832,1496.4617227245833,1496.4617227245833,1465.8867227245833,1465.8867227245833,1456.0117227245833,1456.0117227245833,1456.0117227245833,1456.0117227245833,1456.0117227245833,1456.0117227245833,1424.5117227245833,1357.1367227245833,1357.1367227245833,1357.1367227245833,1282.5867227245833,1253.5367227245833,1253.5367227245833,1253.5367227245833,1253.5367227245833,1224.8117227245834,1224.8117227245834,1224.8117227245834,1224.8117227245834,1224.8117227245834,1224.8117227245834,1224.8117227245834,1215.8117227245834,1215.8117227245834,1215.8117227245834,1215.8117227245834,1203.1117227245832,1203.1117227245832,1203.1117227245832,1203.1117227245832,1203.1117227245832,1203.1117227245832,1203.1117227245832,1203.1117227245832,1203.1117227245832,1203.1117227245832,1203.1117227245832,1147.1867227245834,1147.1867227245834,1147.1867227245834,1147.1867227245834,1147.1867227245834,1147.1867227245834,1147.1867227245834,1141.2617227245833,1141.2617227245833,1095.6867227245834,1095.6867227245834,937.3117227245833,937.3117227245833,937.3117227245833,929.5617227245833,929.5617227245833,929.5617227245833,929.5617227245833,929.5617227245833,929.5617227245833,929.5617227245833,929.5617227245833,929.5617227245833,929.5617227245833,929.5617227245833,929.5617227245833,929.5617227245833,928.9867227245833,928.9867227245833,928.9867227245833,928.9867227245833,928.9867227245833,928.9867227245833,928.9867227245833,928.9867227245833,486.8132772754167,486.8132772754167,486.8132772754167,486.8132772754167,486.8132772754167,486.8132772754167,486.8132772754167,486.8132772754167,487.3882772754167,487.3882772754167,487.3882772754167,487.3882772754167,487.3882772754167,487.3882772754167,487.3882772754167,487.3882772754167,487.3882772754167,487.3882772754167,487.3882772754167,487.3882772754167,487.3882772754167,495.1382772754167,495.1382772754167,495.1382772754167,653.5132772754167,653.5132772754167,699.0882772754167,699.0882772754167,705.0132772754167,705.0132772754167,705.0132772754167,705.0132772754167,705.0132772754167,705.0132772754167,705.0132772754167,760.9382772754167,760.9382772754167,760.9382772754167,760.9382772754167,760.9382772754167,760.9382772754167,760.9382772754167,760.9382772754167,760.9382772754167,760.9382772754167,760.9382772754167,773.6382772754167,773.6382772754167,773.6382772754167,773.6382772754167,782.6382772754167,782.6382772754167,782.6382772754167,782.6382772754167,782.6382772754167,782.6382772754167,782.6382772754167,811.3632772754167,811.3632772754167,811.3632772754167,811.3632772754167,840.4132772754167,914.9632772754167,914.9632772754167,914.9632772754167,982.3382772754167,1013.8382772754167,1013.8382772754167,1013.8382772754167,1013.8382772754167,1013.8382772754167,1013.8382772754167,1023.7132772754167,1023.7132772754167,1054.2882772754167,1054.2882772754167,1054.7632772754166,1092.2632772754166,1318.6382772754166,1339.0382772754167,1437.8382772754167],\"yaxis\":\"y\",\"type\":\"scatter\"},{\"hovertemplate\":\"method=random<br>iteration=%{x}<br>mae=%{y}<extra></extra>\",\"legendgroup\":\"random\",\"line\":{\"color\":\"#EF553B\",\"dash\":\"solid\"},\"marker\":{\"symbol\":\"circle\"},\"mode\":\"lines\",\"name\":\"random\",\"orientation\":\"v\",\"showlegend\":true,\"x\":[0,1,2,3,4,5,6,7,8,9,10,11,12,13,14,15,16,17,18,19,20,21,22,23,24,25,26,27,28,29,30,31,32,33,34,35,36,37,38,39,40,41,42,43,44,45,46,47,48,49,50,51,52,53,54,55,56,57,58,59,60,61,62,63,64,65,66,67,68,69,70,71,72,73,74,75,76,77,78,79,80],\"xaxis\":\"x\",\"y\":[1658.925,1560.125,1539.725,1313.35,1275.85,1275.375,1275.375,1244.8,1244.8,1234.925,1234.925,1234.925,1234.925,1234.925,1234.925,1203.425,1136.05,1136.05,1136.05,1061.5,1032.45,1032.45,1032.45,1032.45,1003.725,1003.725,1003.725,1003.725,1003.725,1003.725,1003.725,994.725,994.725,994.725,994.725,982.025,982.025,982.025,982.025,982.025,982.025,982.025,982.025,982.025,982.025,982.025,926.1,926.1,926.1,926.1,926.1,926.1,926.1,920.175,920.175,874.6,874.6,716.225,716.225,716.225,708.475,708.475,708.475,708.475,708.475,708.475,708.475,708.475,708.475,708.475,708.475,708.475,708.475,707.9,707.9,707.9,707.9,707.9,707.9,707.9,707.9],\"yaxis\":\"y\",\"type\":\"scatter\"},{\"fill\":\"toself\",\"fillcolor\":\"rgba(0,204,150,.3)\",\"hoverinfo\":\"skip\",\"legendgroup\":\"bayesian\",\"line\":{\"color\":\"rgba(255,255,255,0)\"},\"showlegend\":false,\"x\":[0,1,2,3,4,5,6,7,8,9,10,11,12,13,14,15,16,17,18,19,20,21,22,23,24,25,26,27,28,29,30,31,32,33,34,35,36,37,38,39,40,41,42,43,44,45,46,47,48,49,50,51,52,53,54,55,56,57,58,59,60,61,62,63,64,65,66,67,68,69,70,71,72,73,74,75,76,77,78,79,80,80,79,78,77,76,75,74,73,72,71,70,69,68,67,66,65,64,63,62,61,60,59,58,57,56,55,54,53,52,51,50,49,48,47,46,45,44,43,42,41,40,39,38,37,36,35,34,33,32,31,30,29,28,27,26,25,24,23,22,21,20,19,18,17,16,15,14,13,12,11,10,9,8,7,6,5,4,3,2,1,0],\"xaxis\":\"x\",\"y\":[5364.769509828086,4339.694509828086,3802.5195098280856,3731.544509828086,3602.8945098280856,3393.2695098280856,3393.2695098280856,3304.294509828086,2500.6445098280856,2246.2195098280854,2019.9695098280856,1766.8695098280857,1577.0445098280857,1502.7195098280858,1456.4445098280858,1328.6695098280857,1218.9195098280857,1218.9195098280857,1218.9195098280857,1143.8945098280856,1143.8945098280856,1143.8945098280856,1143.8945098280856,1143.8945098280856,1119.1445098280858,1111.1695098280857,1111.1695098280857,1111.1695098280857,1110.0945098280856,1070.8445098280856,1070.8445098280856,1054.8195098280858,1029.7445098280857,1029.7445098280857,1029.7445098280857,1029.7445098280857,1029.7445098280857,1029.7445098280857,1029.7445098280857,1029.7445098280857,1029.7445098280857,1029.7445098280857,1029.7445098280857,1029.7445098280857,1029.7445098280857,1025.6695098280857,1025.6695098280857,1025.6695098280857,1025.6695098280857,1025.6695098280857,1025.6695098280857,1025.6695098280857,1025.6695098280857,1025.6695098280857,1025.6695098280857,1025.6695098280857,1025.6695098280857,1025.6695098280857,1025.6695098280857,1025.6695098280857,1025.1445098280858,1025.1445098280858,1025.1445098280858,1025.1445098280858,1025.1445098280858,1025.1445098280858,1025.1445098280858,1025.1445098280858,1025.1445098280858,1025.1445098280858,1025.1445098280858,1025.1445098280858,1025.1445098280858,1017.3695098280857,1017.3695098280857,1017.3695098280857,1017.3695098280857,1017.3695098280857,1017.3695098280857,1017.3695098280857,1017.3695098280857,-740.1195098280857,-740.1195098280857,-740.1195098280857,-740.1195098280857,-740.1195098280857,-740.1195098280857,-740.1195098280857,-740.1195098280857,-732.3445098280857,-732.3445098280857,-732.3445098280857,-732.3445098280857,-732.3445098280857,-732.3445098280857,-732.3445098280857,-732.3445098280857,-732.3445098280857,-732.3445098280857,-732.3445098280857,-732.3445098280857,-732.3445098280857,-731.8195098280858,-731.8195098280858,-731.8195098280858,-731.8195098280858,-731.8195098280858,-731.8195098280858,-731.8195098280858,-731.8195098280858,-731.8195098280858,-731.8195098280858,-731.8195098280858,-731.8195098280858,-731.8195098280858,-731.8195098280858,-731.8195098280858,-727.7445098280857,-727.7445098280857,-727.7445098280857,-727.7445098280857,-727.7445098280857,-727.7445098280857,-727.7445098280857,-727.7445098280857,-727.7445098280857,-727.7445098280857,-727.7445098280857,-727.7445098280857,-727.7445098280857,-702.6695098280857,-686.6445098280857,-686.6445098280857,-647.3945098280857,-646.3195098280858,-646.3195098280858,-646.3195098280858,-638.3445098280857,-613.5945098280857,-613.5945098280857,-613.5945098280857,-613.5945098280857,-613.5945098280857,-538.5695098280858,-538.5695098280858,-538.5695098280858,-428.8195098280857,-301.04450982808567,-254.7695098280857,-180.44450982808576,9.380490171914289,262.4804901719142,488.7304901719142,743.1554901719144,1546.8054901719145,1635.7804901719144,1635.7804901719144,1845.4054901719144,1974.0554901719145,2045.0304901719144,2582.205490171914,3607.2804901719137],\"yaxis\":\"y\",\"type\":\"scatter\"},{\"hovertemplate\":\"method=bayesian<br>iteration=%{x}<br>mae=%{y}<extra></extra>\",\"legendgroup\":\"bayesian\",\"line\":{\"color\":\"#00cc96\",\"dash\":\"solid\"},\"marker\":{\"symbol\":\"circle\"},\"mode\":\"lines\",\"name\":\"bayesian\",\"orientation\":\"v\",\"showlegend\":true,\"x\":[0,1,2,3,4,5,6,7,8,9,10,11,12,13,14,15,16,17,18,19,20,21,22,23,24,25,26,27,28,29,30,31,32,33,34,35,36,37,38,39,40,41,42,43,44,45,46,47,48,49,50,51,52,53,54,55,56,57,58,59,60,61,62,63,64,65,66,67,68,69,70,71,72,73,74,75,76,77,78,79,80],\"xaxis\":\"x\",\"y\":[4486.025,3460.95,2923.775,2852.8,2724.15,2514.525,2514.525,2425.55,1621.9,1367.475,1141.225,888.125,698.3,623.975,577.7,449.925,340.175,340.175,340.175,265.15,265.15,265.15,265.15,265.15,240.4,232.425,232.425,232.425,231.35,192.1,192.1,176.075,151.0,151.0,151.0,151.0,151.0,151.0,151.0,151.0,151.0,151.0,151.0,151.0,151.0,146.925,146.925,146.925,146.925,146.925,146.925,146.925,146.925,146.925,146.925,146.925,146.925,146.925,146.925,146.925,146.4,146.4,146.4,146.4,146.4,146.4,146.4,146.4,146.4,146.4,146.4,146.4,146.4,138.625,138.625,138.625,138.625,138.625,138.625,138.625,138.625],\"yaxis\":\"y\",\"type\":\"scatter\"}],                        {\"template\":{\"data\":{\"histogram2dcontour\":[{\"type\":\"histogram2dcontour\",\"colorbar\":{\"outlinewidth\":0,\"ticks\":\"\"},\"colorscale\":[[0.0,\"#0d0887\"],[0.1111111111111111,\"#46039f\"],[0.2222222222222222,\"#7201a8\"],[0.3333333333333333,\"#9c179e\"],[0.4444444444444444,\"#bd3786\"],[0.5555555555555556,\"#d8576b\"],[0.6666666666666666,\"#ed7953\"],[0.7777777777777778,\"#fb9f3a\"],[0.8888888888888888,\"#fdca26\"],[1.0,\"#f0f921\"]]}],\"choropleth\":[{\"type\":\"choropleth\",\"colorbar\":{\"outlinewidth\":0,\"ticks\":\"\"}}],\"histogram2d\":[{\"type\":\"histogram2d\",\"colorbar\":{\"outlinewidth\":0,\"ticks\":\"\"},\"colorscale\":[[0.0,\"#0d0887\"],[0.1111111111111111,\"#46039f\"],[0.2222222222222222,\"#7201a8\"],[0.3333333333333333,\"#9c179e\"],[0.4444444444444444,\"#bd3786\"],[0.5555555555555556,\"#d8576b\"],[0.6666666666666666,\"#ed7953\"],[0.7777777777777778,\"#fb9f3a\"],[0.8888888888888888,\"#fdca26\"],[1.0,\"#f0f921\"]]}],\"heatmap\":[{\"type\":\"heatmap\",\"colorbar\":{\"outlinewidth\":0,\"ticks\":\"\"},\"colorscale\":[[0.0,\"#0d0887\"],[0.1111111111111111,\"#46039f\"],[0.2222222222222222,\"#7201a8\"],[0.3333333333333333,\"#9c179e\"],[0.4444444444444444,\"#bd3786\"],[0.5555555555555556,\"#d8576b\"],[0.6666666666666666,\"#ed7953\"],[0.7777777777777778,\"#fb9f3a\"],[0.8888888888888888,\"#fdca26\"],[1.0,\"#f0f921\"]]}],\"heatmapgl\":[{\"type\":\"heatmapgl\",\"colorbar\":{\"outlinewidth\":0,\"ticks\":\"\"},\"colorscale\":[[0.0,\"#0d0887\"],[0.1111111111111111,\"#46039f\"],[0.2222222222222222,\"#7201a8\"],[0.3333333333333333,\"#9c179e\"],[0.4444444444444444,\"#bd3786\"],[0.5555555555555556,\"#d8576b\"],[0.6666666666666666,\"#ed7953\"],[0.7777777777777778,\"#fb9f3a\"],[0.8888888888888888,\"#fdca26\"],[1.0,\"#f0f921\"]]}],\"contourcarpet\":[{\"type\":\"contourcarpet\",\"colorbar\":{\"outlinewidth\":0,\"ticks\":\"\"}}],\"contour\":[{\"type\":\"contour\",\"colorbar\":{\"outlinewidth\":0,\"ticks\":\"\"},\"colorscale\":[[0.0,\"#0d0887\"],[0.1111111111111111,\"#46039f\"],[0.2222222222222222,\"#7201a8\"],[0.3333333333333333,\"#9c179e\"],[0.4444444444444444,\"#bd3786\"],[0.5555555555555556,\"#d8576b\"],[0.6666666666666666,\"#ed7953\"],[0.7777777777777778,\"#fb9f3a\"],[0.8888888888888888,\"#fdca26\"],[1.0,\"#f0f921\"]]}],\"surface\":[{\"type\":\"surface\",\"colorbar\":{\"outlinewidth\":0,\"ticks\":\"\"},\"colorscale\":[[0.0,\"#0d0887\"],[0.1111111111111111,\"#46039f\"],[0.2222222222222222,\"#7201a8\"],[0.3333333333333333,\"#9c179e\"],[0.4444444444444444,\"#bd3786\"],[0.5555555555555556,\"#d8576b\"],[0.6666666666666666,\"#ed7953\"],[0.7777777777777778,\"#fb9f3a\"],[0.8888888888888888,\"#fdca26\"],[1.0,\"#f0f921\"]]}],\"mesh3d\":[{\"type\":\"mesh3d\",\"colorbar\":{\"outlinewidth\":0,\"ticks\":\"\"}}],\"scatter\":[{\"fillpattern\":{\"fillmode\":\"overlay\",\"size\":10,\"solidity\":0.2},\"type\":\"scatter\"}],\"parcoords\":[{\"type\":\"parcoords\",\"line\":{\"colorbar\":{\"outlinewidth\":0,\"ticks\":\"\"}}}],\"scatterpolargl\":[{\"type\":\"scatterpolargl\",\"marker\":{\"colorbar\":{\"outlinewidth\":0,\"ticks\":\"\"}}}],\"bar\":[{\"error_x\":{\"color\":\"#2a3f5f\"},\"error_y\":{\"color\":\"#2a3f5f\"},\"marker\":{\"line\":{\"color\":\"#E5ECF6\",\"width\":0.5},\"pattern\":{\"fillmode\":\"overlay\",\"size\":10,\"solidity\":0.2}},\"type\":\"bar\"}],\"scattergeo\":[{\"type\":\"scattergeo\",\"marker\":{\"colorbar\":{\"outlinewidth\":0,\"ticks\":\"\"}}}],\"scatterpolar\":[{\"type\":\"scatterpolar\",\"marker\":{\"colorbar\":{\"outlinewidth\":0,\"ticks\":\"\"}}}],\"histogram\":[{\"marker\":{\"pattern\":{\"fillmode\":\"overlay\",\"size\":10,\"solidity\":0.2}},\"type\":\"histogram\"}],\"scattergl\":[{\"type\":\"scattergl\",\"marker\":{\"colorbar\":{\"outlinewidth\":0,\"ticks\":\"\"}}}],\"scatter3d\":[{\"type\":\"scatter3d\",\"line\":{\"colorbar\":{\"outlinewidth\":0,\"ticks\":\"\"}},\"marker\":{\"colorbar\":{\"outlinewidth\":0,\"ticks\":\"\"}}}],\"scattermapbox\":[{\"type\":\"scattermapbox\",\"marker\":{\"colorbar\":{\"outlinewidth\":0,\"ticks\":\"\"}}}],\"scatterternary\":[{\"type\":\"scatterternary\",\"marker\":{\"colorbar\":{\"outlinewidth\":0,\"ticks\":\"\"}}}],\"scattercarpet\":[{\"type\":\"scattercarpet\",\"marker\":{\"colorbar\":{\"outlinewidth\":0,\"ticks\":\"\"}}}],\"carpet\":[{\"aaxis\":{\"endlinecolor\":\"#2a3f5f\",\"gridcolor\":\"white\",\"linecolor\":\"white\",\"minorgridcolor\":\"white\",\"startlinecolor\":\"#2a3f5f\"},\"baxis\":{\"endlinecolor\":\"#2a3f5f\",\"gridcolor\":\"white\",\"linecolor\":\"white\",\"minorgridcolor\":\"white\",\"startlinecolor\":\"#2a3f5f\"},\"type\":\"carpet\"}],\"table\":[{\"cells\":{\"fill\":{\"color\":\"#EBF0F8\"},\"line\":{\"color\":\"white\"}},\"header\":{\"fill\":{\"color\":\"#C8D4E3\"},\"line\":{\"color\":\"white\"}},\"type\":\"table\"}],\"barpolar\":[{\"marker\":{\"line\":{\"color\":\"#E5ECF6\",\"width\":0.5},\"pattern\":{\"fillmode\":\"overlay\",\"size\":10,\"solidity\":0.2}},\"type\":\"barpolar\"}],\"pie\":[{\"automargin\":true,\"type\":\"pie\"}]},\"layout\":{\"autotypenumbers\":\"strict\",\"colorway\":[\"#636efa\",\"#EF553B\",\"#00cc96\",\"#ab63fa\",\"#FFA15A\",\"#19d3f3\",\"#FF6692\",\"#B6E880\",\"#FF97FF\",\"#FECB52\"],\"font\":{\"color\":\"#2a3f5f\"},\"hovermode\":\"closest\",\"hoverlabel\":{\"align\":\"left\"},\"paper_bgcolor\":\"white\",\"plot_bgcolor\":\"#E5ECF6\",\"polar\":{\"bgcolor\":\"#E5ECF6\",\"angularaxis\":{\"gridcolor\":\"white\",\"linecolor\":\"white\",\"ticks\":\"\"},\"radialaxis\":{\"gridcolor\":\"white\",\"linecolor\":\"white\",\"ticks\":\"\"}},\"ternary\":{\"bgcolor\":\"#E5ECF6\",\"aaxis\":{\"gridcolor\":\"white\",\"linecolor\":\"white\",\"ticks\":\"\"},\"baxis\":{\"gridcolor\":\"white\",\"linecolor\":\"white\",\"ticks\":\"\"},\"caxis\":{\"gridcolor\":\"white\",\"linecolor\":\"white\",\"ticks\":\"\"}},\"coloraxis\":{\"colorbar\":{\"outlinewidth\":0,\"ticks\":\"\"}},\"colorscale\":{\"sequential\":[[0.0,\"#0d0887\"],[0.1111111111111111,\"#46039f\"],[0.2222222222222222,\"#7201a8\"],[0.3333333333333333,\"#9c179e\"],[0.4444444444444444,\"#bd3786\"],[0.5555555555555556,\"#d8576b\"],[0.6666666666666666,\"#ed7953\"],[0.7777777777777778,\"#fb9f3a\"],[0.8888888888888888,\"#fdca26\"],[1.0,\"#f0f921\"]],\"sequentialminus\":[[0.0,\"#0d0887\"],[0.1111111111111111,\"#46039f\"],[0.2222222222222222,\"#7201a8\"],[0.3333333333333333,\"#9c179e\"],[0.4444444444444444,\"#bd3786\"],[0.5555555555555556,\"#d8576b\"],[0.6666666666666666,\"#ed7953\"],[0.7777777777777778,\"#fb9f3a\"],[0.8888888888888888,\"#fdca26\"],[1.0,\"#f0f921\"]],\"diverging\":[[0,\"#8e0152\"],[0.1,\"#c51b7d\"],[0.2,\"#de77ae\"],[0.3,\"#f1b6da\"],[0.4,\"#fde0ef\"],[0.5,\"#f7f7f7\"],[0.6,\"#e6f5d0\"],[0.7,\"#b8e186\"],[0.8,\"#7fbc41\"],[0.9,\"#4d9221\"],[1,\"#276419\"]]},\"xaxis\":{\"gridcolor\":\"white\",\"linecolor\":\"white\",\"ticks\":\"\",\"title\":{\"standoff\":15},\"zerolinecolor\":\"white\",\"automargin\":true,\"zerolinewidth\":2},\"yaxis\":{\"gridcolor\":\"white\",\"linecolor\":\"white\",\"ticks\":\"\",\"title\":{\"standoff\":15},\"zerolinecolor\":\"white\",\"automargin\":true,\"zerolinewidth\":2},\"scene\":{\"xaxis\":{\"backgroundcolor\":\"#E5ECF6\",\"gridcolor\":\"white\",\"linecolor\":\"white\",\"showbackground\":true,\"ticks\":\"\",\"zerolinecolor\":\"white\",\"gridwidth\":2},\"yaxis\":{\"backgroundcolor\":\"#E5ECF6\",\"gridcolor\":\"white\",\"linecolor\":\"white\",\"showbackground\":true,\"ticks\":\"\",\"zerolinecolor\":\"white\",\"gridwidth\":2},\"zaxis\":{\"backgroundcolor\":\"#E5ECF6\",\"gridcolor\":\"white\",\"linecolor\":\"white\",\"showbackground\":true,\"ticks\":\"\",\"zerolinecolor\":\"white\",\"gridwidth\":2}},\"shapedefaults\":{\"line\":{\"color\":\"#2a3f5f\"}},\"annotationdefaults\":{\"arrowcolor\":\"#2a3f5f\",\"arrowhead\":0,\"arrowwidth\":1},\"geo\":{\"bgcolor\":\"white\",\"landcolor\":\"#E5ECF6\",\"subunitcolor\":\"white\",\"showland\":true,\"showlakes\":true,\"lakecolor\":\"white\"},\"title\":{\"x\":0.05},\"mapbox\":{\"style\":\"light\"}}},\"xaxis\":{\"anchor\":\"y\",\"domain\":[0.0,1.0],\"title\":{\"text\":\"iteration\"}},\"yaxis\":{\"anchor\":\"x\",\"domain\":[0.0,1.0],\"title\":{\"text\":\"mae\"},\"range\":[0.0,5832.08443407938]},\"legend\":{\"title\":{\"text\":\"method\"},\"tracegroupgap\":0},\"margin\":{\"t\":60}},                        {\"responsive\": true}                    ).then(function(){\n",
       "                            \n",
       "var gd = document.getElementById('7a872fa0-897a-4c12-b2b2-e241d63acc16');\n",
       "var x = new MutationObserver(function (mutations, observer) {{\n",
       "        var display = window.getComputedStyle(gd).display;\n",
       "        if (!display || display === 'none') {{\n",
       "            console.log([gd, 'removed!']);\n",
       "            Plotly.purge(gd);\n",
       "            observer.disconnect();\n",
       "        }}\n",
       "}});\n",
       "\n",
       "// Listen for the removal of the full notebook cells\n",
       "var notebookContainer = gd.closest('#notebook-container');\n",
       "if (notebookContainer) {{\n",
       "    x.observe(notebookContainer, {childList: true});\n",
       "}}\n",
       "\n",
       "// Listen for the clearing of the current output cell\n",
       "var outputEl = gd.closest('.output');\n",
       "if (outputEl) {{\n",
       "    x.observe(outputEl, {childList: true});\n",
       "}}\n",
       "\n",
       "                        })                };                });            </script>        </div>"
      ]
     },
     "metadata": {},
     "output_type": "display_data"
    }
   ],
   "source": [
    "# import plotly.express as px\n",
    "from self_driving_lab_demo.utils.plotting import line\n",
    "\n",
    "fig = line(\n",
    "    data_frame=results_df,\n",
    "    x=\"iteration\",\n",
    "    y=\"mae\",\n",
    "    error_y=\"std\",\n",
    "    error_y_mode=\"band\",\n",
    "    color=\"method\",\n",
    ")\n",
    "max_y = (results_df[\"mae\"] + results_df[\"std\"]).max()\n",
    "fig.update_yaxes(range=[0.0, max_y*1.02])\n",
    "fig"
   ]
  },
  {
   "cell_type": "markdown",
   "metadata": {},
   "source": [
    "#### Example Output\n",
    "\n",
    "![bayes-opt](bayesian-optimization.png)"
   ]
  },
  {
   "cell_type": "markdown",
   "metadata": {},
   "source": [
    "## Repeat Measurement Stochasticity"
   ]
  },
  {
   "cell_type": "code",
   "execution_count": 42,
   "metadata": {},
   "outputs": [
    {
     "data": {
      "text/plain": [
       "(0.33460059837014133, 53, 211, 38)"
      ]
     },
     "execution_count": 42,
     "metadata": {},
     "output_type": "execute_result"
    }
   ],
   "source": [
    "sdls[0].get_target_inputs()"
   ]
  },
  {
   "cell_type": "code",
   "execution_count": 43,
   "metadata": {},
   "outputs": [
    {
     "data": {
      "text/plain": [
       "(725, 3680, 7084, 21221, 3924, 3668, 6416, 1724)"
      ]
     },
     "execution_count": 43,
     "metadata": {},
     "output_type": "execute_result"
    }
   ],
   "source": [
    "sdls[0].target_data"
   ]
  },
  {
   "cell_type": "code",
   "execution_count": 44,
   "metadata": {},
   "outputs": [],
   "source": [
    "check_data = []\n",
    "from time import sleep\n",
    "for _ in range(10):\n",
    "    check_data.append(sdls[0].evaluate(*sdls[0].get_target_inputs()))"
   ]
  },
  {
   "cell_type": "code",
   "execution_count": 45,
   "metadata": {},
   "outputs": [
    {
     "data": {
      "text/html": [
       "<div>\n",
       "<style scoped>\n",
       "    .dataframe tbody tr th:only-of-type {\n",
       "        vertical-align: middle;\n",
       "    }\n",
       "\n",
       "    .dataframe tbody tr th {\n",
       "        vertical-align: top;\n",
       "    }\n",
       "\n",
       "    .dataframe thead th {\n",
       "        text-align: right;\n",
       "    }\n",
       "</style>\n",
       "<table border=\"1\" class=\"dataframe\">\n",
       "  <thead>\n",
       "    <tr style=\"text-align: right;\">\n",
       "      <th></th>\n",
       "      <th>mean</th>\n",
       "      <th>std</th>\n",
       "    </tr>\n",
       "  </thead>\n",
       "  <tbody>\n",
       "    <tr>\n",
       "      <th>ch415_violet</th>\n",
       "      <td>539.000000</td>\n",
       "      <td>0.471405</td>\n",
       "    </tr>\n",
       "    <tr>\n",
       "      <th>ch445_indigo</th>\n",
       "      <td>3498.500000</td>\n",
       "      <td>4.222953</td>\n",
       "    </tr>\n",
       "    <tr>\n",
       "      <th>ch480_blue</th>\n",
       "      <td>6869.900000</td>\n",
       "      <td>2.469818</td>\n",
       "    </tr>\n",
       "    <tr>\n",
       "      <th>ch515_cyan</th>\n",
       "      <td>20969.400000</td>\n",
       "      <td>16.466802</td>\n",
       "    </tr>\n",
       "    <tr>\n",
       "      <th>ch560_green</th>\n",
       "      <td>3604.100000</td>\n",
       "      <td>2.378141</td>\n",
       "    </tr>\n",
       "    <tr>\n",
       "      <th>ch615_yellow</th>\n",
       "      <td>3244.800000</td>\n",
       "      <td>12.072006</td>\n",
       "    </tr>\n",
       "    <tr>\n",
       "      <th>ch670_orange</th>\n",
       "      <td>5844.100000</td>\n",
       "      <td>2.424413</td>\n",
       "    </tr>\n",
       "    <tr>\n",
       "      <th>ch720_red</th>\n",
       "      <td>823.600000</td>\n",
       "      <td>3.806427</td>\n",
       "    </tr>\n",
       "    <tr>\n",
       "      <th>mae</th>\n",
       "      <td>381.075000</td>\n",
       "      <td>3.752407</td>\n",
       "    </tr>\n",
       "    <tr>\n",
       "      <th>rmse</th>\n",
       "      <td>446.694532</td>\n",
       "      <td>2.234845</td>\n",
       "    </tr>\n",
       "  </tbody>\n",
       "</table>\n",
       "</div>"
      ],
      "text/plain": [
       "                      mean        std\n",
       "ch415_violet    539.000000   0.471405\n",
       "ch445_indigo   3498.500000   4.222953\n",
       "ch480_blue     6869.900000   2.469818\n",
       "ch515_cyan    20969.400000  16.466802\n",
       "ch560_green    3604.100000   2.378141\n",
       "ch615_yellow   3244.800000  12.072006\n",
       "ch670_orange   5844.100000   2.424413\n",
       "ch720_red       823.600000   3.806427\n",
       "mae             381.075000   3.752407\n",
       "rmse            446.694532   2.234845"
      ]
     },
     "execution_count": 45,
     "metadata": {},
     "output_type": "execute_result"
    }
   ],
   "source": [
    "pd.DataFrame(check_data).agg([np.mean, np.std]).T"
   ]
  },
  {
   "cell_type": "markdown",
   "metadata": {},
   "source": [
    "## Code Graveyard"
   ]
  },
  {
   "cell_type": "code",
   "execution_count": 31,
   "metadata": {},
   "outputs": [],
   "source": [
    "# for _ in trange(num_repeats):\n",
    "#     for params in tqdm(grid):\n",
    "#         sdl.evaluate(*params)\n",
    "\n",
    "# pd.concat((mae_df, std_df), axis=1, join=\"inner\")\n",
    "\n",
    "# best_parameters = []\n",
    "# values = []\n",
    "# experiment = []\n",
    "# model = []\n",
    "\n",
    "    # best_parameters.append(bp)\n",
    "    # values.append(v)\n",
    "    # experiment.append(exp)\n",
    "    # model.append(m)"
   ]
  }
 ],
 "metadata": {
  "kernelspec": {
   "display_name": "Python 3.9.12 ('sdl-demo')",
   "language": "python",
   "name": "python3"
  },
  "language_info": {
   "codemirror_mode": {
    "name": "ipython",
    "version": 3
   },
   "file_extension": ".py",
   "mimetype": "text/x-python",
   "name": "python",
   "nbconvert_exporter": "python",
   "pygments_lexer": "ipython3",
   "version": "3.9.13"
  },
  "orig_nbformat": 4,
  "vscode": {
   "interpreter": {
    "hash": "70cb6d4911b67e25d1487ebd620c5d1370239efaaf47f3851af44f5c5a26f988"
   }
  }
 },
 "nbformat": 4,
 "nbformat_minor": 2
}