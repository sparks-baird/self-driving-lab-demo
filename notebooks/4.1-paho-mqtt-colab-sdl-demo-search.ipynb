{
  "cells": [
    {
      "cell_type": "markdown",
      "metadata": {},
      "source": [
        "[![Open In Colab](https://colab.research.google.com/assets/colab-badge.svg)](https://colab.research.google.com/github/sparks-baird/self-driving-lab-demo/blob/main/notebooks/4.1-paho-mqtt-colab-sdl-demo-search.ipynb)"
      ]
    },
    {
      "cell_type": "markdown",
      "metadata": {
        "id": "3SqGTCMkhrC7"
      },
      "source": [
        "# Optimization Comparison using Internet of Things-style Communication\n",
        "\n",
        "The other device could be your laptop, a Google Colab script, etc."
      ]
    },
    {
      "cell_type": "code",
      "execution_count": 7,
      "metadata": {
        "id": "o2vqpULnaaWR"
      },
      "outputs": [],
      "source": [
        "try:\n",
        "  import google.colab\n",
        "  IN_COLAB = True\n",
        "except:\n",
        "  IN_COLAB = False  "
      ]
    },
    {
      "cell_type": "code",
      "execution_count": 8,
      "metadata": {
        "colab": {
          "base_uri": "https://localhost:8080/"
        },
        "id": "36C-UDjGemiM",
        "outputId": "7323469b-7573-4337-f238-7f54e8be0cfb"
      },
      "outputs": [],
      "source": [
        "if IN_COLAB:\n",
        "  %pip install self-driving-lab-demo[ax-platform] paho-mqtt"
      ]
    },
    {
      "cell_type": "markdown",
      "metadata": {
        "id": "KhLz9DT3etkG"
      },
      "source": [
        "## Pico ID\n",
        "\n",
        "Load a unique identifier for your Pico device from a `pico_id_secret.py` file that you store in your Google Drive (see below) or current directory (`.`), or specify it manually by setting the `PICO_ID` variable in the form field. If you don't know what the ID is, you can get it by running the following in the Pico REPL (i.e. MicroPython shell, e.g. in Thonny):\n",
        "```python\n",
        "from machine import unique_id\n",
        "from ubinascii import hexlify\n",
        "my_id = hexlify(unique_id()).decode()\n",
        "print(my_id)\n",
        "```\n",
        "\n",
        "For your convenience, this is done already in [`main.py`](https://github.com/sparks-baird/self-driving-lab-demo/blob/06ededd312087a815b5c0ac8098e82db9c5730c8/src/public_mqtt_sdl_demo/main.py) so you need only run this file once the Pico W has been properly set up and it will be displayed in the terminal.\n",
        "\n",
        "The file named `pico_id_secret.py` placed directly in your `MyDrive` folder or in your current directory would look like the following:\n",
        "```python\n",
        "PICO_ID = \"a123b1234azed\"\n",
        "```"
      ]
    },
    {
      "cell_type": "code",
      "execution_count": 9,
      "metadata": {
        "cellView": "form",
        "colab": {
          "base_uri": "https://localhost:8080/"
        },
        "id": "zs5raYNPfF1D",
        "outputId": "3575c2f7-7dff-4362-dc47-4de9e27604fb"
      },
      "outputs": [],
      "source": [
        "#@markdown No need to enter this manually if you've already saved the appropriate file to your Google Drive. Just run this cell and the hidden code will take care of it.\n",
        "import sys\n",
        "secret_name = \"PICO_ID\"\n",
        "if IN_COLAB:\n",
        "  try:\n",
        "    from google.colab import drive\n",
        "    drive.mount('/content/drive')\n",
        "    sys.path.append('/content/drive/MyDrive/')\n",
        "    from pico_id_secret import PICO_ID\n",
        "  except Exception as e:\n",
        "    print(e)\n",
        "    PICO_ID = \"test\" #@param {type:\"string\"}\n",
        "    if PICO_ID == \"\":\n",
        "      print(f\"Couldn't load {secret_name}, and user-input {secret_name} is also empty.\")\n",
        "    else:\n",
        "      print(f\"defaulting to user-input PICO_ID: {PICO_ID}\")\n",
        "else:\n",
        "  from public_mqtt_sdl_demo.secrets import PICO_ID"
      ]
    },
    {
      "cell_type": "code",
      "execution_count": 10,
      "metadata": {
        "colab": {
          "base_uri": "https://localhost:8080/"
        },
        "id": "trkRwC0zaPgB",
        "outputId": "ce939777-45b9-47ca-9ca2-634301a6d8b8"
      },
      "outputs": [],
      "source": [
        "from self_driving_lab_demo import SelfDrivingLabDemo, mqtt_observe_sensor_data\n",
        "\n",
        "sdl = SelfDrivingLabDemo(\n",
        "    autoload=True,\n",
        "    observe_sensor_data_fn=mqtt_observe_sensor_data,\n",
        "    observe_sensor_data_kwargs=dict(pico_id=PICO_ID),\n",
        ")\n",
        "sdl.clear()"
      ]
    },
    {
      "cell_type": "markdown",
      "metadata": {},
      "source": [
        "We've gone through enough boilerplate code and comparisons by this point that it's\n",
        "prudent to define and import helper functions based on content from previous notebooks\n",
        "(e.g. [`3.1-random-vs-grid-vs-bayesian.ipynb`](3.1-random-vs-grid-vs-bayesian.ipynb))"
      ]
    },
    {
      "cell_type": "code",
      "execution_count": 11,
      "metadata": {},
      "outputs": [
        {
          "data": {
            "text/plain": [
              "{'ch470': 4082,\n",
              " 'ch670': 2155,\n",
              " 'ch550': 1319,\n",
              " 'ch410': 629,\n",
              " 'ch440': 1778,\n",
              " '_input_message': {'_session_id': '9c2b8629-06cf-47ce-bbb9-5b571af968e0',\n",
              "  'R': 10,\n",
              "  'B': 10,\n",
              "  'G': 10,\n",
              "  '_experiment_id': 'b0e195bf-beff-4db7-89f7-d9e5dd381d94'},\n",
              " 'ch583': 1457,\n",
              " 'ch510': 1462,\n",
              " 'ch620': 1873,\n",
              " 'mae': 1995.875,\n",
              " 'rmse': 2872.929667604134,\n",
              " 'frechet': 3887.8946744992977}"
            ]
          },
          "execution_count": 11,
          "metadata": {},
          "output_type": "execute_result"
        }
      ],
      "source": [
        "sdl.evaluate(10, 10, 10)"
      ]
    },
    {
      "cell_type": "code",
      "execution_count": 12,
      "metadata": {
        "id": "D2HPBznJaVry"
      },
      "outputs": [
        {
          "name": "stderr",
          "output_type": "stream",
          "text": [
            "[INFO 09-12 13:13:04] ax.service.utils.instantiation: Inferred value type of ParameterType.INT for parameter R. If that is not the expected value type, you can explicity specify 'value_type' ('int', 'float', 'bool' or 'str') in parameter dict.\n",
            "[INFO 09-12 13:13:04] ax.service.utils.instantiation: Inferred value type of ParameterType.INT for parameter G. If that is not the expected value type, you can explicity specify 'value_type' ('int', 'float', 'bool' or 'str') in parameter dict.\n",
            "[INFO 09-12 13:13:04] ax.service.utils.instantiation: Inferred value type of ParameterType.INT for parameter B. If that is not the expected value type, you can explicity specify 'value_type' ('int', 'float', 'bool' or 'str') in parameter dict.\n",
            "[INFO 09-12 13:13:04] ax.service.utils.instantiation: Created search space: SearchSpace(parameters=[RangeParameter(name='R', parameter_type=INT, range=[0, 89]), RangeParameter(name='G', parameter_type=INT, range=[0, 89]), RangeParameter(name='B', parameter_type=INT, range=[0, 89])], parameter_constraints=[]).\n",
            "[INFO 09-12 13:13:04] ax.modelbridge.dispatch_utils: Using Bayesian optimization since there are more ordered parameters than there are categories for the unordered categorical parameters.\n",
            "[INFO 09-12 13:13:04] ax.modelbridge.dispatch_utils: Using Bayesian Optimization generation strategy: GenerationStrategy(name='Sobol+GPEI', steps=[Sobol for 6 trials, GPEI for subsequent trials]). Iterations after 6 will take longer to generate due to  model-fitting.\n",
            "[INFO 09-12 13:13:04] ax.service.managed_loop: Started full optimization with 64 steps.\n",
            "[INFO 09-12 13:13:04] ax.service.managed_loop: Running optimization trial 1...\n",
            "[INFO 09-12 13:13:08] ax.core.experiment: Attached data has some metrics ({'ch620', 'ch410', 'ch510', 'ch550', 'mae', 'ch583', 'rmse', 'ch670', 'ch440', 'ch470'}) that are not among the metrics on this experiment. Note that attaching data will not automatically add those metrics to the experiment. For these metrics to be automatically fetched by `experiment.fetch_data`, add them via `experiment.add_tracking_metric` or update the experiment's optimization config.\n",
            "[INFO 09-12 13:13:08] ax.service.managed_loop: Running optimization trial 2...\n",
            "[INFO 09-12 13:13:11] ax.core.experiment: Attached data has some metrics ({'ch620', 'ch410', 'ch510', 'ch550', 'mae', 'ch583', 'rmse', 'ch670', 'ch440', 'ch470'}) that are not among the metrics on this experiment. Note that attaching data will not automatically add those metrics to the experiment. For these metrics to be automatically fetched by `experiment.fetch_data`, add them via `experiment.add_tracking_metric` or update the experiment's optimization config.\n",
            "[INFO 09-12 13:13:11] ax.service.managed_loop: Running optimization trial 3...\n",
            "[INFO 09-12 13:13:14] ax.core.experiment: Attached data has some metrics ({'ch620', 'ch410', 'ch510', 'ch550', 'mae', 'ch583', 'rmse', 'ch670', 'ch440', 'ch470'}) that are not among the metrics on this experiment. Note that attaching data will not automatically add those metrics to the experiment. For these metrics to be automatically fetched by `experiment.fetch_data`, add them via `experiment.add_tracking_metric` or update the experiment's optimization config.\n",
            "[INFO 09-12 13:13:14] ax.service.managed_loop: Running optimization trial 4...\n",
            "[INFO 09-12 13:13:18] ax.core.experiment: Attached data has some metrics ({'ch620', 'ch410', 'ch510', 'ch550', 'mae', 'ch583', 'rmse', 'ch670', 'ch440', 'ch470'}) that are not among the metrics on this experiment. Note that attaching data will not automatically add those metrics to the experiment. For these metrics to be automatically fetched by `experiment.fetch_data`, add them via `experiment.add_tracking_metric` or update the experiment's optimization config.\n",
            "[INFO 09-12 13:13:18] ax.service.managed_loop: Running optimization trial 5...\n",
            "[INFO 09-12 13:13:21] ax.core.experiment: Attached data has some metrics ({'ch620', 'ch410', 'ch510', 'ch550', 'mae', 'ch583', 'rmse', 'ch670', 'ch440', 'ch470'}) that are not among the metrics on this experiment. Note that attaching data will not automatically add those metrics to the experiment. For these metrics to be automatically fetched by `experiment.fetch_data`, add them via `experiment.add_tracking_metric` or update the experiment's optimization config.\n",
            "[INFO 09-12 13:13:21] ax.service.managed_loop: Running optimization trial 6...\n",
            "[INFO 09-12 13:13:24] ax.core.experiment: Attached data has some metrics ({'ch620', 'ch410', 'ch510', 'ch550', 'mae', 'ch583', 'rmse', 'ch670', 'ch440', 'ch470'}) that are not among the metrics on this experiment. Note that attaching data will not automatically add those metrics to the experiment. For these metrics to be automatically fetched by `experiment.fetch_data`, add them via `experiment.add_tracking_metric` or update the experiment's optimization config.\n",
            "[INFO 09-12 13:13:24] ax.service.managed_loop: Running optimization trial 7...\n",
            "c:\\Users\\sterg\\Miniconda3\\envs\\sdl-demo\\lib\\site-packages\\gpytorch\\lazy\\lazy_tensor.py:1811: UserWarning: torch.triangular_solve is deprecated in favor of torch.linalg.solve_triangularand will be removed in a future PyTorch release.\n",
            "torch.linalg.solve_triangular has its arguments reversed and does not return a copy of one of the inputs.\n",
            "X = torch.triangular_solve(B, A).solution\n",
            "should be replaced with\n",
            "X = torch.linalg.solve_triangular(A, B). (Triggered internally at  C:\\actions-runner\\_work\\pytorch\\pytorch\\builder\\windows\\pytorch\\aten\\src\\ATen\\native\\BatchLinearAlgebra.cpp:2189.)\n",
            "  Linv = torch.triangular_solve(Eye, L, upper=False).solution\n",
            "[INFO 09-12 13:13:29] ax.core.experiment: Attached data has some metrics ({'ch620', 'ch410', 'ch510', 'ch550', 'mae', 'ch583', 'rmse', 'ch670', 'ch440', 'ch470'}) that are not among the metrics on this experiment. Note that attaching data will not automatically add those metrics to the experiment. For these metrics to be automatically fetched by `experiment.fetch_data`, add them via `experiment.add_tracking_metric` or update the experiment's optimization config.\n",
            "[INFO 09-12 13:13:29] ax.service.managed_loop: Running optimization trial 8...\n",
            "[INFO 09-12 13:13:34] ax.core.experiment: Attached data has some metrics ({'ch620', 'ch410', 'ch510', 'ch550', 'mae', 'ch583', 'rmse', 'ch670', 'ch440', 'ch470'}) that are not among the metrics on this experiment. Note that attaching data will not automatically add those metrics to the experiment. For these metrics to be automatically fetched by `experiment.fetch_data`, add them via `experiment.add_tracking_metric` or update the experiment's optimization config.\n",
            "[INFO 09-12 13:13:34] ax.service.managed_loop: Running optimization trial 9...\n",
            "[INFO 09-12 13:13:40] ax.core.experiment: Attached data has some metrics ({'ch620', 'ch410', 'ch510', 'ch550', 'mae', 'ch583', 'rmse', 'ch670', 'ch440', 'ch470'}) that are not among the metrics on this experiment. Note that attaching data will not automatically add those metrics to the experiment. For these metrics to be automatically fetched by `experiment.fetch_data`, add them via `experiment.add_tracking_metric` or update the experiment's optimization config.\n",
            "[INFO 09-12 13:13:40] ax.service.managed_loop: Running optimization trial 10...\n",
            "[INFO 09-12 13:13:46] ax.core.experiment: Attached data has some metrics ({'ch620', 'ch410', 'ch510', 'ch550', 'mae', 'ch583', 'rmse', 'ch670', 'ch440', 'ch470'}) that are not among the metrics on this experiment. Note that attaching data will not automatically add those metrics to the experiment. For these metrics to be automatically fetched by `experiment.fetch_data`, add them via `experiment.add_tracking_metric` or update the experiment's optimization config.\n",
            "[INFO 09-12 13:13:46] ax.service.managed_loop: Running optimization trial 11...\n",
            "[INFO 09-12 13:13:54] ax.core.experiment: Attached data has some metrics ({'ch620', 'ch410', 'ch510', 'ch550', 'mae', 'ch583', 'rmse', 'ch670', 'ch440', 'ch470'}) that are not among the metrics on this experiment. Note that attaching data will not automatically add those metrics to the experiment. For these metrics to be automatically fetched by `experiment.fetch_data`, add them via `experiment.add_tracking_metric` or update the experiment's optimization config.\n",
            "[INFO 09-12 13:13:54] ax.service.managed_loop: Running optimization trial 12...\n",
            "[INFO 09-12 13:14:02] ax.core.experiment: Attached data has some metrics ({'ch620', 'ch410', 'ch510', 'ch550', 'mae', 'ch583', 'rmse', 'ch670', 'ch440', 'ch470'}) that are not among the metrics on this experiment. Note that attaching data will not automatically add those metrics to the experiment. For these metrics to be automatically fetched by `experiment.fetch_data`, add them via `experiment.add_tracking_metric` or update the experiment's optimization config.\n",
            "[INFO 09-12 13:14:02] ax.service.managed_loop: Running optimization trial 13...\n",
            "[INFO 09-12 13:14:09] ax.core.experiment: Attached data has some metrics ({'ch620', 'ch410', 'ch510', 'ch550', 'mae', 'ch583', 'rmse', 'ch670', 'ch440', 'ch470'}) that are not among the metrics on this experiment. Note that attaching data will not automatically add those metrics to the experiment. For these metrics to be automatically fetched by `experiment.fetch_data`, add them via `experiment.add_tracking_metric` or update the experiment's optimization config.\n",
            "[INFO 09-12 13:14:09] ax.service.managed_loop: Running optimization trial 14...\n",
            "[INFO 09-12 13:14:16] ax.core.experiment: Attached data has some metrics ({'ch620', 'ch410', 'ch510', 'ch550', 'mae', 'ch583', 'rmse', 'ch670', 'ch440', 'ch470'}) that are not among the metrics on this experiment. Note that attaching data will not automatically add those metrics to the experiment. For these metrics to be automatically fetched by `experiment.fetch_data`, add them via `experiment.add_tracking_metric` or update the experiment's optimization config.\n",
            "[INFO 09-12 13:14:16] ax.service.managed_loop: Running optimization trial 15...\n",
            "[INFO 09-12 13:14:25] ax.core.experiment: Attached data has some metrics ({'ch620', 'ch410', 'ch510', 'ch550', 'mae', 'ch583', 'rmse', 'ch670', 'ch440', 'ch470'}) that are not among the metrics on this experiment. Note that attaching data will not automatically add those metrics to the experiment. For these metrics to be automatically fetched by `experiment.fetch_data`, add them via `experiment.add_tracking_metric` or update the experiment's optimization config.\n",
            "[INFO 09-12 13:14:25] ax.service.managed_loop: Running optimization trial 16...\n",
            "[INFO 09-12 13:14:34] ax.core.experiment: Attached data has some metrics ({'ch620', 'ch410', 'ch510', 'ch550', 'mae', 'ch583', 'rmse', 'ch670', 'ch440', 'ch470'}) that are not among the metrics on this experiment. Note that attaching data will not automatically add those metrics to the experiment. For these metrics to be automatically fetched by `experiment.fetch_data`, add them via `experiment.add_tracking_metric` or update the experiment's optimization config.\n",
            "[INFO 09-12 13:14:34] ax.service.managed_loop: Running optimization trial 17...\n",
            "[INFO 09-12 13:14:41] ax.core.experiment: Attached data has some metrics ({'ch620', 'ch410', 'ch510', 'ch550', 'mae', 'ch583', 'rmse', 'ch670', 'ch440', 'ch470'}) that are not among the metrics on this experiment. Note that attaching data will not automatically add those metrics to the experiment. For these metrics to be automatically fetched by `experiment.fetch_data`, add them via `experiment.add_tracking_metric` or update the experiment's optimization config.\n",
            "[INFO 09-12 13:14:41] ax.service.managed_loop: Running optimization trial 18...\n",
            "[INFO 09-12 13:14:49] ax.core.experiment: Attached data has some metrics ({'ch620', 'ch410', 'ch510', 'ch550', 'mae', 'ch583', 'rmse', 'ch670', 'ch440', 'ch470'}) that are not among the metrics on this experiment. Note that attaching data will not automatically add those metrics to the experiment. For these metrics to be automatically fetched by `experiment.fetch_data`, add them via `experiment.add_tracking_metric` or update the experiment's optimization config.\n",
            "[INFO 09-12 13:14:49] ax.service.managed_loop: Running optimization trial 19...\n",
            "[INFO 09-12 13:14:57] ax.core.experiment: Attached data has some metrics ({'ch620', 'ch410', 'ch510', 'ch550', 'mae', 'ch583', 'rmse', 'ch670', 'ch440', 'ch470'}) that are not among the metrics on this experiment. Note that attaching data will not automatically add those metrics to the experiment. For these metrics to be automatically fetched by `experiment.fetch_data`, add them via `experiment.add_tracking_metric` or update the experiment's optimization config.\n",
            "[INFO 09-12 13:14:57] ax.service.managed_loop: Running optimization trial 20...\n",
            "[INFO 09-12 13:15:10] ax.core.experiment: Attached data has some metrics ({'ch620', 'ch410', 'ch510', 'ch550', 'mae', 'ch583', 'rmse', 'ch670', 'ch440', 'ch470'}) that are not among the metrics on this experiment. Note that attaching data will not automatically add those metrics to the experiment. For these metrics to be automatically fetched by `experiment.fetch_data`, add them via `experiment.add_tracking_metric` or update the experiment's optimization config.\n",
            "[INFO 09-12 13:15:10] ax.service.managed_loop: Running optimization trial 21...\n",
            "[INFO 09-12 13:15:17] ax.core.experiment: Attached data has some metrics ({'ch620', 'ch410', 'ch510', 'ch550', 'mae', 'ch583', 'rmse', 'ch670', 'ch440', 'ch470'}) that are not among the metrics on this experiment. Note that attaching data will not automatically add those metrics to the experiment. For these metrics to be automatically fetched by `experiment.fetch_data`, add them via `experiment.add_tracking_metric` or update the experiment's optimization config.\n",
            "[INFO 09-12 13:15:17] ax.service.managed_loop: Running optimization trial 22...\n",
            "[INFO 09-12 13:15:24] ax.core.experiment: Attached data has some metrics ({'ch620', 'ch410', 'ch510', 'ch550', 'mae', 'ch583', 'rmse', 'ch670', 'ch440', 'ch470'}) that are not among the metrics on this experiment. Note that attaching data will not automatically add those metrics to the experiment. For these metrics to be automatically fetched by `experiment.fetch_data`, add them via `experiment.add_tracking_metric` or update the experiment's optimization config.\n",
            "[INFO 09-12 13:15:24] ax.service.managed_loop: Running optimization trial 23...\n",
            "[INFO 09-12 13:15:33] ax.core.experiment: Attached data has some metrics ({'ch620', 'ch410', 'ch510', 'ch550', 'mae', 'ch583', 'rmse', 'ch670', 'ch440', 'ch470'}) that are not among the metrics on this experiment. Note that attaching data will not automatically add those metrics to the experiment. For these metrics to be automatically fetched by `experiment.fetch_data`, add them via `experiment.add_tracking_metric` or update the experiment's optimization config.\n",
            "[INFO 09-12 13:15:33] ax.service.managed_loop: Running optimization trial 24...\n",
            "[INFO 09-12 13:15:40] ax.core.experiment: Attached data has some metrics ({'ch620', 'ch410', 'ch510', 'ch550', 'mae', 'ch583', 'rmse', 'ch670', 'ch440', 'ch470'}) that are not among the metrics on this experiment. Note that attaching data will not automatically add those metrics to the experiment. For these metrics to be automatically fetched by `experiment.fetch_data`, add them via `experiment.add_tracking_metric` or update the experiment's optimization config.\n",
            "[INFO 09-12 13:15:40] ax.service.managed_loop: Running optimization trial 25...\n",
            "[INFO 09-12 13:15:48] ax.core.experiment: Attached data has some metrics ({'ch620', 'ch410', 'ch510', 'ch550', 'mae', 'ch583', 'rmse', 'ch670', 'ch440', 'ch470'}) that are not among the metrics on this experiment. Note that attaching data will not automatically add those metrics to the experiment. For these metrics to be automatically fetched by `experiment.fetch_data`, add them via `experiment.add_tracking_metric` or update the experiment's optimization config.\n",
            "[INFO 09-12 13:15:48] ax.service.managed_loop: Running optimization trial 26...\n",
            "[INFO 09-12 13:15:55] ax.core.experiment: Attached data has some metrics ({'ch620', 'ch410', 'ch510', 'ch550', 'mae', 'ch583', 'rmse', 'ch670', 'ch440', 'ch470'}) that are not among the metrics on this experiment. Note that attaching data will not automatically add those metrics to the experiment. For these metrics to be automatically fetched by `experiment.fetch_data`, add them via `experiment.add_tracking_metric` or update the experiment's optimization config.\n",
            "[INFO 09-12 13:15:55] ax.service.managed_loop: Running optimization trial 27...\n",
            "[INFO 09-12 13:16:01] ax.core.experiment: Attached data has some metrics ({'ch620', 'ch410', 'ch510', 'ch550', 'mae', 'ch583', 'rmse', 'ch670', 'ch440', 'ch470'}) that are not among the metrics on this experiment. Note that attaching data will not automatically add those metrics to the experiment. For these metrics to be automatically fetched by `experiment.fetch_data`, add them via `experiment.add_tracking_metric` or update the experiment's optimization config.\n",
            "[INFO 09-12 13:16:01] ax.service.managed_loop: Running optimization trial 28...\n",
            "[INFO 09-12 13:16:08] ax.core.experiment: Attached data has some metrics ({'ch620', 'ch410', 'ch510', 'ch550', 'mae', 'ch583', 'rmse', 'ch670', 'ch440', 'ch470'}) that are not among the metrics on this experiment. Note that attaching data will not automatically add those metrics to the experiment. For these metrics to be automatically fetched by `experiment.fetch_data`, add them via `experiment.add_tracking_metric` or update the experiment's optimization config.\n",
            "[INFO 09-12 13:16:08] ax.service.managed_loop: Running optimization trial 29...\n",
            "[INFO 09-12 13:16:15] ax.core.experiment: Attached data has some metrics ({'ch620', 'ch410', 'ch510', 'ch550', 'mae', 'ch583', 'rmse', 'ch670', 'ch440', 'ch470'}) that are not among the metrics on this experiment. Note that attaching data will not automatically add those metrics to the experiment. For these metrics to be automatically fetched by `experiment.fetch_data`, add them via `experiment.add_tracking_metric` or update the experiment's optimization config.\n",
            "[INFO 09-12 13:16:15] ax.service.managed_loop: Running optimization trial 30...\n",
            "[INFO 09-12 13:16:22] ax.core.experiment: Attached data has some metrics ({'ch620', 'ch410', 'ch510', 'ch550', 'mae', 'ch583', 'rmse', 'ch670', 'ch440', 'ch470'}) that are not among the metrics on this experiment. Note that attaching data will not automatically add those metrics to the experiment. For these metrics to be automatically fetched by `experiment.fetch_data`, add them via `experiment.add_tracking_metric` or update the experiment's optimization config.\n",
            "[INFO 09-12 13:16:22] ax.service.managed_loop: Running optimization trial 31...\n",
            "[INFO 09-12 13:16:30] ax.core.experiment: Attached data has some metrics ({'ch620', 'ch410', 'ch510', 'ch550', 'mae', 'ch583', 'rmse', 'ch670', 'ch440', 'ch470'}) that are not among the metrics on this experiment. Note that attaching data will not automatically add those metrics to the experiment. For these metrics to be automatically fetched by `experiment.fetch_data`, add them via `experiment.add_tracking_metric` or update the experiment's optimization config.\n",
            "[INFO 09-12 13:16:30] ax.service.managed_loop: Running optimization trial 32...\n",
            "[INFO 09-12 13:16:36] ax.core.experiment: Attached data has some metrics ({'ch620', 'ch410', 'ch510', 'ch550', 'mae', 'ch583', 'rmse', 'ch670', 'ch440', 'ch470'}) that are not among the metrics on this experiment. Note that attaching data will not automatically add those metrics to the experiment. For these metrics to be automatically fetched by `experiment.fetch_data`, add them via `experiment.add_tracking_metric` or update the experiment's optimization config.\n",
            "[INFO 09-12 13:16:36] ax.service.managed_loop: Running optimization trial 33...\n",
            "[INFO 09-12 13:16:43] ax.core.experiment: Attached data has some metrics ({'ch620', 'ch410', 'ch510', 'ch550', 'mae', 'ch583', 'rmse', 'ch670', 'ch440', 'ch470'}) that are not among the metrics on this experiment. Note that attaching data will not automatically add those metrics to the experiment. For these metrics to be automatically fetched by `experiment.fetch_data`, add them via `experiment.add_tracking_metric` or update the experiment's optimization config.\n",
            "[INFO 09-12 13:16:43] ax.service.managed_loop: Running optimization trial 34...\n",
            "[INFO 09-12 13:16:51] ax.core.experiment: Attached data has some metrics ({'ch620', 'ch410', 'ch510', 'ch550', 'mae', 'ch583', 'rmse', 'ch670', 'ch440', 'ch470'}) that are not among the metrics on this experiment. Note that attaching data will not automatically add those metrics to the experiment. For these metrics to be automatically fetched by `experiment.fetch_data`, add them via `experiment.add_tracking_metric` or update the experiment's optimization config.\n",
            "[INFO 09-12 13:16:51] ax.service.managed_loop: Running optimization trial 35...\n",
            "[INFO 09-12 13:16:58] ax.core.experiment: Attached data has some metrics ({'ch620', 'ch410', 'ch510', 'ch550', 'mae', 'ch583', 'rmse', 'ch670', 'ch440', 'ch470'}) that are not among the metrics on this experiment. Note that attaching data will not automatically add those metrics to the experiment. For these metrics to be automatically fetched by `experiment.fetch_data`, add them via `experiment.add_tracking_metric` or update the experiment's optimization config.\n",
            "[INFO 09-12 13:16:58] ax.service.managed_loop: Running optimization trial 36...\n",
            "[INFO 09-12 13:17:04] ax.core.experiment: Attached data has some metrics ({'ch620', 'ch410', 'ch510', 'ch550', 'mae', 'ch583', 'rmse', 'ch670', 'ch440', 'ch470'}) that are not among the metrics on this experiment. Note that attaching data will not automatically add those metrics to the experiment. For these metrics to be automatically fetched by `experiment.fetch_data`, add them via `experiment.add_tracking_metric` or update the experiment's optimization config.\n",
            "[INFO 09-12 13:17:04] ax.service.managed_loop: Running optimization trial 37...\n",
            "[INFO 09-12 13:17:11] ax.core.experiment: Attached data has some metrics ({'ch620', 'ch410', 'ch510', 'ch550', 'mae', 'ch583', 'rmse', 'ch670', 'ch440', 'ch470'}) that are not among the metrics on this experiment. Note that attaching data will not automatically add those metrics to the experiment. For these metrics to be automatically fetched by `experiment.fetch_data`, add them via `experiment.add_tracking_metric` or update the experiment's optimization config.\n",
            "[INFO 09-12 13:17:11] ax.service.managed_loop: Running optimization trial 38...\n",
            "[INFO 09-12 13:17:18] ax.core.experiment: Attached data has some metrics ({'ch620', 'ch410', 'ch510', 'ch550', 'mae', 'ch583', 'rmse', 'ch670', 'ch440', 'ch470'}) that are not among the metrics on this experiment. Note that attaching data will not automatically add those metrics to the experiment. For these metrics to be automatically fetched by `experiment.fetch_data`, add them via `experiment.add_tracking_metric` or update the experiment's optimization config.\n",
            "[INFO 09-12 13:17:18] ax.service.managed_loop: Running optimization trial 39...\n",
            "[INFO 09-12 13:17:25] ax.core.experiment: Attached data has some metrics ({'ch620', 'ch410', 'ch510', 'ch550', 'mae', 'ch583', 'rmse', 'ch670', 'ch440', 'ch470'}) that are not among the metrics on this experiment. Note that attaching data will not automatically add those metrics to the experiment. For these metrics to be automatically fetched by `experiment.fetch_data`, add them via `experiment.add_tracking_metric` or update the experiment's optimization config.\n",
            "[INFO 09-12 13:17:25] ax.service.managed_loop: Running optimization trial 40...\n",
            "[INFO 09-12 13:17:33] ax.core.experiment: Attached data has some metrics ({'ch620', 'ch410', 'ch510', 'ch550', 'mae', 'ch583', 'rmse', 'ch670', 'ch440', 'ch470'}) that are not among the metrics on this experiment. Note that attaching data will not automatically add those metrics to the experiment. For these metrics to be automatically fetched by `experiment.fetch_data`, add them via `experiment.add_tracking_metric` or update the experiment's optimization config.\n",
            "[INFO 09-12 13:17:33] ax.service.managed_loop: Running optimization trial 41...\n",
            "[INFO 09-12 13:17:39] ax.core.experiment: Attached data has some metrics ({'ch620', 'ch410', 'ch510', 'ch550', 'mae', 'ch583', 'rmse', 'ch670', 'ch440', 'ch470'}) that are not among the metrics on this experiment. Note that attaching data will not automatically add those metrics to the experiment. For these metrics to be automatically fetched by `experiment.fetch_data`, add them via `experiment.add_tracking_metric` or update the experiment's optimization config.\n",
            "[INFO 09-12 13:17:39] ax.service.managed_loop: Running optimization trial 42...\n",
            "[INFO 09-12 13:17:46] ax.core.experiment: Attached data has some metrics ({'ch620', 'ch410', 'ch510', 'ch550', 'mae', 'ch583', 'rmse', 'ch670', 'ch440', 'ch470'}) that are not among the metrics on this experiment. Note that attaching data will not automatically add those metrics to the experiment. For these metrics to be automatically fetched by `experiment.fetch_data`, add them via `experiment.add_tracking_metric` or update the experiment's optimization config.\n",
            "[INFO 09-12 13:17:46] ax.service.managed_loop: Running optimization trial 43...\n",
            "[INFO 09-12 13:17:53] ax.core.experiment: Attached data has some metrics ({'ch620', 'ch410', 'ch510', 'ch550', 'mae', 'ch583', 'rmse', 'ch670', 'ch440', 'ch470'}) that are not among the metrics on this experiment. Note that attaching data will not automatically add those metrics to the experiment. For these metrics to be automatically fetched by `experiment.fetch_data`, add them via `experiment.add_tracking_metric` or update the experiment's optimization config.\n",
            "[INFO 09-12 13:17:53] ax.service.managed_loop: Running optimization trial 44...\n",
            "[INFO 09-12 13:18:00] ax.core.experiment: Attached data has some metrics ({'ch620', 'ch410', 'ch510', 'ch550', 'mae', 'ch583', 'rmse', 'ch670', 'ch440', 'ch470'}) that are not among the metrics on this experiment. Note that attaching data will not automatically add those metrics to the experiment. For these metrics to be automatically fetched by `experiment.fetch_data`, add them via `experiment.add_tracking_metric` or update the experiment's optimization config.\n",
            "[INFO 09-12 13:18:00] ax.service.managed_loop: Running optimization trial 45...\n",
            "[INFO 09-12 13:18:07] ax.core.experiment: Attached data has some metrics ({'ch620', 'ch410', 'ch510', 'ch550', 'mae', 'ch583', 'rmse', 'ch670', 'ch440', 'ch470'}) that are not among the metrics on this experiment. Note that attaching data will not automatically add those metrics to the experiment. For these metrics to be automatically fetched by `experiment.fetch_data`, add them via `experiment.add_tracking_metric` or update the experiment's optimization config.\n",
            "[INFO 09-12 13:18:07] ax.service.managed_loop: Running optimization trial 46...\n",
            "[INFO 09-12 13:18:13] ax.core.experiment: Attached data has some metrics ({'ch620', 'ch410', 'ch510', 'ch550', 'mae', 'ch583', 'rmse', 'ch670', 'ch440', 'ch470'}) that are not among the metrics on this experiment. Note that attaching data will not automatically add those metrics to the experiment. For these metrics to be automatically fetched by `experiment.fetch_data`, add them via `experiment.add_tracking_metric` or update the experiment's optimization config.\n",
            "[INFO 09-12 13:18:13] ax.service.managed_loop: Running optimization trial 47...\n",
            "[INFO 09-12 13:18:19] ax.core.experiment: Attached data has some metrics ({'ch620', 'ch410', 'ch510', 'ch550', 'mae', 'ch583', 'rmse', 'ch670', 'ch440', 'ch470'}) that are not among the metrics on this experiment. Note that attaching data will not automatically add those metrics to the experiment. For these metrics to be automatically fetched by `experiment.fetch_data`, add them via `experiment.add_tracking_metric` or update the experiment's optimization config.\n",
            "[INFO 09-12 13:18:19] ax.service.managed_loop: Running optimization trial 48...\n",
            "[INFO 09-12 13:18:25] ax.core.experiment: Attached data has some metrics ({'ch620', 'ch410', 'ch510', 'ch550', 'mae', 'ch583', 'rmse', 'ch670', 'ch440', 'ch470'}) that are not among the metrics on this experiment. Note that attaching data will not automatically add those metrics to the experiment. For these metrics to be automatically fetched by `experiment.fetch_data`, add them via `experiment.add_tracking_metric` or update the experiment's optimization config.\n",
            "[INFO 09-12 13:18:25] ax.service.managed_loop: Running optimization trial 49...\n",
            "[INFO 09-12 13:18:32] ax.core.experiment: Attached data has some metrics ({'ch620', 'ch410', 'ch510', 'ch550', 'mae', 'ch583', 'rmse', 'ch670', 'ch440', 'ch470'}) that are not among the metrics on this experiment. Note that attaching data will not automatically add those metrics to the experiment. For these metrics to be automatically fetched by `experiment.fetch_data`, add them via `experiment.add_tracking_metric` or update the experiment's optimization config.\n",
            "[INFO 09-12 13:18:32] ax.service.managed_loop: Running optimization trial 50...\n",
            "[INFO 09-12 13:18:39] ax.core.experiment: Attached data has some metrics ({'ch620', 'ch410', 'ch510', 'ch550', 'mae', 'ch583', 'rmse', 'ch670', 'ch440', 'ch470'}) that are not among the metrics on this experiment. Note that attaching data will not automatically add those metrics to the experiment. For these metrics to be automatically fetched by `experiment.fetch_data`, add them via `experiment.add_tracking_metric` or update the experiment's optimization config.\n",
            "[INFO 09-12 13:18:39] ax.service.managed_loop: Running optimization trial 51...\n",
            "[INFO 09-12 13:18:46] ax.core.experiment: Attached data has some metrics ({'ch620', 'ch410', 'ch510', 'ch550', 'mae', 'ch583', 'rmse', 'ch670', 'ch440', 'ch470'}) that are not among the metrics on this experiment. Note that attaching data will not automatically add those metrics to the experiment. For these metrics to be automatically fetched by `experiment.fetch_data`, add them via `experiment.add_tracking_metric` or update the experiment's optimization config.\n",
            "[INFO 09-12 13:18:46] ax.service.managed_loop: Running optimization trial 52...\n",
            "[INFO 09-12 13:18:52] ax.core.experiment: Attached data has some metrics ({'ch620', 'ch410', 'ch510', 'ch550', 'mae', 'ch583', 'rmse', 'ch670', 'ch440', 'ch470'}) that are not among the metrics on this experiment. Note that attaching data will not automatically add those metrics to the experiment. For these metrics to be automatically fetched by `experiment.fetch_data`, add them via `experiment.add_tracking_metric` or update the experiment's optimization config.\n",
            "[INFO 09-12 13:18:52] ax.service.managed_loop: Running optimization trial 53...\n",
            "[INFO 09-12 13:18:59] ax.core.experiment: Attached data has some metrics ({'ch620', 'ch410', 'ch510', 'ch550', 'mae', 'ch583', 'rmse', 'ch670', 'ch440', 'ch470'}) that are not among the metrics on this experiment. Note that attaching data will not automatically add those metrics to the experiment. For these metrics to be automatically fetched by `experiment.fetch_data`, add them via `experiment.add_tracking_metric` or update the experiment's optimization config.\n",
            "[INFO 09-12 13:18:59] ax.service.managed_loop: Running optimization trial 54...\n",
            "[INFO 09-12 13:19:06] ax.core.experiment: Attached data has some metrics ({'ch620', 'ch410', 'ch510', 'ch550', 'mae', 'ch583', 'rmse', 'ch670', 'ch440', 'ch470'}) that are not among the metrics on this experiment. Note that attaching data will not automatically add those metrics to the experiment. For these metrics to be automatically fetched by `experiment.fetch_data`, add them via `experiment.add_tracking_metric` or update the experiment's optimization config.\n",
            "[INFO 09-12 13:19:06] ax.service.managed_loop: Running optimization trial 55...\n",
            "[INFO 09-12 13:19:13] ax.core.experiment: Attached data has some metrics ({'ch620', 'ch410', 'ch510', 'ch550', 'mae', 'ch583', 'rmse', 'ch670', 'ch440', 'ch470'}) that are not among the metrics on this experiment. Note that attaching data will not automatically add those metrics to the experiment. For these metrics to be automatically fetched by `experiment.fetch_data`, add them via `experiment.add_tracking_metric` or update the experiment's optimization config.\n",
            "[INFO 09-12 13:19:13] ax.service.managed_loop: Running optimization trial 56...\n",
            "[INFO 09-12 13:19:20] ax.core.experiment: Attached data has some metrics ({'ch620', 'ch410', 'ch510', 'ch550', 'mae', 'ch583', 'rmse', 'ch670', 'ch440', 'ch470'}) that are not among the metrics on this experiment. Note that attaching data will not automatically add those metrics to the experiment. For these metrics to be automatically fetched by `experiment.fetch_data`, add them via `experiment.add_tracking_metric` or update the experiment's optimization config.\n",
            "[INFO 09-12 13:19:20] ax.service.managed_loop: Running optimization trial 57...\n",
            "[INFO 09-12 13:19:28] ax.core.experiment: Attached data has some metrics ({'ch620', 'ch410', 'ch510', 'ch550', 'mae', 'ch583', 'rmse', 'ch670', 'ch440', 'ch470'}) that are not among the metrics on this experiment. Note that attaching data will not automatically add those metrics to the experiment. For these metrics to be automatically fetched by `experiment.fetch_data`, add them via `experiment.add_tracking_metric` or update the experiment's optimization config.\n",
            "[INFO 09-12 13:19:28] ax.service.managed_loop: Running optimization trial 58...\n",
            "[INFO 09-12 13:19:35] ax.core.experiment: Attached data has some metrics ({'ch620', 'ch410', 'ch510', 'ch550', 'mae', 'ch583', 'rmse', 'ch670', 'ch440', 'ch470'}) that are not among the metrics on this experiment. Note that attaching data will not automatically add those metrics to the experiment. For these metrics to be automatically fetched by `experiment.fetch_data`, add them via `experiment.add_tracking_metric` or update the experiment's optimization config.\n",
            "[INFO 09-12 13:19:35] ax.service.managed_loop: Running optimization trial 59...\n",
            "[INFO 09-12 13:19:42] ax.core.experiment: Attached data has some metrics ({'ch620', 'ch410', 'ch510', 'ch550', 'mae', 'ch583', 'rmse', 'ch670', 'ch440', 'ch470'}) that are not among the metrics on this experiment. Note that attaching data will not automatically add those metrics to the experiment. For these metrics to be automatically fetched by `experiment.fetch_data`, add them via `experiment.add_tracking_metric` or update the experiment's optimization config.\n",
            "[INFO 09-12 13:19:42] ax.service.managed_loop: Running optimization trial 60...\n",
            "[INFO 09-12 13:19:49] ax.core.experiment: Attached data has some metrics ({'ch620', 'ch410', 'ch510', 'ch550', 'mae', 'ch583', 'rmse', 'ch670', 'ch440', 'ch470'}) that are not among the metrics on this experiment. Note that attaching data will not automatically add those metrics to the experiment. For these metrics to be automatically fetched by `experiment.fetch_data`, add them via `experiment.add_tracking_metric` or update the experiment's optimization config.\n",
            "[INFO 09-12 13:19:49] ax.service.managed_loop: Running optimization trial 61...\n",
            "[INFO 09-12 13:19:56] ax.core.experiment: Attached data has some metrics ({'ch620', 'ch410', 'ch510', 'ch550', 'mae', 'ch583', 'rmse', 'ch670', 'ch440', 'ch470'}) that are not among the metrics on this experiment. Note that attaching data will not automatically add those metrics to the experiment. For these metrics to be automatically fetched by `experiment.fetch_data`, add them via `experiment.add_tracking_metric` or update the experiment's optimization config.\n",
            "[INFO 09-12 13:19:56] ax.service.managed_loop: Running optimization trial 62...\n",
            "[INFO 09-12 13:20:03] ax.core.experiment: Attached data has some metrics ({'ch620', 'ch410', 'ch510', 'ch550', 'mae', 'ch583', 'rmse', 'ch670', 'ch440', 'ch470'}) that are not among the metrics on this experiment. Note that attaching data will not automatically add those metrics to the experiment. For these metrics to be automatically fetched by `experiment.fetch_data`, add them via `experiment.add_tracking_metric` or update the experiment's optimization config.\n",
            "[INFO 09-12 13:20:03] ax.service.managed_loop: Running optimization trial 63...\n",
            "[INFO 09-12 13:20:10] ax.core.experiment: Attached data has some metrics ({'ch620', 'ch410', 'ch510', 'ch550', 'mae', 'ch583', 'rmse', 'ch670', 'ch440', 'ch470'}) that are not among the metrics on this experiment. Note that attaching data will not automatically add those metrics to the experiment. For these metrics to be automatically fetched by `experiment.fetch_data`, add them via `experiment.add_tracking_metric` or update the experiment's optimization config.\n",
            "[INFO 09-12 13:20:10] ax.service.managed_loop: Running optimization trial 64...\n",
            "[INFO 09-12 13:20:17] ax.core.experiment: Attached data has some metrics ({'ch620', 'ch410', 'ch510', 'ch550', 'mae', 'ch583', 'rmse', 'ch670', 'ch440', 'ch470'}) that are not among the metrics on this experiment. Note that attaching data will not automatically add those metrics to the experiment. For these metrics to be automatically fetched by `experiment.fetch_data`, add them via `experiment.add_tracking_metric` or update the experiment's optimization config.\n"
          ]
        }
      ],
      "source": [
        "num_iter = 64\n",
        "\n",
        "from self_driving_lab_demo.utils.search import (\n",
        "    grid_search,\n",
        "    random_search,\n",
        "    ax_bayesian_optimization,\n",
        ")\n",
        "\n",
        "grid, grid_data = grid_search(sdl, num_iter)\n",
        "random_inputs, random_data = random_search(sdl, num_iter)\n",
        "best_parameters, values, experiment, model = ax_bayesian_optimization(sdl, num_iter)"
      ]
    }
  ],
  "metadata": {
    "colab": {
      "collapsed_sections": [],
      "provenance": []
    },
    "kernelspec": {
      "display_name": "Python 3.9.13 ('sdl-demo')",
      "language": "python",
      "name": "python3"
    },
    "language_info": {
      "codemirror_mode": {
        "name": "ipython",
        "version": 3
      },
      "file_extension": ".py",
      "mimetype": "text/x-python",
      "name": "python",
      "nbconvert_exporter": "python",
      "pygments_lexer": "ipython3",
      "version": "3.9.13"
    },
    "vscode": {
      "interpreter": {
        "hash": "70cb6d4911b67e25d1487ebd620c5d1370239efaaf47f3851af44f5c5a26f988"
      }
    }
  },
  "nbformat": 4,
  "nbformat_minor": 0
}
