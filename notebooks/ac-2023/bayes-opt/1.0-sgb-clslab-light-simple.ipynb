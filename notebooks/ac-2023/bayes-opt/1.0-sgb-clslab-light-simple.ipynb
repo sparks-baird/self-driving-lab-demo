{
  "cells": [
    {
      "cell_type": "markdown",
      "metadata": {
        "id": "view-in-github",
        "colab_type": "text"
      },
      "source": [
        "<a href=\"https://colab.research.google.com/github/sparks-baird/self-driving-lab-demo/blob/main/notebooks/ac-2023/bayes-opt/1.0-sgb-clslab-light-simple.ipynb\" target=\"_parent\"><img src=\"https://colab.research.google.com/assets/colab-badge.svg\" alt=\"Open In Colab\"/></a>"
      ]
    },
    {
      "cell_type": "markdown",
      "metadata": {
        "id": "qZNtT1kjBV1-"
      },
      "source": [
        "# Quick Start"
      ]
    },
    {
      "cell_type": "code",
      "execution_count": null,
      "metadata": {
        "id": "-Fu-l3PUBV1-"
      },
      "outputs": [],
      "source": [
        "try:\n",
        "  import google.colab\n",
        "  IN_COLAB = True\n",
        "except:\n",
        "  IN_COLAB = False"
      ]
    },
    {
      "cell_type": "code",
      "execution_count": null,
      "metadata": {
        "id": "22xpp5HWBV1_"
      },
      "outputs": [],
      "source": [
        "if IN_COLAB:\n",
        "    %pip install self-driving-lab-demo[ax-platform]"
      ]
    },
    {
      "cell_type": "code",
      "execution_count": null,
      "metadata": {
        "id": "rUDo34cMBV1_"
      },
      "outputs": [],
      "source": [
        "from self_driving_lab_demo import SelfDrivingLabDemoLight, get_paho_client\n",
        "\n",
        "PICO_ID = \"test\"  # @param {type:\"string\"}\n",
        "simulation = True  # @param {type:\"boolean\"}\n",
        "\n",
        "# instantiate client once and reuse (to avoid opening too many connections)\n",
        "client = get_paho_client(f\"sdl-demo/picow/{PICO_ID}/as7341/\")\n",
        "\n",
        "sdl = SelfDrivingLabDemoLight(\n",
        "    autoload=True,  # perform target data experiment automatically\n",
        "    observe_sensor_data_kwargs=dict(pico_id=PICO_ID, client=client),\n",
        "    simulation=simulation,\n",
        ")"
      ]
    },
    {
      "cell_type": "code",
      "execution_count": null,
      "metadata": {
        "id": "fAp9iHSUBV1_",
        "outputId": "9258b888-ef93-43ee-df7d-ca240587ee10"
      },
      "outputs": [
        {
          "data": {
            "text/plain": [
              "{'ch410': 311.48061891243384,\n",
              " 'ch440': 152.10324137933273,\n",
              " 'ch470': 539.5366467030707,\n",
              " 'ch510': 37059.58075615245,\n",
              " 'ch550': 11520.097885546445,\n",
              " 'ch583': 1235.5961464104114,\n",
              " 'ch620': 126.21262172658409,\n",
              " 'ch670': 56.887315844266325}"
            ]
          },
          "execution_count": 4,
          "metadata": {},
          "output_type": "execute_result"
        }
      ],
      "source": [
        "R = 0  # @param {type:\"slider\", min:0, max:89, step:1}\n",
        "G = 50  # @param {type:\"slider\", min:0, max:89, step:1}\n",
        "B = 0  # @param {type:\"slider\", min:0, max:89, step:1}\n",
        "params = {\"R\": R, \"G\": G, \"B\": B}\n",
        "sdl.observe_sensor_data(params)"
      ]
    },
    {
      "cell_type": "markdown",
      "metadata": {
        "id": "wf_m89AxBV1_"
      },
      "source": [
        "<img src=\"https://github.com/sparks-baird/self-driving-lab-demo/blob/main/notebooks/green-led.jpg?raw=1\" width=300>"
      ]
    },
    {
      "cell_type": "code",
      "execution_count": null,
      "metadata": {
        "id": "VoQXOqOEBV2A",
        "outputId": "ec8dd476-ac49-44cc-e995-5ced433d852c"
      },
      "outputs": [
        {
          "data": {
            "image/png": "[encoded data removed]",
            "text/plain": [
              "<Figure size 100x100 with 1 Axes>"
            ]
          },
          "metadata": {},
          "output_type": "display_data"
        }
      ],
      "source": [
        "import matplotlib.pyplot as plt\n",
        "\n",
        "def plot_color(parameters):\n",
        "    fig, ax = plt.subplots(figsize=(1, 1))\n",
        "    ax.imshow([[tuple(parameters.values())]])\n",
        "    ax.set_axis_off()\n",
        "    plt.show()\n",
        "\n",
        "plot_color(params)"
      ]
    },
    {
      "cell_type": "markdown",
      "metadata": {
        "id": "LJfcX-PCBV2A"
      },
      "source": [
        "This is the color that we're trying to match:"
      ]
    },
    {
      "cell_type": "code",
      "execution_count": null,
      "metadata": {
        "id": "Hpxvgj6dBV2A",
        "outputId": "6b0ab7c6-6f86-45bf-fc96-a118f9123f47"
      },
      "outputs": [
        {
          "data": {
            "text/plain": [
              "{'R': 41, 'G': 3, 'B': 31}"
            ]
          },
          "execution_count": 31,
          "metadata": {},
          "output_type": "execute_result"
        }
      ],
      "source": [
        "target = sdl.get_target_inputs()\n",
        "target"
      ]
    },
    {
      "cell_type": "code",
      "execution_count": null,
      "metadata": {
        "id": "vYNn3xheBV2A",
        "outputId": "64e01483-f863-4c59-cba3-33900843d95a"
      },
      "outputs": [
        {
          "data": {
            "image/png": "[encoded data removed]",
            "text/plain": [
              "<Figure size 100x100 with 1 Axes>"
            ]
          },
          "metadata": {},
          "output_type": "display_data"
        }
      ],
      "source": [
        "plot_color(target)"
      ]
    },
    {
      "cell_type": "markdown",
      "metadata": {
        "id": "TfH7dlrgBV2A"
      },
      "source": [
        "This is the objective that we want to minimize (i.e., minimize the color distance between what we observe and what we're trying to get)."
      ]
    },
    {
      "cell_type": "code",
      "execution_count": null,
      "metadata": {
        "id": "m1W8koBMBV2A",
        "outputId": "b3872d3e-67de-4438-9fb9-949270d16ef0"
      },
      "outputs": [
        {
          "data": {
            "text/plain": [
              "19256.754840351714"
            ]
          },
          "execution_count": 33,
          "metadata": {},
          "output_type": "execute_result"
        }
      ],
      "source": [
        "sdl.evaluate(params)[\"mae\"]"
      ]
    },
    {
      "cell_type": "markdown",
      "metadata": {
        "id": "QMbkGJszBV2A"
      },
      "source": [
        "Notice how if we get the exact solution, the color distance is zero (NOTE: this will be non-zero if `simulation=False`)."
      ]
    },
    {
      "cell_type": "code",
      "execution_count": null,
      "metadata": {
        "id": "XaVS_TCGBV2A",
        "outputId": "8e165dec-8f40-4d46-9342-1e3117c43345"
      },
      "outputs": [
        {
          "data": {
            "text/plain": [
              "0.0"
            ]
          },
          "execution_count": 36,
          "metadata": {},
          "output_type": "execute_result"
        }
      ],
      "source": [
        "sdl.evaluate(target)[\"mae\"]"
      ]
    },
    {
      "cell_type": "markdown",
      "metadata": {
        "id": "XtASI6r4BV2A"
      },
      "source": [
        "## Setup"
      ]
    },
    {
      "cell_type": "markdown",
      "metadata": {
        "id": "T_U8PeCdBV2A"
      },
      "source": [
        "### Create the `parameters` dictionary\n",
        "The lower bound for the power levels is 0. The upper bound is 89 (technically 255, but it's too bright)."
      ]
    },
    {
      "cell_type": "code",
      "execution_count": null,
      "metadata": {
        "id": "3pDJOg19BV2A"
      },
      "outputs": [],
      "source": [
        "bounds = {\"R\": (0, 89), \"G\": (0, 89), \"B\": (0, 89)}"
      ]
    },
    {
      "cell_type": "markdown",
      "metadata": {
        "id": "VTgjrNxFBV2B"
      },
      "source": [
        "#### Examples\n",
        "\n",
        "<details><summary>Branin equation</summary>\n",
        "\n",
        "```python\n",
        "[\n",
        "        {\n",
        "            \"name\": \"x1\",\n",
        "            \"type\": \"range\",\n",
        "            \"bounds\": [-5.0, 10.0],\n",
        "        },\n",
        "        {\n",
        "            \"name\": \"x2\",\n",
        "            \"type\": \"range\",\n",
        "            \"bounds\": [0.0, 10.0],\n",
        "        },\n",
        "    ]\n",
        "```\n",
        "\n",
        "</details>\n",
        "\n",
        "<details><summary>Hartmann 6 equation</summary>\n",
        "\n",
        "```python\n",
        "[\n",
        "        {\n",
        "            \"name\": \"x1\",\n",
        "            \"type\": \"range\",\n",
        "            \"bounds\": [0.0, 1.0],\n",
        "            \"value_type\": \"float\",  # Optional, defaults to inference from type of \"bounds\".\n",
        "            \"log_scale\": False,  # Optional, defaults to False.\n",
        "        },\n",
        "        {\n",
        "            \"name\": \"x2\",\n",
        "            \"type\": \"range\",\n",
        "            \"bounds\": [0.0, 1.0],\n",
        "        },\n",
        "        {\n",
        "            \"name\": \"x3\",\n",
        "            \"type\": \"range\",\n",
        "            \"bounds\": [0.0, 1.0],\n",
        "        },\n",
        "        {\n",
        "            \"name\": \"x4\",\n",
        "            \"type\": \"range\",\n",
        "            \"bounds\": [0.0, 1.0],\n",
        "        },\n",
        "        {\n",
        "            \"name\": \"x5\",\n",
        "            \"type\": \"range\",\n",
        "            \"bounds\": [0.0, 1.0],\n",
        "        },\n",
        "        {\n",
        "            \"name\": \"x6\",\n",
        "            \"type\": \"range\",\n",
        "            \"bounds\": [0.0, 1.0],\n",
        "        },\n",
        "    ]\n",
        "```\n",
        "\n",
        "</details>"
      ]
    },
    {
      "cell_type": "code",
      "execution_count": null,
      "metadata": {
        "id": "l2xpoeBvBV2B"
      },
      "outputs": [],
      "source": [
        "parameters = ... # insert your code here"
      ]
    },
    {
      "cell_type": "markdown",
      "metadata": {
        "id": "SNVA8QGPBV2B"
      },
      "source": [
        "### AxClient"
      ]
    },
    {
      "cell_type": "code",
      "execution_count": null,
      "metadata": {
        "id": "LOYTxycrBV2B"
      },
      "outputs": [],
      "source": [
        "from ax.service.ax_client import AxClient\n",
        "\n",
        "ax_client = AxClient()\n",
        "ax_client.create_experiment(\n",
        "    name = \"ac-2023-tutorial\",\n",
        "    parameters = ..., # insert your code here\n",
        "    minimize = ..., # insert your code here\n",
        ")"
      ]
    },
    {
      "cell_type": "markdown",
      "metadata": {
        "id": "-ywbZ6ADBV2B"
      },
      "source": [
        "### Optimization loop"
      ]
    },
    {
      "cell_type": "code",
      "execution_count": null,
      "metadata": {
        "id": "hwwmxp2_BV2B"
      },
      "outputs": [],
      "source": [
        "for _ in range(15):\n",
        "    parameters, trial_index = ax_client.get_next_trial()\n",
        "    raw_data = ... # insert your code here\n",
        "    ax_client.complete_trial(trial_index=trial_index, raw_data=raw_data)"
      ]
    },
    {
      "cell_type": "markdown",
      "metadata": {
        "id": "k2VIjBKUBV2B"
      },
      "source": [
        "### Best parameters"
      ]
    },
    {
      "cell_type": "code",
      "execution_count": null,
      "metadata": {
        "id": "oZB-OaJTBV2B"
      },
      "outputs": [],
      "source": [
        "best_parameters, metrics = ax_client.get_best_parameters()"
      ]
    }
  ],
  "metadata": {
    "kernelspec": {
      "display_name": "self-driving-lab-demo",
      "language": "python",
      "name": "python3"
    },
    "language_info": {
      "codemirror_mode": {
        "name": "ipython",
        "version": 3
      },
      "file_extension": ".py",
      "mimetype": "text/x-python",
      "name": "python",
      "nbconvert_exporter": "python",
      "pygments_lexer": "ipython3",
      "version": "3.11.4"
    },
    "orig_nbformat": 4,
    "colab": {
      "provenance": [],
      "include_colab_link": true
    }
  },
  "nbformat": 4,
  "nbformat_minor": 0
}
